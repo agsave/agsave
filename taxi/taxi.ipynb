{
 "cells": [
  {
   "cell_type": "markdown",
   "metadata": {
    "toc": true
   },
   "source": [
    "<h1>Содержание<span class=\"tocSkip\"></span></h1>\n",
    "<div class=\"toc\"><ul class=\"toc-item\"><li><span><a href=\"#Введение\" data-toc-modified-id=\"Введение-1\"><span class=\"toc-item-num\">1&nbsp;&nbsp;</span>Введение</a></span><ul class=\"toc-item\"><li><span><a href=\"#Описание-проекта\" data-toc-modified-id=\"Описание-проекта-1.1\"><span class=\"toc-item-num\">1.1&nbsp;&nbsp;</span>Описание проекта</a></span></li><li><span><a href=\"#Цель-проекта\" data-toc-modified-id=\"Цель-проекта-1.2\"><span class=\"toc-item-num\">1.2&nbsp;&nbsp;</span>Цель проекта</a></span></li><li><span><a href=\"#Описание-исследования\" data-toc-modified-id=\"Описание-исследования-1.3\"><span class=\"toc-item-num\">1.3&nbsp;&nbsp;</span>Описание исследования</a></span></li><li><span><a href=\"#Задачи-исследования\" data-toc-modified-id=\"Задачи-исследования-1.4\"><span class=\"toc-item-num\">1.4&nbsp;&nbsp;</span>Задачи исследования</a></span></li><li><span><a href=\"#Условия-задачи\" data-toc-modified-id=\"Условия-задачи-1.5\"><span class=\"toc-item-num\">1.5&nbsp;&nbsp;</span>Условия задачи</a></span></li><li><span><a href=\"#Исходные-данные\" data-toc-modified-id=\"Исходные-данные-1.6\"><span class=\"toc-item-num\">1.6&nbsp;&nbsp;</span>Исходные данные</a></span></li><li><span><a href=\"#Используемые-библиотеки\" data-toc-modified-id=\"Используемые-библиотеки-1.7\"><span class=\"toc-item-num\">1.7&nbsp;&nbsp;</span>Используемые библиотеки</a></span></li><li><span><a href=\"#Используемые-константы\" data-toc-modified-id=\"Используемые-константы-1.8\"><span class=\"toc-item-num\">1.8&nbsp;&nbsp;</span>Используемые константы</a></span></li><li><span><a href=\"#Свои-функции-использумые-в-проекте\" data-toc-modified-id=\"Свои-функции-использумые-в-проекте-1.9\"><span class=\"toc-item-num\">1.9&nbsp;&nbsp;</span>Свои функции использумые в проекте</a></span></li></ul></li><li><span><a href=\"#Подготовка\" data-toc-modified-id=\"Подготовка-2\"><span class=\"toc-item-num\">2&nbsp;&nbsp;</span>Подготовка</a></span><ul class=\"toc-item\"><li><span><a href=\"#Загрузка-данных\" data-toc-modified-id=\"Загрузка-данных-2.1\"><span class=\"toc-item-num\">2.1&nbsp;&nbsp;</span>Загрузка данных</a></span></li><li><span><a href=\"#Общая-информация-о-датафрейме\" data-toc-modified-id=\"Общая-информация-о-датафрейме-2.2\"><span class=\"toc-item-num\">2.2&nbsp;&nbsp;</span>Общая информация о датафрейме</a></span></li><li><span><a href=\"#Ресемплирование\" data-toc-modified-id=\"Ресемплирование-2.3\"><span class=\"toc-item-num\">2.3&nbsp;&nbsp;</span>Ресемплирование</a></span></li><li><span><a href=\"#Вывод\" data-toc-modified-id=\"Вывод-2.4\"><span class=\"toc-item-num\">2.4&nbsp;&nbsp;</span>Вывод</a></span></li></ul></li><li><span><a href=\"#Анализ\" data-toc-modified-id=\"Анализ-3\"><span class=\"toc-item-num\">3&nbsp;&nbsp;</span>Анализ</a></span><ul class=\"toc-item\"><li><span><a href=\"#Вывод\" data-toc-modified-id=\"Вывод-3.1\"><span class=\"toc-item-num\">3.1&nbsp;&nbsp;</span>Вывод</a></span></li></ul></li><li><span><a href=\"#Обучение\" data-toc-modified-id=\"Обучение-4\"><span class=\"toc-item-num\">4&nbsp;&nbsp;</span>Обучение</a></span><ul class=\"toc-item\"><li><span><a href=\"#Создание-признаков-и-подготовка-тестовой-выборки\" data-toc-modified-id=\"Создание-признаков-и-подготовка-тестовой-выборки-4.1\"><span class=\"toc-item-num\">4.1&nbsp;&nbsp;</span>Создание признаков и подготовка тестовой выборки</a></span></li><li><span><a href=\"#Обучение-моделей\" data-toc-modified-id=\"Обучение-моделей-4.2\"><span class=\"toc-item-num\">4.2&nbsp;&nbsp;</span>Обучение моделей</a></span></li><li><span><a href=\"#Вывод\" data-toc-modified-id=\"Вывод-4.3\"><span class=\"toc-item-num\">4.3&nbsp;&nbsp;</span>Вывод</a></span></li></ul></li><li><span><a href=\"#Тестирование\" data-toc-modified-id=\"Тестирование-5\"><span class=\"toc-item-num\">5&nbsp;&nbsp;</span>Тестирование</a></span><ul class=\"toc-item\"><li><span><a href=\"#Вывод\" data-toc-modified-id=\"Вывод-5.1\"><span class=\"toc-item-num\">5.1&nbsp;&nbsp;</span>Вывод</a></span></li></ul></li><li><span><a href=\"#Чек-лист-проверки\" data-toc-modified-id=\"Чек-лист-проверки-6\"><span class=\"toc-item-num\">6&nbsp;&nbsp;</span>Чек-лист проверки</a></span></li></ul></div>"
   ]
  },
  {
   "cell_type": "markdown",
   "metadata": {},
   "source": [
    "#  Прогнозирование заказов такси"
   ]
  },
  {
   "cell_type": "markdown",
   "metadata": {},
   "source": [
    "## Введение"
   ]
  },
  {
   "cell_type": "markdown",
   "metadata": {},
   "source": [
    "### Описание проекта"
   ]
  },
  {
   "cell_type": "markdown",
   "metadata": {},
   "source": [
    "Компания «Чётенькое такси» собрала исторические данные о заказах такси в аэропортах. Чтобы привлекать больше водителей в период пиковой нагрузки, нужно спрогнозировать количество заказов такси на следующий час."
   ]
  },
  {
   "cell_type": "markdown",
   "metadata": {},
   "source": [
    "### Цель проекта"
   ]
  },
  {
   "cell_type": "markdown",
   "metadata": {},
   "source": [
    "Построить модель прогнозирования количества заказов такси на следующий час."
   ]
  },
  {
   "cell_type": "markdown",
   "metadata": {},
   "source": [
    "### Описание исследования"
   ]
  },
  {
   "cell_type": "markdown",
   "metadata": {},
   "source": [
    "Решая задачу регрессии для временных рядов, необходимо обучить разные модели с различными гиперпараметрами, "
   ]
  },
  {
   "cell_type": "markdown",
   "metadata": {},
   "source": [
    "### Задачи исследования"
   ]
  },
  {
   "cell_type": "markdown",
   "metadata": {},
   "source": [
    "- Загрузить данные и выполнить их ресемплирование по одному часу.\n",
    "- Проанализиовать данные.\n",
    "- Обучить разные модели с различными гиперпараметрами. Сделайте тестовую выборку размером 10% от исходных данных.\n",
    "- Проверить данные на тестовой выборке и сделать выводы."
   ]
  },
  {
   "cell_type": "markdown",
   "metadata": {},
   "source": [
    "### Условия задачи"
   ]
  },
  {
   "cell_type": "markdown",
   "metadata": {},
   "source": [
    "Значение метрики RMSE на тестовой выборке должно быть не больше 48."
   ]
  },
  {
   "cell_type": "markdown",
   "metadata": {},
   "source": [
    "### Исходные данные"
   ]
  },
  {
   "cell_type": "markdown",
   "metadata": {},
   "source": [
    "Данные лежат в файле /datasets/taxi.csv. Скачать датасет. \n",
    "Количество заказов находится в столбце 'num_orders' (от англ. number of orders, «число заказов»)."
   ]
  },
  {
   "cell_type": "markdown",
   "metadata": {},
   "source": [
    "###  Используемые библиотеки"
   ]
  },
  {
   "cell_type": "code",
   "execution_count": 1,
   "metadata": {},
   "outputs": [
    {
     "name": "stdout",
     "output_type": "stream",
     "text": [
      "Note: you may need to restart the kernel to use updated packages.\n"
     ]
    }
   ],
   "source": [
    "pip install scikit-learn --upgrade -q"
   ]
  },
  {
   "cell_type": "code",
   "execution_count": 2,
   "metadata": {},
   "outputs": [],
   "source": [
    "import os # для проверки наличия директорий при загрузке данных\n",
    "import re # для переименования столбцов\n",
    "\n",
    "# библиотека для редактирования текста в HTML при выводе display()\n",
    "from IPython.core.display import HTML\n",
    "\n",
    "import pandas as pd\n",
    "import numpy as np\n",
    "import matplotlib.pyplot as plt\n",
    "import seaborn as sns\n",
    "from statsmodels.tsa.seasonal import seasonal_decompose\n",
    "\n",
    "from sklearn.model_selection import train_test_split\n",
    "from sklearn.model_selection import TimeSeriesSplit\n",
    "\n",
    "# загружаем классы для подготовки данных\n",
    "from sklearn.preprocessing import OneHotEncoder, OrdinalEncoder, StandardScaler, MinMaxScaler, LabelEncoder\n",
    "from sklearn.compose import ColumnTransformer\n",
    "\n",
    "# загружаем класс для работы с пропусками\n",
    "from sklearn.impute import SimpleImputer\n",
    "\n",
    "# загружаем класс pipeline\n",
    "from sklearn.pipeline import Pipeline\n",
    "\n",
    "# загружаем нужные модели\n",
    "from sklearn.linear_model import LinearRegression, Ridge\n",
    "\n",
    "from sklearn.tree import DecisionTreeRegressor\n",
    "from lightgbm import LGBMRegressor\n",
    "from catboost import CatBoostRegressor\n",
    "\n",
    "# импортируем класс RandomizedSearchCV\n",
    "from sklearn.model_selection import RandomizedSearchCV\n",
    "\n",
    "# метрики\n",
    "from sklearn.metrics import root_mean_squared_error\n",
    "\n",
    "# уберем предупреждения\n",
    "import warnings\n",
    "warnings.filterwarnings('ignore')"
   ]
  },
  {
   "cell_type": "markdown",
   "metadata": {},
   "source": [
    "###  Используемые константы"
   ]
  },
  {
   "cell_type": "code",
   "execution_count": 3,
   "metadata": {},
   "outputs": [],
   "source": [
    "RANDOM_STATE = 42"
   ]
  },
  {
   "cell_type": "markdown",
   "metadata": {},
   "source": [
    "### Свои функции использумые в проекте"
   ]
  },
  {
   "cell_type": "markdown",
   "metadata": {},
   "source": [
    "**Загрузка данных**"
   ]
  },
  {
   "cell_type": "code",
   "execution_count": 4,
   "metadata": {},
   "outputs": [],
   "source": [
    "def load_df(file, index='id'):\n",
    "    pth1 = f'/datasets/{file}'\n",
    "    pth2 = f'{file}'\n",
    "\n",
    "    if os.path.exists(pth1):\n",
    "        df = pd.read_csv(pth1, index_col=[0], parse_dates=[0])\n",
    "    elif os.path.exists(pth2):\n",
    "        df = pd.read_csv(pth2, index_col=[0], parse_dates=[0])\n",
    "    else:\n",
    "        print('Что-то пошло не так')\n",
    "    \n",
    "    return df"
   ]
  },
  {
   "cell_type": "markdown",
   "metadata": {},
   "source": [
    "**Функция вывода данных и их описания**"
   ]
  },
  {
   "cell_type": "code",
   "execution_count": 5,
   "metadata": {},
   "outputs": [],
   "source": [
    "def get_data_info(df):\n",
    "    display(df.head())\n",
    "    display(HTML('<br>'))\n",
    "    display(HTML('<font color=\"gray\"><b>Информации о датафрейме</b></font>'))\n",
    "    df.info()\n",
    "    display(HTML('<br>'))\n",
    "    display(HTML('<font color=\"gray\"><b>Описание данных</b></font>'))\n",
    "    display(df.describe().T)\n",
    "    display(HTML('<br>'))\n",
    "    display(HTML('<font color=\"gray\"><b>Количество пропусков</b></font>'))\n",
    "    display(df.isna().sum())\n",
    "    display(HTML('<br>'))\n",
    "    display(HTML('<font color=\"gray\"><b>Количество дубликатов</b></font>'))\n",
    "    display(df.duplicated().sum())\n",
    "    display(HTML('<br>'))"
   ]
  },
  {
   "cell_type": "markdown",
   "metadata": {},
   "source": [
    "**Создание признаков**"
   ]
  },
  {
   "cell_type": "code",
   "execution_count": 6,
   "metadata": {},
   "outputs": [],
   "source": [
    "def make_features(data, max_lag, rolling_mean_size):\n",
    "    \n",
    "    data_copy = data.copy(deep=True)\n",
    "    \n",
    "    data_copy['month'] = data.index.month\n",
    "    data_copy['day'] = data.index.day\n",
    "    data_copy['hour'] = data.index.hour\n",
    "    \n",
    "    for lag in range(1, max_lag + 1):\n",
    "        data_copy['lag_{}'.format(lag)] = data['num_orders'].shift(lag)\n",
    "\n",
    "    data_copy['rolling_mean'] = data['num_orders'].shift().rolling(rolling_mean_size).mean()\n",
    "    \n",
    "    return data_copy"
   ]
  },
  {
   "cell_type": "markdown",
   "metadata": {},
   "source": [
    "## Подготовка"
   ]
  },
  {
   "cell_type": "markdown",
   "metadata": {},
   "source": [
    "### Загрузка данных"
   ]
  },
  {
   "cell_type": "code",
   "execution_count": 7,
   "metadata": {},
   "outputs": [],
   "source": [
    "taxi = load_df('taxi.csv')"
   ]
  },
  {
   "cell_type": "markdown",
   "metadata": {},
   "source": [
    "### Общая информация о датафрейме"
   ]
  },
  {
   "cell_type": "code",
   "execution_count": 8,
   "metadata": {},
   "outputs": [
    {
     "data": {
      "text/html": [
       "<div>\n",
       "<style scoped>\n",
       "    .dataframe tbody tr th:only-of-type {\n",
       "        vertical-align: middle;\n",
       "    }\n",
       "\n",
       "    .dataframe tbody tr th {\n",
       "        vertical-align: top;\n",
       "    }\n",
       "\n",
       "    .dataframe thead th {\n",
       "        text-align: right;\n",
       "    }\n",
       "</style>\n",
       "<table border=\"1\" class=\"dataframe\">\n",
       "  <thead>\n",
       "    <tr style=\"text-align: right;\">\n",
       "      <th></th>\n",
       "      <th>num_orders</th>\n",
       "    </tr>\n",
       "    <tr>\n",
       "      <th>datetime</th>\n",
       "      <th></th>\n",
       "    </tr>\n",
       "  </thead>\n",
       "  <tbody>\n",
       "    <tr>\n",
       "      <th>2018-03-01 00:00:00</th>\n",
       "      <td>9</td>\n",
       "    </tr>\n",
       "    <tr>\n",
       "      <th>2018-03-01 00:10:00</th>\n",
       "      <td>14</td>\n",
       "    </tr>\n",
       "    <tr>\n",
       "      <th>2018-03-01 00:20:00</th>\n",
       "      <td>28</td>\n",
       "    </tr>\n",
       "    <tr>\n",
       "      <th>2018-03-01 00:30:00</th>\n",
       "      <td>20</td>\n",
       "    </tr>\n",
       "    <tr>\n",
       "      <th>2018-03-01 00:40:00</th>\n",
       "      <td>32</td>\n",
       "    </tr>\n",
       "  </tbody>\n",
       "</table>\n",
       "</div>"
      ],
      "text/plain": [
       "                     num_orders\n",
       "datetime                       \n",
       "2018-03-01 00:00:00           9\n",
       "2018-03-01 00:10:00          14\n",
       "2018-03-01 00:20:00          28\n",
       "2018-03-01 00:30:00          20\n",
       "2018-03-01 00:40:00          32"
      ]
     },
     "metadata": {},
     "output_type": "display_data"
    },
    {
     "data": {
      "text/html": [
       "<br>"
      ],
      "text/plain": [
       "<IPython.core.display.HTML object>"
      ]
     },
     "metadata": {},
     "output_type": "display_data"
    },
    {
     "data": {
      "text/html": [
       "<font color=\"gray\"><b>Информации о датафрейме</b></font>"
      ],
      "text/plain": [
       "<IPython.core.display.HTML object>"
      ]
     },
     "metadata": {},
     "output_type": "display_data"
    },
    {
     "name": "stdout",
     "output_type": "stream",
     "text": [
      "<class 'pandas.core.frame.DataFrame'>\n",
      "DatetimeIndex: 26496 entries, 2018-03-01 00:00:00 to 2018-08-31 23:50:00\n",
      "Data columns (total 1 columns):\n",
      " #   Column      Non-Null Count  Dtype\n",
      "---  ------      --------------  -----\n",
      " 0   num_orders  26496 non-null  int64\n",
      "dtypes: int64(1)\n",
      "memory usage: 414.0 KB\n"
     ]
    },
    {
     "data": {
      "text/html": [
       "<br>"
      ],
      "text/plain": [
       "<IPython.core.display.HTML object>"
      ]
     },
     "metadata": {},
     "output_type": "display_data"
    },
    {
     "data": {
      "text/html": [
       "<font color=\"gray\"><b>Описание данных</b></font>"
      ],
      "text/plain": [
       "<IPython.core.display.HTML object>"
      ]
     },
     "metadata": {},
     "output_type": "display_data"
    },
    {
     "data": {
      "text/html": [
       "<div>\n",
       "<style scoped>\n",
       "    .dataframe tbody tr th:only-of-type {\n",
       "        vertical-align: middle;\n",
       "    }\n",
       "\n",
       "    .dataframe tbody tr th {\n",
       "        vertical-align: top;\n",
       "    }\n",
       "\n",
       "    .dataframe thead th {\n",
       "        text-align: right;\n",
       "    }\n",
       "</style>\n",
       "<table border=\"1\" class=\"dataframe\">\n",
       "  <thead>\n",
       "    <tr style=\"text-align: right;\">\n",
       "      <th></th>\n",
       "      <th>count</th>\n",
       "      <th>mean</th>\n",
       "      <th>std</th>\n",
       "      <th>min</th>\n",
       "      <th>25%</th>\n",
       "      <th>50%</th>\n",
       "      <th>75%</th>\n",
       "      <th>max</th>\n",
       "    </tr>\n",
       "  </thead>\n",
       "  <tbody>\n",
       "    <tr>\n",
       "      <th>num_orders</th>\n",
       "      <td>26496.0</td>\n",
       "      <td>14.070463</td>\n",
       "      <td>9.21133</td>\n",
       "      <td>0.0</td>\n",
       "      <td>8.0</td>\n",
       "      <td>13.0</td>\n",
       "      <td>19.0</td>\n",
       "      <td>119.0</td>\n",
       "    </tr>\n",
       "  </tbody>\n",
       "</table>\n",
       "</div>"
      ],
      "text/plain": [
       "              count       mean      std  min  25%   50%   75%    max\n",
       "num_orders  26496.0  14.070463  9.21133  0.0  8.0  13.0  19.0  119.0"
      ]
     },
     "metadata": {},
     "output_type": "display_data"
    },
    {
     "data": {
      "text/html": [
       "<br>"
      ],
      "text/plain": [
       "<IPython.core.display.HTML object>"
      ]
     },
     "metadata": {},
     "output_type": "display_data"
    },
    {
     "data": {
      "text/html": [
       "<font color=\"gray\"><b>Количество пропусков</b></font>"
      ],
      "text/plain": [
       "<IPython.core.display.HTML object>"
      ]
     },
     "metadata": {},
     "output_type": "display_data"
    },
    {
     "data": {
      "text/plain": [
       "num_orders    0\n",
       "dtype: int64"
      ]
     },
     "metadata": {},
     "output_type": "display_data"
    },
    {
     "data": {
      "text/html": [
       "<br>"
      ],
      "text/plain": [
       "<IPython.core.display.HTML object>"
      ]
     },
     "metadata": {},
     "output_type": "display_data"
    },
    {
     "data": {
      "text/html": [
       "<font color=\"gray\"><b>Количество дубликатов</b></font>"
      ],
      "text/plain": [
       "<IPython.core.display.HTML object>"
      ]
     },
     "metadata": {},
     "output_type": "display_data"
    },
    {
     "data": {
      "text/plain": [
       "26415"
      ]
     },
     "metadata": {},
     "output_type": "display_data"
    },
    {
     "data": {
      "text/html": [
       "<br>"
      ],
      "text/plain": [
       "<IPython.core.display.HTML object>"
      ]
     },
     "metadata": {},
     "output_type": "display_data"
    }
   ],
   "source": [
    "get_data_info(taxi)"
   ]
  },
  {
   "cell_type": "markdown",
   "metadata": {},
   "source": [
    "### Ресемплирование"
   ]
  },
  {
   "cell_type": "markdown",
   "metadata": {},
   "source": [
    "**Отсортирем индекс таблицы**"
   ]
  },
  {
   "cell_type": "code",
   "execution_count": 9,
   "metadata": {},
   "outputs": [],
   "source": [
    "taxi = taxi.sort_index()"
   ]
  },
  {
   "cell_type": "markdown",
   "metadata": {},
   "source": [
    "Чтобы проверить, в хронологическом ли порядке расположены даты и время, посмотрим атрибут индекса таблицы **is_monotonic**"
   ]
  },
  {
   "cell_type": "code",
   "execution_count": 10,
   "metadata": {},
   "outputs": [
    {
     "data": {
      "text/plain": [
       "True"
      ]
     },
     "execution_count": 10,
     "metadata": {},
     "output_type": "execute_result"
    }
   ],
   "source": [
    "taxi.index.is_monotonic"
   ]
  },
  {
   "cell_type": "markdown",
   "metadata": {},
   "source": [
    "Выполним их ресемплирование по одному часу."
   ]
  },
  {
   "cell_type": "code",
   "execution_count": 11,
   "metadata": {},
   "outputs": [],
   "source": [
    "taxi = taxi.resample('1H').sum()"
   ]
  },
  {
   "cell_type": "markdown",
   "metadata": {},
   "source": [
    "### Вывод"
   ]
  },
  {
   "cell_type": "markdown",
   "metadata": {},
   "source": [
    "Выводы по загруженным данным:\n",
    "    \n",
    "Датафрейм `taxi`:\n",
    "- Описание столбцов  соответствует содержимому;\n",
    "- Типы данных соответствуют содержимому в столбцах;\n",
    "- Общее описание данных не вызывает вопросы;\n",
    "- Cодержит 26496 строк;\n",
    "- Пропуски отсутствуют."
   ]
  },
  {
   "cell_type": "markdown",
   "metadata": {},
   "source": [
    "## Анализ"
   ]
  },
  {
   "cell_type": "markdown",
   "metadata": {},
   "source": [
    "**Проверка периода**"
   ]
  },
  {
   "cell_type": "code",
   "execution_count": 12,
   "metadata": {},
   "outputs": [
    {
     "data": {
      "text/plain": [
       "(Timestamp('2018-03-01 00:00:00', freq='H'),\n",
       " Timestamp('2018-08-31 23:00:00', freq='H'))"
      ]
     },
     "execution_count": 12,
     "metadata": {},
     "output_type": "execute_result"
    }
   ],
   "source": [
    "taxi.index.min(), taxi.index.max()"
   ]
  },
  {
   "cell_type": "code",
   "execution_count": 13,
   "metadata": {},
   "outputs": [
    {
     "data": {
      "text/plain": [
       "Timedelta('183 days 23:00:00')"
      ]
     },
     "execution_count": 13,
     "metadata": {},
     "output_type": "execute_result"
    }
   ],
   "source": [
    "taxi.index.max() - taxi.index.min()"
   ]
  },
  {
   "cell_type": "markdown",
   "metadata": {},
   "source": [
    "**Тренды и сезонность**"
   ]
  },
  {
   "cell_type": "code",
   "execution_count": 14,
   "metadata": {},
   "outputs": [],
   "source": [
    "decomposed = seasonal_decompose(taxi)"
   ]
  },
  {
   "cell_type": "code",
   "execution_count": 15,
   "metadata": {},
   "outputs": [
    {
     "data": {
      "image/png": "[encoded data removed]",
      "text/plain": [
       "<Figure size 864x1152 with 3 Axes>"
      ]
     },
     "metadata": {
      "needs_background": "light"
     },
     "output_type": "display_data"
    }
   ],
   "source": [
    "plt.figure(figsize=(12, 16))\n",
    "plt.subplot(311)\n",
    "# Чтобы график корректно отобразился, указываем его\n",
    "# получить текущие оси)\n",
    "decomposed.trend.plot(ax=plt.gca())\n",
    "plt.title('Trend')\n",
    "plt.subplot(312)\n",
    "decomposed.seasonal.plot(ax=plt.gca())\n",
    "plt.title('Seasonality')\n",
    "plt.subplot(313)\n",
    "decomposed.resid.plot(ax=plt.gca()) \n",
    "plt.title('Residuals')\n",
    "plt.tight_layout()"
   ]
  },
  {
   "cell_type": "markdown",
   "metadata": {},
   "source": [
    "Заметен тренд на увеличение роста заказов с июня по август. В августе заказов становится еще больше. Вероятно это связано, с периодом отпусков."
   ]
  },
  {
   "cell_type": "markdown",
   "metadata": {},
   "source": [
    "Так как нам необходимо предсказывать в течении часа количество заказов рассмотрим периоды равный неделе и одному дню."
   ]
  },
  {
   "cell_type": "code",
   "execution_count": 16,
   "metadata": {},
   "outputs": [],
   "source": [
    "decomposed = seasonal_decompose(taxi['2018-08-20':'2018-08-26'])"
   ]
  },
  {
   "cell_type": "code",
   "execution_count": 17,
   "metadata": {},
   "outputs": [
    {
     "data": {
      "image/png": "[encoded data removed]",
      "text/plain": [
       "<Figure size 864x1152 with 3 Axes>"
      ]
     },
     "metadata": {
      "needs_background": "light"
     },
     "output_type": "display_data"
    }
   ],
   "source": [
    "plt.figure(figsize=(12, 16))\n",
    "plt.subplot(311)\n",
    "# Чтобы график корректно отобразился, указываем его\n",
    "# получить текущие оси)\n",
    "decomposed.trend.plot(ax=plt.gca())\n",
    "plt.title('Trend')\n",
    "plt.subplot(312)\n",
    "decomposed.seasonal.plot(ax=plt.gca())\n",
    "plt.title('Seasonality')\n",
    "plt.subplot(313)\n",
    "decomposed.resid.plot(ax=plt.gca()) \n",
    "plt.title('Residuals')\n",
    "plt.tight_layout()"
   ]
  },
  {
   "cell_type": "code",
   "execution_count": 18,
   "metadata": {},
   "outputs": [],
   "source": [
    "decomposed = seasonal_decompose(taxi['2018-08-21':'2018-08-22'])"
   ]
  },
  {
   "cell_type": "code",
   "execution_count": 19,
   "metadata": {},
   "outputs": [
    {
     "data": {
      "image/png": "[encoded data removed]",
      "text/plain": [
       "<Figure size 864x1152 with 3 Axes>"
      ]
     },
     "metadata": {
      "needs_background": "light"
     },
     "output_type": "display_data"
    }
   ],
   "source": [
    "plt.figure(figsize=(12, 16))\n",
    "plt.subplot(311)\n",
    "# Чтобы график корректно отобразился, указываем его\n",
    "# получить текущие оси)\n",
    "decomposed.trend.plot(ax=plt.gca())\n",
    "plt.title('Trend')\n",
    "plt.subplot(312)\n",
    "decomposed.seasonal.plot(ax=plt.gca())\n",
    "plt.title('Seasonality')\n",
    "plt.subplot(313)\n",
    "decomposed.resid.plot(ax=plt.gca()) \n",
    "plt.title('Residuals')\n",
    "plt.tight_layout()"
   ]
  },
  {
   "cell_type": "markdown",
   "metadata": {},
   "source": [
    "### Вывод"
   ]
  },
  {
   "cell_type": "markdown",
   "metadata": {},
   "source": [
    "Заметен тренд на увеличение роста заказов с июня по август. В августе заказов становится еще больше. Вероятно это связано, с периодом отпусков. Заметная суточная сезонность в заказах такси, проявляющаяся в увеличении заказов после 18:00 до 00:00, вероятно связанная с расписанием авиарейсов. Стоит отметить тренд на значительное увеличение заказов такси в пятницу и субботу."
   ]
  },
  {
   "cell_type": "markdown",
   "metadata": {},
   "source": [
    "## Обучение"
   ]
  },
  {
   "cell_type": "markdown",
   "metadata": {},
   "source": [
    "### Создание признаков и подготовка тестовой выборки"
   ]
  },
  {
   "cell_type": "code",
   "execution_count": 20,
   "metadata": {},
   "outputs": [],
   "source": [
    "taxi_copy = make_features(taxi, 24, 48)"
   ]
  },
  {
   "cell_type": "code",
   "execution_count": 21,
   "metadata": {},
   "outputs": [],
   "source": [
    "train, test = train_test_split(taxi_copy, shuffle=False, test_size=0.1)\n",
    "train = train.dropna()"
   ]
  },
  {
   "cell_type": "code",
   "execution_count": 22,
   "metadata": {},
   "outputs": [],
   "source": [
    "X_train = train.drop(columns='num_orders')\n",
    "y_train = train['num_orders']\n",
    "X_test = test.drop(columns='num_orders')\n",
    "y_test = test['num_orders']"
   ]
  },
  {
   "cell_type": "markdown",
   "metadata": {},
   "source": [
    "### Обучение моделей"
   ]
  },
  {
   "cell_type": "code",
   "execution_count": 23,
   "metadata": {},
   "outputs": [],
   "source": [
    "num_columns = list(X_train.select_dtypes(include=[np.number]).columns.values)"
   ]
  },
  {
   "cell_type": "code",
   "execution_count": 24,
   "metadata": {},
   "outputs": [],
   "source": [
    "data_preprocessor = ColumnTransformer(\n",
    "    [\n",
    "     ('num', MinMaxScaler(), num_columns)\n",
    "    ], \n",
    "    remainder='passthrough'\n",
    ")"
   ]
  },
  {
   "cell_type": "code",
   "execution_count": 25,
   "metadata": {},
   "outputs": [],
   "source": [
    "pipe_final = Pipeline([\n",
    "    ('preprocessor', data_preprocessor),\n",
    "    ('models', DecisionTreeRegressor(random_state=RANDOM_STATE))\n",
    "])"
   ]
  },
  {
   "cell_type": "code",
   "execution_count": 26,
   "metadata": {},
   "outputs": [],
   "source": [
    "param_grid = [   \n",
    "    \n",
    "    # словарь для модели LinearRegression()\n",
    "    {\n",
    "        'models' : [LinearRegression()],\n",
    "        'preprocessor__num': [StandardScaler(), MinMaxScaler(), 'passthrough'] \n",
    "    },\n",
    "    \n",
    "        # словарь для модели LinearRegression()\n",
    "    {\n",
    "        'models' : [Ridge()],\n",
    "        'preprocessor__num': [StandardScaler(), MinMaxScaler(), 'passthrough'] \n",
    "    },\n",
    "    \n",
    "    \n",
    "    # словарь для модели DecisionTreeRegressor()\n",
    "    {\n",
    "        'models': [DecisionTreeRegressor(random_state=RANDOM_STATE)],\n",
    "        'models__max_depth': range(2, 15),\n",
    "        'models__max_features': range(2, 15),\n",
    "        'preprocessor__num': [StandardScaler(), MinMaxScaler(), 'passthrough']  \n",
    "    },\n",
    "    \n",
    "    # Словарь CatBoostRegressor()\n",
    "    {\n",
    "        'models' : [CatBoostRegressor(random_state=RANDOM_STATE, verbose=False)],\n",
    "        'models__depth': range(1, 4),\n",
    "        'preprocessor__num': [StandardScaler(), MinMaxScaler(), 'passthrough'] \n",
    "    }\n",
    "]"
   ]
  },
  {
   "cell_type": "code",
   "execution_count": 27,
   "metadata": {},
   "outputs": [],
   "source": [
    "tscv = TimeSeriesSplit(n_splits=5)"
   ]
  },
  {
   "cell_type": "code",
   "execution_count": 28,
   "metadata": {},
   "outputs": [],
   "source": [
    "randomized_search = RandomizedSearchCV(\n",
    "    pipe_final, \n",
    "    param_grid, \n",
    "    cv=tscv,\n",
    "    scoring='neg_root_mean_squared_error',\n",
    "    random_state=RANDOM_STATE,\n",
    "    n_jobs=-1\n",
    ")"
   ]
  },
  {
   "cell_type": "code",
   "execution_count": 29,
   "metadata": {},
   "outputs": [
    {
     "data": {
      "text/html": [
       "<style>#sk-container-id-1 {\n",
       "  /* Definition of color scheme common for light and dark mode */\n",
       "  --sklearn-color-text: black;\n",
       "  --sklearn-color-line: gray;\n",
       "  /* Definition of color scheme for unfitted estimators */\n",
       "  --sklearn-color-unfitted-level-0: #fff5e6;\n",
       "  --sklearn-color-unfitted-level-1: #f6e4d2;\n",
       "  --sklearn-color-unfitted-level-2: #ffe0b3;\n",
       "  --sklearn-color-unfitted-level-3: chocolate;\n",
       "  /* Definition of color scheme for fitted estimators */\n",
       "  --sklearn-color-fitted-level-0: #f0f8ff;\n",
       "  --sklearn-color-fitted-level-1: #d4ebff;\n",
       "  --sklearn-color-fitted-level-2: #b3dbfd;\n",
       "  --sklearn-color-fitted-level-3: cornflowerblue;\n",
       "\n",
       "  /* Specific color for light theme */\n",
       "  --sklearn-color-text-on-default-background: var(--sg-text-color, var(--theme-code-foreground, var(--jp-content-font-color1, black)));\n",
       "  --sklearn-color-background: var(--sg-background-color, var(--theme-background, var(--jp-layout-color0, white)));\n",
       "  --sklearn-color-border-box: var(--sg-text-color, var(--theme-code-foreground, var(--jp-content-font-color1, black)));\n",
       "  --sklearn-color-icon: #696969;\n",
       "\n",
       "  @media (prefers-color-scheme: dark) {\n",
       "    /* Redefinition of color scheme for dark theme */\n",
       "    --sklearn-color-text-on-default-background: var(--sg-text-color, var(--theme-code-foreground, var(--jp-content-font-color1, white)));\n",
       "    --sklearn-color-background: var(--sg-background-color, var(--theme-background, var(--jp-layout-color0, #111)));\n",
       "    --sklearn-color-border-box: var(--sg-text-color, var(--theme-code-foreground, var(--jp-content-font-color1, white)));\n",
       "    --sklearn-color-icon: #878787;\n",
       "  }\n",
       "}\n",
       "\n",
       "#sk-container-id-1 {\n",
       "  color: var(--sklearn-color-text);\n",
       "}\n",
       "\n",
       "#sk-container-id-1 pre {\n",
       "  padding: 0;\n",
       "}\n",
       "\n",
       "#sk-container-id-1 input.sk-hidden--visually {\n",
       "  border: 0;\n",
       "  clip: rect(1px 1px 1px 1px);\n",
       "  clip: rect(1px, 1px, 1px, 1px);\n",
       "  height: 1px;\n",
       "  margin: -1px;\n",
       "  overflow: hidden;\n",
       "  padding: 0;\n",
       "  position: absolute;\n",
       "  width: 1px;\n",
       "}\n",
       "\n",
       "#sk-container-id-1 div.sk-dashed-wrapped {\n",
       "  border: 1px dashed var(--sklearn-color-line);\n",
       "  margin: 0 0.4em 0.5em 0.4em;\n",
       "  box-sizing: border-box;\n",
       "  padding-bottom: 0.4em;\n",
       "  background-color: var(--sklearn-color-background);\n",
       "}\n",
       "\n",
       "#sk-container-id-1 div.sk-container {\n",
       "  /* jupyter's `normalize.less` sets `[hidden] { display: none; }`\n",
       "     but bootstrap.min.css set `[hidden] { display: none !important; }`\n",
       "     so we also need the `!important` here to be able to override the\n",
       "     default hidden behavior on the sphinx rendered scikit-learn.org.\n",
       "     See: https://github.com/scikit-learn/scikit-learn/issues/21755 */\n",
       "  display: inline-block !important;\n",
       "  position: relative;\n",
       "}\n",
       "\n",
       "#sk-container-id-1 div.sk-text-repr-fallback {\n",
       "  display: none;\n",
       "}\n",
       "\n",
       "div.sk-parallel-item,\n",
       "div.sk-serial,\n",
       "div.sk-item {\n",
       "  /* draw centered vertical line to link estimators */\n",
       "  background-image: linear-gradient(var(--sklearn-color-text-on-default-background), var(--sklearn-color-text-on-default-background));\n",
       "  background-size: 2px 100%;\n",
       "  background-repeat: no-repeat;\n",
       "  background-position: center center;\n",
       "}\n",
       "\n",
       "/* Parallel-specific style estimator block */\n",
       "\n",
       "#sk-container-id-1 div.sk-parallel-item::after {\n",
       "  content: \"\";\n",
       "  width: 100%;\n",
       "  border-bottom: 2px solid var(--sklearn-color-text-on-default-background);\n",
       "  flex-grow: 1;\n",
       "}\n",
       "\n",
       "#sk-container-id-1 div.sk-parallel {\n",
       "  display: flex;\n",
       "  align-items: stretch;\n",
       "  justify-content: center;\n",
       "  background-color: var(--sklearn-color-background);\n",
       "  position: relative;\n",
       "}\n",
       "\n",
       "#sk-container-id-1 div.sk-parallel-item {\n",
       "  display: flex;\n",
       "  flex-direction: column;\n",
       "}\n",
       "\n",
       "#sk-container-id-1 div.sk-parallel-item:first-child::after {\n",
       "  align-self: flex-end;\n",
       "  width: 50%;\n",
       "}\n",
       "\n",
       "#sk-container-id-1 div.sk-parallel-item:last-child::after {\n",
       "  align-self: flex-start;\n",
       "  width: 50%;\n",
       "}\n",
       "\n",
       "#sk-container-id-1 div.sk-parallel-item:only-child::after {\n",
       "  width: 0;\n",
       "}\n",
       "\n",
       "/* Serial-specific style estimator block */\n",
       "\n",
       "#sk-container-id-1 div.sk-serial {\n",
       "  display: flex;\n",
       "  flex-direction: column;\n",
       "  align-items: center;\n",
       "  background-color: var(--sklearn-color-background);\n",
       "  padding-right: 1em;\n",
       "  padding-left: 1em;\n",
       "}\n",
       "\n",
       "\n",
       "/* Toggleable style: style used for estimator/Pipeline/ColumnTransformer box that is\n",
       "clickable and can be expanded/collapsed.\n",
       "- Pipeline and ColumnTransformer use this feature and define the default style\n",
       "- Estimators will overwrite some part of the style using the `sk-estimator` class\n",
       "*/\n",
       "\n",
       "/* Pipeline and ColumnTransformer style (default) */\n",
       "\n",
       "#sk-container-id-1 div.sk-toggleable {\n",
       "  /* Default theme specific background. It is overwritten whether we have a\n",
       "  specific estimator or a Pipeline/ColumnTransformer */\n",
       "  background-color: var(--sklearn-color-background);\n",
       "}\n",
       "\n",
       "/* Toggleable label */\n",
       "#sk-container-id-1 label.sk-toggleable__label {\n",
       "  cursor: pointer;\n",
       "  display: block;\n",
       "  width: 100%;\n",
       "  margin-bottom: 0;\n",
       "  padding: 0.5em;\n",
       "  box-sizing: border-box;\n",
       "  text-align: center;\n",
       "}\n",
       "\n",
       "#sk-container-id-1 label.sk-toggleable__label-arrow:before {\n",
       "  /* Arrow on the left of the label */\n",
       "  content: \"▸\";\n",
       "  float: left;\n",
       "  margin-right: 0.25em;\n",
       "  color: var(--sklearn-color-icon);\n",
       "}\n",
       "\n",
       "#sk-container-id-1 label.sk-toggleable__label-arrow:hover:before {\n",
       "  color: var(--sklearn-color-text);\n",
       "}\n",
       "\n",
       "/* Toggleable content - dropdown */\n",
       "\n",
       "#sk-container-id-1 div.sk-toggleable__content {\n",
       "  max-height: 0;\n",
       "  max-width: 0;\n",
       "  overflow: hidden;\n",
       "  text-align: left;\n",
       "  /* unfitted */\n",
       "  background-color: var(--sklearn-color-unfitted-level-0);\n",
       "}\n",
       "\n",
       "#sk-container-id-1 div.sk-toggleable__content.fitted {\n",
       "  /* fitted */\n",
       "  background-color: var(--sklearn-color-fitted-level-0);\n",
       "}\n",
       "\n",
       "#sk-container-id-1 div.sk-toggleable__content pre {\n",
       "  margin: 0.2em;\n",
       "  border-radius: 0.25em;\n",
       "  color: var(--sklearn-color-text);\n",
       "  /* unfitted */\n",
       "  background-color: var(--sklearn-color-unfitted-level-0);\n",
       "}\n",
       "\n",
       "#sk-container-id-1 div.sk-toggleable__content.fitted pre {\n",
       "  /* unfitted */\n",
       "  background-color: var(--sklearn-color-fitted-level-0);\n",
       "}\n",
       "\n",
       "#sk-container-id-1 input.sk-toggleable__control:checked~div.sk-toggleable__content {\n",
       "  /* Expand drop-down */\n",
       "  max-height: 200px;\n",
       "  max-width: 100%;\n",
       "  overflow: auto;\n",
       "}\n",
       "\n",
       "#sk-container-id-1 input.sk-toggleable__control:checked~label.sk-toggleable__label-arrow:before {\n",
       "  content: \"▾\";\n",
       "}\n",
       "\n",
       "/* Pipeline/ColumnTransformer-specific style */\n",
       "\n",
       "#sk-container-id-1 div.sk-label input.sk-toggleable__control:checked~label.sk-toggleable__label {\n",
       "  color: var(--sklearn-color-text);\n",
       "  background-color: var(--sklearn-color-unfitted-level-2);\n",
       "}\n",
       "\n",
       "#sk-container-id-1 div.sk-label.fitted input.sk-toggleable__control:checked~label.sk-toggleable__label {\n",
       "  background-color: var(--sklearn-color-fitted-level-2);\n",
       "}\n",
       "\n",
       "/* Estimator-specific style */\n",
       "\n",
       "/* Colorize estimator box */\n",
       "#sk-container-id-1 div.sk-estimator input.sk-toggleable__control:checked~label.sk-toggleable__label {\n",
       "  /* unfitted */\n",
       "  background-color: var(--sklearn-color-unfitted-level-2);\n",
       "}\n",
       "\n",
       "#sk-container-id-1 div.sk-estimator.fitted input.sk-toggleable__control:checked~label.sk-toggleable__label {\n",
       "  /* fitted */\n",
       "  background-color: var(--sklearn-color-fitted-level-2);\n",
       "}\n",
       "\n",
       "#sk-container-id-1 div.sk-label label.sk-toggleable__label,\n",
       "#sk-container-id-1 div.sk-label label {\n",
       "  /* The background is the default theme color */\n",
       "  color: var(--sklearn-color-text-on-default-background);\n",
       "}\n",
       "\n",
       "/* On hover, darken the color of the background */\n",
       "#sk-container-id-1 div.sk-label:hover label.sk-toggleable__label {\n",
       "  color: var(--sklearn-color-text);\n",
       "  background-color: var(--sklearn-color-unfitted-level-2);\n",
       "}\n",
       "\n",
       "/* Label box, darken color on hover, fitted */\n",
       "#sk-container-id-1 div.sk-label.fitted:hover label.sk-toggleable__label.fitted {\n",
       "  color: var(--sklearn-color-text);\n",
       "  background-color: var(--sklearn-color-fitted-level-2);\n",
       "}\n",
       "\n",
       "/* Estimator label */\n",
       "\n",
       "#sk-container-id-1 div.sk-label label {\n",
       "  font-family: monospace;\n",
       "  font-weight: bold;\n",
       "  display: inline-block;\n",
       "  line-height: 1.2em;\n",
       "}\n",
       "\n",
       "#sk-container-id-1 div.sk-label-container {\n",
       "  text-align: center;\n",
       "}\n",
       "\n",
       "/* Estimator-specific */\n",
       "#sk-container-id-1 div.sk-estimator {\n",
       "  font-family: monospace;\n",
       "  border: 1px dotted var(--sklearn-color-border-box);\n",
       "  border-radius: 0.25em;\n",
       "  box-sizing: border-box;\n",
       "  margin-bottom: 0.5em;\n",
       "  /* unfitted */\n",
       "  background-color: var(--sklearn-color-unfitted-level-0);\n",
       "}\n",
       "\n",
       "#sk-container-id-1 div.sk-estimator.fitted {\n",
       "  /* fitted */\n",
       "  background-color: var(--sklearn-color-fitted-level-0);\n",
       "}\n",
       "\n",
       "/* on hover */\n",
       "#sk-container-id-1 div.sk-estimator:hover {\n",
       "  /* unfitted */\n",
       "  background-color: var(--sklearn-color-unfitted-level-2);\n",
       "}\n",
       "\n",
       "#sk-container-id-1 div.sk-estimator.fitted:hover {\n",
       "  /* fitted */\n",
       "  background-color: var(--sklearn-color-fitted-level-2);\n",
       "}\n",
       "\n",
       "/* Specification for estimator info (e.g. \"i\" and \"?\") */\n",
       "\n",
       "/* Common style for \"i\" and \"?\" */\n",
       "\n",
       ".sk-estimator-doc-link,\n",
       "a:link.sk-estimator-doc-link,\n",
       "a:visited.sk-estimator-doc-link {\n",
       "  float: right;\n",
       "  font-size: smaller;\n",
       "  line-height: 1em;\n",
       "  font-family: monospace;\n",
       "  background-color: var(--sklearn-color-background);\n",
       "  border-radius: 1em;\n",
       "  height: 1em;\n",
       "  width: 1em;\n",
       "  text-decoration: none !important;\n",
       "  margin-left: 1ex;\n",
       "  /* unfitted */\n",
       "  border: var(--sklearn-color-unfitted-level-1) 1pt solid;\n",
       "  color: var(--sklearn-color-unfitted-level-1);\n",
       "}\n",
       "\n",
       ".sk-estimator-doc-link.fitted,\n",
       "a:link.sk-estimator-doc-link.fitted,\n",
       "a:visited.sk-estimator-doc-link.fitted {\n",
       "  /* fitted */\n",
       "  border: var(--sklearn-color-fitted-level-1) 1pt solid;\n",
       "  color: var(--sklearn-color-fitted-level-1);\n",
       "}\n",
       "\n",
       "/* On hover */\n",
       "div.sk-estimator:hover .sk-estimator-doc-link:hover,\n",
       ".sk-estimator-doc-link:hover,\n",
       "div.sk-label-container:hover .sk-estimator-doc-link:hover,\n",
       ".sk-estimator-doc-link:hover {\n",
       "  /* unfitted */\n",
       "  background-color: var(--sklearn-color-unfitted-level-3);\n",
       "  color: var(--sklearn-color-background);\n",
       "  text-decoration: none;\n",
       "}\n",
       "\n",
       "div.sk-estimator.fitted:hover .sk-estimator-doc-link.fitted:hover,\n",
       ".sk-estimator-doc-link.fitted:hover,\n",
       "div.sk-label-container:hover .sk-estimator-doc-link.fitted:hover,\n",
       ".sk-estimator-doc-link.fitted:hover {\n",
       "  /* fitted */\n",
       "  background-color: var(--sklearn-color-fitted-level-3);\n",
       "  color: var(--sklearn-color-background);\n",
       "  text-decoration: none;\n",
       "}\n",
       "\n",
       "/* Span, style for the box shown on hovering the info icon */\n",
       ".sk-estimator-doc-link span {\n",
       "  display: none;\n",
       "  z-index: 9999;\n",
       "  position: relative;\n",
       "  font-weight: normal;\n",
       "  right: .2ex;\n",
       "  padding: .5ex;\n",
       "  margin: .5ex;\n",
       "  width: min-content;\n",
       "  min-width: 20ex;\n",
       "  max-width: 50ex;\n",
       "  color: var(--sklearn-color-text);\n",
       "  box-shadow: 2pt 2pt 4pt #999;\n",
       "  /* unfitted */\n",
       "  background: var(--sklearn-color-unfitted-level-0);\n",
       "  border: .5pt solid var(--sklearn-color-unfitted-level-3);\n",
       "}\n",
       "\n",
       ".sk-estimator-doc-link.fitted span {\n",
       "  /* fitted */\n",
       "  background: var(--sklearn-color-fitted-level-0);\n",
       "  border: var(--sklearn-color-fitted-level-3);\n",
       "}\n",
       "\n",
       ".sk-estimator-doc-link:hover span {\n",
       "  display: block;\n",
       "}\n",
       "\n",
       "/* \"?\"-specific style due to the `<a>` HTML tag */\n",
       "\n",
       "#sk-container-id-1 a.estimator_doc_link {\n",
       "  float: right;\n",
       "  font-size: 1rem;\n",
       "  line-height: 1em;\n",
       "  font-family: monospace;\n",
       "  background-color: var(--sklearn-color-background);\n",
       "  border-radius: 1rem;\n",
       "  height: 1rem;\n",
       "  width: 1rem;\n",
       "  text-decoration: none;\n",
       "  /* unfitted */\n",
       "  color: var(--sklearn-color-unfitted-level-1);\n",
       "  border: var(--sklearn-color-unfitted-level-1) 1pt solid;\n",
       "}\n",
       "\n",
       "#sk-container-id-1 a.estimator_doc_link.fitted {\n",
       "  /* fitted */\n",
       "  border: var(--sklearn-color-fitted-level-1) 1pt solid;\n",
       "  color: var(--sklearn-color-fitted-level-1);\n",
       "}\n",
       "\n",
       "/* On hover */\n",
       "#sk-container-id-1 a.estimator_doc_link:hover {\n",
       "  /* unfitted */\n",
       "  background-color: var(--sklearn-color-unfitted-level-3);\n",
       "  color: var(--sklearn-color-background);\n",
       "  text-decoration: none;\n",
       "}\n",
       "\n",
       "#sk-container-id-1 a.estimator_doc_link.fitted:hover {\n",
       "  /* fitted */\n",
       "  background-color: var(--sklearn-color-fitted-level-3);\n",
       "}\n",
       "</style><div id=\"sk-container-id-1\" class=\"sk-top-container\"><div class=\"sk-text-repr-fallback\"><pre>RandomizedSearchCV(cv=TimeSeriesSplit(gap=0, max_train_size=None, n_splits=5, test_size=None),\n",
       "                   estimator=Pipeline(steps=[(&#x27;preprocessor&#x27;,\n",
       "                                              ColumnTransformer(remainder=&#x27;passthrough&#x27;,\n",
       "                                                                transformers=[(&#x27;num&#x27;,\n",
       "                                                                               MinMaxScaler(),\n",
       "                                                                               [&#x27;month&#x27;,\n",
       "                                                                                &#x27;day&#x27;,\n",
       "                                                                                &#x27;hour&#x27;,\n",
       "                                                                                &#x27;lag_1&#x27;,\n",
       "                                                                                &#x27;lag_2&#x27;,\n",
       "                                                                                &#x27;lag_3&#x27;,\n",
       "                                                                                &#x27;lag_4&#x27;,\n",
       "                                                                                &#x27;lag_5&#x27;,\n",
       "                                                                                &#x27;lag_6&#x27;,\n",
       "                                                                                &#x27;lag_7&#x27;,\n",
       "                                                                                &#x27;lag_8&#x27;,\n",
       "                                                                                &#x27;lag_9&#x27;,\n",
       "                                                                                &#x27;lag_10&#x27;,\n",
       "                                                                                &#x27;lag_11&#x27;,\n",
       "                                                                                &#x27;lag_12&#x27;,\n",
       "                                                                                &#x27;lag_13&#x27;,\n",
       "                                                                                &#x27;lag_14&#x27;,...\n",
       "                                         &#x27;models__max_depth&#x27;: range(2, 15),\n",
       "                                         &#x27;models__max_features&#x27;: range(2, 15),\n",
       "                                         &#x27;preprocessor__num&#x27;: [StandardScaler(),\n",
       "                                                               MinMaxScaler(),\n",
       "                                                               &#x27;passthrough&#x27;]},\n",
       "                                        {&#x27;models&#x27;: [&lt;catboost.core.CatBoostRegressor object at 0x7f0c5464df10&gt;],\n",
       "                                         &#x27;models__depth&#x27;: range(1, 4),\n",
       "                                         &#x27;preprocessor__num&#x27;: [StandardScaler(),\n",
       "                                                               MinMaxScaler(),\n",
       "                                                               &#x27;passthrough&#x27;]}],\n",
       "                   random_state=42, scoring=&#x27;neg_root_mean_squared_error&#x27;)</pre><b>In a Jupyter environment, please rerun this cell to show the HTML representation or trust the notebook. <br />On GitHub, the HTML representation is unable to render, please try loading this page with nbviewer.org.</b></div><div class=\"sk-container\" hidden><div class=\"sk-item sk-dashed-wrapped\"><div class=\"sk-label-container\"><div class=\"sk-label fitted sk-toggleable\"><input class=\"sk-toggleable__control sk-hidden--visually\" id=\"sk-estimator-id-1\" type=\"checkbox\" ><label for=\"sk-estimator-id-1\" class=\"sk-toggleable__label fitted sk-toggleable__label-arrow fitted\">&nbsp;&nbsp;RandomizedSearchCV<a class=\"sk-estimator-doc-link fitted\" rel=\"noreferrer\" target=\"_blank\" href=\"https://scikit-learn.org/1.5/modules/generated/sklearn.model_selection.RandomizedSearchCV.html\">?<span>Documentation for RandomizedSearchCV</span></a><span class=\"sk-estimator-doc-link fitted\">i<span>Fitted</span></span></label><div class=\"sk-toggleable__content fitted\"><pre>RandomizedSearchCV(cv=TimeSeriesSplit(gap=0, max_train_size=None, n_splits=5, test_size=None),\n",
       "                   estimator=Pipeline(steps=[(&#x27;preprocessor&#x27;,\n",
       "                                              ColumnTransformer(remainder=&#x27;passthrough&#x27;,\n",
       "                                                                transformers=[(&#x27;num&#x27;,\n",
       "                                                                               MinMaxScaler(),\n",
       "                                                                               [&#x27;month&#x27;,\n",
       "                                                                                &#x27;day&#x27;,\n",
       "                                                                                &#x27;hour&#x27;,\n",
       "                                                                                &#x27;lag_1&#x27;,\n",
       "                                                                                &#x27;lag_2&#x27;,\n",
       "                                                                                &#x27;lag_3&#x27;,\n",
       "                                                                                &#x27;lag_4&#x27;,\n",
       "                                                                                &#x27;lag_5&#x27;,\n",
       "                                                                                &#x27;lag_6&#x27;,\n",
       "                                                                                &#x27;lag_7&#x27;,\n",
       "                                                                                &#x27;lag_8&#x27;,\n",
       "                                                                                &#x27;lag_9&#x27;,\n",
       "                                                                                &#x27;lag_10&#x27;,\n",
       "                                                                                &#x27;lag_11&#x27;,\n",
       "                                                                                &#x27;lag_12&#x27;,\n",
       "                                                                                &#x27;lag_13&#x27;,\n",
       "                                                                                &#x27;lag_14&#x27;,...\n",
       "                                         &#x27;models__max_depth&#x27;: range(2, 15),\n",
       "                                         &#x27;models__max_features&#x27;: range(2, 15),\n",
       "                                         &#x27;preprocessor__num&#x27;: [StandardScaler(),\n",
       "                                                               MinMaxScaler(),\n",
       "                                                               &#x27;passthrough&#x27;]},\n",
       "                                        {&#x27;models&#x27;: [&lt;catboost.core.CatBoostRegressor object at 0x7f0c5464df10&gt;],\n",
       "                                         &#x27;models__depth&#x27;: range(1, 4),\n",
       "                                         &#x27;preprocessor__num&#x27;: [StandardScaler(),\n",
       "                                                               MinMaxScaler(),\n",
       "                                                               &#x27;passthrough&#x27;]}],\n",
       "                   random_state=42, scoring=&#x27;neg_root_mean_squared_error&#x27;)</pre></div> </div></div><div class=\"sk-parallel\"><div class=\"sk-parallel-item\"><div class=\"sk-item\"><div class=\"sk-label-container\"><div class=\"sk-label fitted sk-toggleable\"><input class=\"sk-toggleable__control sk-hidden--visually\" id=\"sk-estimator-id-2\" type=\"checkbox\" ><label for=\"sk-estimator-id-2\" class=\"sk-toggleable__label fitted sk-toggleable__label-arrow fitted\">best_estimator_: Pipeline</label><div class=\"sk-toggleable__content fitted\"><pre>Pipeline(steps=[(&#x27;preprocessor&#x27;,\n",
       "                 ColumnTransformer(remainder=&#x27;passthrough&#x27;,\n",
       "                                   transformers=[(&#x27;num&#x27;, &#x27;passthrough&#x27;,\n",
       "                                                  [&#x27;month&#x27;, &#x27;day&#x27;, &#x27;hour&#x27;,\n",
       "                                                   &#x27;lag_1&#x27;, &#x27;lag_2&#x27;, &#x27;lag_3&#x27;,\n",
       "                                                   &#x27;lag_4&#x27;, &#x27;lag_5&#x27;, &#x27;lag_6&#x27;,\n",
       "                                                   &#x27;lag_7&#x27;, &#x27;lag_8&#x27;, &#x27;lag_9&#x27;,\n",
       "                                                   &#x27;lag_10&#x27;, &#x27;lag_11&#x27;, &#x27;lag_12&#x27;,\n",
       "                                                   &#x27;lag_13&#x27;, &#x27;lag_14&#x27;, &#x27;lag_15&#x27;,\n",
       "                                                   &#x27;lag_16&#x27;, &#x27;lag_17&#x27;, &#x27;lag_18&#x27;,\n",
       "                                                   &#x27;lag_19&#x27;, &#x27;lag_20&#x27;, &#x27;lag_21&#x27;,\n",
       "                                                   &#x27;lag_22&#x27;, &#x27;lag_23&#x27;, &#x27;lag_24&#x27;,\n",
       "                                                   &#x27;rolling_mean&#x27;])])),\n",
       "                (&#x27;models&#x27;,\n",
       "                 &lt;catboost.core.CatBoostRegressor object at 0x7f0c54626c70&gt;)])</pre></div> </div></div><div class=\"sk-serial\"><div class=\"sk-item\"><div class=\"sk-serial\"><div class=\"sk-item sk-dashed-wrapped\"><div class=\"sk-label-container\"><div class=\"sk-label fitted sk-toggleable\"><input class=\"sk-toggleable__control sk-hidden--visually\" id=\"sk-estimator-id-3\" type=\"checkbox\" ><label for=\"sk-estimator-id-3\" class=\"sk-toggleable__label fitted sk-toggleable__label-arrow fitted\">&nbsp;preprocessor: ColumnTransformer<a class=\"sk-estimator-doc-link fitted\" rel=\"noreferrer\" target=\"_blank\" href=\"https://scikit-learn.org/1.5/modules/generated/sklearn.compose.ColumnTransformer.html\">?<span>Documentation for preprocessor: ColumnTransformer</span></a></label><div class=\"sk-toggleable__content fitted\"><pre>ColumnTransformer(remainder=&#x27;passthrough&#x27;,\n",
       "                  transformers=[(&#x27;num&#x27;, &#x27;passthrough&#x27;,\n",
       "                                 [&#x27;month&#x27;, &#x27;day&#x27;, &#x27;hour&#x27;, &#x27;lag_1&#x27;, &#x27;lag_2&#x27;,\n",
       "                                  &#x27;lag_3&#x27;, &#x27;lag_4&#x27;, &#x27;lag_5&#x27;, &#x27;lag_6&#x27;, &#x27;lag_7&#x27;,\n",
       "                                  &#x27;lag_8&#x27;, &#x27;lag_9&#x27;, &#x27;lag_10&#x27;, &#x27;lag_11&#x27;,\n",
       "                                  &#x27;lag_12&#x27;, &#x27;lag_13&#x27;, &#x27;lag_14&#x27;, &#x27;lag_15&#x27;,\n",
       "                                  &#x27;lag_16&#x27;, &#x27;lag_17&#x27;, &#x27;lag_18&#x27;, &#x27;lag_19&#x27;,\n",
       "                                  &#x27;lag_20&#x27;, &#x27;lag_21&#x27;, &#x27;lag_22&#x27;, &#x27;lag_23&#x27;,\n",
       "                                  &#x27;lag_24&#x27;, &#x27;rolling_mean&#x27;])])</pre></div> </div></div><div class=\"sk-parallel\"><div class=\"sk-parallel-item\"><div class=\"sk-item\"><div class=\"sk-label-container\"><div class=\"sk-label fitted sk-toggleable\"><input class=\"sk-toggleable__control sk-hidden--visually\" id=\"sk-estimator-id-4\" type=\"checkbox\" ><label for=\"sk-estimator-id-4\" class=\"sk-toggleable__label fitted sk-toggleable__label-arrow fitted\">num</label><div class=\"sk-toggleable__content fitted\"><pre>[&#x27;month&#x27;, &#x27;day&#x27;, &#x27;hour&#x27;, &#x27;lag_1&#x27;, &#x27;lag_2&#x27;, &#x27;lag_3&#x27;, &#x27;lag_4&#x27;, &#x27;lag_5&#x27;, &#x27;lag_6&#x27;, &#x27;lag_7&#x27;, &#x27;lag_8&#x27;, &#x27;lag_9&#x27;, &#x27;lag_10&#x27;, &#x27;lag_11&#x27;, &#x27;lag_12&#x27;, &#x27;lag_13&#x27;, &#x27;lag_14&#x27;, &#x27;lag_15&#x27;, &#x27;lag_16&#x27;, &#x27;lag_17&#x27;, &#x27;lag_18&#x27;, &#x27;lag_19&#x27;, &#x27;lag_20&#x27;, &#x27;lag_21&#x27;, &#x27;lag_22&#x27;, &#x27;lag_23&#x27;, &#x27;lag_24&#x27;, &#x27;rolling_mean&#x27;]</pre></div> </div></div><div class=\"sk-serial\"><div class=\"sk-item\"><div class=\"sk-estimator fitted sk-toggleable\"><input class=\"sk-toggleable__control sk-hidden--visually\" id=\"sk-estimator-id-5\" type=\"checkbox\" ><label for=\"sk-estimator-id-5\" class=\"sk-toggleable__label fitted sk-toggleable__label-arrow fitted\">passthrough</label><div class=\"sk-toggleable__content fitted\"><pre>passthrough</pre></div> </div></div></div></div></div><div class=\"sk-parallel-item\"><div class=\"sk-item\"><div class=\"sk-label-container\"><div class=\"sk-label fitted sk-toggleable\"><input class=\"sk-toggleable__control sk-hidden--visually\" id=\"sk-estimator-id-6\" type=\"checkbox\" ><label for=\"sk-estimator-id-6\" class=\"sk-toggleable__label fitted sk-toggleable__label-arrow fitted\">remainder</label><div class=\"sk-toggleable__content fitted\"><pre>[]</pre></div> </div></div><div class=\"sk-serial\"><div class=\"sk-item\"><div class=\"sk-estimator fitted sk-toggleable\"><input class=\"sk-toggleable__control sk-hidden--visually\" id=\"sk-estimator-id-7\" type=\"checkbox\" ><label for=\"sk-estimator-id-7\" class=\"sk-toggleable__label fitted sk-toggleable__label-arrow fitted\">passthrough</label><div class=\"sk-toggleable__content fitted\"><pre>passthrough</pre></div> </div></div></div></div></div></div></div><div class=\"sk-item\"><div class=\"sk-estimator fitted sk-toggleable\"><input class=\"sk-toggleable__control sk-hidden--visually\" id=\"sk-estimator-id-8\" type=\"checkbox\" ><label for=\"sk-estimator-id-8\" class=\"sk-toggleable__label fitted sk-toggleable__label-arrow fitted\">CatBoostRegressor</label><div class=\"sk-toggleable__content fitted\"><pre>&lt;catboost.core.CatBoostRegressor object at 0x7f0c54626c70&gt;</pre></div> </div></div></div></div></div></div></div></div></div></div></div>"
      ],
      "text/plain": [
       "RandomizedSearchCV(cv=TimeSeriesSplit(gap=0, max_train_size=None, n_splits=5, test_size=None),\n",
       "                   estimator=Pipeline(steps=[('preprocessor',\n",
       "                                              ColumnTransformer(remainder='passthrough',\n",
       "                                                                transformers=[('num',\n",
       "                                                                               MinMaxScaler(),\n",
       "                                                                               ['month',\n",
       "                                                                                'day',\n",
       "                                                                                'hour',\n",
       "                                                                                'lag_1',\n",
       "                                                                                'lag_2',\n",
       "                                                                                'lag_3',\n",
       "                                                                                'lag_4',\n",
       "                                                                                'lag_5',\n",
       "                                                                                'lag_6',\n",
       "                                                                                'lag_7',\n",
       "                                                                                'lag_8',\n",
       "                                                                                'lag_9',\n",
       "                                                                                'lag_10',\n",
       "                                                                                'lag_11',\n",
       "                                                                                'lag_12',\n",
       "                                                                                'lag_13',\n",
       "                                                                                'lag_14',...\n",
       "                                         'models__max_depth': range(2, 15),\n",
       "                                         'models__max_features': range(2, 15),\n",
       "                                         'preprocessor__num': [StandardScaler(),\n",
       "                                                               MinMaxScaler(),\n",
       "                                                               'passthrough']},\n",
       "                                        {'models': [<catboost.core.CatBoostRegressor object at 0x7f0c5464df10>],\n",
       "                                         'models__depth': range(1, 4),\n",
       "                                         'preprocessor__num': [StandardScaler(),\n",
       "                                                               MinMaxScaler(),\n",
       "                                                               'passthrough']}],\n",
       "                   random_state=42, scoring='neg_root_mean_squared_error')"
      ]
     },
     "execution_count": 29,
     "metadata": {},
     "output_type": "execute_result"
    }
   ],
   "source": [
    "randomized_search.fit(X_train, y_train)"
   ]
  },
  {
   "cell_type": "code",
   "execution_count": 30,
   "metadata": {},
   "outputs": [
    {
     "data": {
      "text/plain": [
       "-24.852209155453753"
      ]
     },
     "execution_count": 30,
     "metadata": {},
     "output_type": "execute_result"
    }
   ],
   "source": [
    "randomized_search.best_score_"
   ]
  },
  {
   "cell_type": "code",
   "execution_count": 31,
   "metadata": {},
   "outputs": [
    {
     "data": {
      "text/html": [
       "<div>\n",
       "<style scoped>\n",
       "    .dataframe tbody tr th:only-of-type {\n",
       "        vertical-align: middle;\n",
       "    }\n",
       "\n",
       "    .dataframe tbody tr th {\n",
       "        vertical-align: top;\n",
       "    }\n",
       "\n",
       "    .dataframe thead th {\n",
       "        text-align: right;\n",
       "    }\n",
       "</style>\n",
       "<table border=\"1\" class=\"dataframe\">\n",
       "  <thead>\n",
       "    <tr style=\"text-align: right;\">\n",
       "      <th></th>\n",
       "      <th>mean_fit_time</th>\n",
       "      <th>std_fit_time</th>\n",
       "      <th>mean_score_time</th>\n",
       "      <th>std_score_time</th>\n",
       "      <th>param_preprocessor__num</th>\n",
       "      <th>param_models__max_features</th>\n",
       "      <th>param_models__max_depth</th>\n",
       "      <th>param_models</th>\n",
       "      <th>param_models__depth</th>\n",
       "      <th>params</th>\n",
       "      <th>split0_test_score</th>\n",
       "      <th>split1_test_score</th>\n",
       "      <th>split2_test_score</th>\n",
       "      <th>split3_test_score</th>\n",
       "      <th>split4_test_score</th>\n",
       "      <th>mean_test_score</th>\n",
       "      <th>std_test_score</th>\n",
       "      <th>rank_test_score</th>\n",
       "    </tr>\n",
       "  </thead>\n",
       "  <tbody>\n",
       "    <tr>\n",
       "      <th>6</th>\n",
       "      <td>2.008063</td>\n",
       "      <td>0.174217</td>\n",
       "      <td>0.004094</td>\n",
       "      <td>0.000414</td>\n",
       "      <td>passthrough</td>\n",
       "      <td>NaN</td>\n",
       "      <td>NaN</td>\n",
       "      <td>&lt;catboost.core.CatBoostRegressor object at 0x7...</td>\n",
       "      <td>3.0</td>\n",
       "      <td>{'preprocessor__num': 'passthrough', 'models__...</td>\n",
       "      <td>-22.305929</td>\n",
       "      <td>-22.770142</td>\n",
       "      <td>-23.114043</td>\n",
       "      <td>-24.273884</td>\n",
       "      <td>-31.797048</td>\n",
       "      <td>-24.852209</td>\n",
       "      <td>3.532846</td>\n",
       "      <td>1</td>\n",
       "    </tr>\n",
       "    <tr>\n",
       "      <th>4</th>\n",
       "      <td>0.010283</td>\n",
       "      <td>0.002064</td>\n",
       "      <td>0.003094</td>\n",
       "      <td>0.000127</td>\n",
       "      <td>StandardScaler()</td>\n",
       "      <td>13.0</td>\n",
       "      <td>3.0</td>\n",
       "      <td>DecisionTreeRegressor(random_state=42)</td>\n",
       "      <td>NaN</td>\n",
       "      <td>{'preprocessor__num': StandardScaler(), 'model...</td>\n",
       "      <td>-24.940153</td>\n",
       "      <td>-27.449378</td>\n",
       "      <td>-28.692145</td>\n",
       "      <td>-30.458055</td>\n",
       "      <td>-41.278134</td>\n",
       "      <td>-30.563573</td>\n",
       "      <td>5.650420</td>\n",
       "      <td>2</td>\n",
       "    </tr>\n",
       "    <tr>\n",
       "      <th>8</th>\n",
       "      <td>0.012808</td>\n",
       "      <td>0.002699</td>\n",
       "      <td>0.003533</td>\n",
       "      <td>0.000315</td>\n",
       "      <td>StandardScaler()</td>\n",
       "      <td>13.0</td>\n",
       "      <td>4.0</td>\n",
       "      <td>DecisionTreeRegressor(random_state=42)</td>\n",
       "      <td>NaN</td>\n",
       "      <td>{'preprocessor__num': StandardScaler(), 'model...</td>\n",
       "      <td>-24.840746</td>\n",
       "      <td>-28.212133</td>\n",
       "      <td>-31.303366</td>\n",
       "      <td>-30.132484</td>\n",
       "      <td>-40.902905</td>\n",
       "      <td>-31.078327</td>\n",
       "      <td>5.377547</td>\n",
       "      <td>3</td>\n",
       "    </tr>\n",
       "    <tr>\n",
       "      <th>5</th>\n",
       "      <td>0.011524</td>\n",
       "      <td>0.003848</td>\n",
       "      <td>0.001999</td>\n",
       "      <td>0.000083</td>\n",
       "      <td>passthrough</td>\n",
       "      <td>8.0</td>\n",
       "      <td>9.0</td>\n",
       "      <td>DecisionTreeRegressor(random_state=42)</td>\n",
       "      <td>NaN</td>\n",
       "      <td>{'preprocessor__num': 'passthrough', 'models__...</td>\n",
       "      <td>-28.654937</td>\n",
       "      <td>-31.749675</td>\n",
       "      <td>-31.978343</td>\n",
       "      <td>-31.598232</td>\n",
       "      <td>-37.334961</td>\n",
       "      <td>-32.263230</td>\n",
       "      <td>2.811738</td>\n",
       "      <td>4</td>\n",
       "    </tr>\n",
       "    <tr>\n",
       "      <th>9</th>\n",
       "      <td>0.007766</td>\n",
       "      <td>0.001440</td>\n",
       "      <td>0.002227</td>\n",
       "      <td>0.000153</td>\n",
       "      <td>passthrough</td>\n",
       "      <td>6.0</td>\n",
       "      <td>5.0</td>\n",
       "      <td>DecisionTreeRegressor(random_state=42)</td>\n",
       "      <td>NaN</td>\n",
       "      <td>{'preprocessor__num': 'passthrough', 'models__...</td>\n",
       "      <td>-26.731844</td>\n",
       "      <td>-29.753489</td>\n",
       "      <td>-27.860033</td>\n",
       "      <td>-35.226746</td>\n",
       "      <td>-41.774509</td>\n",
       "      <td>-32.269324</td>\n",
       "      <td>5.577273</td>\n",
       "      <td>5</td>\n",
       "    </tr>\n",
       "    <tr>\n",
       "      <th>3</th>\n",
       "      <td>0.011598</td>\n",
       "      <td>0.002682</td>\n",
       "      <td>0.003048</td>\n",
       "      <td>0.000076</td>\n",
       "      <td>MinMaxScaler()</td>\n",
       "      <td>9.0</td>\n",
       "      <td>6.0</td>\n",
       "      <td>DecisionTreeRegressor(random_state=42)</td>\n",
       "      <td>NaN</td>\n",
       "      <td>{'preprocessor__num': MinMaxScaler(), 'models_...</td>\n",
       "      <td>-27.976625</td>\n",
       "      <td>-31.446167</td>\n",
       "      <td>-33.935843</td>\n",
       "      <td>-30.309693</td>\n",
       "      <td>-38.520934</td>\n",
       "      <td>-32.437852</td>\n",
       "      <td>3.596190</td>\n",
       "      <td>6</td>\n",
       "    </tr>\n",
       "    <tr>\n",
       "      <th>0</th>\n",
       "      <td>0.022984</td>\n",
       "      <td>0.009533</td>\n",
       "      <td>0.002276</td>\n",
       "      <td>0.000233</td>\n",
       "      <td>passthrough</td>\n",
       "      <td>14.0</td>\n",
       "      <td>12.0</td>\n",
       "      <td>DecisionTreeRegressor(random_state=42)</td>\n",
       "      <td>NaN</td>\n",
       "      <td>{'preprocessor__num': 'passthrough', 'models__...</td>\n",
       "      <td>-28.458040</td>\n",
       "      <td>-27.452859</td>\n",
       "      <td>-32.360615</td>\n",
       "      <td>-34.956352</td>\n",
       "      <td>-40.708147</td>\n",
       "      <td>-32.787203</td>\n",
       "      <td>4.792190</td>\n",
       "      <td>7</td>\n",
       "    </tr>\n",
       "    <tr>\n",
       "      <th>7</th>\n",
       "      <td>0.014664</td>\n",
       "      <td>0.003948</td>\n",
       "      <td>0.003316</td>\n",
       "      <td>0.000065</td>\n",
       "      <td>MinMaxScaler()</td>\n",
       "      <td>5.0</td>\n",
       "      <td>14.0</td>\n",
       "      <td>DecisionTreeRegressor(random_state=42)</td>\n",
       "      <td>NaN</td>\n",
       "      <td>{'preprocessor__num': MinMaxScaler(), 'models_...</td>\n",
       "      <td>-29.379926</td>\n",
       "      <td>-32.274022</td>\n",
       "      <td>-34.329899</td>\n",
       "      <td>-34.523758</td>\n",
       "      <td>-45.439211</td>\n",
       "      <td>-35.189363</td>\n",
       "      <td>5.449585</td>\n",
       "      <td>8</td>\n",
       "    </tr>\n",
       "    <tr>\n",
       "      <th>1</th>\n",
       "      <td>0.008398</td>\n",
       "      <td>0.002197</td>\n",
       "      <td>0.001927</td>\n",
       "      <td>0.000081</td>\n",
       "      <td>passthrough</td>\n",
       "      <td>3.0</td>\n",
       "      <td>13.0</td>\n",
       "      <td>DecisionTreeRegressor(random_state=42)</td>\n",
       "      <td>NaN</td>\n",
       "      <td>{'preprocessor__num': 'passthrough', 'models__...</td>\n",
       "      <td>-34.578396</td>\n",
       "      <td>-30.910101</td>\n",
       "      <td>-38.784002</td>\n",
       "      <td>-36.521597</td>\n",
       "      <td>-42.343351</td>\n",
       "      <td>-36.627489</td>\n",
       "      <td>3.852795</td>\n",
       "      <td>9</td>\n",
       "    </tr>\n",
       "    <tr>\n",
       "      <th>2</th>\n",
       "      <td>0.006904</td>\n",
       "      <td>0.000516</td>\n",
       "      <td>0.003005</td>\n",
       "      <td>0.000143</td>\n",
       "      <td>StandardScaler()</td>\n",
       "      <td>2.0</td>\n",
       "      <td>2.0</td>\n",
       "      <td>DecisionTreeRegressor(random_state=42)</td>\n",
       "      <td>NaN</td>\n",
       "      <td>{'preprocessor__num': StandardScaler(), 'model...</td>\n",
       "      <td>-28.796436</td>\n",
       "      <td>-34.152156</td>\n",
       "      <td>-37.674268</td>\n",
       "      <td>-43.853736</td>\n",
       "      <td>-53.228530</td>\n",
       "      <td>-39.541025</td>\n",
       "      <td>8.413301</td>\n",
       "      <td>10</td>\n",
       "    </tr>\n",
       "  </tbody>\n",
       "</table>\n",
       "</div>"
      ],
      "text/plain": [
       "   mean_fit_time  std_fit_time  mean_score_time  std_score_time  \\\n",
       "6       2.008063      0.174217         0.004094        0.000414   \n",
       "4       0.010283      0.002064         0.003094        0.000127   \n",
       "8       0.012808      0.002699         0.003533        0.000315   \n",
       "5       0.011524      0.003848         0.001999        0.000083   \n",
       "9       0.007766      0.001440         0.002227        0.000153   \n",
       "3       0.011598      0.002682         0.003048        0.000076   \n",
       "0       0.022984      0.009533         0.002276        0.000233   \n",
       "7       0.014664      0.003948         0.003316        0.000065   \n",
       "1       0.008398      0.002197         0.001927        0.000081   \n",
       "2       0.006904      0.000516         0.003005        0.000143   \n",
       "\n",
       "  param_preprocessor__num  param_models__max_features  \\\n",
       "6             passthrough                         NaN   \n",
       "4        StandardScaler()                        13.0   \n",
       "8        StandardScaler()                        13.0   \n",
       "5             passthrough                         8.0   \n",
       "9             passthrough                         6.0   \n",
       "3          MinMaxScaler()                         9.0   \n",
       "0             passthrough                        14.0   \n",
       "7          MinMaxScaler()                         5.0   \n",
       "1             passthrough                         3.0   \n",
       "2        StandardScaler()                         2.0   \n",
       "\n",
       "   param_models__max_depth                                       param_models  \\\n",
       "6                      NaN  <catboost.core.CatBoostRegressor object at 0x7...   \n",
       "4                      3.0             DecisionTreeRegressor(random_state=42)   \n",
       "8                      4.0             DecisionTreeRegressor(random_state=42)   \n",
       "5                      9.0             DecisionTreeRegressor(random_state=42)   \n",
       "9                      5.0             DecisionTreeRegressor(random_state=42)   \n",
       "3                      6.0             DecisionTreeRegressor(random_state=42)   \n",
       "0                     12.0             DecisionTreeRegressor(random_state=42)   \n",
       "7                     14.0             DecisionTreeRegressor(random_state=42)   \n",
       "1                     13.0             DecisionTreeRegressor(random_state=42)   \n",
       "2                      2.0             DecisionTreeRegressor(random_state=42)   \n",
       "\n",
       "   param_models__depth                                             params  \\\n",
       "6                  3.0  {'preprocessor__num': 'passthrough', 'models__...   \n",
       "4                  NaN  {'preprocessor__num': StandardScaler(), 'model...   \n",
       "8                  NaN  {'preprocessor__num': StandardScaler(), 'model...   \n",
       "5                  NaN  {'preprocessor__num': 'passthrough', 'models__...   \n",
       "9                  NaN  {'preprocessor__num': 'passthrough', 'models__...   \n",
       "3                  NaN  {'preprocessor__num': MinMaxScaler(), 'models_...   \n",
       "0                  NaN  {'preprocessor__num': 'passthrough', 'models__...   \n",
       "7                  NaN  {'preprocessor__num': MinMaxScaler(), 'models_...   \n",
       "1                  NaN  {'preprocessor__num': 'passthrough', 'models__...   \n",
       "2                  NaN  {'preprocessor__num': StandardScaler(), 'model...   \n",
       "\n",
       "   split0_test_score  split1_test_score  split2_test_score  split3_test_score  \\\n",
       "6         -22.305929         -22.770142         -23.114043         -24.273884   \n",
       "4         -24.940153         -27.449378         -28.692145         -30.458055   \n",
       "8         -24.840746         -28.212133         -31.303366         -30.132484   \n",
       "5         -28.654937         -31.749675         -31.978343         -31.598232   \n",
       "9         -26.731844         -29.753489         -27.860033         -35.226746   \n",
       "3         -27.976625         -31.446167         -33.935843         -30.309693   \n",
       "0         -28.458040         -27.452859         -32.360615         -34.956352   \n",
       "7         -29.379926         -32.274022         -34.329899         -34.523758   \n",
       "1         -34.578396         -30.910101         -38.784002         -36.521597   \n",
       "2         -28.796436         -34.152156         -37.674268         -43.853736   \n",
       "\n",
       "   split4_test_score  mean_test_score  std_test_score  rank_test_score  \n",
       "6         -31.797048       -24.852209        3.532846                1  \n",
       "4         -41.278134       -30.563573        5.650420                2  \n",
       "8         -40.902905       -31.078327        5.377547                3  \n",
       "5         -37.334961       -32.263230        2.811738                4  \n",
       "9         -41.774509       -32.269324        5.577273                5  \n",
       "3         -38.520934       -32.437852        3.596190                6  \n",
       "0         -40.708147       -32.787203        4.792190                7  \n",
       "7         -45.439211       -35.189363        5.449585                8  \n",
       "1         -42.343351       -36.627489        3.852795                9  \n",
       "2         -53.228530       -39.541025        8.413301               10  "
      ]
     },
     "execution_count": 31,
     "metadata": {},
     "output_type": "execute_result"
    }
   ],
   "source": [
    "top_10_model = pd.DataFrame(randomized_search.cv_results_).sort_values(by='rank_test_score').head(10)\n",
    "top_10_model"
   ]
  },
  {
   "cell_type": "markdown",
   "metadata": {},
   "source": [
    "### Вывод"
   ]
  },
  {
   "cell_type": "markdown",
   "metadata": {},
   "source": [
    "- Для обучения моделей и перебора гиперпараметров использовался пайплан.\n",
    "- Модели учавствующие в обучении: DecisionTreeRegressor(), LinearRegression(), Ridge(), CatBoostRegressor();\n",
    "- Выведены топ 10 лучших моделей для их оценки."
   ]
  },
  {
   "cell_type": "markdown",
   "metadata": {},
   "source": [
    "## Тестирование"
   ]
  },
  {
   "cell_type": "code",
   "execution_count": 32,
   "metadata": {},
   "outputs": [
    {
     "data": {
      "text/plain": [
       "'Лучшая модель: <catboost.core.CatBoostRegressor object at 0x7f0c54626c70>'"
      ]
     },
     "metadata": {},
     "output_type": "display_data"
    },
    {
     "data": {
      "text/plain": [
       "'Метрика RMSE: 42.65660170140212'"
      ]
     },
     "metadata": {},
     "output_type": "display_data"
    }
   ],
   "source": [
    "pred = randomized_search.predict(X_test)\n",
    "display(f'Лучшая модель: {randomized_search.best_estimator_[\"models\"]}')\n",
    "display(f'Метрика RMSE: {root_mean_squared_error(y_test, pred)}')"
   ]
  },
  {
   "cell_type": "code",
   "execution_count": 33,
   "metadata": {},
   "outputs": [],
   "source": [
    "comparison = y_test.to_frame().reset_index()\n",
    "comparison['pred'] = pd.Series(pred)\n",
    "comparison.set_index('datetime', inplace=True)"
   ]
  },
  {
   "cell_type": "code",
   "execution_count": 34,
   "metadata": {},
   "outputs": [
    {
     "data": {
      "image/png": "[encoded data removed]",
      "text/plain": [
       "<Figure size 1224x576 with 1 Axes>"
      ]
     },
     "metadata": {
      "needs_background": "light"
     },
     "output_type": "display_data"
    }
   ],
   "source": [
    "comparison.plot(figsize=(17, 8))\n",
    "plt.show()"
   ]
  },
  {
   "cell_type": "markdown",
   "metadata": {},
   "source": [
    "### Вывод"
   ]
  },
  {
   "cell_type": "markdown",
   "metadata": {},
   "source": [
    "- Время обучения лучшей модели - 1.97;\n",
    "- Время предсказания - 0.004;\n",
    "- Лучшая модель: catboost.core.CatBoostRegressor object at 0x7f11a312e1c0\n",
    "- Метрика RMSE на тестовой выборке составляет 42.66, что соответствует ТЗ."
   ]
  },
  {
   "cell_type": "markdown",
   "metadata": {},
   "source": [
    "## Чек-лист проверки"
   ]
  },
  {
   "cell_type": "markdown",
   "metadata": {},
   "source": [
    "- [x]  Jupyter Notebook открыт\n",
    "- [x]  Весь код выполняется без ошибок\n",
    "- [x]  Ячейки с кодом расположены в порядке исполнения\n",
    "- [x]  Данные загружены и подготовлены\n",
    "- [x]  Данные проанализированы\n",
    "- [x]  Модель обучена, гиперпараметры подобраны\n",
    "- [x]  Качество моделей проверено, выводы сделаны\n",
    "- [x]  Значение *RMSE* на тестовой выборке не больше 48"
   ]
  }
 ],
 "metadata": {
  "ExecuteTimeLog": [
   {
    "duration": 98,
    "start_time": "2024-10-30T17:35:46.564Z"
   },
   {
    "duration": 98,
    "start_time": "2024-10-30T17:38:12.806Z"
   },
   {
    "duration": 4,
    "start_time": "2024-10-30T18:07:03.179Z"
   },
   {
    "duration": 7130,
    "start_time": "2024-10-30T18:07:21.606Z"
   },
   {
    "duration": 1540,
    "start_time": "2024-10-30T18:07:42.751Z"
   },
   {
    "duration": 2,
    "start_time": "2024-10-30T18:08:02.161Z"
   },
   {
    "duration": 5,
    "start_time": "2024-10-30T18:09:48.106Z"
   },
   {
    "duration": 95,
    "start_time": "2024-10-30T18:10:54.257Z"
   },
   {
    "duration": 4,
    "start_time": "2024-10-30T18:11:53.261Z"
   },
   {
    "duration": 322,
    "start_time": "2024-10-30T18:12:09.800Z"
   },
   {
    "duration": 105,
    "start_time": "2024-10-30T18:19:22.662Z"
   },
   {
    "duration": 2,
    "start_time": "2024-10-30T18:19:32.736Z"
   },
   {
    "duration": 3,
    "start_time": "2024-10-30T18:20:26.800Z"
   },
   {
    "duration": 7,
    "start_time": "2024-10-30T18:22:13.013Z"
   },
   {
    "duration": 7,
    "start_time": "2024-10-30T18:29:57.457Z"
   },
   {
    "duration": 9,
    "start_time": "2024-10-30T18:30:00.835Z"
   },
   {
    "duration": 4,
    "start_time": "2024-10-30T18:33:29.745Z"
   },
   {
    "duration": 5,
    "start_time": "2024-10-30T18:35:21.249Z"
   },
   {
    "duration": 11,
    "start_time": "2024-10-30T18:41:35.709Z"
   },
   {
    "duration": 197,
    "start_time": "2024-10-30T18:41:41.612Z"
   },
   {
    "duration": 12,
    "start_time": "2024-10-30T18:41:51.777Z"
   },
   {
    "duration": 184,
    "start_time": "2024-10-30T18:41:54.246Z"
   },
   {
    "duration": 238,
    "start_time": "2024-10-30T18:42:08.062Z"
   },
   {
    "duration": 191,
    "start_time": "2024-10-30T18:42:17.134Z"
   },
   {
    "duration": 173,
    "start_time": "2024-10-30T18:43:28.296Z"
   },
   {
    "duration": 179,
    "start_time": "2024-10-30T18:43:34.278Z"
   },
   {
    "duration": 181,
    "start_time": "2024-10-30T18:43:39.536Z"
   },
   {
    "duration": 76,
    "start_time": "2024-10-30T18:44:34.383Z"
   },
   {
    "duration": 76,
    "start_time": "2024-10-30T18:44:37.824Z"
   },
   {
    "duration": 244,
    "start_time": "2024-10-30T18:44:43.004Z"
   },
   {
    "duration": 82,
    "start_time": "2024-10-30T18:45:29.753Z"
   },
   {
    "duration": 196,
    "start_time": "2024-10-30T18:45:59.240Z"
   },
   {
    "duration": 197,
    "start_time": "2024-10-30T18:46:12.544Z"
   },
   {
    "duration": 194,
    "start_time": "2024-10-30T18:46:21.625Z"
   },
   {
    "duration": 203,
    "start_time": "2024-10-30T18:46:25.856Z"
   },
   {
    "duration": 28,
    "start_time": "2024-10-30T18:49:16.652Z"
   },
   {
    "duration": 186,
    "start_time": "2024-10-30T18:49:28.819Z"
   },
   {
    "duration": 5,
    "start_time": "2024-10-30T18:50:38.459Z"
   },
   {
    "duration": 732,
    "start_time": "2024-10-30T18:50:55.627Z"
   },
   {
    "duration": 693,
    "start_time": "2024-10-30T18:51:51.536Z"
   },
   {
    "duration": 837,
    "start_time": "2024-10-30T18:51:58.212Z"
   },
   {
    "duration": 786,
    "start_time": "2024-10-30T18:52:09.429Z"
   },
   {
    "duration": 751,
    "start_time": "2024-10-30T18:52:18.772Z"
   },
   {
    "duration": 782,
    "start_time": "2024-10-30T18:52:22.420Z"
   },
   {
    "duration": 729,
    "start_time": "2024-10-30T18:52:28.574Z"
   },
   {
    "duration": 673,
    "start_time": "2024-10-30T18:52:36.639Z"
   },
   {
    "duration": 814,
    "start_time": "2024-10-30T18:52:42.230Z"
   },
   {
    "duration": 642,
    "start_time": "2024-10-30T18:52:47.456Z"
   },
   {
    "duration": 769,
    "start_time": "2024-10-30T18:52:54.206Z"
   },
   {
    "duration": 63,
    "start_time": "2024-10-30T18:55:51.444Z"
   },
   {
    "duration": 9,
    "start_time": "2024-10-30T18:59:03.242Z"
   },
   {
    "duration": 70,
    "start_time": "2024-10-30T18:59:05.537Z"
   },
   {
    "duration": 542,
    "start_time": "2024-10-30T18:59:11.386Z"
   },
   {
    "duration": 8,
    "start_time": "2024-10-30T19:01:14.045Z"
   },
   {
    "duration": 559,
    "start_time": "2024-10-30T19:01:20.634Z"
   },
   {
    "duration": 8,
    "start_time": "2024-10-30T19:03:17.102Z"
   },
   {
    "duration": 716,
    "start_time": "2024-10-30T19:03:30.165Z"
   },
   {
    "duration": 8,
    "start_time": "2024-10-30T19:04:27.812Z"
   },
   {
    "duration": 578,
    "start_time": "2024-10-30T19:04:29.854Z"
   },
   {
    "duration": 8,
    "start_time": "2024-10-30T19:06:52.350Z"
   },
   {
    "duration": 612,
    "start_time": "2024-10-30T19:06:54.222Z"
   },
   {
    "duration": 9,
    "start_time": "2024-10-30T19:08:07.207Z"
   },
   {
    "duration": 613,
    "start_time": "2024-10-30T19:08:13.212Z"
   },
   {
    "duration": 8,
    "start_time": "2024-10-30T19:08:16.042Z"
   },
   {
    "duration": 650,
    "start_time": "2024-10-30T19:08:18.166Z"
   },
   {
    "duration": 8,
    "start_time": "2024-10-30T19:11:04.065Z"
   },
   {
    "duration": 563,
    "start_time": "2024-10-30T19:11:05.802Z"
   },
   {
    "duration": 15,
    "start_time": "2024-10-30T19:15:07.869Z"
   },
   {
    "duration": 8,
    "start_time": "2024-10-30T19:15:14.273Z"
   },
   {
    "duration": 695,
    "start_time": "2024-10-30T19:15:21.638Z"
   },
   {
    "duration": 72477,
    "start_time": "2024-10-31T17:21:33.871Z"
   },
   {
    "duration": 1637,
    "start_time": "2024-10-31T17:22:46.350Z"
   },
   {
    "duration": 3,
    "start_time": "2024-10-31T17:22:47.989Z"
   },
   {
    "duration": 48,
    "start_time": "2024-10-31T17:22:47.995Z"
   },
   {
    "duration": 29,
    "start_time": "2024-10-31T17:22:48.044Z"
   },
   {
    "duration": 203,
    "start_time": "2024-10-31T17:22:48.074Z"
   },
   {
    "duration": 291,
    "start_time": "2024-10-31T17:22:48.279Z"
   },
   {
    "duration": 3,
    "start_time": "2024-10-31T17:22:48.572Z"
   },
   {
    "duration": 5,
    "start_time": "2024-10-31T17:22:48.577Z"
   },
   {
    "duration": 11,
    "start_time": "2024-10-31T17:22:48.586Z"
   },
   {
    "duration": 4,
    "start_time": "2024-10-31T17:22:48.598Z"
   },
   {
    "duration": 8,
    "start_time": "2024-10-31T17:22:48.604Z"
   },
   {
    "duration": 260,
    "start_time": "2024-10-31T17:22:48.614Z"
   },
   {
    "duration": 11,
    "start_time": "2024-10-31T17:22:48.876Z"
   },
   {
    "duration": 797,
    "start_time": "2024-10-31T17:22:48.888Z"
   },
   {
    "duration": 10,
    "start_time": "2024-10-31T17:22:49.687Z"
   },
   {
    "duration": 665,
    "start_time": "2024-10-31T17:22:49.698Z"
   },
   {
    "duration": 47,
    "start_time": "2024-10-31T17:26:53.301Z"
   },
   {
    "duration": 10,
    "start_time": "2024-10-31T17:26:56.171Z"
   },
   {
    "duration": 5,
    "start_time": "2024-10-31T17:28:39.629Z"
   },
   {
    "duration": 13,
    "start_time": "2024-10-31T17:33:50.490Z"
   },
   {
    "duration": 4,
    "start_time": "2024-10-31T17:34:37.648Z"
   },
   {
    "duration": 8,
    "start_time": "2024-10-31T17:34:53.284Z"
   },
   {
    "duration": 44,
    "start_time": "2024-10-31T17:37:18.271Z"
   },
   {
    "duration": 148,
    "start_time": "2024-10-31T17:37:21.138Z"
   },
   {
    "duration": 9,
    "start_time": "2024-10-31T17:37:32.810Z"
   },
   {
    "duration": 6,
    "start_time": "2024-10-31T17:38:07.852Z"
   },
   {
    "duration": 25,
    "start_time": "2024-10-31T17:39:04.164Z"
   },
   {
    "duration": 3,
    "start_time": "2024-10-31T17:48:31.017Z"
   },
   {
    "duration": 17,
    "start_time": "2024-10-31T17:51:59.792Z"
   },
   {
    "duration": 6,
    "start_time": "2024-10-31T17:52:06.051Z"
   },
   {
    "duration": 3,
    "start_time": "2024-10-31T17:52:07.784Z"
   },
   {
    "duration": 37,
    "start_time": "2024-10-31T17:52:31.804Z"
   },
   {
    "duration": 6,
    "start_time": "2024-10-31T17:58:12.857Z"
   },
   {
    "duration": 5,
    "start_time": "2024-10-31T17:58:17.479Z"
   },
   {
    "duration": 3,
    "start_time": "2024-10-31T17:59:14.488Z"
   },
   {
    "duration": 3,
    "start_time": "2024-10-31T17:59:26.953Z"
   },
   {
    "duration": 5,
    "start_time": "2024-10-31T17:59:34.153Z"
   },
   {
    "duration": 3,
    "start_time": "2024-10-31T17:59:36.132Z"
   },
   {
    "duration": 1159,
    "start_time": "2024-10-31T17:59:38.272Z"
   },
   {
    "duration": 6,
    "start_time": "2024-10-31T18:00:12.868Z"
   },
   {
    "duration": 4,
    "start_time": "2024-10-31T18:00:15.606Z"
   },
   {
    "duration": 5,
    "start_time": "2024-10-31T18:00:18.266Z"
   },
   {
    "duration": 1211,
    "start_time": "2024-10-31T18:00:19.897Z"
   },
   {
    "duration": 4,
    "start_time": "2024-10-31T18:00:57.897Z"
   },
   {
    "duration": 14,
    "start_time": "2024-10-31T18:02:26.770Z"
   },
   {
    "duration": 4,
    "start_time": "2024-10-31T18:04:59.443Z"
   },
   {
    "duration": 1115,
    "start_time": "2024-10-31T18:05:01.412Z"
   },
   {
    "duration": 3168,
    "start_time": "2024-10-31T18:05:37.773Z"
   },
   {
    "duration": 1433,
    "start_time": "2024-10-31T18:05:40.944Z"
   },
   {
    "duration": 3,
    "start_time": "2024-10-31T18:05:42.379Z"
   },
   {
    "duration": 104,
    "start_time": "2024-10-31T18:05:42.384Z"
   },
   {
    "duration": 9,
    "start_time": "2024-10-31T18:05:42.490Z"
   },
   {
    "duration": 14,
    "start_time": "2024-10-31T18:05:42.501Z"
   },
   {
    "duration": 72,
    "start_time": "2024-10-31T18:05:42.517Z"
   },
   {
    "duration": 298,
    "start_time": "2024-10-31T18:05:42.591Z"
   },
   {
    "duration": 4,
    "start_time": "2024-10-31T18:05:42.891Z"
   },
   {
    "duration": 56,
    "start_time": "2024-10-31T18:05:42.897Z"
   },
   {
    "duration": 9,
    "start_time": "2024-10-31T18:05:42.955Z"
   },
   {
    "duration": 10,
    "start_time": "2024-10-31T18:05:42.966Z"
   },
   {
    "duration": 6,
    "start_time": "2024-10-31T18:05:42.978Z"
   },
   {
    "duration": 269,
    "start_time": "2024-10-31T18:05:42.985Z"
   },
   {
    "duration": 11,
    "start_time": "2024-10-31T18:05:43.256Z"
   },
   {
    "duration": 816,
    "start_time": "2024-10-31T18:05:43.268Z"
   },
   {
    "duration": 11,
    "start_time": "2024-10-31T18:05:44.086Z"
   },
   {
    "duration": 699,
    "start_time": "2024-10-31T18:05:44.099Z"
   },
   {
    "duration": 134,
    "start_time": "2024-10-31T18:05:44.800Z"
   },
   {
    "duration": 28,
    "start_time": "2024-10-31T18:05:44.936Z"
   },
   {
    "duration": 9,
    "start_time": "2024-10-31T18:05:44.967Z"
   },
   {
    "duration": 10,
    "start_time": "2024-10-31T18:05:44.978Z"
   },
   {
    "duration": 5,
    "start_time": "2024-10-31T18:05:44.990Z"
   },
   {
    "duration": 5,
    "start_time": "2024-10-31T18:05:44.996Z"
   },
   {
    "duration": 61,
    "start_time": "2024-10-31T18:05:45.003Z"
   },
   {
    "duration": 19,
    "start_time": "2024-10-31T18:05:45.065Z"
   },
   {
    "duration": 2325,
    "start_time": "2024-10-31T18:05:45.086Z"
   },
   {
    "duration": 4,
    "start_time": "2024-10-31T18:05:47.415Z"
   },
   {
    "duration": 33,
    "start_time": "2024-10-31T18:05:47.421Z"
   },
   {
    "duration": 3345,
    "start_time": "2024-10-31T18:06:48.184Z"
   },
   {
    "duration": 1445,
    "start_time": "2024-10-31T18:06:51.531Z"
   },
   {
    "duration": 2,
    "start_time": "2024-10-31T18:06:52.978Z"
   },
   {
    "duration": 7,
    "start_time": "2024-10-31T18:06:52.982Z"
   },
   {
    "duration": 10,
    "start_time": "2024-10-31T18:06:52.991Z"
   },
   {
    "duration": 8,
    "start_time": "2024-10-31T18:06:53.002Z"
   },
   {
    "duration": 57,
    "start_time": "2024-10-31T18:06:53.012Z"
   },
   {
    "duration": 289,
    "start_time": "2024-10-31T18:06:53.071Z"
   },
   {
    "duration": 3,
    "start_time": "2024-10-31T18:06:53.361Z"
   },
   {
    "duration": 5,
    "start_time": "2024-10-31T18:06:53.367Z"
   },
   {
    "duration": 16,
    "start_time": "2024-10-31T18:06:53.374Z"
   },
   {
    "duration": 5,
    "start_time": "2024-10-31T18:06:53.391Z"
   },
   {
    "duration": 6,
    "start_time": "2024-10-31T18:06:53.397Z"
   },
   {
    "duration": 279,
    "start_time": "2024-10-31T18:06:53.405Z"
   },
   {
    "duration": 11,
    "start_time": "2024-10-31T18:06:53.686Z"
   },
   {
    "duration": 826,
    "start_time": "2024-10-31T18:06:53.699Z"
   },
   {
    "duration": 9,
    "start_time": "2024-10-31T18:06:54.526Z"
   },
   {
    "duration": 684,
    "start_time": "2024-10-31T18:06:54.537Z"
   },
   {
    "duration": 136,
    "start_time": "2024-10-31T18:06:55.223Z"
   },
   {
    "duration": 23,
    "start_time": "2024-10-31T18:06:55.360Z"
   },
   {
    "duration": 11,
    "start_time": "2024-10-31T18:06:55.385Z"
   },
   {
    "duration": 25,
    "start_time": "2024-10-31T18:06:55.397Z"
   },
   {
    "duration": 19,
    "start_time": "2024-10-31T18:06:55.424Z"
   },
   {
    "duration": 20,
    "start_time": "2024-10-31T18:06:55.445Z"
   },
   {
    "duration": 187,
    "start_time": "2024-10-31T18:06:55.466Z"
   },
   {
    "duration": 18,
    "start_time": "2024-10-31T18:06:55.654Z"
   },
   {
    "duration": 3415,
    "start_time": "2024-10-31T18:39:53.277Z"
   },
   {
    "duration": 1398,
    "start_time": "2024-10-31T18:39:56.694Z"
   },
   {
    "duration": 3,
    "start_time": "2024-10-31T18:39:58.094Z"
   },
   {
    "duration": 9,
    "start_time": "2024-10-31T18:39:58.098Z"
   },
   {
    "duration": 5,
    "start_time": "2024-10-31T18:39:58.109Z"
   },
   {
    "duration": 10,
    "start_time": "2024-10-31T18:39:58.116Z"
   },
   {
    "duration": 60,
    "start_time": "2024-10-31T18:39:58.128Z"
   },
   {
    "duration": 288,
    "start_time": "2024-10-31T18:39:58.190Z"
   },
   {
    "duration": 4,
    "start_time": "2024-10-31T18:39:58.480Z"
   },
   {
    "duration": 74,
    "start_time": "2024-10-31T18:39:58.486Z"
   },
   {
    "duration": 61,
    "start_time": "2024-10-31T18:39:58.562Z"
   },
   {
    "duration": 6,
    "start_time": "2024-10-31T18:39:58.625Z"
   },
   {
    "duration": 20,
    "start_time": "2024-10-31T18:39:58.633Z"
   },
   {
    "duration": 266,
    "start_time": "2024-10-31T18:39:58.658Z"
   },
   {
    "duration": 29,
    "start_time": "2024-10-31T18:39:58.927Z"
   },
   {
    "duration": 790,
    "start_time": "2024-10-31T18:39:58.959Z"
   },
   {
    "duration": 15,
    "start_time": "2024-10-31T18:39:59.751Z"
   },
   {
    "duration": 793,
    "start_time": "2024-10-31T18:39:59.769Z"
   },
   {
    "duration": 4,
    "start_time": "2024-10-31T18:40:00.564Z"
   },
   {
    "duration": 88,
    "start_time": "2024-10-31T18:40:00.570Z"
   },
   {
    "duration": 21,
    "start_time": "2024-10-31T18:40:00.661Z"
   },
   {
    "duration": 7,
    "start_time": "2024-10-31T18:40:00.685Z"
   },
   {
    "duration": 31,
    "start_time": "2024-10-31T18:40:00.694Z"
   },
   {
    "duration": 28,
    "start_time": "2024-10-31T18:40:00.727Z"
   },
   {
    "duration": 21,
    "start_time": "2024-10-31T18:40:00.757Z"
   },
   {
    "duration": 24,
    "start_time": "2024-10-31T18:40:00.780Z"
   },
   {
    "duration": 14,
    "start_time": "2024-10-31T18:40:00.806Z"
   },
   {
    "duration": 3521,
    "start_time": "2024-10-31T18:52:52.891Z"
   },
   {
    "duration": 1403,
    "start_time": "2024-10-31T18:52:56.415Z"
   },
   {
    "duration": 3,
    "start_time": "2024-10-31T18:52:57.820Z"
   },
   {
    "duration": 72,
    "start_time": "2024-10-31T18:52:57.825Z"
   },
   {
    "duration": 12,
    "start_time": "2024-10-31T18:52:57.898Z"
   },
   {
    "duration": 29,
    "start_time": "2024-10-31T18:52:57.912Z"
   },
   {
    "duration": 67,
    "start_time": "2024-10-31T18:52:57.943Z"
   },
   {
    "duration": 308,
    "start_time": "2024-10-31T18:52:58.012Z"
   },
   {
    "duration": 4,
    "start_time": "2024-10-31T18:52:58.322Z"
   },
   {
    "duration": 11,
    "start_time": "2024-10-31T18:52:58.329Z"
   },
   {
    "duration": 11,
    "start_time": "2024-10-31T18:52:58.342Z"
   },
   {
    "duration": 11,
    "start_time": "2024-10-31T18:52:58.355Z"
   },
   {
    "duration": 10,
    "start_time": "2024-10-31T18:52:58.368Z"
   },
   {
    "duration": 260,
    "start_time": "2024-10-31T18:52:58.381Z"
   },
   {
    "duration": 19,
    "start_time": "2024-10-31T18:52:58.643Z"
   },
   {
    "duration": 769,
    "start_time": "2024-10-31T18:52:58.664Z"
   },
   {
    "duration": 10,
    "start_time": "2024-10-31T18:52:59.435Z"
   },
   {
    "duration": 689,
    "start_time": "2024-10-31T18:52:59.447Z"
   },
   {
    "duration": 31,
    "start_time": "2024-10-31T18:53:00.138Z"
   },
   {
    "duration": 10,
    "start_time": "2024-10-31T18:53:00.170Z"
   },
   {
    "duration": 23,
    "start_time": "2024-10-31T18:53:00.181Z"
   },
   {
    "duration": 16,
    "start_time": "2024-10-31T18:53:00.206Z"
   },
   {
    "duration": 6,
    "start_time": "2024-10-31T18:53:00.223Z"
   },
   {
    "duration": 6,
    "start_time": "2024-10-31T18:53:00.230Z"
   },
   {
    "duration": 24,
    "start_time": "2024-10-31T18:53:00.238Z"
   },
   {
    "duration": 82,
    "start_time": "2024-10-31T18:53:00.263Z"
   },
   {
    "duration": 3232,
    "start_time": "2024-10-31T19:10:08.004Z"
   },
   {
    "duration": 1421,
    "start_time": "2024-10-31T19:10:11.239Z"
   },
   {
    "duration": 2,
    "start_time": "2024-10-31T19:10:12.662Z"
   },
   {
    "duration": 19,
    "start_time": "2024-10-31T19:10:12.666Z"
   },
   {
    "duration": 5,
    "start_time": "2024-10-31T19:10:12.688Z"
   },
   {
    "duration": 9,
    "start_time": "2024-10-31T19:10:12.694Z"
   },
   {
    "duration": 54,
    "start_time": "2024-10-31T19:10:12.705Z"
   },
   {
    "duration": 316,
    "start_time": "2024-10-31T19:10:12.761Z"
   },
   {
    "duration": 3,
    "start_time": "2024-10-31T19:10:13.078Z"
   },
   {
    "duration": 66,
    "start_time": "2024-10-31T19:10:13.083Z"
   },
   {
    "duration": 17,
    "start_time": "2024-10-31T19:10:13.151Z"
   },
   {
    "duration": 5,
    "start_time": "2024-10-31T19:10:13.170Z"
   },
   {
    "duration": 13,
    "start_time": "2024-10-31T19:10:13.176Z"
   },
   {
    "duration": 262,
    "start_time": "2024-10-31T19:10:13.192Z"
   },
   {
    "duration": 11,
    "start_time": "2024-10-31T19:10:13.455Z"
   },
   {
    "duration": 809,
    "start_time": "2024-10-31T19:10:13.468Z"
   },
   {
    "duration": 11,
    "start_time": "2024-10-31T19:10:14.278Z"
   },
   {
    "duration": 656,
    "start_time": "2024-10-31T19:10:14.290Z"
   },
   {
    "duration": 25,
    "start_time": "2024-10-31T19:10:14.947Z"
   },
   {
    "duration": 9,
    "start_time": "2024-10-31T19:10:14.973Z"
   },
   {
    "duration": 10,
    "start_time": "2024-10-31T19:10:14.983Z"
   },
   {
    "duration": 48,
    "start_time": "2024-10-31T19:10:14.994Z"
   },
   {
    "duration": 108,
    "start_time": "2024-10-31T19:10:15.044Z"
   },
   {
    "duration": 26,
    "start_time": "2024-10-31T19:10:15.154Z"
   },
   {
    "duration": 37,
    "start_time": "2024-10-31T19:10:15.182Z"
   },
   {
    "duration": 28,
    "start_time": "2024-10-31T19:10:15.221Z"
   },
   {
    "duration": 1549,
    "start_time": "2024-10-31T19:10:15.250Z"
   },
   {
    "duration": 4,
    "start_time": "2024-10-31T19:10:16.801Z"
   },
   {
    "duration": 13,
    "start_time": "2024-10-31T19:10:16.806Z"
   },
   {
    "duration": 11,
    "start_time": "2024-10-31T19:10:53.019Z"
   },
   {
    "duration": 12,
    "start_time": "2024-10-31T19:10:55.411Z"
   },
   {
    "duration": 261,
    "start_time": "2024-10-31T19:11:28.132Z"
   },
   {
    "duration": 3268,
    "start_time": "2024-10-31T19:11:34.600Z"
   },
   {
    "duration": 1404,
    "start_time": "2024-10-31T19:11:37.871Z"
   },
   {
    "duration": 3,
    "start_time": "2024-10-31T19:11:39.277Z"
   },
   {
    "duration": 4,
    "start_time": "2024-10-31T19:11:39.282Z"
   },
   {
    "duration": 6,
    "start_time": "2024-10-31T19:11:39.288Z"
   },
   {
    "duration": 18,
    "start_time": "2024-10-31T19:11:39.296Z"
   },
   {
    "duration": 57,
    "start_time": "2024-10-31T19:11:39.315Z"
   },
   {
    "duration": 281,
    "start_time": "2024-10-31T19:11:39.373Z"
   },
   {
    "duration": 3,
    "start_time": "2024-10-31T19:11:39.656Z"
   },
   {
    "duration": 4,
    "start_time": "2024-10-31T19:11:39.662Z"
   },
   {
    "duration": 9,
    "start_time": "2024-10-31T19:11:39.668Z"
   },
   {
    "duration": 5,
    "start_time": "2024-10-31T19:11:39.679Z"
   },
   {
    "duration": 18,
    "start_time": "2024-10-31T19:11:39.685Z"
   },
   {
    "duration": 271,
    "start_time": "2024-10-31T19:11:39.705Z"
   },
   {
    "duration": 12,
    "start_time": "2024-10-31T19:11:39.978Z"
   },
   {
    "duration": 797,
    "start_time": "2024-10-31T19:11:39.992Z"
   },
   {
    "duration": 9,
    "start_time": "2024-10-31T19:11:40.791Z"
   },
   {
    "duration": 702,
    "start_time": "2024-10-31T19:11:40.801Z"
   },
   {
    "duration": 298,
    "start_time": "2024-10-31T19:11:41.505Z"
   },
   {
    "duration": 47,
    "start_time": "2024-10-31T19:11:41.805Z"
   },
   {
    "duration": 9,
    "start_time": "2024-10-31T19:11:41.854Z"
   },
   {
    "duration": 11,
    "start_time": "2024-10-31T19:11:41.865Z"
   },
   {
    "duration": 4,
    "start_time": "2024-10-31T19:11:41.877Z"
   },
   {
    "duration": 5,
    "start_time": "2024-10-31T19:11:41.882Z"
   },
   {
    "duration": 5,
    "start_time": "2024-10-31T19:11:41.888Z"
   },
   {
    "duration": 6,
    "start_time": "2024-10-31T19:11:41.894Z"
   },
   {
    "duration": 3512,
    "start_time": "2024-10-31T19:11:41.901Z"
   },
   {
    "duration": 3,
    "start_time": "2024-10-31T19:11:45.417Z"
   },
   {
    "duration": 35,
    "start_time": "2024-10-31T19:11:45.422Z"
   },
   {
    "duration": 3,
    "start_time": "2024-10-31T19:11:58.332Z"
   },
   {
    "duration": 3320,
    "start_time": "2024-10-31T19:12:11.140Z"
   },
   {
    "duration": 1413,
    "start_time": "2024-10-31T19:12:14.462Z"
   },
   {
    "duration": 3,
    "start_time": "2024-10-31T19:12:15.877Z"
   },
   {
    "duration": 67,
    "start_time": "2024-10-31T19:12:15.881Z"
   },
   {
    "duration": 27,
    "start_time": "2024-10-31T19:12:15.951Z"
   },
   {
    "duration": 10,
    "start_time": "2024-10-31T19:12:15.980Z"
   },
   {
    "duration": 69,
    "start_time": "2024-10-31T19:12:15.991Z"
   },
   {
    "duration": 306,
    "start_time": "2024-10-31T19:12:16.062Z"
   },
   {
    "duration": 3,
    "start_time": "2024-10-31T19:12:16.370Z"
   },
   {
    "duration": 34,
    "start_time": "2024-10-31T19:12:16.374Z"
   },
   {
    "duration": 20,
    "start_time": "2024-10-31T19:12:16.409Z"
   },
   {
    "duration": 12,
    "start_time": "2024-10-31T19:12:16.431Z"
   },
   {
    "duration": 11,
    "start_time": "2024-10-31T19:12:16.445Z"
   },
   {
    "duration": 257,
    "start_time": "2024-10-31T19:12:16.459Z"
   },
   {
    "duration": 11,
    "start_time": "2024-10-31T19:12:16.718Z"
   },
   {
    "duration": 779,
    "start_time": "2024-10-31T19:12:16.730Z"
   },
   {
    "duration": 10,
    "start_time": "2024-10-31T19:12:17.510Z"
   },
   {
    "duration": 730,
    "start_time": "2024-10-31T19:12:17.522Z"
   },
   {
    "duration": 298,
    "start_time": "2024-10-31T19:12:18.254Z"
   },
   {
    "duration": 39,
    "start_time": "2024-10-31T19:12:18.553Z"
   },
   {
    "duration": 26,
    "start_time": "2024-10-31T19:12:18.594Z"
   },
   {
    "duration": 88,
    "start_time": "2024-10-31T19:12:18.621Z"
   },
   {
    "duration": 24,
    "start_time": "2024-10-31T19:12:18.710Z"
   },
   {
    "duration": 6,
    "start_time": "2024-10-31T19:12:18.735Z"
   },
   {
    "duration": 5,
    "start_time": "2024-10-31T19:12:18.743Z"
   },
   {
    "duration": 14,
    "start_time": "2024-10-31T19:12:18.750Z"
   },
   {
    "duration": 8965,
    "start_time": "2024-10-31T19:12:18.766Z"
   },
   {
    "duration": 4,
    "start_time": "2024-10-31T19:12:27.733Z"
   },
   {
    "duration": 142,
    "start_time": "2024-10-31T19:12:27.751Z"
   },
   {
    "duration": 12,
    "start_time": "2024-10-31T19:12:39.311Z"
   },
   {
    "duration": 12,
    "start_time": "2024-10-31T19:14:53.877Z"
   },
   {
    "duration": 8,
    "start_time": "2024-10-31T19:15:00.242Z"
   },
   {
    "duration": 8824,
    "start_time": "2024-10-31T19:15:04.989Z"
   },
   {
    "duration": 14,
    "start_time": "2024-10-31T19:15:13.815Z"
   },
   {
    "duration": 3219,
    "start_time": "2024-10-31T19:15:20.201Z"
   },
   {
    "duration": 1458,
    "start_time": "2024-10-31T19:15:23.423Z"
   },
   {
    "duration": 3,
    "start_time": "2024-10-31T19:15:24.883Z"
   },
   {
    "duration": 12,
    "start_time": "2024-10-31T19:15:24.888Z"
   },
   {
    "duration": 6,
    "start_time": "2024-10-31T19:15:24.901Z"
   },
   {
    "duration": 11,
    "start_time": "2024-10-31T19:15:24.908Z"
   },
   {
    "duration": 59,
    "start_time": "2024-10-31T19:15:24.921Z"
   },
   {
    "duration": 294,
    "start_time": "2024-10-31T19:15:24.982Z"
   },
   {
    "duration": 3,
    "start_time": "2024-10-31T19:15:25.278Z"
   },
   {
    "duration": 18,
    "start_time": "2024-10-31T19:15:25.284Z"
   },
   {
    "duration": 16,
    "start_time": "2024-10-31T19:15:25.304Z"
   },
   {
    "duration": 9,
    "start_time": "2024-10-31T19:15:25.322Z"
   },
   {
    "duration": 10,
    "start_time": "2024-10-31T19:15:25.333Z"
   },
   {
    "duration": 266,
    "start_time": "2024-10-31T19:15:25.344Z"
   },
   {
    "duration": 12,
    "start_time": "2024-10-31T19:15:25.612Z"
   },
   {
    "duration": 795,
    "start_time": "2024-10-31T19:15:25.626Z"
   },
   {
    "duration": 10,
    "start_time": "2024-10-31T19:15:26.423Z"
   },
   {
    "duration": 676,
    "start_time": "2024-10-31T19:15:26.434Z"
   },
   {
    "duration": 15,
    "start_time": "2024-10-31T19:15:27.112Z"
   },
   {
    "duration": 32,
    "start_time": "2024-10-31T19:15:27.129Z"
   },
   {
    "duration": 6,
    "start_time": "2024-10-31T19:15:27.163Z"
   },
   {
    "duration": 6,
    "start_time": "2024-10-31T19:15:27.171Z"
   },
   {
    "duration": 9,
    "start_time": "2024-10-31T19:15:27.179Z"
   },
   {
    "duration": 5,
    "start_time": "2024-10-31T19:15:27.189Z"
   },
   {
    "duration": 10,
    "start_time": "2024-10-31T19:15:27.196Z"
   },
   {
    "duration": 11,
    "start_time": "2024-10-31T19:15:27.208Z"
   },
   {
    "duration": 2569,
    "start_time": "2024-10-31T19:15:27.220Z"
   },
   {
    "duration": 4,
    "start_time": "2024-10-31T19:15:29.794Z"
   },
   {
    "duration": 68,
    "start_time": "2024-10-31T19:15:29.799Z"
   },
   {
    "duration": 3255,
    "start_time": "2024-10-31T19:17:30.627Z"
   },
   {
    "duration": 1389,
    "start_time": "2024-10-31T19:17:33.886Z"
   },
   {
    "duration": 3,
    "start_time": "2024-10-31T19:17:35.276Z"
   },
   {
    "duration": 26,
    "start_time": "2024-10-31T19:17:35.282Z"
   },
   {
    "duration": 32,
    "start_time": "2024-10-31T19:17:35.310Z"
   },
   {
    "duration": 18,
    "start_time": "2024-10-31T19:17:35.344Z"
   },
   {
    "duration": 61,
    "start_time": "2024-10-31T19:17:35.364Z"
   },
   {
    "duration": 300,
    "start_time": "2024-10-31T19:17:35.427Z"
   },
   {
    "duration": 4,
    "start_time": "2024-10-31T19:17:35.729Z"
   },
   {
    "duration": 79,
    "start_time": "2024-10-31T19:17:35.737Z"
   },
   {
    "duration": 77,
    "start_time": "2024-10-31T19:17:35.818Z"
   },
   {
    "duration": 48,
    "start_time": "2024-10-31T19:17:35.897Z"
   },
   {
    "duration": 71,
    "start_time": "2024-10-31T19:17:35.946Z"
   },
   {
    "duration": 273,
    "start_time": "2024-10-31T19:17:36.019Z"
   },
   {
    "duration": 11,
    "start_time": "2024-10-31T19:17:36.293Z"
   },
   {
    "duration": 795,
    "start_time": "2024-10-31T19:17:36.306Z"
   },
   {
    "duration": 9,
    "start_time": "2024-10-31T19:17:37.103Z"
   },
   {
    "duration": 722,
    "start_time": "2024-10-31T19:17:37.114Z"
   },
   {
    "duration": 25,
    "start_time": "2024-10-31T19:17:37.837Z"
   },
   {
    "duration": 14,
    "start_time": "2024-10-31T19:17:37.864Z"
   },
   {
    "duration": 7,
    "start_time": "2024-10-31T19:17:37.880Z"
   },
   {
    "duration": 18,
    "start_time": "2024-10-31T19:17:37.889Z"
   },
   {
    "duration": 80,
    "start_time": "2024-10-31T19:17:37.908Z"
   },
   {
    "duration": 28,
    "start_time": "2024-10-31T19:17:37.989Z"
   },
   {
    "duration": 23,
    "start_time": "2024-10-31T19:17:38.019Z"
   },
   {
    "duration": 19,
    "start_time": "2024-10-31T19:17:38.043Z"
   },
   {
    "duration": 1444,
    "start_time": "2024-10-31T19:17:38.064Z"
   },
   {
    "duration": 4,
    "start_time": "2024-10-31T19:17:39.511Z"
   },
   {
    "duration": 26,
    "start_time": "2024-10-31T19:17:39.516Z"
   },
   {
    "duration": 3245,
    "start_time": "2024-10-31T19:17:57.486Z"
   },
   {
    "duration": 1436,
    "start_time": "2024-10-31T19:18:00.734Z"
   },
   {
    "duration": 4,
    "start_time": "2024-10-31T19:18:02.171Z"
   },
   {
    "duration": 11,
    "start_time": "2024-10-31T19:18:02.178Z"
   },
   {
    "duration": 60,
    "start_time": "2024-10-31T19:18:02.190Z"
   },
   {
    "duration": 8,
    "start_time": "2024-10-31T19:18:02.253Z"
   },
   {
    "duration": 70,
    "start_time": "2024-10-31T19:18:02.262Z"
   },
   {
    "duration": 295,
    "start_time": "2024-10-31T19:18:02.333Z"
   },
   {
    "duration": 3,
    "start_time": "2024-10-31T19:18:02.630Z"
   },
   {
    "duration": 88,
    "start_time": "2024-10-31T19:18:02.635Z"
   },
   {
    "duration": 23,
    "start_time": "2024-10-31T19:18:02.725Z"
   },
   {
    "duration": 17,
    "start_time": "2024-10-31T19:18:02.750Z"
   },
   {
    "duration": 5,
    "start_time": "2024-10-31T19:18:02.769Z"
   },
   {
    "duration": 259,
    "start_time": "2024-10-31T19:18:02.776Z"
   },
   {
    "duration": 21,
    "start_time": "2024-10-31T19:18:03.036Z"
   },
   {
    "duration": 778,
    "start_time": "2024-10-31T19:18:03.059Z"
   },
   {
    "duration": 14,
    "start_time": "2024-10-31T19:18:03.838Z"
   },
   {
    "duration": 774,
    "start_time": "2024-10-31T19:18:03.854Z"
   },
   {
    "duration": 23,
    "start_time": "2024-10-31T19:18:04.629Z"
   },
   {
    "duration": 78,
    "start_time": "2024-10-31T19:18:04.654Z"
   },
   {
    "duration": 20,
    "start_time": "2024-10-31T19:18:04.734Z"
   },
   {
    "duration": 13,
    "start_time": "2024-10-31T19:18:04.756Z"
   },
   {
    "duration": 39,
    "start_time": "2024-10-31T19:18:04.770Z"
   },
   {
    "duration": 7,
    "start_time": "2024-10-31T19:18:04.811Z"
   },
   {
    "duration": 14,
    "start_time": "2024-10-31T19:18:04.819Z"
   },
   {
    "duration": 8,
    "start_time": "2024-10-31T19:18:04.835Z"
   },
   {
    "duration": 2322,
    "start_time": "2024-10-31T19:18:04.845Z"
   },
   {
    "duration": 81,
    "start_time": "2024-10-31T19:18:07.172Z"
   },
   {
    "duration": 16,
    "start_time": "2024-10-31T19:18:07.255Z"
   },
   {
    "duration": 6,
    "start_time": "2024-10-31T19:19:15.541Z"
   },
   {
    "duration": 5,
    "start_time": "2024-10-31T19:20:59.154Z"
   },
   {
    "duration": 4,
    "start_time": "2024-10-31T19:21:41.092Z"
   },
   {
    "duration": 3,
    "start_time": "2024-10-31T19:21:43.633Z"
   },
   {
    "duration": 1417,
    "start_time": "2024-10-31T19:21:45.537Z"
   },
   {
    "duration": 11,
    "start_time": "2024-10-31T19:21:50.715Z"
   },
   {
    "duration": 3240,
    "start_time": "2024-10-31T19:22:00.516Z"
   },
   {
    "duration": 1431,
    "start_time": "2024-10-31T19:22:03.759Z"
   },
   {
    "duration": 3,
    "start_time": "2024-10-31T19:22:05.192Z"
   },
   {
    "duration": 44,
    "start_time": "2024-10-31T19:22:05.197Z"
   },
   {
    "duration": 10,
    "start_time": "2024-10-31T19:22:05.245Z"
   },
   {
    "duration": 11,
    "start_time": "2024-10-31T19:22:05.257Z"
   },
   {
    "duration": 56,
    "start_time": "2024-10-31T19:22:05.270Z"
   },
   {
    "duration": 277,
    "start_time": "2024-10-31T19:22:05.328Z"
   },
   {
    "duration": 3,
    "start_time": "2024-10-31T19:22:05.607Z"
   },
   {
    "duration": 18,
    "start_time": "2024-10-31T19:22:05.612Z"
   },
   {
    "duration": 13,
    "start_time": "2024-10-31T19:22:05.632Z"
   },
   {
    "duration": 7,
    "start_time": "2024-10-31T19:22:05.647Z"
   },
   {
    "duration": 29,
    "start_time": "2024-10-31T19:22:05.656Z"
   },
   {
    "duration": 298,
    "start_time": "2024-10-31T19:22:05.688Z"
   },
   {
    "duration": 11,
    "start_time": "2024-10-31T19:22:05.988Z"
   },
   {
    "duration": 828,
    "start_time": "2024-10-31T19:22:06.001Z"
   },
   {
    "duration": 9,
    "start_time": "2024-10-31T19:22:06.831Z"
   },
   {
    "duration": 675,
    "start_time": "2024-10-31T19:22:06.841Z"
   },
   {
    "duration": 13,
    "start_time": "2024-10-31T19:22:07.518Z"
   },
   {
    "duration": 23,
    "start_time": "2024-10-31T19:22:07.532Z"
   },
   {
    "duration": 6,
    "start_time": "2024-10-31T19:22:07.556Z"
   },
   {
    "duration": 12,
    "start_time": "2024-10-31T19:22:07.564Z"
   },
   {
    "duration": 10,
    "start_time": "2024-10-31T19:22:07.578Z"
   },
   {
    "duration": 27,
    "start_time": "2024-10-31T19:22:07.590Z"
   },
   {
    "duration": 27,
    "start_time": "2024-10-31T19:22:07.619Z"
   },
   {
    "duration": 8,
    "start_time": "2024-10-31T19:22:07.648Z"
   },
   {
    "duration": 1472,
    "start_time": "2024-10-31T19:22:07.657Z"
   },
   {
    "duration": 5,
    "start_time": "2024-10-31T19:22:09.131Z"
   },
   {
    "duration": 71,
    "start_time": "2024-10-31T19:22:09.138Z"
   },
   {
    "duration": 55,
    "start_time": "2024-10-31T19:25:52.772Z"
   },
   {
    "duration": 32,
    "start_time": "2024-10-31T19:26:07.397Z"
   },
   {
    "duration": 3265,
    "start_time": "2024-10-31T19:32:08.020Z"
   },
   {
    "duration": 1409,
    "start_time": "2024-10-31T19:32:11.287Z"
   },
   {
    "duration": 2,
    "start_time": "2024-10-31T19:32:12.698Z"
   },
   {
    "duration": 73,
    "start_time": "2024-10-31T19:32:12.702Z"
   },
   {
    "duration": 24,
    "start_time": "2024-10-31T19:32:12.776Z"
   },
   {
    "duration": 9,
    "start_time": "2024-10-31T19:32:12.802Z"
   },
   {
    "duration": 62,
    "start_time": "2024-10-31T19:32:12.813Z"
   },
   {
    "duration": 295,
    "start_time": "2024-10-31T19:32:12.877Z"
   },
   {
    "duration": 3,
    "start_time": "2024-10-31T19:32:13.173Z"
   },
   {
    "duration": 46,
    "start_time": "2024-10-31T19:32:13.179Z"
   },
   {
    "duration": 15,
    "start_time": "2024-10-31T19:32:13.227Z"
   },
   {
    "duration": 4,
    "start_time": "2024-10-31T19:32:13.244Z"
   },
   {
    "duration": 13,
    "start_time": "2024-10-31T19:32:13.249Z"
   },
   {
    "duration": 258,
    "start_time": "2024-10-31T19:32:13.263Z"
   },
   {
    "duration": 11,
    "start_time": "2024-10-31T19:32:13.523Z"
   },
   {
    "duration": 825,
    "start_time": "2024-10-31T19:32:13.536Z"
   },
   {
    "duration": 13,
    "start_time": "2024-10-31T19:32:14.363Z"
   },
   {
    "duration": 741,
    "start_time": "2024-10-31T19:32:14.378Z"
   },
   {
    "duration": 13,
    "start_time": "2024-10-31T19:32:15.121Z"
   },
   {
    "duration": 87,
    "start_time": "2024-10-31T19:32:15.136Z"
   },
   {
    "duration": 55,
    "start_time": "2024-10-31T19:32:15.225Z"
   },
   {
    "duration": 21,
    "start_time": "2024-10-31T19:32:15.282Z"
   },
   {
    "duration": 67,
    "start_time": "2024-10-31T19:32:15.304Z"
   },
   {
    "duration": 24,
    "start_time": "2024-10-31T19:32:15.373Z"
   },
   {
    "duration": 71,
    "start_time": "2024-10-31T19:32:15.398Z"
   },
   {
    "duration": 19,
    "start_time": "2024-10-31T19:32:15.471Z"
   },
   {
    "duration": 3235,
    "start_time": "2024-10-31T19:45:05.791Z"
   },
   {
    "duration": 1465,
    "start_time": "2024-10-31T19:45:09.029Z"
   },
   {
    "duration": 3,
    "start_time": "2024-10-31T19:45:10.496Z"
   },
   {
    "duration": 5,
    "start_time": "2024-10-31T19:45:10.501Z"
   },
   {
    "duration": 7,
    "start_time": "2024-10-31T19:45:10.508Z"
   },
   {
    "duration": 8,
    "start_time": "2024-10-31T19:45:10.517Z"
   },
   {
    "duration": 56,
    "start_time": "2024-10-31T19:45:10.527Z"
   },
   {
    "duration": 294,
    "start_time": "2024-10-31T19:45:10.584Z"
   },
   {
    "duration": 3,
    "start_time": "2024-10-31T19:45:10.880Z"
   },
   {
    "duration": 23,
    "start_time": "2024-10-31T19:45:10.885Z"
   },
   {
    "duration": 10,
    "start_time": "2024-10-31T19:45:10.910Z"
   },
   {
    "duration": 5,
    "start_time": "2024-10-31T19:45:10.922Z"
   },
   {
    "duration": 5,
    "start_time": "2024-10-31T19:45:10.929Z"
   },
   {
    "duration": 259,
    "start_time": "2024-10-31T19:45:10.938Z"
   },
   {
    "duration": 12,
    "start_time": "2024-10-31T19:45:11.199Z"
   },
   {
    "duration": 804,
    "start_time": "2024-10-31T19:45:11.213Z"
   },
   {
    "duration": 13,
    "start_time": "2024-10-31T19:45:12.019Z"
   },
   {
    "duration": 684,
    "start_time": "2024-10-31T19:45:12.035Z"
   },
   {
    "duration": 13,
    "start_time": "2024-10-31T19:45:12.721Z"
   },
   {
    "duration": 71,
    "start_time": "2024-10-31T19:45:12.736Z"
   },
   {
    "duration": 5,
    "start_time": "2024-10-31T19:45:12.809Z"
   },
   {
    "duration": 6,
    "start_time": "2024-10-31T19:45:12.815Z"
   },
   {
    "duration": 28,
    "start_time": "2024-10-31T19:45:12.823Z"
   },
   {
    "duration": 9,
    "start_time": "2024-10-31T19:45:12.853Z"
   },
   {
    "duration": 5,
    "start_time": "2024-10-31T19:45:12.864Z"
   },
   {
    "duration": 7,
    "start_time": "2024-10-31T19:45:12.870Z"
   },
   {
    "duration": 147,
    "start_time": "2024-10-31T19:45:12.879Z"
   },
   {
    "duration": 0,
    "start_time": "2024-10-31T19:45:13.027Z"
   },
   {
    "duration": 0,
    "start_time": "2024-10-31T19:45:13.029Z"
   },
   {
    "duration": 4,
    "start_time": "2024-10-31T19:46:30.370Z"
   },
   {
    "duration": 3267,
    "start_time": "2024-10-31T19:46:36.395Z"
   },
   {
    "duration": 1403,
    "start_time": "2024-10-31T19:46:39.664Z"
   },
   {
    "duration": 2,
    "start_time": "2024-10-31T19:46:41.070Z"
   },
   {
    "duration": 19,
    "start_time": "2024-10-31T19:46:41.074Z"
   },
   {
    "duration": 20,
    "start_time": "2024-10-31T19:46:41.096Z"
   },
   {
    "duration": 24,
    "start_time": "2024-10-31T19:46:41.118Z"
   },
   {
    "duration": 61,
    "start_time": "2024-10-31T19:46:41.144Z"
   },
   {
    "duration": 283,
    "start_time": "2024-10-31T19:46:41.207Z"
   },
   {
    "duration": 3,
    "start_time": "2024-10-31T19:46:41.491Z"
   },
   {
    "duration": 12,
    "start_time": "2024-10-31T19:46:41.496Z"
   },
   {
    "duration": 9,
    "start_time": "2024-10-31T19:46:41.509Z"
   },
   {
    "duration": 11,
    "start_time": "2024-10-31T19:46:41.519Z"
   },
   {
    "duration": 5,
    "start_time": "2024-10-31T19:46:41.531Z"
   },
   {
    "duration": 269,
    "start_time": "2024-10-31T19:46:41.539Z"
   },
   {
    "duration": 12,
    "start_time": "2024-10-31T19:46:41.809Z"
   },
   {
    "duration": 754,
    "start_time": "2024-10-31T19:46:41.822Z"
   },
   {
    "duration": 9,
    "start_time": "2024-10-31T19:46:42.578Z"
   },
   {
    "duration": 628,
    "start_time": "2024-10-31T19:46:42.588Z"
   },
   {
    "duration": 13,
    "start_time": "2024-10-31T19:46:43.217Z"
   },
   {
    "duration": 49,
    "start_time": "2024-10-31T19:46:43.232Z"
   },
   {
    "duration": 5,
    "start_time": "2024-10-31T19:46:43.283Z"
   },
   {
    "duration": 7,
    "start_time": "2024-10-31T19:46:43.289Z"
   },
   {
    "duration": 8,
    "start_time": "2024-10-31T19:46:43.298Z"
   },
   {
    "duration": 3,
    "start_time": "2024-10-31T19:46:43.308Z"
   },
   {
    "duration": 5,
    "start_time": "2024-10-31T19:46:43.313Z"
   },
   {
    "duration": 7,
    "start_time": "2024-10-31T19:46:43.320Z"
   },
   {
    "duration": 125,
    "start_time": "2024-10-31T19:46:43.329Z"
   },
   {
    "duration": 0,
    "start_time": "2024-10-31T19:46:43.456Z"
   },
   {
    "duration": 0,
    "start_time": "2024-10-31T19:46:43.457Z"
   },
   {
    "duration": 3126,
    "start_time": "2024-10-31T19:48:20.564Z"
   },
   {
    "duration": 1382,
    "start_time": "2024-10-31T19:48:23.693Z"
   },
   {
    "duration": 3,
    "start_time": "2024-10-31T19:48:25.077Z"
   },
   {
    "duration": 12,
    "start_time": "2024-10-31T19:48:25.082Z"
   },
   {
    "duration": 16,
    "start_time": "2024-10-31T19:48:25.097Z"
   },
   {
    "duration": 10,
    "start_time": "2024-10-31T19:48:25.116Z"
   },
   {
    "duration": 57,
    "start_time": "2024-10-31T19:48:25.129Z"
   },
   {
    "duration": 285,
    "start_time": "2024-10-31T19:48:25.188Z"
   },
   {
    "duration": 3,
    "start_time": "2024-10-31T19:48:25.475Z"
   },
   {
    "duration": 16,
    "start_time": "2024-10-31T19:48:25.479Z"
   },
   {
    "duration": 25,
    "start_time": "2024-10-31T19:48:25.496Z"
   },
   {
    "duration": 5,
    "start_time": "2024-10-31T19:48:25.522Z"
   },
   {
    "duration": 10,
    "start_time": "2024-10-31T19:48:25.528Z"
   },
   {
    "duration": 249,
    "start_time": "2024-10-31T19:48:25.540Z"
   },
   {
    "duration": 11,
    "start_time": "2024-10-31T19:48:25.790Z"
   },
   {
    "duration": 754,
    "start_time": "2024-10-31T19:48:25.803Z"
   },
   {
    "duration": 9,
    "start_time": "2024-10-31T19:48:26.558Z"
   },
   {
    "duration": 646,
    "start_time": "2024-10-31T19:48:26.569Z"
   },
   {
    "duration": 13,
    "start_time": "2024-10-31T19:48:27.216Z"
   },
   {
    "duration": 27,
    "start_time": "2024-10-31T19:48:27.231Z"
   },
   {
    "duration": 5,
    "start_time": "2024-10-31T19:48:27.260Z"
   },
   {
    "duration": 11,
    "start_time": "2024-10-31T19:48:27.266Z"
   },
   {
    "duration": 6,
    "start_time": "2024-10-31T19:48:27.279Z"
   },
   {
    "duration": 3,
    "start_time": "2024-10-31T19:48:27.287Z"
   },
   {
    "duration": 5,
    "start_time": "2024-10-31T19:48:27.292Z"
   },
   {
    "duration": 5,
    "start_time": "2024-10-31T19:48:27.298Z"
   },
   {
    "duration": 12479,
    "start_time": "2024-10-31T19:48:27.305Z"
   },
   {
    "duration": 4,
    "start_time": "2024-10-31T19:48:39.787Z"
   },
   {
    "duration": 35,
    "start_time": "2024-10-31T19:48:39.793Z"
   },
   {
    "duration": 3153,
    "start_time": "2024-10-31T19:49:51.622Z"
   },
   {
    "duration": 1411,
    "start_time": "2024-10-31T19:49:54.777Z"
   },
   {
    "duration": 3,
    "start_time": "2024-10-31T19:49:56.190Z"
   },
   {
    "duration": 14,
    "start_time": "2024-10-31T19:49:56.194Z"
   },
   {
    "duration": 17,
    "start_time": "2024-10-31T19:49:56.209Z"
   },
   {
    "duration": 5,
    "start_time": "2024-10-31T19:49:56.228Z"
   },
   {
    "duration": 58,
    "start_time": "2024-10-31T19:49:56.234Z"
   },
   {
    "duration": 282,
    "start_time": "2024-10-31T19:49:56.294Z"
   },
   {
    "duration": 4,
    "start_time": "2024-10-31T19:49:56.577Z"
   },
   {
    "duration": 10,
    "start_time": "2024-10-31T19:49:56.583Z"
   },
   {
    "duration": 10,
    "start_time": "2024-10-31T19:49:56.595Z"
   },
   {
    "duration": 4,
    "start_time": "2024-10-31T19:49:56.607Z"
   },
   {
    "duration": 5,
    "start_time": "2024-10-31T19:49:56.612Z"
   },
   {
    "duration": 302,
    "start_time": "2024-10-31T19:49:56.618Z"
   },
   {
    "duration": 11,
    "start_time": "2024-10-31T19:49:56.921Z"
   },
   {
    "duration": 768,
    "start_time": "2024-10-31T19:49:56.933Z"
   },
   {
    "duration": 10,
    "start_time": "2024-10-31T19:49:57.702Z"
   },
   {
    "duration": 681,
    "start_time": "2024-10-31T19:49:57.713Z"
   },
   {
    "duration": 12,
    "start_time": "2024-10-31T19:49:58.396Z"
   },
   {
    "duration": 7,
    "start_time": "2024-10-31T19:49:58.410Z"
   },
   {
    "duration": 5,
    "start_time": "2024-10-31T19:49:58.419Z"
   },
   {
    "duration": 27,
    "start_time": "2024-10-31T19:49:58.425Z"
   },
   {
    "duration": 69,
    "start_time": "2024-10-31T19:49:58.454Z"
   },
   {
    "duration": 16,
    "start_time": "2024-10-31T19:49:58.525Z"
   },
   {
    "duration": 13,
    "start_time": "2024-10-31T19:49:58.543Z"
   },
   {
    "duration": 7,
    "start_time": "2024-10-31T19:49:58.557Z"
   },
   {
    "duration": 12338,
    "start_time": "2024-10-31T19:49:58.566Z"
   },
   {
    "duration": 4,
    "start_time": "2024-10-31T19:50:10.908Z"
   },
   {
    "duration": 12,
    "start_time": "2024-10-31T19:50:10.913Z"
   },
   {
    "duration": 34,
    "start_time": "2024-10-31T19:50:57.951Z"
   },
   {
    "duration": 3218,
    "start_time": "2024-10-31T19:51:59.912Z"
   },
   {
    "duration": 1459,
    "start_time": "2024-10-31T19:52:03.133Z"
   },
   {
    "duration": 3,
    "start_time": "2024-10-31T19:52:04.593Z"
   },
   {
    "duration": 11,
    "start_time": "2024-10-31T19:52:04.598Z"
   },
   {
    "duration": 7,
    "start_time": "2024-10-31T19:52:04.612Z"
   },
   {
    "duration": 76,
    "start_time": "2024-10-31T19:52:04.621Z"
   },
   {
    "duration": 62,
    "start_time": "2024-10-31T19:52:04.699Z"
   },
   {
    "duration": 303,
    "start_time": "2024-10-31T19:52:04.763Z"
   },
   {
    "duration": 3,
    "start_time": "2024-10-31T19:52:05.067Z"
   },
   {
    "duration": 8,
    "start_time": "2024-10-31T19:52:05.071Z"
   },
   {
    "duration": 10,
    "start_time": "2024-10-31T19:52:05.081Z"
   },
   {
    "duration": 23,
    "start_time": "2024-10-31T19:52:05.092Z"
   },
   {
    "duration": 9,
    "start_time": "2024-10-31T19:52:05.117Z"
   },
   {
    "duration": 272,
    "start_time": "2024-10-31T19:52:05.130Z"
   },
   {
    "duration": 13,
    "start_time": "2024-10-31T19:52:05.404Z"
   },
   {
    "duration": 786,
    "start_time": "2024-10-31T19:52:05.419Z"
   },
   {
    "duration": 9,
    "start_time": "2024-10-31T19:52:06.206Z"
   },
   {
    "duration": 703,
    "start_time": "2024-10-31T19:52:06.217Z"
   },
   {
    "duration": 13,
    "start_time": "2024-10-31T19:52:06.922Z"
   },
   {
    "duration": 20,
    "start_time": "2024-10-31T19:52:06.937Z"
   },
   {
    "duration": 5,
    "start_time": "2024-10-31T19:52:06.959Z"
   },
   {
    "duration": 14,
    "start_time": "2024-10-31T19:52:06.965Z"
   },
   {
    "duration": 56,
    "start_time": "2024-10-31T19:52:06.981Z"
   },
   {
    "duration": 159,
    "start_time": "2024-10-31T19:52:07.039Z"
   },
   {
    "duration": 0,
    "start_time": "2024-10-31T19:52:07.200Z"
   },
   {
    "duration": 0,
    "start_time": "2024-10-31T19:52:07.201Z"
   },
   {
    "duration": 0,
    "start_time": "2024-10-31T19:52:07.202Z"
   },
   {
    "duration": 0,
    "start_time": "2024-10-31T19:52:07.204Z"
   },
   {
    "duration": 0,
    "start_time": "2024-10-31T19:52:07.204Z"
   },
   {
    "duration": 0,
    "start_time": "2024-10-31T19:52:07.206Z"
   },
   {
    "duration": 3134,
    "start_time": "2024-10-31T19:52:32.272Z"
   },
   {
    "duration": 1379,
    "start_time": "2024-10-31T19:52:35.408Z"
   },
   {
    "duration": 3,
    "start_time": "2024-10-31T19:52:36.789Z"
   },
   {
    "duration": 34,
    "start_time": "2024-10-31T19:52:36.794Z"
   },
   {
    "duration": 24,
    "start_time": "2024-10-31T19:52:36.831Z"
   },
   {
    "duration": 14,
    "start_time": "2024-10-31T19:52:36.856Z"
   },
   {
    "duration": 58,
    "start_time": "2024-10-31T19:52:36.872Z"
   },
   {
    "duration": 287,
    "start_time": "2024-10-31T19:52:36.932Z"
   },
   {
    "duration": 3,
    "start_time": "2024-10-31T19:52:37.221Z"
   },
   {
    "duration": 43,
    "start_time": "2024-10-31T19:52:37.226Z"
   },
   {
    "duration": 11,
    "start_time": "2024-10-31T19:52:37.271Z"
   },
   {
    "duration": 5,
    "start_time": "2024-10-31T19:52:37.283Z"
   },
   {
    "duration": 31,
    "start_time": "2024-10-31T19:52:37.290Z"
   },
   {
    "duration": 254,
    "start_time": "2024-10-31T19:52:37.325Z"
   },
   {
    "duration": 12,
    "start_time": "2024-10-31T19:52:37.581Z"
   },
   {
    "duration": 810,
    "start_time": "2024-10-31T19:52:37.595Z"
   },
   {
    "duration": 9,
    "start_time": "2024-10-31T19:52:38.406Z"
   },
   {
    "duration": 749,
    "start_time": "2024-10-31T19:52:38.417Z"
   },
   {
    "duration": 14,
    "start_time": "2024-10-31T19:52:39.167Z"
   },
   {
    "duration": 8,
    "start_time": "2024-10-31T19:52:39.182Z"
   },
   {
    "duration": 8,
    "start_time": "2024-10-31T19:52:39.191Z"
   },
   {
    "duration": 66,
    "start_time": "2024-10-31T19:52:39.201Z"
   },
   {
    "duration": 18,
    "start_time": "2024-10-31T19:52:39.269Z"
   },
   {
    "duration": 18,
    "start_time": "2024-10-31T19:52:39.289Z"
   },
   {
    "duration": 0,
    "start_time": "2024-10-31T19:52:39.309Z"
   },
   {
    "duration": 0,
    "start_time": "2024-10-31T19:52:39.311Z"
   },
   {
    "duration": 0,
    "start_time": "2024-10-31T19:52:39.313Z"
   },
   {
    "duration": 0,
    "start_time": "2024-10-31T19:52:39.314Z"
   },
   {
    "duration": 0,
    "start_time": "2024-10-31T19:52:39.316Z"
   },
   {
    "duration": 0,
    "start_time": "2024-10-31T19:52:39.317Z"
   },
   {
    "duration": 3177,
    "start_time": "2024-10-31T19:53:03.788Z"
   },
   {
    "duration": 1420,
    "start_time": "2024-10-31T19:53:06.967Z"
   },
   {
    "duration": 3,
    "start_time": "2024-10-31T19:53:08.389Z"
   },
   {
    "duration": 15,
    "start_time": "2024-10-31T19:53:08.393Z"
   },
   {
    "duration": 15,
    "start_time": "2024-10-31T19:53:08.411Z"
   },
   {
    "duration": 21,
    "start_time": "2024-10-31T19:53:08.428Z"
   },
   {
    "duration": 92,
    "start_time": "2024-10-31T19:53:08.451Z"
   },
   {
    "duration": 293,
    "start_time": "2024-10-31T19:53:08.545Z"
   },
   {
    "duration": 4,
    "start_time": "2024-10-31T19:53:08.839Z"
   },
   {
    "duration": 26,
    "start_time": "2024-10-31T19:53:08.844Z"
   },
   {
    "duration": 34,
    "start_time": "2024-10-31T19:53:08.872Z"
   },
   {
    "duration": 23,
    "start_time": "2024-10-31T19:53:08.907Z"
   },
   {
    "duration": 16,
    "start_time": "2024-10-31T19:53:08.932Z"
   },
   {
    "duration": 251,
    "start_time": "2024-10-31T19:53:08.951Z"
   },
   {
    "duration": 12,
    "start_time": "2024-10-31T19:53:09.204Z"
   },
   {
    "duration": 815,
    "start_time": "2024-10-31T19:53:09.218Z"
   },
   {
    "duration": 11,
    "start_time": "2024-10-31T19:53:10.034Z"
   },
   {
    "duration": 669,
    "start_time": "2024-10-31T19:53:10.047Z"
   },
   {
    "duration": 13,
    "start_time": "2024-10-31T19:53:10.718Z"
   },
   {
    "duration": 20,
    "start_time": "2024-10-31T19:53:10.733Z"
   },
   {
    "duration": 65,
    "start_time": "2024-10-31T19:53:10.754Z"
   },
   {
    "duration": 12,
    "start_time": "2024-10-31T19:53:10.820Z"
   },
   {
    "duration": 6,
    "start_time": "2024-10-31T19:53:10.834Z"
   },
   {
    "duration": 11,
    "start_time": "2024-10-31T19:53:10.841Z"
   },
   {
    "duration": 5,
    "start_time": "2024-10-31T19:53:10.854Z"
   },
   {
    "duration": 4,
    "start_time": "2024-10-31T19:53:10.860Z"
   },
   {
    "duration": 12222,
    "start_time": "2024-10-31T19:53:10.866Z"
   },
   {
    "duration": 5,
    "start_time": "2024-10-31T19:53:23.090Z"
   },
   {
    "duration": 43,
    "start_time": "2024-10-31T19:53:23.097Z"
   },
   {
    "duration": 19,
    "start_time": "2024-10-31T19:53:23.143Z"
   },
   {
    "duration": 3255,
    "start_time": "2024-10-31T19:54:00.388Z"
   },
   {
    "duration": 1585,
    "start_time": "2024-10-31T19:54:03.645Z"
   },
   {
    "duration": 3,
    "start_time": "2024-10-31T19:54:05.232Z"
   },
   {
    "duration": 44,
    "start_time": "2024-10-31T19:54:05.236Z"
   },
   {
    "duration": 34,
    "start_time": "2024-10-31T19:54:05.282Z"
   },
   {
    "duration": 18,
    "start_time": "2024-10-31T19:54:05.317Z"
   },
   {
    "duration": 57,
    "start_time": "2024-10-31T19:54:05.336Z"
   },
   {
    "duration": 297,
    "start_time": "2024-10-31T19:54:05.395Z"
   },
   {
    "duration": 4,
    "start_time": "2024-10-31T19:54:05.693Z"
   },
   {
    "duration": 24,
    "start_time": "2024-10-31T19:54:05.698Z"
   },
   {
    "duration": 18,
    "start_time": "2024-10-31T19:54:05.724Z"
   },
   {
    "duration": 15,
    "start_time": "2024-10-31T19:54:05.743Z"
   },
   {
    "duration": 16,
    "start_time": "2024-10-31T19:54:05.761Z"
   },
   {
    "duration": 279,
    "start_time": "2024-10-31T19:54:05.780Z"
   },
   {
    "duration": 14,
    "start_time": "2024-10-31T19:54:06.061Z"
   },
   {
    "duration": 804,
    "start_time": "2024-10-31T19:54:06.077Z"
   },
   {
    "duration": 13,
    "start_time": "2024-10-31T19:54:06.883Z"
   },
   {
    "duration": 756,
    "start_time": "2024-10-31T19:54:06.898Z"
   },
   {
    "duration": 20,
    "start_time": "2024-10-31T19:54:07.656Z"
   },
   {
    "duration": 8,
    "start_time": "2024-10-31T19:54:07.678Z"
   },
   {
    "duration": 24,
    "start_time": "2024-10-31T19:54:07.687Z"
   },
   {
    "duration": 13,
    "start_time": "2024-10-31T19:54:07.713Z"
   },
   {
    "duration": 15,
    "start_time": "2024-10-31T19:54:07.727Z"
   },
   {
    "duration": 6,
    "start_time": "2024-10-31T19:54:07.744Z"
   },
   {
    "duration": 13,
    "start_time": "2024-10-31T19:54:07.751Z"
   },
   {
    "duration": 17,
    "start_time": "2024-10-31T19:54:07.766Z"
   },
   {
    "duration": 12791,
    "start_time": "2024-10-31T19:54:07.785Z"
   },
   {
    "duration": 4,
    "start_time": "2024-10-31T19:54:20.577Z"
   },
   {
    "duration": 54,
    "start_time": "2024-10-31T19:54:20.582Z"
   },
   {
    "duration": 9,
    "start_time": "2024-10-31T19:54:20.638Z"
   },
   {
    "duration": 3161,
    "start_time": "2024-10-31T19:56:01.012Z"
   },
   {
    "duration": 1409,
    "start_time": "2024-10-31T19:56:04.176Z"
   },
   {
    "duration": 3,
    "start_time": "2024-10-31T19:56:05.586Z"
   },
   {
    "duration": 22,
    "start_time": "2024-10-31T19:56:05.591Z"
   },
   {
    "duration": 12,
    "start_time": "2024-10-31T19:56:05.614Z"
   },
   {
    "duration": 17,
    "start_time": "2024-10-31T19:56:05.628Z"
   },
   {
    "duration": 62,
    "start_time": "2024-10-31T19:56:05.647Z"
   },
   {
    "duration": 319,
    "start_time": "2024-10-31T19:56:05.711Z"
   },
   {
    "duration": 3,
    "start_time": "2024-10-31T19:56:06.032Z"
   },
   {
    "duration": 17,
    "start_time": "2024-10-31T19:56:06.037Z"
   },
   {
    "duration": 32,
    "start_time": "2024-10-31T19:56:06.056Z"
   },
   {
    "duration": 30,
    "start_time": "2024-10-31T19:56:06.090Z"
   },
   {
    "duration": 95,
    "start_time": "2024-10-31T19:56:06.122Z"
   },
   {
    "duration": 267,
    "start_time": "2024-10-31T19:56:06.219Z"
   },
   {
    "duration": 13,
    "start_time": "2024-10-31T19:56:06.488Z"
   },
   {
    "duration": 811,
    "start_time": "2024-10-31T19:56:06.502Z"
   },
   {
    "duration": 15,
    "start_time": "2024-10-31T19:56:07.315Z"
   },
   {
    "duration": 703,
    "start_time": "2024-10-31T19:56:07.332Z"
   },
   {
    "duration": 39,
    "start_time": "2024-10-31T19:56:08.037Z"
   },
   {
    "duration": 8,
    "start_time": "2024-10-31T19:56:08.077Z"
   },
   {
    "duration": 21,
    "start_time": "2024-10-31T19:56:08.087Z"
   },
   {
    "duration": 14,
    "start_time": "2024-10-31T19:56:08.110Z"
   },
   {
    "duration": 83,
    "start_time": "2024-10-31T19:56:08.126Z"
   },
   {
    "duration": 18,
    "start_time": "2024-10-31T19:56:08.211Z"
   },
   {
    "duration": 8,
    "start_time": "2024-10-31T19:56:08.231Z"
   },
   {
    "duration": 12,
    "start_time": "2024-10-31T19:56:08.241Z"
   },
   {
    "duration": 845,
    "start_time": "2024-10-31T19:56:08.256Z"
   },
   {
    "duration": 0,
    "start_time": "2024-10-31T19:56:09.103Z"
   },
   {
    "duration": 0,
    "start_time": "2024-10-31T19:56:09.105Z"
   },
   {
    "duration": 0,
    "start_time": "2024-10-31T19:56:09.106Z"
   },
   {
    "duration": 3206,
    "start_time": "2024-10-31T19:56:51.204Z"
   },
   {
    "duration": 1373,
    "start_time": "2024-10-31T19:56:54.413Z"
   },
   {
    "duration": 3,
    "start_time": "2024-10-31T19:56:55.788Z"
   },
   {
    "duration": 12,
    "start_time": "2024-10-31T19:56:55.793Z"
   },
   {
    "duration": 5,
    "start_time": "2024-10-31T19:56:55.807Z"
   },
   {
    "duration": 6,
    "start_time": "2024-10-31T19:56:55.813Z"
   },
   {
    "duration": 54,
    "start_time": "2024-10-31T19:56:55.820Z"
   },
   {
    "duration": 331,
    "start_time": "2024-10-31T19:56:55.876Z"
   },
   {
    "duration": 3,
    "start_time": "2024-10-31T19:56:56.209Z"
   },
   {
    "duration": 10,
    "start_time": "2024-10-31T19:56:56.214Z"
   },
   {
    "duration": 10,
    "start_time": "2024-10-31T19:56:56.226Z"
   },
   {
    "duration": 5,
    "start_time": "2024-10-31T19:56:56.237Z"
   },
   {
    "duration": 5,
    "start_time": "2024-10-31T19:56:56.243Z"
   },
   {
    "duration": 245,
    "start_time": "2024-10-31T19:56:56.250Z"
   },
   {
    "duration": 10,
    "start_time": "2024-10-31T19:56:56.497Z"
   },
   {
    "duration": 715,
    "start_time": "2024-10-31T19:56:56.509Z"
   },
   {
    "duration": 9,
    "start_time": "2024-10-31T19:56:57.226Z"
   },
   {
    "duration": 706,
    "start_time": "2024-10-31T19:56:57.237Z"
   },
   {
    "duration": 17,
    "start_time": "2024-10-31T19:56:57.944Z"
   },
   {
    "duration": 21,
    "start_time": "2024-10-31T19:56:57.963Z"
   },
   {
    "duration": 5,
    "start_time": "2024-10-31T19:56:57.985Z"
   },
   {
    "duration": 6,
    "start_time": "2024-10-31T19:56:57.992Z"
   },
   {
    "duration": 14,
    "start_time": "2024-10-31T19:56:58.000Z"
   },
   {
    "duration": 3,
    "start_time": "2024-10-31T19:56:58.016Z"
   },
   {
    "duration": 11,
    "start_time": "2024-10-31T19:56:58.021Z"
   },
   {
    "duration": 10,
    "start_time": "2024-10-31T19:56:58.033Z"
   },
   {
    "duration": 11946,
    "start_time": "2024-10-31T19:56:58.045Z"
   },
   {
    "duration": 4,
    "start_time": "2024-10-31T19:57:09.994Z"
   },
   {
    "duration": 75,
    "start_time": "2024-10-31T19:57:10.000Z"
   },
   {
    "duration": 12,
    "start_time": "2024-10-31T19:57:10.077Z"
   },
   {
    "duration": 6630,
    "start_time": "2024-11-01T17:32:42.590Z"
   },
   {
    "duration": 1560,
    "start_time": "2024-11-01T17:32:49.222Z"
   },
   {
    "duration": 2,
    "start_time": "2024-11-01T17:32:50.784Z"
   },
   {
    "duration": 40,
    "start_time": "2024-11-01T17:32:50.788Z"
   },
   {
    "duration": 7,
    "start_time": "2024-11-01T17:32:50.829Z"
   },
   {
    "duration": 6,
    "start_time": "2024-11-01T17:32:50.838Z"
   },
   {
    "duration": 100,
    "start_time": "2024-11-01T17:32:50.846Z"
   },
   {
    "duration": 363,
    "start_time": "2024-11-01T17:32:50.947Z"
   },
   {
    "duration": 3,
    "start_time": "2024-11-01T17:32:51.312Z"
   },
   {
    "duration": 4,
    "start_time": "2024-11-01T17:32:51.318Z"
   },
   {
    "duration": 9,
    "start_time": "2024-11-01T17:32:51.323Z"
   },
   {
    "duration": 4,
    "start_time": "2024-11-01T17:32:51.334Z"
   },
   {
    "duration": 5,
    "start_time": "2024-11-01T17:32:51.339Z"
   },
   {
    "duration": 245,
    "start_time": "2024-11-01T17:32:51.346Z"
   },
   {
    "duration": 12,
    "start_time": "2024-11-01T17:32:51.593Z"
   },
   {
    "duration": 774,
    "start_time": "2024-11-01T17:32:51.618Z"
   },
   {
    "duration": 9,
    "start_time": "2024-11-01T17:32:52.394Z"
   },
   {
    "duration": 665,
    "start_time": "2024-11-01T17:32:52.405Z"
   },
   {
    "duration": 17,
    "start_time": "2024-11-01T17:32:53.072Z"
   },
   {
    "duration": 11,
    "start_time": "2024-11-01T17:32:53.093Z"
   },
   {
    "duration": 15,
    "start_time": "2024-11-01T17:32:53.106Z"
   },
   {
    "duration": 7,
    "start_time": "2024-11-01T17:32:53.123Z"
   },
   {
    "duration": 5,
    "start_time": "2024-11-01T17:32:53.132Z"
   },
   {
    "duration": 10,
    "start_time": "2024-11-01T17:32:53.139Z"
   },
   {
    "duration": 14,
    "start_time": "2024-11-01T17:32:53.151Z"
   },
   {
    "duration": 6,
    "start_time": "2024-11-01T17:32:53.167Z"
   },
   {
    "duration": 11515,
    "start_time": "2024-11-01T17:32:53.175Z"
   },
   {
    "duration": 4,
    "start_time": "2024-11-01T17:33:04.692Z"
   },
   {
    "duration": 48,
    "start_time": "2024-11-01T17:33:04.697Z"
   },
   {
    "duration": 8,
    "start_time": "2024-11-01T17:33:04.747Z"
   },
   {
    "duration": 50,
    "start_time": "2024-11-02T16:46:46.779Z"
   },
   {
    "duration": 1712,
    "start_time": "2024-11-02T16:47:13.727Z"
   },
   {
    "duration": 7003,
    "start_time": "2024-11-02T16:48:25.564Z"
   },
   {
    "duration": 1352,
    "start_time": "2024-11-02T16:48:32.569Z"
   },
   {
    "duration": 3,
    "start_time": "2024-11-02T16:48:33.923Z"
   },
   {
    "duration": 52,
    "start_time": "2024-11-02T16:48:33.928Z"
   },
   {
    "duration": 16,
    "start_time": "2024-11-02T16:48:33.981Z"
   },
   {
    "duration": 38,
    "start_time": "2024-11-02T16:48:33.999Z"
   },
   {
    "duration": 203,
    "start_time": "2024-11-02T16:48:34.038Z"
   },
   {
    "duration": 294,
    "start_time": "2024-11-02T16:48:34.243Z"
   },
   {
    "duration": 2,
    "start_time": "2024-11-02T16:48:34.539Z"
   },
   {
    "duration": 32,
    "start_time": "2024-11-02T16:48:34.543Z"
   },
   {
    "duration": 74,
    "start_time": "2024-11-02T16:48:34.576Z"
   },
   {
    "duration": 63,
    "start_time": "2024-11-02T16:48:34.652Z"
   },
   {
    "duration": 36,
    "start_time": "2024-11-02T16:48:34.716Z"
   },
   {
    "duration": 361,
    "start_time": "2024-11-02T16:48:34.755Z"
   },
   {
    "duration": 15,
    "start_time": "2024-11-02T16:48:35.120Z"
   },
   {
    "duration": 764,
    "start_time": "2024-11-02T16:48:35.137Z"
   },
   {
    "duration": 8,
    "start_time": "2024-11-02T16:48:35.903Z"
   },
   {
    "duration": 730,
    "start_time": "2024-11-02T16:48:35.912Z"
   },
   {
    "duration": 12,
    "start_time": "2024-11-02T16:48:36.643Z"
   },
   {
    "duration": 64,
    "start_time": "2024-11-02T16:48:36.657Z"
   },
   {
    "duration": 24,
    "start_time": "2024-11-02T16:48:36.723Z"
   },
   {
    "duration": 132,
    "start_time": "2024-11-02T16:48:36.749Z"
   },
   {
    "duration": 24,
    "start_time": "2024-11-02T16:48:36.882Z"
   },
   {
    "duration": 45,
    "start_time": "2024-11-02T16:48:36.908Z"
   },
   {
    "duration": 18,
    "start_time": "2024-11-02T16:48:36.954Z"
   },
   {
    "duration": 41,
    "start_time": "2024-11-02T16:48:36.973Z"
   },
   {
    "duration": 30,
    "start_time": "2024-11-02T16:48:37.016Z"
   },
   {
    "duration": 9657,
    "start_time": "2024-11-02T16:48:37.047Z"
   },
   {
    "duration": 3,
    "start_time": "2024-11-02T16:48:46.706Z"
   },
   {
    "duration": 142,
    "start_time": "2024-11-02T16:48:46.721Z"
   },
   {
    "duration": 73,
    "start_time": "2024-11-02T16:48:46.865Z"
   },
   {
    "duration": 3175,
    "start_time": "2024-11-02T16:49:44.549Z"
   },
   {
    "duration": 1410,
    "start_time": "2024-11-02T16:49:47.726Z"
   },
   {
    "duration": 2,
    "start_time": "2024-11-02T16:49:49.138Z"
   },
   {
    "duration": 13,
    "start_time": "2024-11-02T16:49:49.142Z"
   },
   {
    "duration": 8,
    "start_time": "2024-11-02T16:49:49.157Z"
   },
   {
    "duration": 6,
    "start_time": "2024-11-02T16:49:49.166Z"
   },
   {
    "duration": 83,
    "start_time": "2024-11-02T16:49:49.173Z"
   },
   {
    "duration": 442,
    "start_time": "2024-11-02T16:49:49.257Z"
   },
   {
    "duration": 3,
    "start_time": "2024-11-02T16:49:49.700Z"
   },
   {
    "duration": 15,
    "start_time": "2024-11-02T16:49:49.705Z"
   },
   {
    "duration": 16,
    "start_time": "2024-11-02T16:49:49.722Z"
   },
   {
    "duration": 20,
    "start_time": "2024-11-02T16:49:49.739Z"
   },
   {
    "duration": 5,
    "start_time": "2024-11-02T16:49:49.761Z"
   },
   {
    "duration": 241,
    "start_time": "2024-11-02T16:49:49.768Z"
   },
   {
    "duration": 16,
    "start_time": "2024-11-02T16:49:50.011Z"
   },
   {
    "duration": 744,
    "start_time": "2024-11-02T16:49:50.029Z"
   },
   {
    "duration": 12,
    "start_time": "2024-11-02T16:49:50.775Z"
   },
   {
    "duration": 761,
    "start_time": "2024-11-02T16:49:50.788Z"
   },
   {
    "duration": 14,
    "start_time": "2024-11-02T16:49:51.551Z"
   },
   {
    "duration": 26,
    "start_time": "2024-11-02T16:49:51.567Z"
   },
   {
    "duration": 36,
    "start_time": "2024-11-02T16:49:51.595Z"
   },
   {
    "duration": 27,
    "start_time": "2024-11-02T16:49:51.633Z"
   },
   {
    "duration": 44,
    "start_time": "2024-11-02T16:49:51.662Z"
   },
   {
    "duration": 24,
    "start_time": "2024-11-02T16:49:51.708Z"
   },
   {
    "duration": 24,
    "start_time": "2024-11-02T16:49:51.734Z"
   },
   {
    "duration": 42,
    "start_time": "2024-11-02T16:49:51.759Z"
   },
   {
    "duration": 29,
    "start_time": "2024-11-02T16:49:51.802Z"
   },
   {
    "duration": 10003,
    "start_time": "2024-11-02T16:49:51.835Z"
   },
   {
    "duration": 3,
    "start_time": "2024-11-02T16:50:01.840Z"
   },
   {
    "duration": 62,
    "start_time": "2024-11-02T16:50:01.845Z"
   },
   {
    "duration": 133,
    "start_time": "2024-11-02T16:50:01.908Z"
   },
   {
    "duration": 3176,
    "start_time": "2024-11-02T16:55:08.962Z"
   },
   {
    "duration": 1374,
    "start_time": "2024-11-02T16:55:12.141Z"
   },
   {
    "duration": 4,
    "start_time": "2024-11-02T16:55:13.517Z"
   },
   {
    "duration": 29,
    "start_time": "2024-11-02T16:55:13.522Z"
   },
   {
    "duration": 27,
    "start_time": "2024-11-02T16:55:13.554Z"
   },
   {
    "duration": 48,
    "start_time": "2024-11-02T16:55:13.582Z"
   },
   {
    "duration": 95,
    "start_time": "2024-11-02T16:55:13.633Z"
   },
   {
    "duration": 359,
    "start_time": "2024-11-02T16:55:13.730Z"
   },
   {
    "duration": 3,
    "start_time": "2024-11-02T16:55:14.091Z"
   },
   {
    "duration": 34,
    "start_time": "2024-11-02T16:55:14.095Z"
   },
   {
    "duration": 20,
    "start_time": "2024-11-02T16:55:14.131Z"
   },
   {
    "duration": 14,
    "start_time": "2024-11-02T16:55:14.153Z"
   },
   {
    "duration": 19,
    "start_time": "2024-11-02T16:55:14.168Z"
   },
   {
    "duration": 282,
    "start_time": "2024-11-02T16:55:14.189Z"
   },
   {
    "duration": 10,
    "start_time": "2024-11-02T16:55:14.473Z"
   },
   {
    "duration": 746,
    "start_time": "2024-11-02T16:55:14.484Z"
   },
   {
    "duration": 17,
    "start_time": "2024-11-02T16:55:15.232Z"
   },
   {
    "duration": 766,
    "start_time": "2024-11-02T16:55:15.252Z"
   },
   {
    "duration": 19,
    "start_time": "2024-11-02T16:55:16.020Z"
   },
   {
    "duration": 7,
    "start_time": "2024-11-02T16:55:16.040Z"
   },
   {
    "duration": 20,
    "start_time": "2024-11-02T16:55:16.049Z"
   },
   {
    "duration": 24,
    "start_time": "2024-11-02T16:55:16.070Z"
   },
   {
    "duration": 21,
    "start_time": "2024-11-02T16:55:16.095Z"
   },
   {
    "duration": 9,
    "start_time": "2024-11-02T16:55:16.117Z"
   },
   {
    "duration": 16,
    "start_time": "2024-11-02T16:55:16.127Z"
   },
   {
    "duration": 33,
    "start_time": "2024-11-02T16:55:16.145Z"
   },
   {
    "duration": 32,
    "start_time": "2024-11-02T16:55:16.179Z"
   },
   {
    "duration": 9480,
    "start_time": "2024-11-02T16:55:16.212Z"
   },
   {
    "duration": 4,
    "start_time": "2024-11-02T16:55:25.694Z"
   },
   {
    "duration": 41,
    "start_time": "2024-11-02T16:55:25.700Z"
   },
   {
    "duration": 18,
    "start_time": "2024-11-02T16:55:25.743Z"
   },
   {
    "duration": 3032,
    "start_time": "2024-11-02T16:59:44.782Z"
   },
   {
    "duration": 1312,
    "start_time": "2024-11-02T16:59:47.817Z"
   },
   {
    "duration": 3,
    "start_time": "2024-11-02T16:59:49.131Z"
   },
   {
    "duration": 9,
    "start_time": "2024-11-02T16:59:49.135Z"
   },
   {
    "duration": 14,
    "start_time": "2024-11-02T16:59:49.145Z"
   },
   {
    "duration": 13,
    "start_time": "2024-11-02T16:59:49.160Z"
   },
   {
    "duration": 54,
    "start_time": "2024-11-02T16:59:49.174Z"
   },
   {
    "duration": 276,
    "start_time": "2024-11-02T16:59:49.230Z"
   },
   {
    "duration": 3,
    "start_time": "2024-11-02T16:59:49.508Z"
   },
   {
    "duration": 5,
    "start_time": "2024-11-02T16:59:49.515Z"
   },
   {
    "duration": 25,
    "start_time": "2024-11-02T16:59:49.522Z"
   },
   {
    "duration": 6,
    "start_time": "2024-11-02T16:59:49.549Z"
   },
   {
    "duration": 14,
    "start_time": "2024-11-02T16:59:49.557Z"
   },
   {
    "duration": 264,
    "start_time": "2024-11-02T16:59:49.574Z"
   },
   {
    "duration": 11,
    "start_time": "2024-11-02T16:59:49.839Z"
   },
   {
    "duration": 702,
    "start_time": "2024-11-02T16:59:49.851Z"
   },
   {
    "duration": 9,
    "start_time": "2024-11-02T16:59:50.555Z"
   },
   {
    "duration": 653,
    "start_time": "2024-11-02T16:59:50.565Z"
   },
   {
    "duration": 12,
    "start_time": "2024-11-02T16:59:51.221Z"
   },
   {
    "duration": 65,
    "start_time": "2024-11-02T16:59:51.234Z"
   },
   {
    "duration": 7,
    "start_time": "2024-11-02T16:59:51.300Z"
   },
   {
    "duration": 11,
    "start_time": "2024-11-02T16:59:51.308Z"
   },
   {
    "duration": 22,
    "start_time": "2024-11-02T16:59:51.320Z"
   },
   {
    "duration": 23,
    "start_time": "2024-11-02T16:59:51.343Z"
   },
   {
    "duration": 22,
    "start_time": "2024-11-02T16:59:51.368Z"
   },
   {
    "duration": 34,
    "start_time": "2024-11-02T16:59:51.392Z"
   },
   {
    "duration": 28,
    "start_time": "2024-11-02T16:59:51.427Z"
   },
   {
    "duration": 9157,
    "start_time": "2024-11-02T16:59:51.458Z"
   },
   {
    "duration": 3,
    "start_time": "2024-11-02T17:00:00.620Z"
   },
   {
    "duration": 141,
    "start_time": "2024-11-02T17:00:00.625Z"
   },
   {
    "duration": 21,
    "start_time": "2024-11-02T17:00:00.768Z"
   },
   {
    "duration": 4,
    "start_time": "2024-11-02T17:07:04.800Z"
   },
   {
    "duration": 115,
    "start_time": "2024-11-02T17:07:36.027Z"
   },
   {
    "duration": 2853,
    "start_time": "2024-11-02T17:07:58.428Z"
   },
   {
    "duration": 1317,
    "start_time": "2024-11-02T17:08:01.284Z"
   },
   {
    "duration": 2,
    "start_time": "2024-11-02T17:08:02.603Z"
   },
   {
    "duration": 49,
    "start_time": "2024-11-02T17:08:02.606Z"
   },
   {
    "duration": 120,
    "start_time": "2024-11-02T17:08:02.657Z"
   },
   {
    "duration": 6,
    "start_time": "2024-11-02T17:08:02.778Z"
   },
   {
    "duration": 53,
    "start_time": "2024-11-02T17:08:02.786Z"
   },
   {
    "duration": 311,
    "start_time": "2024-11-02T17:08:02.841Z"
   },
   {
    "duration": 3,
    "start_time": "2024-11-02T17:08:03.153Z"
   },
   {
    "duration": 17,
    "start_time": "2024-11-02T17:08:03.157Z"
   },
   {
    "duration": 8,
    "start_time": "2024-11-02T17:08:03.176Z"
   },
   {
    "duration": 4,
    "start_time": "2024-11-02T17:08:03.186Z"
   },
   {
    "duration": 5,
    "start_time": "2024-11-02T17:08:03.191Z"
   },
   {
    "duration": 223,
    "start_time": "2024-11-02T17:08:03.198Z"
   },
   {
    "duration": 10,
    "start_time": "2024-11-02T17:08:03.422Z"
   },
   {
    "duration": 716,
    "start_time": "2024-11-02T17:08:03.433Z"
   },
   {
    "duration": 8,
    "start_time": "2024-11-02T17:08:04.150Z"
   },
   {
    "duration": 616,
    "start_time": "2024-11-02T17:08:04.160Z"
   },
   {
    "duration": 12,
    "start_time": "2024-11-02T17:08:04.777Z"
   },
   {
    "duration": 5,
    "start_time": "2024-11-02T17:08:04.791Z"
   },
   {
    "duration": 6,
    "start_time": "2024-11-02T17:08:04.797Z"
   },
   {
    "duration": 5,
    "start_time": "2024-11-02T17:08:04.820Z"
   },
   {
    "duration": 85,
    "start_time": "2024-11-02T17:08:04.826Z"
   },
   {
    "duration": 11,
    "start_time": "2024-11-02T17:08:04.913Z"
   },
   {
    "duration": 25,
    "start_time": "2024-11-02T17:08:04.925Z"
   },
   {
    "duration": 27,
    "start_time": "2024-11-02T17:08:04.952Z"
   },
   {
    "duration": 6,
    "start_time": "2024-11-02T17:08:04.980Z"
   },
   {
    "duration": 237,
    "start_time": "2024-11-02T17:08:04.988Z"
   },
   {
    "duration": 0,
    "start_time": "2024-11-02T17:08:05.227Z"
   },
   {
    "duration": 0,
    "start_time": "2024-11-02T17:08:05.229Z"
   },
   {
    "duration": 0,
    "start_time": "2024-11-02T17:08:05.230Z"
   },
   {
    "duration": 28,
    "start_time": "2024-11-02T17:08:58.549Z"
   },
   {
    "duration": 3204,
    "start_time": "2024-11-02T17:09:18.394Z"
   },
   {
    "duration": 1307,
    "start_time": "2024-11-02T17:09:21.600Z"
   },
   {
    "duration": 3,
    "start_time": "2024-11-02T17:09:22.909Z"
   },
   {
    "duration": 24,
    "start_time": "2024-11-02T17:09:22.922Z"
   },
   {
    "duration": 109,
    "start_time": "2024-11-02T17:09:22.947Z"
   },
   {
    "duration": 24,
    "start_time": "2024-11-02T17:09:23.058Z"
   },
   {
    "duration": 63,
    "start_time": "2024-11-02T17:09:23.083Z"
   },
   {
    "duration": 283,
    "start_time": "2024-11-02T17:09:23.147Z"
   },
   {
    "duration": 3,
    "start_time": "2024-11-02T17:09:23.432Z"
   },
   {
    "duration": 4,
    "start_time": "2024-11-02T17:09:23.439Z"
   },
   {
    "duration": 10,
    "start_time": "2024-11-02T17:09:23.445Z"
   },
   {
    "duration": 4,
    "start_time": "2024-11-02T17:09:23.456Z"
   },
   {
    "duration": 5,
    "start_time": "2024-11-02T17:09:23.462Z"
   },
   {
    "duration": 287,
    "start_time": "2024-11-02T17:09:23.468Z"
   },
   {
    "duration": 10,
    "start_time": "2024-11-02T17:09:23.757Z"
   },
   {
    "duration": 752,
    "start_time": "2024-11-02T17:09:23.769Z"
   },
   {
    "duration": 13,
    "start_time": "2024-11-02T17:09:24.524Z"
   },
   {
    "duration": 662,
    "start_time": "2024-11-02T17:09:24.539Z"
   },
   {
    "duration": 25,
    "start_time": "2024-11-02T17:09:25.202Z"
   },
   {
    "duration": 9,
    "start_time": "2024-11-02T17:09:25.229Z"
   },
   {
    "duration": 6,
    "start_time": "2024-11-02T17:09:25.240Z"
   },
   {
    "duration": 49,
    "start_time": "2024-11-02T17:09:25.248Z"
   },
   {
    "duration": 40,
    "start_time": "2024-11-02T17:09:25.299Z"
   },
   {
    "duration": 4,
    "start_time": "2024-11-02T17:09:25.341Z"
   },
   {
    "duration": 8,
    "start_time": "2024-11-02T17:09:25.347Z"
   },
   {
    "duration": 14,
    "start_time": "2024-11-02T17:09:25.357Z"
   },
   {
    "duration": 9,
    "start_time": "2024-11-02T17:09:25.372Z"
   },
   {
    "duration": 287,
    "start_time": "2024-11-02T17:09:25.384Z"
   },
   {
    "duration": 0,
    "start_time": "2024-11-02T17:09:25.673Z"
   },
   {
    "duration": 0,
    "start_time": "2024-11-02T17:09:25.674Z"
   },
   {
    "duration": 0,
    "start_time": "2024-11-02T17:09:25.675Z"
   },
   {
    "duration": 3212,
    "start_time": "2024-11-02T17:10:06.553Z"
   },
   {
    "duration": 1323,
    "start_time": "2024-11-02T17:10:09.767Z"
   },
   {
    "duration": 2,
    "start_time": "2024-11-02T17:10:11.092Z"
   },
   {
    "duration": 6,
    "start_time": "2024-11-02T17:10:11.096Z"
   },
   {
    "duration": 7,
    "start_time": "2024-11-02T17:10:11.104Z"
   },
   {
    "duration": 10,
    "start_time": "2024-11-02T17:10:11.124Z"
   },
   {
    "duration": 55,
    "start_time": "2024-11-02T17:10:11.136Z"
   },
   {
    "duration": 317,
    "start_time": "2024-11-02T17:10:11.192Z"
   },
   {
    "duration": 3,
    "start_time": "2024-11-02T17:10:11.510Z"
   },
   {
    "duration": 10,
    "start_time": "2024-11-02T17:10:11.516Z"
   },
   {
    "duration": 13,
    "start_time": "2024-11-02T17:10:11.528Z"
   },
   {
    "duration": 4,
    "start_time": "2024-11-02T17:10:11.542Z"
   },
   {
    "duration": 4,
    "start_time": "2024-11-02T17:10:11.547Z"
   },
   {
    "duration": 260,
    "start_time": "2024-11-02T17:10:11.552Z"
   },
   {
    "duration": 16,
    "start_time": "2024-11-02T17:10:11.814Z"
   },
   {
    "duration": 745,
    "start_time": "2024-11-02T17:10:11.832Z"
   },
   {
    "duration": 10,
    "start_time": "2024-11-02T17:10:12.579Z"
   },
   {
    "duration": 683,
    "start_time": "2024-11-02T17:10:12.591Z"
   },
   {
    "duration": 13,
    "start_time": "2024-11-02T17:10:13.276Z"
   },
   {
    "duration": 29,
    "start_time": "2024-11-02T17:10:13.290Z"
   },
   {
    "duration": 13,
    "start_time": "2024-11-02T17:10:13.321Z"
   },
   {
    "duration": 5,
    "start_time": "2024-11-02T17:10:13.336Z"
   },
   {
    "duration": 5,
    "start_time": "2024-11-02T17:10:13.342Z"
   },
   {
    "duration": 14,
    "start_time": "2024-11-02T17:10:13.348Z"
   },
   {
    "duration": 5,
    "start_time": "2024-11-02T17:10:13.363Z"
   },
   {
    "duration": 9,
    "start_time": "2024-11-02T17:10:13.369Z"
   },
   {
    "duration": 4,
    "start_time": "2024-11-02T17:10:13.379Z"
   },
   {
    "duration": 289,
    "start_time": "2024-11-02T17:10:13.386Z"
   },
   {
    "duration": 0,
    "start_time": "2024-11-02T17:10:13.677Z"
   },
   {
    "duration": 0,
    "start_time": "2024-11-02T17:10:13.678Z"
   },
   {
    "duration": 0,
    "start_time": "2024-11-02T17:10:13.679Z"
   },
   {
    "duration": 3276,
    "start_time": "2024-11-02T17:10:44.254Z"
   },
   {
    "duration": 1396,
    "start_time": "2024-11-02T17:10:47.533Z"
   },
   {
    "duration": 3,
    "start_time": "2024-11-02T17:10:48.932Z"
   },
   {
    "duration": 36,
    "start_time": "2024-11-02T17:10:48.937Z"
   },
   {
    "duration": 23,
    "start_time": "2024-11-02T17:10:48.975Z"
   },
   {
    "duration": 40,
    "start_time": "2024-11-02T17:10:48.999Z"
   },
   {
    "duration": 62,
    "start_time": "2024-11-02T17:10:49.041Z"
   },
   {
    "duration": 294,
    "start_time": "2024-11-02T17:10:49.104Z"
   },
   {
    "duration": 3,
    "start_time": "2024-11-02T17:10:49.399Z"
   },
   {
    "duration": 4,
    "start_time": "2024-11-02T17:10:49.403Z"
   },
   {
    "duration": 11,
    "start_time": "2024-11-02T17:10:49.409Z"
   },
   {
    "duration": 9,
    "start_time": "2024-11-02T17:10:49.422Z"
   },
   {
    "duration": 5,
    "start_time": "2024-11-02T17:10:49.433Z"
   },
   {
    "duration": 237,
    "start_time": "2024-11-02T17:10:49.441Z"
   },
   {
    "duration": 10,
    "start_time": "2024-11-02T17:10:49.679Z"
   },
   {
    "duration": 678,
    "start_time": "2024-11-02T17:10:49.691Z"
   },
   {
    "duration": 15,
    "start_time": "2024-11-02T17:10:50.371Z"
   },
   {
    "duration": 702,
    "start_time": "2024-11-02T17:10:50.387Z"
   },
   {
    "duration": 13,
    "start_time": "2024-11-02T17:10:51.090Z"
   },
   {
    "duration": 24,
    "start_time": "2024-11-02T17:10:51.105Z"
   },
   {
    "duration": 9,
    "start_time": "2024-11-02T17:10:51.131Z"
   },
   {
    "duration": 14,
    "start_time": "2024-11-02T17:10:51.142Z"
   },
   {
    "duration": 12,
    "start_time": "2024-11-02T17:10:51.157Z"
   },
   {
    "duration": 9,
    "start_time": "2024-11-02T17:10:51.170Z"
   },
   {
    "duration": 25,
    "start_time": "2024-11-02T17:10:51.181Z"
   },
   {
    "duration": 7,
    "start_time": "2024-11-02T17:10:51.207Z"
   },
   {
    "duration": 8,
    "start_time": "2024-11-02T17:10:51.215Z"
   },
   {
    "duration": 11777,
    "start_time": "2024-11-02T17:10:51.225Z"
   },
   {
    "duration": 4,
    "start_time": "2024-11-02T17:11:03.004Z"
   },
   {
    "duration": 65,
    "start_time": "2024-11-02T17:11:03.009Z"
   },
   {
    "duration": 17,
    "start_time": "2024-11-02T17:11:03.076Z"
   },
   {
    "duration": 131,
    "start_time": "2024-11-02T17:12:40.236Z"
   },
   {
    "duration": 4317,
    "start_time": "2024-11-02T17:12:46.974Z"
   },
   {
    "duration": 1357,
    "start_time": "2024-11-02T17:12:51.293Z"
   },
   {
    "duration": 2,
    "start_time": "2024-11-02T17:12:52.652Z"
   },
   {
    "duration": 5,
    "start_time": "2024-11-02T17:12:52.656Z"
   },
   {
    "duration": 4,
    "start_time": "2024-11-02T17:12:52.662Z"
   },
   {
    "duration": 12,
    "start_time": "2024-11-02T17:12:52.668Z"
   },
   {
    "duration": 65,
    "start_time": "2024-11-02T17:12:52.681Z"
   },
   {
    "duration": 743,
    "start_time": "2024-11-02T17:12:52.748Z"
   },
   {
    "duration": 4,
    "start_time": "2024-11-02T17:12:53.493Z"
   },
   {
    "duration": 9,
    "start_time": "2024-11-02T17:12:53.500Z"
   },
   {
    "duration": 9,
    "start_time": "2024-11-02T17:12:53.511Z"
   },
   {
    "duration": 10,
    "start_time": "2024-11-02T17:12:53.522Z"
   },
   {
    "duration": 5,
    "start_time": "2024-11-02T17:12:53.534Z"
   },
   {
    "duration": 230,
    "start_time": "2024-11-02T17:12:53.541Z"
   },
   {
    "duration": 10,
    "start_time": "2024-11-02T17:12:53.773Z"
   },
   {
    "duration": 700,
    "start_time": "2024-11-02T17:12:53.785Z"
   },
   {
    "duration": 10,
    "start_time": "2024-11-02T17:12:54.486Z"
   },
   {
    "duration": 637,
    "start_time": "2024-11-02T17:12:54.497Z"
   },
   {
    "duration": 13,
    "start_time": "2024-11-02T17:12:55.135Z"
   },
   {
    "duration": 7,
    "start_time": "2024-11-02T17:12:55.150Z"
   },
   {
    "duration": 16,
    "start_time": "2024-11-02T17:12:55.158Z"
   },
   {
    "duration": 29,
    "start_time": "2024-11-02T17:12:55.175Z"
   },
   {
    "duration": 4,
    "start_time": "2024-11-02T17:12:55.205Z"
   },
   {
    "duration": 6,
    "start_time": "2024-11-02T17:12:55.210Z"
   },
   {
    "duration": 16,
    "start_time": "2024-11-02T17:12:55.217Z"
   },
   {
    "duration": 19,
    "start_time": "2024-11-02T17:12:55.235Z"
   },
   {
    "duration": 5,
    "start_time": "2024-11-02T17:12:55.255Z"
   },
   {
    "duration": 12003,
    "start_time": "2024-11-02T17:12:55.263Z"
   },
   {
    "duration": 4,
    "start_time": "2024-11-02T17:13:07.268Z"
   },
   {
    "duration": 99,
    "start_time": "2024-11-02T17:13:07.273Z"
   },
   {
    "duration": 23,
    "start_time": "2024-11-02T17:13:07.373Z"
   },
   {
    "duration": 12,
    "start_time": "2024-11-02T17:13:19.187Z"
   },
   {
    "duration": 2873,
    "start_time": "2024-11-02T17:17:54.163Z"
   },
   {
    "duration": 1291,
    "start_time": "2024-11-02T17:17:57.038Z"
   },
   {
    "duration": 2,
    "start_time": "2024-11-02T17:17:58.331Z"
   },
   {
    "duration": 7,
    "start_time": "2024-11-02T17:17:58.335Z"
   },
   {
    "duration": 3,
    "start_time": "2024-11-02T17:17:58.344Z"
   },
   {
    "duration": 6,
    "start_time": "2024-11-02T17:17:58.349Z"
   },
   {
    "duration": 52,
    "start_time": "2024-11-02T17:17:58.356Z"
   },
   {
    "duration": 275,
    "start_time": "2024-11-02T17:17:58.410Z"
   },
   {
    "duration": 3,
    "start_time": "2024-11-02T17:17:58.686Z"
   },
   {
    "duration": 8,
    "start_time": "2024-11-02T17:17:58.691Z"
   },
   {
    "duration": 9,
    "start_time": "2024-11-02T17:17:58.700Z"
   },
   {
    "duration": 4,
    "start_time": "2024-11-02T17:17:58.710Z"
   },
   {
    "duration": 4,
    "start_time": "2024-11-02T17:17:58.715Z"
   },
   {
    "duration": 223,
    "start_time": "2024-11-02T17:17:58.722Z"
   },
   {
    "duration": 11,
    "start_time": "2024-11-02T17:17:58.946Z"
   },
   {
    "duration": 666,
    "start_time": "2024-11-02T17:17:58.959Z"
   },
   {
    "duration": 9,
    "start_time": "2024-11-02T17:17:59.627Z"
   },
   {
    "duration": 595,
    "start_time": "2024-11-02T17:17:59.637Z"
   },
   {
    "duration": 13,
    "start_time": "2024-11-02T17:18:00.233Z"
   },
   {
    "duration": 23,
    "start_time": "2024-11-02T17:18:00.248Z"
   },
   {
    "duration": 28,
    "start_time": "2024-11-02T17:18:00.273Z"
   },
   {
    "duration": 14,
    "start_time": "2024-11-02T17:18:00.303Z"
   },
   {
    "duration": 21,
    "start_time": "2024-11-02T17:18:00.318Z"
   },
   {
    "duration": 37,
    "start_time": "2024-11-02T17:18:00.341Z"
   },
   {
    "duration": 28,
    "start_time": "2024-11-02T17:18:00.380Z"
   },
   {
    "duration": 10,
    "start_time": "2024-11-02T17:18:00.410Z"
   },
   {
    "duration": 32,
    "start_time": "2024-11-02T17:18:00.422Z"
   },
   {
    "duration": 30,
    "start_time": "2024-11-02T17:18:00.456Z"
   },
   {
    "duration": 9267,
    "start_time": "2024-11-02T17:18:00.488Z"
   },
   {
    "duration": 3,
    "start_time": "2024-11-02T17:18:09.757Z"
   },
   {
    "duration": 40,
    "start_time": "2024-11-02T17:18:09.761Z"
   },
   {
    "duration": 8,
    "start_time": "2024-11-02T17:18:09.803Z"
   },
   {
    "duration": 21,
    "start_time": "2024-11-02T17:20:11.577Z"
   },
   {
    "duration": 2783,
    "start_time": "2024-11-02T17:21:03.929Z"
   },
   {
    "duration": 1333,
    "start_time": "2024-11-02T17:21:06.714Z"
   },
   {
    "duration": 2,
    "start_time": "2024-11-02T17:21:08.049Z"
   },
   {
    "duration": 5,
    "start_time": "2024-11-02T17:21:08.053Z"
   },
   {
    "duration": 5,
    "start_time": "2024-11-02T17:21:08.059Z"
   },
   {
    "duration": 8,
    "start_time": "2024-11-02T17:21:08.065Z"
   },
   {
    "duration": 60,
    "start_time": "2024-11-02T17:21:08.074Z"
   },
   {
    "duration": 347,
    "start_time": "2024-11-02T17:21:08.135Z"
   },
   {
    "duration": 3,
    "start_time": "2024-11-02T17:21:08.483Z"
   },
   {
    "duration": 6,
    "start_time": "2024-11-02T17:21:08.488Z"
   },
   {
    "duration": 11,
    "start_time": "2024-11-02T17:21:08.495Z"
   },
   {
    "duration": 3,
    "start_time": "2024-11-02T17:21:08.507Z"
   },
   {
    "duration": 3,
    "start_time": "2024-11-02T17:21:08.512Z"
   },
   {
    "duration": 226,
    "start_time": "2024-11-02T17:21:08.517Z"
   },
   {
    "duration": 11,
    "start_time": "2024-11-02T17:21:08.745Z"
   },
   {
    "duration": 804,
    "start_time": "2024-11-02T17:21:08.757Z"
   },
   {
    "duration": 8,
    "start_time": "2024-11-02T17:21:09.563Z"
   },
   {
    "duration": 566,
    "start_time": "2024-11-02T17:21:09.573Z"
   },
   {
    "duration": 20,
    "start_time": "2024-11-02T17:21:10.141Z"
   },
   {
    "duration": 31,
    "start_time": "2024-11-02T17:21:10.163Z"
   },
   {
    "duration": 14,
    "start_time": "2024-11-02T17:21:10.195Z"
   },
   {
    "duration": 21,
    "start_time": "2024-11-02T17:21:10.210Z"
   },
   {
    "duration": 8,
    "start_time": "2024-11-02T17:21:10.233Z"
   },
   {
    "duration": 5,
    "start_time": "2024-11-02T17:21:10.242Z"
   },
   {
    "duration": 4,
    "start_time": "2024-11-02T17:21:10.248Z"
   },
   {
    "duration": 42,
    "start_time": "2024-11-02T17:21:10.254Z"
   },
   {
    "duration": 9,
    "start_time": "2024-11-02T17:21:10.298Z"
   },
   {
    "duration": 13144,
    "start_time": "2024-11-02T17:21:10.310Z"
   },
   {
    "duration": 3,
    "start_time": "2024-11-02T17:21:23.456Z"
   },
   {
    "duration": 32,
    "start_time": "2024-11-02T17:21:23.460Z"
   },
   {
    "duration": 8,
    "start_time": "2024-11-02T17:21:23.494Z"
   },
   {
    "duration": 6,
    "start_time": "2024-11-02T17:26:18.914Z"
   },
   {
    "duration": 8,
    "start_time": "2024-11-02T17:26:48.188Z"
   },
   {
    "duration": 29,
    "start_time": "2024-11-02T17:26:57.652Z"
   },
   {
    "duration": 34,
    "start_time": "2024-11-02T17:29:25.720Z"
   },
   {
    "duration": 3,
    "start_time": "2024-11-02T17:31:50.154Z"
   },
   {
    "duration": 6,
    "start_time": "2024-11-02T17:31:53.930Z"
   },
   {
    "duration": 1124,
    "start_time": "2024-11-02T17:32:14.215Z"
   },
   {
    "duration": 4,
    "start_time": "2024-11-02T17:33:49.945Z"
   },
   {
    "duration": 10,
    "start_time": "2024-11-02T17:33:54.095Z"
   },
   {
    "duration": 3,
    "start_time": "2024-11-02T17:34:45.073Z"
   },
   {
    "duration": 4,
    "start_time": "2024-11-02T17:34:49.650Z"
   },
   {
    "duration": 11,
    "start_time": "2024-11-02T17:34:54.093Z"
   },
   {
    "duration": 11,
    "start_time": "2024-11-02T17:36:08.001Z"
   },
   {
    "duration": 6,
    "start_time": "2024-11-02T17:36:12.314Z"
   },
   {
    "duration": 10,
    "start_time": "2024-11-02T17:36:14.265Z"
   },
   {
    "duration": 219,
    "start_time": "2024-11-02T17:36:52.906Z"
   },
   {
    "duration": 216,
    "start_time": "2024-11-02T17:37:32.235Z"
   },
   {
    "duration": 304,
    "start_time": "2024-11-02T17:38:29.987Z"
   },
   {
    "duration": 293,
    "start_time": "2024-11-02T17:38:37.613Z"
   },
   {
    "duration": 229,
    "start_time": "2024-11-02T17:38:42.308Z"
   },
   {
    "duration": 244,
    "start_time": "2024-11-02T17:38:45.813Z"
   },
   {
    "duration": 250,
    "start_time": "2024-11-02T17:38:54.725Z"
   },
   {
    "duration": 335,
    "start_time": "2024-11-02T17:39:35.886Z"
   },
   {
    "duration": 262,
    "start_time": "2024-11-02T17:39:52.268Z"
   },
   {
    "duration": 263,
    "start_time": "2024-11-02T17:40:15.438Z"
   },
   {
    "duration": 2812,
    "start_time": "2024-11-02T18:38:55.347Z"
   },
   {
    "duration": 1246,
    "start_time": "2024-11-02T18:38:58.161Z"
   },
   {
    "duration": 2,
    "start_time": "2024-11-02T18:38:59.409Z"
   },
   {
    "duration": 9,
    "start_time": "2024-11-02T18:38:59.413Z"
   },
   {
    "duration": 12,
    "start_time": "2024-11-02T18:38:59.424Z"
   },
   {
    "duration": 13,
    "start_time": "2024-11-02T18:38:59.437Z"
   },
   {
    "duration": 55,
    "start_time": "2024-11-02T18:38:59.452Z"
   },
   {
    "duration": 329,
    "start_time": "2024-11-02T18:38:59.508Z"
   },
   {
    "duration": 2,
    "start_time": "2024-11-02T18:38:59.839Z"
   },
   {
    "duration": 7,
    "start_time": "2024-11-02T18:38:59.843Z"
   },
   {
    "duration": 10,
    "start_time": "2024-11-02T18:38:59.851Z"
   },
   {
    "duration": 7,
    "start_time": "2024-11-02T18:38:59.862Z"
   },
   {
    "duration": 8,
    "start_time": "2024-11-02T18:38:59.871Z"
   },
   {
    "duration": 240,
    "start_time": "2024-11-02T18:38:59.881Z"
   },
   {
    "duration": 11,
    "start_time": "2024-11-02T18:39:00.122Z"
   },
   {
    "duration": 711,
    "start_time": "2024-11-02T18:39:00.134Z"
   },
   {
    "duration": 9,
    "start_time": "2024-11-02T18:39:00.847Z"
   },
   {
    "duration": 582,
    "start_time": "2024-11-02T18:39:00.857Z"
   },
   {
    "duration": 19,
    "start_time": "2024-11-02T18:39:01.441Z"
   },
   {
    "duration": 7,
    "start_time": "2024-11-02T18:39:01.462Z"
   },
   {
    "duration": 8,
    "start_time": "2024-11-02T18:39:01.471Z"
   },
   {
    "duration": 5,
    "start_time": "2024-11-02T18:39:01.480Z"
   },
   {
    "duration": 23,
    "start_time": "2024-11-02T18:39:01.486Z"
   },
   {
    "duration": 55,
    "start_time": "2024-11-02T18:39:01.511Z"
   },
   {
    "duration": 31,
    "start_time": "2024-11-02T18:39:01.568Z"
   },
   {
    "duration": 28,
    "start_time": "2024-11-02T18:39:01.600Z"
   },
   {
    "duration": 29,
    "start_time": "2024-11-02T18:39:01.629Z"
   },
   {
    "duration": 13136,
    "start_time": "2024-11-02T18:39:01.659Z"
   },
   {
    "duration": 4,
    "start_time": "2024-11-02T18:39:14.796Z"
   },
   {
    "duration": 36,
    "start_time": "2024-11-02T18:39:14.801Z"
   },
   {
    "duration": 17,
    "start_time": "2024-11-02T18:39:14.838Z"
   },
   {
    "duration": 6,
    "start_time": "2024-11-02T18:39:14.856Z"
   },
   {
    "duration": 260,
    "start_time": "2024-11-02T18:39:14.864Z"
   },
   {
    "duration": 7,
    "start_time": "2024-11-02T18:41:10.869Z"
   },
   {
    "duration": 830,
    "start_time": "2024-11-02T18:41:17.341Z"
   },
   {
    "duration": 57,
    "start_time": "2024-11-02T18:45:19.157Z"
   },
   {
    "duration": 2988,
    "start_time": "2024-11-02T18:48:50.997Z"
   },
   {
    "duration": 1318,
    "start_time": "2024-11-02T18:48:53.987Z"
   },
   {
    "duration": 3,
    "start_time": "2024-11-02T18:48:55.306Z"
   },
   {
    "duration": 11,
    "start_time": "2024-11-02T18:48:55.311Z"
   },
   {
    "duration": 30,
    "start_time": "2024-11-02T18:48:55.323Z"
   },
   {
    "duration": 12,
    "start_time": "2024-11-02T18:48:55.355Z"
   },
   {
    "duration": 77,
    "start_time": "2024-11-02T18:48:55.369Z"
   },
   {
    "duration": 291,
    "start_time": "2024-11-02T18:48:55.447Z"
   },
   {
    "duration": 3,
    "start_time": "2024-11-02T18:48:55.739Z"
   },
   {
    "duration": 4,
    "start_time": "2024-11-02T18:48:55.744Z"
   },
   {
    "duration": 8,
    "start_time": "2024-11-02T18:48:55.749Z"
   },
   {
    "duration": 4,
    "start_time": "2024-11-02T18:48:55.758Z"
   },
   {
    "duration": 5,
    "start_time": "2024-11-02T18:48:55.763Z"
   },
   {
    "duration": 7,
    "start_time": "2024-11-02T18:48:55.769Z"
   },
   {
    "duration": 928,
    "start_time": "2024-11-02T18:48:55.777Z"
   },
   {
    "duration": 10,
    "start_time": "2024-11-02T18:48:56.707Z"
   },
   {
    "duration": 638,
    "start_time": "2024-11-02T18:48:56.719Z"
   },
   {
    "duration": 9,
    "start_time": "2024-11-02T18:48:57.358Z"
   },
   {
    "duration": 658,
    "start_time": "2024-11-02T18:48:57.369Z"
   },
   {
    "duration": 20,
    "start_time": "2024-11-02T18:48:58.028Z"
   },
   {
    "duration": 7,
    "start_time": "2024-11-02T18:48:58.049Z"
   },
   {
    "duration": 6,
    "start_time": "2024-11-02T18:48:58.057Z"
   },
   {
    "duration": 8,
    "start_time": "2024-11-02T18:48:58.064Z"
   },
   {
    "duration": 8,
    "start_time": "2024-11-02T18:48:58.073Z"
   },
   {
    "duration": 4,
    "start_time": "2024-11-02T18:48:58.082Z"
   },
   {
    "duration": 8,
    "start_time": "2024-11-02T18:48:58.087Z"
   },
   {
    "duration": 15,
    "start_time": "2024-11-02T18:48:58.096Z"
   },
   {
    "duration": 3,
    "start_time": "2024-11-02T18:48:58.120Z"
   },
   {
    "duration": 13093,
    "start_time": "2024-11-02T18:48:58.124Z"
   },
   {
    "duration": 4,
    "start_time": "2024-11-02T18:49:11.218Z"
   },
   {
    "duration": 30,
    "start_time": "2024-11-02T18:49:11.223Z"
   },
   {
    "duration": 8,
    "start_time": "2024-11-02T18:49:11.255Z"
   },
   {
    "duration": 4,
    "start_time": "2024-11-02T18:49:11.265Z"
   },
   {
    "duration": 272,
    "start_time": "2024-11-02T18:49:11.271Z"
   },
   {
    "duration": 2953,
    "start_time": "2024-11-02T18:52:34.964Z"
   },
   {
    "duration": 1273,
    "start_time": "2024-11-02T18:52:37.919Z"
   },
   {
    "duration": 2,
    "start_time": "2024-11-02T18:52:39.193Z"
   },
   {
    "duration": 16,
    "start_time": "2024-11-02T18:52:39.197Z"
   },
   {
    "duration": 19,
    "start_time": "2024-11-02T18:52:39.215Z"
   },
   {
    "duration": 23,
    "start_time": "2024-11-02T18:52:39.235Z"
   },
   {
    "duration": 67,
    "start_time": "2024-11-02T18:52:39.259Z"
   },
   {
    "duration": 295,
    "start_time": "2024-11-02T18:52:39.327Z"
   },
   {
    "duration": 3,
    "start_time": "2024-11-02T18:52:39.624Z"
   },
   {
    "duration": 9,
    "start_time": "2024-11-02T18:52:39.629Z"
   },
   {
    "duration": 22,
    "start_time": "2024-11-02T18:52:39.639Z"
   },
   {
    "duration": 16,
    "start_time": "2024-11-02T18:52:39.662Z"
   },
   {
    "duration": 9,
    "start_time": "2024-11-02T18:52:39.679Z"
   },
   {
    "duration": 20,
    "start_time": "2024-11-02T18:52:39.690Z"
   },
   {
    "duration": 953,
    "start_time": "2024-11-02T18:52:39.712Z"
   },
   {
    "duration": 10,
    "start_time": "2024-11-02T18:52:40.666Z"
   },
   {
    "duration": 644,
    "start_time": "2024-11-02T18:52:40.677Z"
   },
   {
    "duration": 9,
    "start_time": "2024-11-02T18:52:41.323Z"
   },
   {
    "duration": 599,
    "start_time": "2024-11-02T18:52:41.333Z"
   },
   {
    "duration": 18,
    "start_time": "2024-11-02T18:52:41.933Z"
   },
   {
    "duration": 7,
    "start_time": "2024-11-02T18:52:41.953Z"
   },
   {
    "duration": 12,
    "start_time": "2024-11-02T18:52:41.961Z"
   },
   {
    "duration": 4,
    "start_time": "2024-11-02T18:52:41.974Z"
   },
   {
    "duration": 4,
    "start_time": "2024-11-02T18:52:41.979Z"
   },
   {
    "duration": 3,
    "start_time": "2024-11-02T18:52:41.984Z"
   },
   {
    "duration": 5,
    "start_time": "2024-11-02T18:52:41.988Z"
   },
   {
    "duration": 26,
    "start_time": "2024-11-02T18:52:41.994Z"
   },
   {
    "duration": 2,
    "start_time": "2024-11-02T18:52:42.024Z"
   },
   {
    "duration": 13262,
    "start_time": "2024-11-02T18:52:42.028Z"
   },
   {
    "duration": 4,
    "start_time": "2024-11-02T18:52:55.291Z"
   },
   {
    "duration": 51,
    "start_time": "2024-11-02T18:52:55.296Z"
   },
   {
    "duration": 27,
    "start_time": "2024-11-02T18:52:55.348Z"
   },
   {
    "duration": 5,
    "start_time": "2024-11-02T18:52:55.376Z"
   },
   {
    "duration": 274,
    "start_time": "2024-11-02T18:52:55.382Z"
   }
  ],
  "kernelspec": {
   "display_name": "Python 3 (ipykernel)",
   "language": "python",
   "name": "python3"
  },
  "language_info": {
   "codemirror_mode": {
    "name": "ipython",
    "version": 3
   },
   "file_extension": ".py",
   "mimetype": "text/x-python",
   "name": "python",
   "nbconvert_exporter": "python",
   "pygments_lexer": "ipython3",
   "version": "3.9.19"
  },
  "toc": {
   "base_numbering": 1,
   "nav_menu": {},
   "number_sections": true,
   "sideBar": true,
   "skip_h1_title": true,
   "title_cell": "Содержание",
   "title_sidebar": "Contents",
   "toc_cell": true,
   "toc_position": {
    "height": "calc(100% - 180px)",
    "left": "10px",
    "top": "150px",
    "width": "165px"
   },
   "toc_section_display": true,
   "toc_window_display": true
  }
 },
 "nbformat": 4,
 "nbformat_minor": 4
}
