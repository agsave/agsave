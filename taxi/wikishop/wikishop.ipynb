{
 "cells": [
  {
   "cell_type": "markdown",
   "metadata": {
    "toc": true
   },
   "source": [
    "<h1>Содержание<span class=\"tocSkip\"></span></h1>\n",
    "<div class=\"toc\"><ul class=\"toc-item\"><li><span><a href=\"#Введение\" data-toc-modified-id=\"Введение-1\"><span class=\"toc-item-num\">1&nbsp;&nbsp;</span>Введение</a></span><ul class=\"toc-item\"><li><span><a href=\"#Описание-проекта\" data-toc-modified-id=\"Описание-проекта-1.1\"><span class=\"toc-item-num\">1.1&nbsp;&nbsp;</span>Описание проекта</a></span></li><li><span><a href=\"#Цель-проекта\" data-toc-modified-id=\"Цель-проекта-1.2\"><span class=\"toc-item-num\">1.2&nbsp;&nbsp;</span>Цель проекта</a></span></li><li><span><a href=\"#Описание-исследования\" data-toc-modified-id=\"Описание-исследования-1.3\"><span class=\"toc-item-num\">1.3&nbsp;&nbsp;</span>Описание исследования</a></span></li><li><span><a href=\"#Задачи-исследования\" data-toc-modified-id=\"Задачи-исследования-1.4\"><span class=\"toc-item-num\">1.4&nbsp;&nbsp;</span>Задачи исследования</a></span></li><li><span><a href=\"#Условия-задачи\" data-toc-modified-id=\"Условия-задачи-1.5\"><span class=\"toc-item-num\">1.5&nbsp;&nbsp;</span>Условия задачи</a></span></li><li><span><a href=\"#Исходные-данные\" data-toc-modified-id=\"Исходные-данные-1.6\"><span class=\"toc-item-num\">1.6&nbsp;&nbsp;</span>Исходные данные</a></span></li><li><span><a href=\"#Используемые-библиотеки\" data-toc-modified-id=\"Используемые-библиотеки-1.7\"><span class=\"toc-item-num\">1.7&nbsp;&nbsp;</span>Используемые библиотеки</a></span></li><li><span><a href=\"#Используемые-константы\" data-toc-modified-id=\"Используемые-константы-1.8\"><span class=\"toc-item-num\">1.8&nbsp;&nbsp;</span>Используемые константы</a></span></li><li><span><a href=\"#Свои-функции-использумые-в-проекте\" data-toc-modified-id=\"Свои-функции-использумые-в-проекте-1.9\"><span class=\"toc-item-num\">1.9&nbsp;&nbsp;</span>Свои функции использумые в проекте</a></span></li></ul></li><li><span><a href=\"#Подготовка\" data-toc-modified-id=\"Подготовка-2\"><span class=\"toc-item-num\">2&nbsp;&nbsp;</span>Подготовка</a></span><ul class=\"toc-item\"><li><span><a href=\"#Загрузка-данных\" data-toc-modified-id=\"Загрузка-данных-2.1\"><span class=\"toc-item-num\">2.1&nbsp;&nbsp;</span>Загрузка данных</a></span></li><li><span><a href=\"#Выделение-сэмпла-для-ускорения-тестирования-модели\" data-toc-modified-id=\"Выделение-сэмпла-для-ускорения-тестирования-модели-2.2\"><span class=\"toc-item-num\">2.2&nbsp;&nbsp;</span>Выделение сэмпла для ускорения тестирования модели</a></span></li><li><span><a href=\"#Очистка-текста\" data-toc-modified-id=\"Очистка-текста-2.3\"><span class=\"toc-item-num\">2.3&nbsp;&nbsp;</span>Очистка текста</a></span></li><li><span><a href=\"#Разделение-на-тренировочную-и-тестовую-выборки\" data-toc-modified-id=\"Разделение-на-тренировочную-и-тестовую-выборки-2.4\"><span class=\"toc-item-num\">2.4&nbsp;&nbsp;</span>Разделение на тренировочную и тестовую выборки</a></span></li></ul></li><li><span><a href=\"#Обучение\" data-toc-modified-id=\"Обучение-3\"><span class=\"toc-item-num\">3&nbsp;&nbsp;</span>Обучение</a></span></li><li><span><a href=\"#Выводы\" data-toc-modified-id=\"Выводы-4\"><span class=\"toc-item-num\">4&nbsp;&nbsp;</span>Выводы</a></span></li><li><span><a href=\"#Чек-лист-проверки\" data-toc-modified-id=\"Чек-лист-проверки-5\"><span class=\"toc-item-num\">5&nbsp;&nbsp;</span>Чек-лист проверки</a></span></li></ul></div>"
   ]
  },
  {
   "cell_type": "markdown",
   "metadata": {},
   "source": [
    "# Проект для «Викишоп»"
   ]
  },
  {
   "cell_type": "markdown",
   "metadata": {},
   "source": [
    "##  Введение"
   ]
  },
  {
   "cell_type": "markdown",
   "metadata": {},
   "source": [
    "### Описание проекта"
   ]
  },
  {
   "cell_type": "markdown",
   "metadata": {},
   "source": [
    "Интернет-магазин «Викишоп» запускает новый сервис. Теперь пользователи могут редактировать и дополнять описания товаров, как в вики-сообществах. То есть клиенты предлагают свои правки и комментируют изменения других. Магазину нужен инструмент, который будет искать токсичные комментарии и отправлять их на модерацию. "
   ]
  },
  {
   "cell_type": "markdown",
   "metadata": {},
   "source": [
    "### Цель проекта"
   ]
  },
  {
   "cell_type": "markdown",
   "metadata": {},
   "source": [
    "Обучить модель классифицировать комментарии на позитивные и негативные."
   ]
  },
  {
   "cell_type": "markdown",
   "metadata": {},
   "source": [
    "### Описание исследования"
   ]
  },
  {
   "cell_type": "markdown",
   "metadata": {},
   "source": [
    "В нашем распоряжении набор данных с разметкой о токсичности правок.\n",
    "Решить задачу можно как с помощью BERT, так и без этой нейронки."
   ]
  },
  {
   "cell_type": "markdown",
   "metadata": {},
   "source": [
    "### Задачи исследования"
   ]
  },
  {
   "cell_type": "markdown",
   "metadata": {},
   "source": [
    "1. Загрузить и подготовить данные.\n",
    "2. Обучить разные модели. \n",
    "3. Сделать выводы."
   ]
  },
  {
   "cell_type": "markdown",
   "metadata": {},
   "source": [
    "### Условия задачи"
   ]
  },
  {
   "cell_type": "markdown",
   "metadata": {},
   "source": [
    "Постройть модель со значением метрики качества *F1* не меньше 0.75. "
   ]
  },
  {
   "cell_type": "markdown",
   "metadata": {},
   "source": [
    "### Исходные данные"
   ]
  },
  {
   "cell_type": "markdown",
   "metadata": {},
   "source": [
    "Данные находятся в файле `toxic_comments.csv`. Столбец *text* в нём содержит текст комментария, а *toxic* — целевой признак."
   ]
  },
  {
   "cell_type": "markdown",
   "metadata": {},
   "source": [
    "###  Используемые библиотеки"
   ]
  },
  {
   "cell_type": "code",
   "execution_count": 1,
   "metadata": {},
   "outputs": [],
   "source": [
    "import os # для проверки наличия директорий при загрузке данных\n",
    "\n",
    "# библиотека для редактирования текста в HTML при выводе display()\n",
    "from IPython.core.display import HTML\n",
    "\n",
    "import pandas as pd\n",
    "import numpy as np\n",
    "import matplotlib.pyplot as plt\n",
    "\n",
    "import re #для использования регулярных выражения, для очистки текста\n",
    "\n",
    "from sklearn.model_selection import train_test_split\n",
    "from sklearn.feature_extraction.text import TfidfVectorizer\n",
    "from sklearn.ensemble import RandomForestClassifier\n",
    "from sklearn.linear_model import LogisticRegression\n",
    "from sklearn.svm import LinearSVC\n",
    "from sklearn.metrics import f1_score\n",
    "\n",
    "\n",
    "import spacy #лемматизация текста\n",
    "nlp = spacy.load(\"en_core_web_sm\")\n",
    "\n",
    "# Для связки GS+pieline\n",
    "from sklearn.pipeline import Pipeline\n",
    "from sklearn.model_selection import GridSearchCV\n",
    "\n",
    "#для отображения прогресса\n",
    "from tqdm.notebook import tqdm\n",
    "tqdm.pandas()\n",
    "\n",
    "from sklearn.metrics import classification_report"
   ]
  },
  {
   "cell_type": "markdown",
   "metadata": {},
   "source": [
    "### Используемые константы"
   ]
  },
  {
   "cell_type": "code",
   "execution_count": 2,
   "metadata": {},
   "outputs": [],
   "source": [
    "RANDOM_STATE = 42\n",
    "TEST_SIZE = 0.25"
   ]
  },
  {
   "cell_type": "markdown",
   "metadata": {},
   "source": [
    "### Свои функции использумые в проекте"
   ]
  },
  {
   "cell_type": "markdown",
   "metadata": {},
   "source": [
    "**Загрузка данных**"
   ]
  },
  {
   "cell_type": "code",
   "execution_count": 3,
   "metadata": {},
   "outputs": [],
   "source": [
    "def load_df(file, index='id'):\n",
    "    pth1 = f'/datasets/{file}'\n",
    "    pth2 = f'{file}'\n",
    "\n",
    "    if os.path.exists(pth1):\n",
    "        df = pd.read_csv(pth1, index_col=0, na_values=np.nan)\n",
    "    elif os.path.exists(pth2):\n",
    "        df = pd.read_csv(pth2, index_col=0, na_values=np.nan)\n",
    "    else:\n",
    "        print('Что-то пошло не так')\n",
    "    \n",
    "    return df"
   ]
  },
  {
   "cell_type": "markdown",
   "metadata": {},
   "source": [
    "**Функция вывода данных и их описания**"
   ]
  },
  {
   "cell_type": "code",
   "execution_count": 4,
   "metadata": {},
   "outputs": [],
   "source": [
    "def get_data_info(df):\n",
    "    display(df.head())\n",
    "    display(HTML('<br>'))\n",
    "    display(HTML('<font color=\"gray\"><b>Информации о датафрейме</b></font>'))\n",
    "    df.info()\n",
    "    display(HTML('<br>'))\n",
    "    display(HTML('<font color=\"gray\"><b>Описание данных</b></font>'))\n",
    "    display(df.describe().T)\n",
    "    display(HTML('<br>'))\n",
    "    display(HTML('<font color=\"gray\"><b>Количество пропусков</b></font>'))\n",
    "    display(df.isna().sum())\n",
    "    display(HTML('<br>'))\n",
    "    display(HTML('<font color=\"gray\"><b>Количество дубликатов</b></font>'))\n",
    "    display(df.duplicated().sum())\n",
    "    display(HTML('<br>'))"
   ]
  },
  {
   "cell_type": "markdown",
   "metadata": {},
   "source": [
    "**Функция очистки и лемматизации текста**"
   ]
  },
  {
   "cell_type": "code",
   "execution_count": 5,
   "metadata": {},
   "outputs": [],
   "source": [
    "def clean_lemmatize_text(text):\n",
    "    text = re.sub(r'\\n', ' ', text)  # Удаление переносов строк\n",
    "    text = re.sub(r'[^a-zA-Z\\s]', '', text)  # Удаление небуквенных символов\n",
    "    text = text.lower()  # Приведение к нижнему регистру\n",
    "    \n",
    "    lem_text = nlp(text)\n",
    "    return \" \".join([token.lemma_ for token in lem_text if not token.is_stop])"
   ]
  },
  {
   "cell_type": "markdown",
   "metadata": {},
   "source": [
    "## Подготовка"
   ]
  },
  {
   "cell_type": "markdown",
   "metadata": {},
   "source": [
    "### Загрузка данных"
   ]
  },
  {
   "cell_type": "code",
   "execution_count": 6,
   "metadata": {},
   "outputs": [],
   "source": [
    "data = load_df('toxic_comments.csv')"
   ]
  },
  {
   "cell_type": "code",
   "execution_count": 7,
   "metadata": {},
   "outputs": [
    {
     "data": {
      "text/html": [
       "<div>\n",
       "<style scoped>\n",
       "    .dataframe tbody tr th:only-of-type {\n",
       "        vertical-align: middle;\n",
       "    }\n",
       "\n",
       "    .dataframe tbody tr th {\n",
       "        vertical-align: top;\n",
       "    }\n",
       "\n",
       "    .dataframe thead th {\n",
       "        text-align: right;\n",
       "    }\n",
       "</style>\n",
       "<table border=\"1\" class=\"dataframe\">\n",
       "  <thead>\n",
       "    <tr style=\"text-align: right;\">\n",
       "      <th></th>\n",
       "      <th>text</th>\n",
       "      <th>toxic</th>\n",
       "    </tr>\n",
       "  </thead>\n",
       "  <tbody>\n",
       "    <tr>\n",
       "      <th>0</th>\n",
       "      <td>Explanation\\nWhy the edits made under my usern...</td>\n",
       "      <td>0</td>\n",
       "    </tr>\n",
       "    <tr>\n",
       "      <th>1</th>\n",
       "      <td>D'aww! He matches this background colour I'm s...</td>\n",
       "      <td>0</td>\n",
       "    </tr>\n",
       "    <tr>\n",
       "      <th>2</th>\n",
       "      <td>Hey man, I'm really not trying to edit war. It...</td>\n",
       "      <td>0</td>\n",
       "    </tr>\n",
       "    <tr>\n",
       "      <th>3</th>\n",
       "      <td>\"\\nMore\\nI can't make any real suggestions on ...</td>\n",
       "      <td>0</td>\n",
       "    </tr>\n",
       "    <tr>\n",
       "      <th>4</th>\n",
       "      <td>You, sir, are my hero. Any chance you remember...</td>\n",
       "      <td>0</td>\n",
       "    </tr>\n",
       "  </tbody>\n",
       "</table>\n",
       "</div>"
      ],
      "text/plain": [
       "                                                text  toxic\n",
       "0  Explanation\\nWhy the edits made under my usern...      0\n",
       "1  D'aww! He matches this background colour I'm s...      0\n",
       "2  Hey man, I'm really not trying to edit war. It...      0\n",
       "3  \"\\nMore\\nI can't make any real suggestions on ...      0\n",
       "4  You, sir, are my hero. Any chance you remember...      0"
      ]
     },
     "metadata": {},
     "output_type": "display_data"
    },
    {
     "data": {
      "text/html": [
       "<br>"
      ],
      "text/plain": [
       "<IPython.core.display.HTML object>"
      ]
     },
     "metadata": {},
     "output_type": "display_data"
    },
    {
     "data": {
      "text/html": [
       "<font color=\"gray\"><b>Информации о датафрейме</b></font>"
      ],
      "text/plain": [
       "<IPython.core.display.HTML object>"
      ]
     },
     "metadata": {},
     "output_type": "display_data"
    },
    {
     "name": "stdout",
     "output_type": "stream",
     "text": [
      "<class 'pandas.core.frame.DataFrame'>\n",
      "Int64Index: 159292 entries, 0 to 159450\n",
      "Data columns (total 2 columns):\n",
      " #   Column  Non-Null Count   Dtype \n",
      "---  ------  --------------   ----- \n",
      " 0   text    159292 non-null  object\n",
      " 1   toxic   159292 non-null  int64 \n",
      "dtypes: int64(1), object(1)\n",
      "memory usage: 3.6+ MB\n"
     ]
    },
    {
     "data": {
      "text/html": [
       "<br>"
      ],
      "text/plain": [
       "<IPython.core.display.HTML object>"
      ]
     },
     "metadata": {},
     "output_type": "display_data"
    },
    {
     "data": {
      "text/html": [
       "<font color=\"gray\"><b>Описание данных</b></font>"
      ],
      "text/plain": [
       "<IPython.core.display.HTML object>"
      ]
     },
     "metadata": {},
     "output_type": "display_data"
    },
    {
     "data": {
      "text/html": [
       "<div>\n",
       "<style scoped>\n",
       "    .dataframe tbody tr th:only-of-type {\n",
       "        vertical-align: middle;\n",
       "    }\n",
       "\n",
       "    .dataframe tbody tr th {\n",
       "        vertical-align: top;\n",
       "    }\n",
       "\n",
       "    .dataframe thead th {\n",
       "        text-align: right;\n",
       "    }\n",
       "</style>\n",
       "<table border=\"1\" class=\"dataframe\">\n",
       "  <thead>\n",
       "    <tr style=\"text-align: right;\">\n",
       "      <th></th>\n",
       "      <th>count</th>\n",
       "      <th>mean</th>\n",
       "      <th>std</th>\n",
       "      <th>min</th>\n",
       "      <th>25%</th>\n",
       "      <th>50%</th>\n",
       "      <th>75%</th>\n",
       "      <th>max</th>\n",
       "    </tr>\n",
       "  </thead>\n",
       "  <tbody>\n",
       "    <tr>\n",
       "      <th>toxic</th>\n",
       "      <td>159292.0</td>\n",
       "      <td>0.101612</td>\n",
       "      <td>0.302139</td>\n",
       "      <td>0.0</td>\n",
       "      <td>0.0</td>\n",
       "      <td>0.0</td>\n",
       "      <td>0.0</td>\n",
       "      <td>1.0</td>\n",
       "    </tr>\n",
       "  </tbody>\n",
       "</table>\n",
       "</div>"
      ],
      "text/plain": [
       "          count      mean       std  min  25%  50%  75%  max\n",
       "toxic  159292.0  0.101612  0.302139  0.0  0.0  0.0  0.0  1.0"
      ]
     },
     "metadata": {},
     "output_type": "display_data"
    },
    {
     "data": {
      "text/html": [
       "<br>"
      ],
      "text/plain": [
       "<IPython.core.display.HTML object>"
      ]
     },
     "metadata": {},
     "output_type": "display_data"
    },
    {
     "data": {
      "text/html": [
       "<font color=\"gray\"><b>Количество пропусков</b></font>"
      ],
      "text/plain": [
       "<IPython.core.display.HTML object>"
      ]
     },
     "metadata": {},
     "output_type": "display_data"
    },
    {
     "data": {
      "text/plain": [
       "text     0\n",
       "toxic    0\n",
       "dtype: int64"
      ]
     },
     "metadata": {},
     "output_type": "display_data"
    },
    {
     "data": {
      "text/html": [
       "<br>"
      ],
      "text/plain": [
       "<IPython.core.display.HTML object>"
      ]
     },
     "metadata": {},
     "output_type": "display_data"
    },
    {
     "data": {
      "text/html": [
       "<font color=\"gray\"><b>Количество дубликатов</b></font>"
      ],
      "text/plain": [
       "<IPython.core.display.HTML object>"
      ]
     },
     "metadata": {},
     "output_type": "display_data"
    },
    {
     "data": {
      "text/plain": [
       "0"
      ]
     },
     "metadata": {},
     "output_type": "display_data"
    },
    {
     "data": {
      "text/html": [
       "<br>"
      ],
      "text/plain": [
       "<IPython.core.display.HTML object>"
      ]
     },
     "metadata": {},
     "output_type": "display_data"
    }
   ],
   "source": [
    "get_data_info(data)"
   ]
  },
  {
   "cell_type": "markdown",
   "metadata": {},
   "source": [
    "### Выделение сэмпла для ускорения тестирования модели"
   ]
  },
  {
   "cell_type": "markdown",
   "metadata": {},
   "source": [
    "**Распределение таргета до сэмлирования**"
   ]
  },
  {
   "cell_type": "code",
   "execution_count": 8,
   "metadata": {},
   "outputs": [
    {
     "data": {
      "image/png": "[encoded data removed]",
      "text/plain": [
       "<Figure size 432x288 with 1 Axes>"
      ]
     },
     "metadata": {
      "needs_background": "light"
     },
     "output_type": "display_data"
    }
   ],
   "source": [
    "data['toxic'].value_counts(normalize=(0,1)).plot(kind='bar', grid=True)\n",
    "plt.show()"
   ]
  },
  {
   "cell_type": "code",
   "execution_count": 9,
   "metadata": {},
   "outputs": [],
   "source": [
    "data_sample = data.sample(frac=0.25, random_state=RANDOM_STATE)"
   ]
  },
  {
   "cell_type": "code",
   "execution_count": 10,
   "metadata": {},
   "outputs": [
    {
     "name": "stdout",
     "output_type": "stream",
     "text": [
      "<class 'pandas.core.frame.DataFrame'>\n",
      "Int64Index: 39823 entries, 31055 to 69305\n",
      "Data columns (total 2 columns):\n",
      " #   Column  Non-Null Count  Dtype \n",
      "---  ------  --------------  ----- \n",
      " 0   text    39823 non-null  object\n",
      " 1   toxic   39823 non-null  int64 \n",
      "dtypes: int64(1), object(1)\n",
      "memory usage: 933.4+ KB\n"
     ]
    }
   ],
   "source": [
    "data_sample.info()"
   ]
  },
  {
   "cell_type": "markdown",
   "metadata": {},
   "source": [
    "**Распределение таргета после сэмлирования**"
   ]
  },
  {
   "cell_type": "code",
   "execution_count": 11,
   "metadata": {},
   "outputs": [
    {
     "data": {
      "image/png": "[encoded data removed]",
      "text/plain": [
       "<Figure size 432x288 with 1 Axes>"
      ]
     },
     "metadata": {
      "needs_background": "light"
     },
     "output_type": "display_data"
    }
   ],
   "source": [
    "data_sample['toxic'].value_counts(normalize=(0,1)).plot(kind='bar', grid=True)\n",
    "plt.show()"
   ]
  },
  {
   "cell_type": "markdown",
   "metadata": {},
   "source": [
    "### Очистка текста"
   ]
  },
  {
   "cell_type": "markdown",
   "metadata": {},
   "source": [
    "**Проверка функции очистки и лемматизации текста**"
   ]
  },
  {
   "cell_type": "code",
   "execution_count": 12,
   "metadata": {},
   "outputs": [
    {
     "data": {
      "text/html": [
       "<div>\n",
       "<style scoped>\n",
       "    .dataframe tbody tr th:only-of-type {\n",
       "        vertical-align: middle;\n",
       "    }\n",
       "\n",
       "    .dataframe tbody tr th {\n",
       "        vertical-align: top;\n",
       "    }\n",
       "\n",
       "    .dataframe thead th {\n",
       "        text-align: right;\n",
       "    }\n",
       "</style>\n",
       "<table border=\"1\" class=\"dataframe\">\n",
       "  <thead>\n",
       "    <tr style=\"text-align: right;\">\n",
       "      <th></th>\n",
       "      <th>text</th>\n",
       "    </tr>\n",
       "  </thead>\n",
       "  <tbody>\n",
       "    <tr>\n",
       "      <th>0</th>\n",
       "      <td>The striped bats are hanging on their feet for...</td>\n",
       "    </tr>\n",
       "    <tr>\n",
       "      <th>1</th>\n",
       "      <td>you should be ashamed of yourself went worked</td>\n",
       "    </tr>\n",
       "  </tbody>\n",
       "</table>\n",
       "</div>"
      ],
      "text/plain": [
       "                                                text\n",
       "0  The striped bats are hanging on their feet for...\n",
       "1      you should be ashamed of yourself went worked"
      ]
     },
     "metadata": {},
     "output_type": "display_data"
    },
    {
     "data": {
      "text/plain": [
       "0    stripe bat hang foot good\n",
       "1              ashamed go work\n",
       "Name: text, dtype: object"
      ]
     },
     "metadata": {},
     "output_type": "display_data"
    }
   ],
   "source": [
    "sentence1 = \"The striped bats are hanging on their feet for best\\n\"\n",
    "sentence2 = \"you should be ashamed of yourself went worked\"\n",
    "df_my = pd.DataFrame([sentence1, sentence2], columns = ['text'])\n",
    "display(df_my)\n",
    "\n",
    "\n",
    "display(df_my['text'].apply(clean_lemmatize_text))"
   ]
  },
  {
   "cell_type": "markdown",
   "metadata": {},
   "source": [
    "**Очищаем и лемматизируем текст**"
   ]
  },
  {
   "cell_type": "code",
   "execution_count": 13,
   "metadata": {},
   "outputs": [
    {
     "data": {
      "application/vnd.jupyter.widget-view+json": {
       "model_id": "1797ea51db0449a6beea60eb00450565",
       "version_major": 2,
       "version_minor": 0
      },
      "text/plain": [
       "  0%|          | 0/39823 [00:00<?, ?it/s]"
      ]
     },
     "metadata": {},
     "output_type": "display_data"
    },
    {
     "data": {
      "text/html": [
       "<div>\n",
       "<style scoped>\n",
       "    .dataframe tbody tr th:only-of-type {\n",
       "        vertical-align: middle;\n",
       "    }\n",
       "\n",
       "    .dataframe tbody tr th {\n",
       "        vertical-align: top;\n",
       "    }\n",
       "\n",
       "    .dataframe thead th {\n",
       "        text-align: right;\n",
       "    }\n",
       "</style>\n",
       "<table border=\"1\" class=\"dataframe\">\n",
       "  <thead>\n",
       "    <tr style=\"text-align: right;\">\n",
       "      <th></th>\n",
       "      <th>text</th>\n",
       "      <th>toxic</th>\n",
       "      <th>clean_text</th>\n",
       "    </tr>\n",
       "  </thead>\n",
       "  <tbody>\n",
       "    <tr>\n",
       "      <th>31055</th>\n",
       "      <td>Sometime back, I just happened to log on to ww...</td>\n",
       "      <td>0</td>\n",
       "      <td>happen log wwwizoomin friend reference amazed ...</td>\n",
       "    </tr>\n",
       "    <tr>\n",
       "      <th>102929</th>\n",
       "      <td>\"\\n\\nThe latest edit is much better, don't mak...</td>\n",
       "      <td>0</td>\n",
       "      <td>late edit well not article state super</td>\n",
       "    </tr>\n",
       "    <tr>\n",
       "      <th>67385</th>\n",
       "      <td>\" October 2007 (UTC)\\n\\nI would think you'd be...</td>\n",
       "      <td>0</td>\n",
       "      <td>october   utc   think d able point immune ob...</td>\n",
       "    </tr>\n",
       "    <tr>\n",
       "      <th>81167</th>\n",
       "      <td>Thanks for the tip on the currency translation...</td>\n",
       "      <td>0</td>\n",
       "      <td>thank tip currency translation   think</td>\n",
       "    </tr>\n",
       "    <tr>\n",
       "      <th>90182</th>\n",
       "      <td>I would argue that if content on the Con in co...</td>\n",
       "      <td>0</td>\n",
       "      <td>argue content con comparison art music proport...</td>\n",
       "    </tr>\n",
       "  </tbody>\n",
       "</table>\n",
       "</div>"
      ],
      "text/plain": [
       "                                                     text  toxic  \\\n",
       "31055   Sometime back, I just happened to log on to ww...      0   \n",
       "102929  \"\\n\\nThe latest edit is much better, don't mak...      0   \n",
       "67385   \" October 2007 (UTC)\\n\\nI would think you'd be...      0   \n",
       "81167   Thanks for the tip on the currency translation...      0   \n",
       "90182   I would argue that if content on the Con in co...      0   \n",
       "\n",
       "                                               clean_text  \n",
       "31055   happen log wwwizoomin friend reference amazed ...  \n",
       "102929          late edit well not article state super     \n",
       "67385     october   utc   think d able point immune ob...  \n",
       "81167              thank tip currency translation   think  \n",
       "90182   argue content con comparison art music proport...  "
      ]
     },
     "execution_count": 13,
     "metadata": {},
     "output_type": "execute_result"
    }
   ],
   "source": [
    "data_sample['clean_text'] = data_sample['text'].progress_apply(clean_lemmatize_text)\n",
    "data_sample.head()"
   ]
  },
  {
   "cell_type": "markdown",
   "metadata": {},
   "source": [
    "### Разделение на тренировочную и тестовую выборки"
   ]
  },
  {
   "cell_type": "code",
   "execution_count": 14,
   "metadata": {},
   "outputs": [],
   "source": [
    "# Разделение данных на признаки и целевую переменную\n",
    "X = data_sample['clean_text']\n",
    "y = data_sample['toxic']\n",
    "\n",
    "# Разделение на тренировочную и тестовую выборки\n",
    "X_train, X_test, y_train, y_test = train_test_split(X, y, test_size=0.2, random_state=RANDOM_STATE, stratify=y)"
   ]
  },
  {
   "cell_type": "code",
   "execution_count": 15,
   "metadata": {},
   "outputs": [
    {
     "data": {
      "text/plain": [
       "((31858,), (7965,))"
      ]
     },
     "execution_count": 15,
     "metadata": {},
     "output_type": "execute_result"
    }
   ],
   "source": [
    "X_train.shape, X_test.shape"
   ]
  },
  {
   "cell_type": "markdown",
   "metadata": {},
   "source": [
    "## Обучение"
   ]
  },
  {
   "cell_type": "code",
   "execution_count": 16,
   "metadata": {},
   "outputs": [],
   "source": [
    "# Пайплан моделей\n",
    "\n",
    "pipelines = {\n",
    "    'logistic_regression': Pipeline([\n",
    "        ('tfidf', TfidfVectorizer()),\n",
    "        ('classifier', LogisticRegression(random_state=RANDOM_STATE, max_iter=1000))\n",
    "    ]),\n",
    "    'linear_svc': Pipeline([\n",
    "        ('tfidf', TfidfVectorizer()),\n",
    "        ('classifier', LinearSVC(random_state=RANDOM_STATE, max_iter=1000))\n",
    "    ]),\n",
    "    'random_forest': Pipeline([\n",
    "        ('tfidf', TfidfVectorizer()),\n",
    "        ('classifier', RandomForestClassifier(random_state=RANDOM_STATE, n_jobs=-1))\n",
    "    ])\n",
    "}"
   ]
  },
  {
   "cell_type": "code",
   "execution_count": 17,
   "metadata": {},
   "outputs": [],
   "source": [
    "# Параметры моделей\n",
    "\n",
    "param_grids = {\n",
    "    'logistic_regression': {\n",
    "        'tfidf__max_features': [5000],\n",
    "        'tfidf__ngram_range': [(1, 2)],\n",
    "        'classifier__C': [1, 10]\n",
    "    },\n",
    "    'linear_svc': {\n",
    "        'tfidf__max_features': [5000],\n",
    "        'tfidf__ngram_range': [(1, 2)],\n",
    "        'classifier__C': [1, 10]\n",
    "    },\n",
    "    'random_forest': {\n",
    "        'tfidf__max_features': [5000],\n",
    "        'tfidf__ngram_range': [(1, 2)],\n",
    "        'classifier__n_estimators': [50, 100],\n",
    "        'classifier__max_depth': [10, 20]\n",
    "    }\n",
    "}"
   ]
  },
  {
   "cell_type": "code",
   "execution_count": 18,
   "metadata": {},
   "outputs": [
    {
     "name": "stdout",
     "output_type": "stream",
     "text": [
      "Fitting 3 folds for each of 2 candidates, totalling 6 fits\n",
      "Fitting 3 folds for each of 2 candidates, totalling 6 fits\n",
      "Fitting 3 folds for each of 4 candidates, totalling 12 fits\n"
     ]
    },
    {
     "data": {
      "text/plain": [
       "{'logistic_regression': {'best_params': {'classifier__C': 10,\n",
       "   'tfidf__max_features': 5000,\n",
       "   'tfidf__ngram_range': (1, 2)},\n",
       "  'best_f1': 0.7213502936682835},\n",
       " 'linear_svc': {'best_params': {'classifier__C': 1,\n",
       "   'tfidf__max_features': 5000,\n",
       "   'tfidf__ngram_range': (1, 2)},\n",
       "  'best_f1': 0.7243064711293759},\n",
       " 'random_forest': {'best_params': {'classifier__max_depth': 20,\n",
       "   'classifier__n_estimators': 50,\n",
       "   'tfidf__max_features': 5000,\n",
       "   'tfidf__ngram_range': (1, 2)},\n",
       "  'best_f1': 0.19563425350659394}}"
      ]
     },
     "execution_count": 18,
     "metadata": {},
     "output_type": "execute_result"
    }
   ],
   "source": [
    "# Запуск GridSearchCV для каждой модели\n",
    "results = {}\n",
    "\n",
    "for model_name, pipeline in pipelines.items():\n",
    "    grid_search = GridSearchCV(pipeline, param_grids[model_name], scoring='f1', cv=3, n_jobs=-1, verbose=1)\n",
    "    grid_search.fit(X_train, y_train)\n",
    "    \n",
    "    best_params = grid_search.best_params_\n",
    "    best_f1 = grid_search.best_score_\n",
    "\n",
    "    results[model_name] = {\n",
    "        'best_params': best_params,\n",
    "        'best_f1': best_f1}\n",
    "    \n",
    "\n",
    "results"
   ]
  },
  {
   "cell_type": "code",
   "execution_count": 19,
   "metadata": {},
   "outputs": [
    {
     "data": {
      "text/plain": [
       "'test_f1: 0.7636621717530163'"
      ]
     },
     "metadata": {},
     "output_type": "display_data"
    }
   ],
   "source": [
    "# Выбор лучшей модели\n",
    "best_model_name = max(results, key=lambda x: results[x]['best_f1'])\n",
    "best_model_params = results[best_model_name]['best_params']\n",
    "\n",
    "# Получение лучшей модели из pipelines и ее обучение\n",
    "best_pipeline = pipelines[best_model_name]\n",
    "best_pipeline.set_params(**best_model_params)\n",
    "best_pipeline.fit(X_train, y_train)\n",
    "\n",
    "# Предсказания на тестовой выборке\n",
    "y_test_pred = best_pipeline.predict(X_test)\n",
    "test_f1 = f1_score(y_test, y_test_pred)\n",
    "\n",
    "display(f'test_f1: {test_f1}')"
   ]
  },
  {
   "cell_type": "markdown",
   "metadata": {},
   "source": [
    "## Выводы"
   ]
  },
  {
   "cell_type": "markdown",
   "metadata": {},
   "source": [
    "**Загрузка данных**\n",
    "\n",
    "Датасет содержит 159292 строк. Признаки данных:\n",
    " -  `text` - текстовый комментарий;\n",
    " - `toxic` - классификация токсичности комментария.\n",
    "Пропущенных данных и дублей нет.\n",
    "Токсичных комментариев в датасете ~ 10%.\n",
    "\n",
    "**Подготовка данных**\n",
    "\n",
    "- Для построения моделей использовался сэмпл от данных размером 25% от общей выборки - 39823 строк. \n",
    "- Данные были очищены с помощью регулярных выражений и лимматизировыны с помощью библиотеки `spacy`.\n",
    "- Разделили выборку на тренировочную и тестовую в соотношении 80:20.\n",
    "\n",
    "**Обучение моделей**\n",
    "\n",
    "- Использовали связку GridSearchCV + pipeline. \n",
    "- Векторайз - TfidfVectorizer\n",
    "- Используемые модели:\n",
    "    - logistic_regression,\n",
    "    - linear_svc,\n",
    "    - random_forest.\n",
    "\n",
    "**Оценка моделей**\n",
    "\n",
    "Лучшей моделью по метрике `F1` стала logistic_regression, показав на тесте ~ 0.764"
   ]
  },
  {
   "cell_type": "markdown",
   "metadata": {},
   "source": [
    "## Чек-лист проверки"
   ]
  },
  {
   "cell_type": "markdown",
   "metadata": {},
   "source": [
    "- [x]  Jupyter Notebook открыт\n",
    "- [x]  Весь код выполняется без ошибок\n",
    "- [x]  Ячейки с кодом расположены в порядке исполнения\n",
    "- [x]  Данные загружены и подготовлены\n",
    "- [x]  Модели обучены\n",
    "- [x]  Значение метрики *F1* не меньше 0.75\n",
    "- [x]  Выводы написаны"
   ]
  }
 ],
 "metadata": {
  "ExecuteTimeLog": [
   {
    "duration": 52,
    "start_time": "2024-11-15T18:01:54.932Z"
   },
   {
    "duration": 7,
    "start_time": "2024-11-16T11:28:45.907Z"
   },
   {
    "duration": 4,
    "start_time": "2024-11-16T11:30:49.013Z"
   },
   {
    "duration": 54,
    "start_time": "2024-11-16T11:35:52.529Z"
   },
   {
    "duration": 11,
    "start_time": "2024-11-16T11:36:00.962Z"
   },
   {
    "duration": 33,
    "start_time": "2024-11-16T11:36:00.975Z"
   },
   {
    "duration": 43,
    "start_time": "2024-11-16T11:36:01.009Z"
   },
   {
    "duration": 7,
    "start_time": "2024-11-16T11:36:26.789Z"
   },
   {
    "duration": 15,
    "start_time": "2024-11-16T11:36:26.797Z"
   },
   {
    "duration": 3,
    "start_time": "2024-11-16T11:36:26.813Z"
   },
   {
    "duration": 73,
    "start_time": "2024-11-16T11:36:26.817Z"
   },
   {
    "duration": 383,
    "start_time": "2024-11-16T11:36:58.977Z"
   },
   {
    "duration": 1234,
    "start_time": "2024-11-16T11:37:01.770Z"
   },
   {
    "duration": 12,
    "start_time": "2024-11-16T11:37:12.121Z"
   },
   {
    "duration": 3,
    "start_time": "2024-11-16T11:39:48.001Z"
   },
   {
    "duration": 824,
    "start_time": "2024-11-16T11:39:50.434Z"
   },
   {
    "duration": 6,
    "start_time": "2024-11-16T11:39:51.978Z"
   },
   {
    "duration": 390,
    "start_time": "2024-11-16T11:39:59.344Z"
   },
   {
    "duration": 3,
    "start_time": "2024-11-16T11:39:59.736Z"
   },
   {
    "duration": 7,
    "start_time": "2024-11-16T11:39:59.740Z"
   },
   {
    "duration": 914,
    "start_time": "2024-11-16T11:39:59.748Z"
   },
   {
    "duration": 12,
    "start_time": "2024-11-16T11:40:00.664Z"
   },
   {
    "duration": 4,
    "start_time": "2024-11-16T11:46:18.464Z"
   },
   {
    "duration": 815,
    "start_time": "2024-11-16T11:46:21.855Z"
   },
   {
    "duration": 6,
    "start_time": "2024-11-16T11:46:23.646Z"
   },
   {
    "duration": 5,
    "start_time": "2024-11-16T11:46:26.713Z"
   },
   {
    "duration": 3,
    "start_time": "2024-11-16T11:52:24.549Z"
   },
   {
    "duration": 553,
    "start_time": "2024-11-16T11:52:38.883Z"
   },
   {
    "duration": 344,
    "start_time": "2024-11-16T13:27:23.589Z"
   },
   {
    "duration": 2,
    "start_time": "2024-11-16T13:27:23.935Z"
   },
   {
    "duration": 12,
    "start_time": "2024-11-16T13:27:23.938Z"
   },
   {
    "duration": 7,
    "start_time": "2024-11-16T13:27:23.951Z"
   },
   {
    "duration": 903,
    "start_time": "2024-11-16T13:27:23.959Z"
   },
   {
    "duration": 567,
    "start_time": "2024-11-16T13:27:24.864Z"
   },
   {
    "duration": 346,
    "start_time": "2024-11-16T14:29:37.808Z"
   },
   {
    "duration": 14,
    "start_time": "2024-11-16T14:29:38.156Z"
   },
   {
    "duration": 4,
    "start_time": "2024-11-16T14:29:38.175Z"
   },
   {
    "duration": 23,
    "start_time": "2024-11-16T14:29:38.180Z"
   },
   {
    "duration": 1523,
    "start_time": "2024-11-16T14:29:38.205Z"
   },
   {
    "duration": 596,
    "start_time": "2024-11-16T14:29:39.730Z"
   },
   {
    "duration": 371,
    "start_time": "2024-11-16T14:32:07.738Z"
   },
   {
    "duration": 2,
    "start_time": "2024-11-16T14:32:08.111Z"
   },
   {
    "duration": 18,
    "start_time": "2024-11-16T14:32:08.114Z"
   },
   {
    "duration": 14,
    "start_time": "2024-11-16T14:32:08.133Z"
   },
   {
    "duration": 985,
    "start_time": "2024-11-16T14:32:08.148Z"
   },
   {
    "duration": 593,
    "start_time": "2024-11-16T14:32:09.134Z"
   },
   {
    "duration": 385,
    "start_time": "2024-11-16T14:32:09.729Z"
   },
   {
    "duration": 3,
    "start_time": "2024-11-16T14:32:41.330Z"
   },
   {
    "duration": 88,
    "start_time": "2024-11-16T14:32:47.271Z"
   },
   {
    "duration": 2,
    "start_time": "2024-11-16T15:54:50.113Z"
   },
   {
    "duration": 8,
    "start_time": "2024-11-16T15:54:54.383Z"
   },
   {
    "duration": 771,
    "start_time": "2024-11-16T15:54:59.718Z"
   },
   {
    "duration": 55,
    "start_time": "2024-11-16T15:55:03.417Z"
   },
   {
    "duration": 4,
    "start_time": "2024-11-16T15:57:14.456Z"
   },
   {
    "duration": 5,
    "start_time": "2024-11-16T15:58:57.882Z"
   },
   {
    "duration": 52,
    "start_time": "2024-11-16T15:59:47.018Z"
   },
   {
    "duration": 3,
    "start_time": "2024-11-16T16:00:29.842Z"
   },
   {
    "duration": 17,
    "start_time": "2024-11-16T16:00:34.619Z"
   },
   {
    "duration": 6,
    "start_time": "2024-11-16T16:01:41.666Z"
   },
   {
    "duration": 1235,
    "start_time": "2024-11-16T16:03:29.806Z"
   },
   {
    "duration": 2,
    "start_time": "2024-11-16T16:03:31.043Z"
   },
   {
    "duration": 20,
    "start_time": "2024-11-16T16:03:31.046Z"
   },
   {
    "duration": 36,
    "start_time": "2024-11-16T16:03:31.068Z"
   },
   {
    "duration": 943,
    "start_time": "2024-11-16T16:03:31.106Z"
   },
   {
    "duration": 550,
    "start_time": "2024-11-16T16:03:32.051Z"
   },
   {
    "duration": 91,
    "start_time": "2024-11-16T16:03:32.602Z"
   },
   {
    "duration": 51,
    "start_time": "2024-11-16T16:03:32.694Z"
   },
   {
    "duration": 16,
    "start_time": "2024-11-16T16:03:32.746Z"
   },
   {
    "duration": 7,
    "start_time": "2024-11-16T16:03:32.763Z"
   },
   {
    "duration": 183,
    "start_time": "2024-11-16T16:03:32.772Z"
   },
   {
    "duration": 13,
    "start_time": "2024-11-16T16:03:43.492Z"
   },
   {
    "duration": 13,
    "start_time": "2024-11-16T16:03:50.924Z"
   },
   {
    "duration": 6,
    "start_time": "2024-11-16T16:04:02.069Z"
   },
   {
    "duration": 14,
    "start_time": "2024-11-16T16:04:15.228Z"
   },
   {
    "duration": 7,
    "start_time": "2024-11-16T16:04:17.365Z"
   },
   {
    "duration": 19,
    "start_time": "2024-11-16T16:04:19.260Z"
   },
   {
    "duration": 14,
    "start_time": "2024-11-16T16:04:29.797Z"
   },
   {
    "duration": 4,
    "start_time": "2024-11-16T16:04:41.532Z"
   },
   {
    "duration": 3,
    "start_time": "2024-11-16T16:05:06.700Z"
   },
   {
    "duration": 4,
    "start_time": "2024-11-16T16:05:13.052Z"
   },
   {
    "duration": 4,
    "start_time": "2024-11-16T16:05:16.357Z"
   },
   {
    "duration": 4,
    "start_time": "2024-11-16T16:05:30.469Z"
   },
   {
    "duration": 7,
    "start_time": "2024-11-16T16:05:47.484Z"
   },
   {
    "duration": 7,
    "start_time": "2024-11-16T16:05:56.613Z"
   },
   {
    "duration": 4,
    "start_time": "2024-11-16T16:06:08.990Z"
   },
   {
    "duration": 5,
    "start_time": "2024-11-16T16:06:19.885Z"
   },
   {
    "duration": 1244,
    "start_time": "2024-11-16T16:07:15.008Z"
   },
   {
    "duration": 3,
    "start_time": "2024-11-16T16:07:16.254Z"
   },
   {
    "duration": 4,
    "start_time": "2024-11-16T16:07:16.259Z"
   },
   {
    "duration": 5,
    "start_time": "2024-11-16T16:07:16.265Z"
   },
   {
    "duration": 890,
    "start_time": "2024-11-16T16:07:16.272Z"
   },
   {
    "duration": 676,
    "start_time": "2024-11-16T16:07:17.164Z"
   },
   {
    "duration": 99,
    "start_time": "2024-11-16T16:07:17.841Z"
   },
   {
    "duration": 315816,
    "start_time": "2024-11-16T16:07:17.941Z"
   },
   {
    "duration": 109,
    "start_time": "2024-11-16T16:12:46.876Z"
   },
   {
    "duration": 3,
    "start_time": "2024-11-16T16:13:06.913Z"
   },
   {
    "duration": 19,
    "start_time": "2024-11-16T16:13:15.779Z"
   },
   {
    "duration": 79,
    "start_time": "2024-11-16T16:13:27.894Z"
   },
   {
    "duration": 1299,
    "start_time": "2024-11-16T16:14:25.430Z"
   },
   {
    "duration": 3,
    "start_time": "2024-11-16T16:14:26.730Z"
   },
   {
    "duration": 47,
    "start_time": "2024-11-16T16:14:26.734Z"
   },
   {
    "duration": 4,
    "start_time": "2024-11-16T16:14:26.783Z"
   },
   {
    "duration": 913,
    "start_time": "2024-11-16T16:14:26.788Z"
   },
   {
    "duration": 574,
    "start_time": "2024-11-16T16:14:27.703Z"
   },
   {
    "duration": 101,
    "start_time": "2024-11-16T16:14:28.278Z"
   },
   {
    "duration": 29,
    "start_time": "2024-11-16T16:14:28.381Z"
   },
   {
    "duration": 103,
    "start_time": "2024-11-16T16:14:28.412Z"
   },
   {
    "duration": 219,
    "start_time": "2024-11-16T16:14:28.517Z"
   },
   {
    "duration": 42,
    "start_time": "2024-11-16T16:15:33.564Z"
   },
   {
    "duration": 1221,
    "start_time": "2024-11-16T16:15:38.183Z"
   },
   {
    "duration": 2,
    "start_time": "2024-11-16T16:15:39.406Z"
   },
   {
    "duration": 3,
    "start_time": "2024-11-16T16:15:39.410Z"
   },
   {
    "duration": 7,
    "start_time": "2024-11-16T16:15:39.414Z"
   },
   {
    "duration": 919,
    "start_time": "2024-11-16T16:15:39.423Z"
   },
   {
    "duration": 576,
    "start_time": "2024-11-16T16:15:40.343Z"
   },
   {
    "duration": 96,
    "start_time": "2024-11-16T16:15:40.920Z"
   },
   {
    "duration": 61,
    "start_time": "2024-11-16T16:15:41.017Z"
   },
   {
    "duration": 88,
    "start_time": "2024-11-16T16:15:41.079Z"
   },
   {
    "duration": 12999,
    "start_time": "2024-11-16T16:15:41.169Z"
   },
   {
    "duration": 43,
    "start_time": "2024-11-16T16:16:10.424Z"
   },
   {
    "duration": 1208,
    "start_time": "2024-11-16T16:16:15.419Z"
   },
   {
    "duration": 3,
    "start_time": "2024-11-16T16:16:16.629Z"
   },
   {
    "duration": 19,
    "start_time": "2024-11-16T16:16:16.633Z"
   },
   {
    "duration": 6,
    "start_time": "2024-11-16T16:16:16.653Z"
   },
   {
    "duration": 941,
    "start_time": "2024-11-16T16:16:16.661Z"
   },
   {
    "duration": 587,
    "start_time": "2024-11-16T16:16:17.604Z"
   },
   {
    "duration": 96,
    "start_time": "2024-11-16T16:16:18.193Z"
   },
   {
    "duration": 46,
    "start_time": "2024-11-16T16:16:18.290Z"
   },
   {
    "duration": 109,
    "start_time": "2024-11-16T16:16:18.337Z"
   },
   {
    "duration": 23645,
    "start_time": "2024-11-16T16:16:18.447Z"
   },
   {
    "duration": 1416,
    "start_time": "2024-11-16T16:18:02.275Z"
   },
   {
    "duration": 2,
    "start_time": "2024-11-16T16:18:03.693Z"
   },
   {
    "duration": 8,
    "start_time": "2024-11-16T16:18:03.697Z"
   },
   {
    "duration": 4,
    "start_time": "2024-11-16T16:18:03.707Z"
   },
   {
    "duration": 968,
    "start_time": "2024-11-16T16:18:03.712Z"
   },
   {
    "duration": 561,
    "start_time": "2024-11-16T16:18:04.682Z"
   },
   {
    "duration": 92,
    "start_time": "2024-11-16T16:18:05.245Z"
   },
   {
    "duration": 59,
    "start_time": "2024-11-16T16:18:05.338Z"
   },
   {
    "duration": 91,
    "start_time": "2024-11-16T16:18:05.399Z"
   },
   {
    "duration": 50654,
    "start_time": "2024-11-16T16:18:05.492Z"
   },
   {
    "duration": 1308,
    "start_time": "2024-11-16T16:19:23.716Z"
   },
   {
    "duration": 2,
    "start_time": "2024-11-16T16:19:25.025Z"
   },
   {
    "duration": 15,
    "start_time": "2024-11-16T16:19:25.029Z"
   },
   {
    "duration": 3,
    "start_time": "2024-11-16T16:19:25.046Z"
   },
   {
    "duration": 959,
    "start_time": "2024-11-16T16:19:25.051Z"
   },
   {
    "duration": 588,
    "start_time": "2024-11-16T16:19:26.011Z"
   },
   {
    "duration": 95,
    "start_time": "2024-11-16T16:19:26.600Z"
   },
   {
    "duration": 89,
    "start_time": "2024-11-16T16:19:26.696Z"
   },
   {
    "duration": 87,
    "start_time": "2024-11-16T16:19:26.787Z"
   },
   {
    "duration": 85567,
    "start_time": "2024-11-16T16:19:26.876Z"
   },
   {
    "duration": 26,
    "start_time": "2024-11-16T16:25:33.569Z"
   },
   {
    "duration": 3,
    "start_time": "2024-11-16T16:25:40.425Z"
   },
   {
    "duration": 2753,
    "start_time": "2024-11-16T16:26:18.042Z"
   },
   {
    "duration": 9,
    "start_time": "2024-11-16T16:27:11.683Z"
   },
   {
    "duration": 1224,
    "start_time": "2024-11-16T16:27:36.595Z"
   },
   {
    "duration": 3,
    "start_time": "2024-11-16T16:27:37.820Z"
   },
   {
    "duration": 5,
    "start_time": "2024-11-16T16:27:37.824Z"
   },
   {
    "duration": 7,
    "start_time": "2024-11-16T16:27:37.830Z"
   },
   {
    "duration": 908,
    "start_time": "2024-11-16T16:27:37.838Z"
   },
   {
    "duration": 542,
    "start_time": "2024-11-16T16:27:38.747Z"
   },
   {
    "duration": 90,
    "start_time": "2024-11-16T16:27:39.290Z"
   },
   {
    "duration": 65,
    "start_time": "2024-11-16T16:27:39.382Z"
   },
   {
    "duration": 85,
    "start_time": "2024-11-16T16:27:39.449Z"
   },
   {
    "duration": 29,
    "start_time": "2024-11-16T16:27:39.536Z"
   },
   {
    "duration": 3,
    "start_time": "2024-11-16T16:27:39.566Z"
   },
   {
    "duration": 2799,
    "start_time": "2024-11-16T16:27:39.570Z"
   },
   {
    "duration": 53649,
    "start_time": "2024-11-16T16:27:42.371Z"
   },
   {
    "duration": 9,
    "start_time": "2024-11-16T16:28:36.021Z"
   },
   {
    "duration": 1219,
    "start_time": "2024-11-16T16:29:46.000Z"
   },
   {
    "duration": 2,
    "start_time": "2024-11-16T16:29:47.221Z"
   },
   {
    "duration": 14,
    "start_time": "2024-11-16T16:29:47.224Z"
   },
   {
    "duration": 5,
    "start_time": "2024-11-16T16:29:47.239Z"
   },
   {
    "duration": 888,
    "start_time": "2024-11-16T16:29:47.246Z"
   },
   {
    "duration": 542,
    "start_time": "2024-11-16T16:29:48.136Z"
   },
   {
    "duration": 92,
    "start_time": "2024-11-16T16:29:48.679Z"
   },
   {
    "duration": 68,
    "start_time": "2024-11-16T16:29:48.773Z"
   },
   {
    "duration": 87,
    "start_time": "2024-11-16T16:29:48.843Z"
   },
   {
    "duration": 26,
    "start_time": "2024-11-16T16:29:48.932Z"
   },
   {
    "duration": 3,
    "start_time": "2024-11-16T16:29:48.959Z"
   },
   {
    "duration": 2985,
    "start_time": "2024-11-16T16:29:48.963Z"
   },
   {
    "duration": 80178,
    "start_time": "2024-11-16T16:29:51.949Z"
   },
   {
    "duration": 9,
    "start_time": "2024-11-16T16:31:12.129Z"
   },
   {
    "duration": 1209,
    "start_time": "2024-11-16T16:33:07.104Z"
   },
   {
    "duration": 2,
    "start_time": "2024-11-16T16:33:08.315Z"
   },
   {
    "duration": 33,
    "start_time": "2024-11-16T16:33:08.318Z"
   },
   {
    "duration": 24,
    "start_time": "2024-11-16T16:33:08.352Z"
   },
   {
    "duration": 904,
    "start_time": "2024-11-16T16:33:08.378Z"
   },
   {
    "duration": 521,
    "start_time": "2024-11-16T16:33:09.283Z"
   },
   {
    "duration": 90,
    "start_time": "2024-11-16T16:33:09.805Z"
   },
   {
    "duration": 71,
    "start_time": "2024-11-16T16:33:09.896Z"
   },
   {
    "duration": 78,
    "start_time": "2024-11-16T16:33:09.968Z"
   },
   {
    "duration": 22,
    "start_time": "2024-11-16T16:33:10.057Z"
   },
   {
    "duration": 20,
    "start_time": "2024-11-16T16:33:10.081Z"
   },
   {
    "duration": 2848,
    "start_time": "2024-11-16T16:33:10.102Z"
   },
   {
    "duration": 79954,
    "start_time": "2024-11-16T16:33:12.952Z"
   },
   {
    "duration": 12,
    "start_time": "2024-11-16T16:34:32.908Z"
   },
   {
    "duration": 1285,
    "start_time": "2024-11-16T16:40:56.622Z"
   },
   {
    "duration": 2,
    "start_time": "2024-11-16T16:40:57.908Z"
   },
   {
    "duration": 7,
    "start_time": "2024-11-16T16:40:57.912Z"
   },
   {
    "duration": 7,
    "start_time": "2024-11-16T16:40:57.921Z"
   },
   {
    "duration": 972,
    "start_time": "2024-11-16T16:40:57.929Z"
   },
   {
    "duration": 595,
    "start_time": "2024-11-16T16:40:58.903Z"
   },
   {
    "duration": 96,
    "start_time": "2024-11-16T16:40:59.500Z"
   },
   {
    "duration": 8,
    "start_time": "2024-11-16T16:40:59.598Z"
   },
   {
    "duration": 86,
    "start_time": "2024-11-16T16:40:59.607Z"
   },
   {
    "duration": 15,
    "start_time": "2024-11-16T16:40:59.695Z"
   },
   {
    "duration": 4,
    "start_time": "2024-11-16T16:40:59.711Z"
   },
   {
    "duration": 1884,
    "start_time": "2024-11-16T16:40:59.716Z"
   },
   {
    "duration": 34419,
    "start_time": "2024-11-16T16:41:01.601Z"
   },
   {
    "duration": 10,
    "start_time": "2024-11-16T16:41:36.022Z"
   },
   {
    "duration": 6,
    "start_time": "2024-11-16T18:09:43.266Z"
   },
   {
    "duration": 15,
    "start_time": "2024-11-16T18:09:48.066Z"
   },
   {
    "duration": 1121,
    "start_time": "2024-11-16T18:47:40.060Z"
   },
   {
    "duration": 3,
    "start_time": "2024-11-16T19:22:39.749Z"
   },
   {
    "duration": 5229,
    "start_time": "2024-11-17T05:32:29.432Z"
   },
   {
    "duration": 4,
    "start_time": "2024-11-17T05:46:20.980Z"
   },
   {
    "duration": 4,
    "start_time": "2024-11-17T05:49:53.101Z"
   },
   {
    "duration": 326,
    "start_time": "2024-11-17T05:50:10.591Z"
   },
   {
    "duration": 4665,
    "start_time": "2024-11-17T05:50:19.210Z"
   },
   {
    "duration": 3,
    "start_time": "2024-11-17T05:50:23.877Z"
   },
   {
    "duration": 50,
    "start_time": "2024-11-17T05:50:23.882Z"
   },
   {
    "duration": 9,
    "start_time": "2024-11-17T05:50:23.934Z"
   },
   {
    "duration": 1292,
    "start_time": "2024-11-17T05:50:23.945Z"
   },
   {
    "duration": 635,
    "start_time": "2024-11-17T05:50:25.239Z"
   },
   {
    "duration": 110,
    "start_time": "2024-11-17T05:50:25.876Z"
   },
   {
    "duration": 12,
    "start_time": "2024-11-17T05:50:25.987Z"
   },
   {
    "duration": 16,
    "start_time": "2024-11-17T05:50:26.000Z"
   },
   {
    "duration": 110,
    "start_time": "2024-11-17T05:50:26.019Z"
   },
   {
    "duration": 14,
    "start_time": "2024-11-17T05:50:26.130Z"
   },
   {
    "duration": 325,
    "start_time": "2024-11-17T05:50:26.146Z"
   },
   {
    "duration": 0,
    "start_time": "2024-11-17T05:50:26.473Z"
   },
   {
    "duration": 0,
    "start_time": "2024-11-17T05:50:26.474Z"
   },
   {
    "duration": 0,
    "start_time": "2024-11-17T05:50:26.475Z"
   },
   {
    "duration": 0,
    "start_time": "2024-11-17T05:50:26.476Z"
   },
   {
    "duration": 0,
    "start_time": "2024-11-17T05:50:26.477Z"
   },
   {
    "duration": 0,
    "start_time": "2024-11-17T05:50:26.478Z"
   },
   {
    "duration": 24,
    "start_time": "2024-11-17T05:51:27.733Z"
   },
   {
    "duration": 4,
    "start_time": "2024-11-17T05:54:45.144Z"
   },
   {
    "duration": 31,
    "start_time": "2024-11-17T05:55:29.783Z"
   },
   {
    "duration": 72,
    "start_time": "2024-11-17T05:57:56.044Z"
   },
   {
    "duration": 4819,
    "start_time": "2024-11-17T06:04:58.525Z"
   },
   {
    "duration": 3,
    "start_time": "2024-11-17T06:05:03.347Z"
   },
   {
    "duration": 38,
    "start_time": "2024-11-17T06:05:03.351Z"
   },
   {
    "duration": 14,
    "start_time": "2024-11-17T06:05:03.390Z"
   },
   {
    "duration": 4,
    "start_time": "2024-11-17T06:05:03.406Z"
   },
   {
    "duration": 1018,
    "start_time": "2024-11-17T06:05:03.412Z"
   },
   {
    "duration": 636,
    "start_time": "2024-11-17T06:05:04.432Z"
   },
   {
    "duration": 112,
    "start_time": "2024-11-17T06:05:05.070Z"
   },
   {
    "duration": 8,
    "start_time": "2024-11-17T06:05:05.184Z"
   },
   {
    "duration": 68,
    "start_time": "2024-11-17T06:05:05.193Z"
   },
   {
    "duration": 108,
    "start_time": "2024-11-17T06:05:05.263Z"
   },
   {
    "duration": 27,
    "start_time": "2024-11-17T06:05:05.372Z"
   },
   {
    "duration": 4670,
    "start_time": "2024-11-17T06:06:30.949Z"
   },
   {
    "duration": 3,
    "start_time": "2024-11-17T06:06:35.621Z"
   },
   {
    "duration": 48,
    "start_time": "2024-11-17T06:06:35.625Z"
   },
   {
    "duration": 28,
    "start_time": "2024-11-17T06:06:35.674Z"
   },
   {
    "duration": 17,
    "start_time": "2024-11-17T06:06:35.704Z"
   },
   {
    "duration": 895,
    "start_time": "2024-11-17T06:06:35.723Z"
   },
   {
    "duration": 590,
    "start_time": "2024-11-17T06:06:36.619Z"
   },
   {
    "duration": 106,
    "start_time": "2024-11-17T06:06:37.211Z"
   },
   {
    "duration": 8,
    "start_time": "2024-11-17T06:06:37.319Z"
   },
   {
    "duration": 17,
    "start_time": "2024-11-17T06:06:37.328Z"
   },
   {
    "duration": 106,
    "start_time": "2024-11-17T06:06:37.347Z"
   },
   {
    "duration": 27,
    "start_time": "2024-11-17T06:06:37.454Z"
   },
   {
    "duration": 117803,
    "start_time": "2024-11-17T06:06:37.484Z"
   },
   {
    "duration": 7,
    "start_time": "2024-11-17T06:08:35.290Z"
   },
   {
    "duration": 5,
    "start_time": "2024-11-17T06:08:35.298Z"
   },
   {
    "duration": 271,
    "start_time": "2024-11-17T06:08:35.304Z"
   },
   {
    "duration": 3048,
    "start_time": "2024-11-17T06:08:35.577Z"
   },
   {
    "duration": 21,
    "start_time": "2024-11-17T06:08:38.626Z"
   },
   {
    "duration": 116878,
    "start_time": "2024-11-17T06:17:36.903Z"
   },
   {
    "duration": 547,
    "start_time": "2024-11-17T06:35:44.452Z"
   },
   {
    "duration": 5,
    "start_time": "2024-11-17T06:36:35.355Z"
   },
   {
    "duration": 5,
    "start_time": "2024-11-17T06:39:04.692Z"
   },
   {
    "duration": 5,
    "start_time": "2024-11-17T06:39:07.876Z"
   },
   {
    "duration": 4,
    "start_time": "2024-11-17T06:39:39.318Z"
   },
   {
    "duration": 5,
    "start_time": "2024-11-17T06:39:49.396Z"
   },
   {
    "duration": 4,
    "start_time": "2024-11-17T06:39:55.918Z"
   },
   {
    "duration": 329,
    "start_time": "2024-11-17T06:41:03.390Z"
   },
   {
    "duration": 444,
    "start_time": "2024-11-17T06:41:54.021Z"
   },
   {
    "duration": 463,
    "start_time": "2024-11-17T06:42:04.055Z"
   },
   {
    "duration": 4805,
    "start_time": "2024-11-17T06:42:16.575Z"
   },
   {
    "duration": 3,
    "start_time": "2024-11-17T06:42:21.382Z"
   },
   {
    "duration": 10,
    "start_time": "2024-11-17T06:42:21.386Z"
   },
   {
    "duration": 6,
    "start_time": "2024-11-17T06:42:21.398Z"
   },
   {
    "duration": 9,
    "start_time": "2024-11-17T06:42:21.405Z"
   },
   {
    "duration": 960,
    "start_time": "2024-11-17T06:42:21.416Z"
   },
   {
    "duration": 592,
    "start_time": "2024-11-17T06:42:22.378Z"
   },
   {
    "duration": 108,
    "start_time": "2024-11-17T06:42:22.971Z"
   },
   {
    "duration": 8,
    "start_time": "2024-11-17T06:42:23.080Z"
   },
   {
    "duration": 24,
    "start_time": "2024-11-17T06:42:23.090Z"
   },
   {
    "duration": 99,
    "start_time": "2024-11-17T06:42:23.116Z"
   },
   {
    "duration": 36,
    "start_time": "2024-11-17T06:42:23.217Z"
   },
   {
    "duration": 116408,
    "start_time": "2024-11-17T06:42:23.255Z"
   },
   {
    "duration": 8,
    "start_time": "2024-11-17T06:44:19.664Z"
   },
   {
    "duration": 4,
    "start_time": "2024-11-17T06:44:19.674Z"
   },
   {
    "duration": 52,
    "start_time": "2024-11-17T06:44:19.679Z"
   },
   {
    "duration": 8,
    "start_time": "2024-11-17T06:44:19.733Z"
   },
   {
    "duration": 22497,
    "start_time": "2024-11-17T06:44:19.743Z"
   },
   {
    "duration": 4715,
    "start_time": "2024-11-17T06:51:26.939Z"
   },
   {
    "duration": 3,
    "start_time": "2024-11-17T06:51:31.656Z"
   },
   {
    "duration": 7,
    "start_time": "2024-11-17T06:51:31.661Z"
   },
   {
    "duration": 26,
    "start_time": "2024-11-17T06:51:31.670Z"
   },
   {
    "duration": 102,
    "start_time": "2024-11-17T06:51:31.698Z"
   },
   {
    "duration": 977,
    "start_time": "2024-11-17T06:51:31.802Z"
   },
   {
    "duration": 624,
    "start_time": "2024-11-17T06:51:32.781Z"
   },
   {
    "duration": 112,
    "start_time": "2024-11-17T06:51:33.407Z"
   },
   {
    "duration": 9,
    "start_time": "2024-11-17T06:51:33.520Z"
   },
   {
    "duration": 22,
    "start_time": "2024-11-17T06:51:33.532Z"
   },
   {
    "duration": 126,
    "start_time": "2024-11-17T06:51:33.555Z"
   },
   {
    "duration": 27,
    "start_time": "2024-11-17T06:51:33.682Z"
   },
   {
    "duration": 120339,
    "start_time": "2024-11-17T06:51:33.711Z"
   },
   {
    "duration": 11,
    "start_time": "2024-11-17T06:53:34.052Z"
   },
   {
    "duration": 38,
    "start_time": "2024-11-17T06:53:34.065Z"
   },
   {
    "duration": 45,
    "start_time": "2024-11-17T06:53:34.105Z"
   },
   {
    "duration": 6,
    "start_time": "2024-11-17T06:53:34.153Z"
   },
   {
    "duration": 23687,
    "start_time": "2024-11-17T06:53:34.161Z"
   },
   {
    "duration": 319,
    "start_time": "2024-11-17T07:17:19.344Z"
   },
   {
    "duration": 3,
    "start_time": "2024-11-17T07:27:55.867Z"
   },
   {
    "duration": 16,
    "start_time": "2024-11-17T07:28:05.447Z"
   },
   {
    "duration": 5085,
    "start_time": "2024-11-17T07:33:29.310Z"
   },
   {
    "duration": 6,
    "start_time": "2024-11-17T07:33:34.397Z"
   },
   {
    "duration": 17,
    "start_time": "2024-11-17T07:33:34.404Z"
   },
   {
    "duration": 16,
    "start_time": "2024-11-17T07:33:34.424Z"
   },
   {
    "duration": 13,
    "start_time": "2024-11-17T07:33:34.441Z"
   },
   {
    "duration": 989,
    "start_time": "2024-11-17T07:33:34.456Z"
   },
   {
    "duration": 619,
    "start_time": "2024-11-17T07:33:35.446Z"
   },
   {
    "duration": 154,
    "start_time": "2024-11-17T07:33:36.067Z"
   },
   {
    "duration": 12,
    "start_time": "2024-11-17T07:33:36.223Z"
   },
   {
    "duration": 67,
    "start_time": "2024-11-17T07:33:36.242Z"
   },
   {
    "duration": 128,
    "start_time": "2024-11-17T07:33:36.311Z"
   },
   {
    "duration": 31,
    "start_time": "2024-11-17T07:33:36.441Z"
   },
   {
    "duration": 117440,
    "start_time": "2024-11-17T07:33:36.473Z"
   },
   {
    "duration": 11,
    "start_time": "2024-11-17T07:35:33.915Z"
   },
   {
    "duration": 16,
    "start_time": "2024-11-17T07:35:33.928Z"
   },
   {
    "duration": 6,
    "start_time": "2024-11-17T07:35:33.945Z"
   },
   {
    "duration": 51,
    "start_time": "2024-11-17T07:35:33.952Z"
   },
   {
    "duration": 315,
    "start_time": "2024-11-17T07:35:34.005Z"
   },
   {
    "duration": 20,
    "start_time": "2024-11-17T07:35:52.464Z"
   },
   {
    "duration": 17,
    "start_time": "2024-11-17T07:36:41.314Z"
   },
   {
    "duration": 3,
    "start_time": "2024-11-17T07:36:47.103Z"
   },
   {
    "duration": 19,
    "start_time": "2024-11-17T07:40:59.795Z"
   },
   {
    "duration": 19,
    "start_time": "2024-11-17T07:41:22.108Z"
   },
   {
    "duration": 4673,
    "start_time": "2024-11-17T07:42:57.453Z"
   },
   {
    "duration": 3,
    "start_time": "2024-11-17T07:43:02.128Z"
   },
   {
    "duration": 34,
    "start_time": "2024-11-17T07:43:02.134Z"
   },
   {
    "duration": 24,
    "start_time": "2024-11-17T07:43:02.171Z"
   },
   {
    "duration": 6,
    "start_time": "2024-11-17T07:43:02.196Z"
   },
   {
    "duration": 903,
    "start_time": "2024-11-17T07:43:02.203Z"
   },
   {
    "duration": 598,
    "start_time": "2024-11-17T07:43:03.108Z"
   },
   {
    "duration": 127,
    "start_time": "2024-11-17T07:43:03.708Z"
   },
   {
    "duration": 15,
    "start_time": "2024-11-17T07:43:03.837Z"
   },
   {
    "duration": 18,
    "start_time": "2024-11-17T07:43:03.854Z"
   },
   {
    "duration": 186,
    "start_time": "2024-11-17T07:43:03.874Z"
   },
   {
    "duration": 28,
    "start_time": "2024-11-17T07:43:04.062Z"
   },
   {
    "duration": 600981,
    "start_time": "2024-11-17T07:43:04.092Z"
   },
   {
    "duration": 18,
    "start_time": "2024-11-17T07:53:05.075Z"
   },
   {
    "duration": 4,
    "start_time": "2024-11-17T07:53:05.094Z"
   },
   {
    "duration": 29,
    "start_time": "2024-11-17T07:53:05.099Z"
   },
   {
    "duration": 25,
    "start_time": "2024-11-17T07:53:05.131Z"
   },
   {
    "duration": 118335,
    "start_time": "2024-11-17T07:53:05.158Z"
   },
   {
    "duration": 79,
    "start_time": "2024-11-17T09:18:41.596Z"
   },
   {
    "duration": 83,
    "start_time": "2024-11-17T09:21:23.860Z"
   },
   {
    "duration": 4909,
    "start_time": "2024-11-17T12:31:43.952Z"
   },
   {
    "duration": 3,
    "start_time": "2024-11-17T12:31:48.863Z"
   },
   {
    "duration": 7,
    "start_time": "2024-11-17T12:31:48.867Z"
   },
   {
    "duration": 5,
    "start_time": "2024-11-17T12:31:48.875Z"
   },
   {
    "duration": 10,
    "start_time": "2024-11-17T12:31:48.882Z"
   },
   {
    "duration": 1271,
    "start_time": "2024-11-17T12:31:48.893Z"
   },
   {
    "duration": 621,
    "start_time": "2024-11-17T12:31:50.166Z"
   },
   {
    "duration": 128,
    "start_time": "2024-11-17T12:31:50.789Z"
   },
   {
    "duration": 12,
    "start_time": "2024-11-17T12:31:50.918Z"
   },
   {
    "duration": 25,
    "start_time": "2024-11-17T12:31:50.931Z"
   },
   {
    "duration": 102,
    "start_time": "2024-11-17T12:31:50.958Z"
   },
   {
    "duration": 28,
    "start_time": "2024-11-17T12:31:51.062Z"
   },
   {
    "duration": 4602,
    "start_time": "2024-11-17T12:34:01.537Z"
   },
   {
    "duration": 3,
    "start_time": "2024-11-17T12:34:06.141Z"
   },
   {
    "duration": 24,
    "start_time": "2024-11-17T12:34:06.146Z"
   },
   {
    "duration": 19,
    "start_time": "2024-11-17T12:34:06.172Z"
   },
   {
    "duration": 86,
    "start_time": "2024-11-17T12:34:06.194Z"
   },
   {
    "duration": 931,
    "start_time": "2024-11-17T12:34:06.282Z"
   },
   {
    "duration": 582,
    "start_time": "2024-11-17T12:34:07.215Z"
   },
   {
    "duration": 111,
    "start_time": "2024-11-17T12:34:07.799Z"
   },
   {
    "duration": 11,
    "start_time": "2024-11-17T12:34:07.912Z"
   },
   {
    "duration": 16,
    "start_time": "2024-11-17T12:34:07.924Z"
   },
   {
    "duration": 115,
    "start_time": "2024-11-17T12:34:07.941Z"
   },
   {
    "duration": 30,
    "start_time": "2024-11-17T12:34:08.058Z"
   },
   {
    "duration": 340,
    "start_time": "2024-11-17T12:34:08.090Z"
   },
   {
    "duration": 0,
    "start_time": "2024-11-17T12:34:08.432Z"
   },
   {
    "duration": 0,
    "start_time": "2024-11-17T12:34:08.433Z"
   },
   {
    "duration": 0,
    "start_time": "2024-11-17T12:34:08.434Z"
   },
   {
    "duration": 0,
    "start_time": "2024-11-17T12:34:08.435Z"
   },
   {
    "duration": 0,
    "start_time": "2024-11-17T12:34:08.436Z"
   },
   {
    "duration": 485,
    "start_time": "2024-11-17T12:34:46.264Z"
   },
   {
    "duration": 4557,
    "start_time": "2024-11-17T12:34:53.600Z"
   },
   {
    "duration": 3,
    "start_time": "2024-11-17T12:34:58.159Z"
   },
   {
    "duration": 8,
    "start_time": "2024-11-17T12:34:58.165Z"
   },
   {
    "duration": 7,
    "start_time": "2024-11-17T12:34:58.174Z"
   },
   {
    "duration": 20,
    "start_time": "2024-11-17T12:34:58.182Z"
   },
   {
    "duration": 927,
    "start_time": "2024-11-17T12:34:58.203Z"
   },
   {
    "duration": 580,
    "start_time": "2024-11-17T12:34:59.132Z"
   },
   {
    "duration": 116,
    "start_time": "2024-11-17T12:34:59.714Z"
   },
   {
    "duration": 15,
    "start_time": "2024-11-17T12:34:59.832Z"
   },
   {
    "duration": 19,
    "start_time": "2024-11-17T12:34:59.864Z"
   },
   {
    "duration": 112,
    "start_time": "2024-11-17T12:34:59.884Z"
   },
   {
    "duration": 28,
    "start_time": "2024-11-17T12:34:59.997Z"
   },
   {
    "duration": 4562,
    "start_time": "2024-11-17T12:39:32.335Z"
   },
   {
    "duration": 3,
    "start_time": "2024-11-17T12:39:36.899Z"
   },
   {
    "duration": 17,
    "start_time": "2024-11-17T12:39:36.903Z"
   },
   {
    "duration": 5,
    "start_time": "2024-11-17T12:39:36.921Z"
   },
   {
    "duration": 26,
    "start_time": "2024-11-17T12:39:36.927Z"
   },
   {
    "duration": 889,
    "start_time": "2024-11-17T12:39:36.954Z"
   },
   {
    "duration": 594,
    "start_time": "2024-11-17T12:39:37.844Z"
   },
   {
    "duration": 106,
    "start_time": "2024-11-17T12:39:38.439Z"
   },
   {
    "duration": 18,
    "start_time": "2024-11-17T12:39:38.547Z"
   },
   {
    "duration": 16,
    "start_time": "2024-11-17T12:39:38.567Z"
   },
   {
    "duration": 101,
    "start_time": "2024-11-17T12:39:38.585Z"
   },
   {
    "duration": 25,
    "start_time": "2024-11-17T12:39:38.688Z"
   },
   {
    "duration": 612565,
    "start_time": "2024-11-17T12:39:38.715Z"
   },
   {
    "duration": 19,
    "start_time": "2024-11-17T12:49:51.282Z"
   },
   {
    "duration": 14,
    "start_time": "2024-11-17T12:49:51.302Z"
   },
   {
    "duration": 7,
    "start_time": "2024-11-17T12:49:51.318Z"
   },
   {
    "duration": 6,
    "start_time": "2024-11-17T12:49:51.327Z"
   },
   {
    "duration": 109137,
    "start_time": "2024-11-17T12:49:51.335Z"
   },
   {
    "duration": 4,
    "start_time": "2024-11-17T12:57:41.873Z"
   },
   {
    "duration": 316,
    "start_time": "2024-11-17T12:58:34.747Z"
   },
   {
    "duration": 4,
    "start_time": "2024-11-17T12:58:58.744Z"
   },
   {
    "duration": 18,
    "start_time": "2024-11-17T12:59:03.993Z"
   },
   {
    "duration": 4,
    "start_time": "2024-11-17T12:59:06.937Z"
   },
   {
    "duration": 6,
    "start_time": "2024-11-17T12:59:09.941Z"
   },
   {
    "duration": 22,
    "start_time": "2024-11-17T12:59:12.379Z"
   },
   {
    "duration": 3,
    "start_time": "2024-11-17T12:59:26.256Z"
   },
   {
    "duration": 17,
    "start_time": "2024-11-17T12:59:27.907Z"
   },
   {
    "duration": 74,
    "start_time": "2024-11-17T13:01:21.390Z"
   },
   {
    "duration": 19,
    "start_time": "2024-11-17T13:01:23.722Z"
   },
   {
    "duration": 16,
    "start_time": "2024-11-17T13:01:42.730Z"
   },
   {
    "duration": 23,
    "start_time": "2024-11-17T13:04:47.285Z"
   },
   {
    "duration": 4708,
    "start_time": "2024-11-17T13:06:16.958Z"
   },
   {
    "duration": 469,
    "start_time": "2024-11-17T13:07:06.674Z"
   },
   {
    "duration": 4691,
    "start_time": "2024-11-17T13:07:47.039Z"
   },
   {
    "duration": 4739,
    "start_time": "2024-11-17T13:09:42.831Z"
   },
   {
    "duration": 4,
    "start_time": "2024-11-17T13:15:53.765Z"
   },
   {
    "duration": 7,
    "start_time": "2024-11-17T13:16:55.029Z"
   },
   {
    "duration": 23,
    "start_time": "2024-11-17T13:23:07.002Z"
   },
   {
    "duration": 16,
    "start_time": "2024-11-17T13:23:24.712Z"
   },
   {
    "duration": 18,
    "start_time": "2024-11-17T13:23:34.833Z"
   },
   {
    "duration": 21,
    "start_time": "2024-11-17T13:24:06.180Z"
   },
   {
    "duration": 74,
    "start_time": "2024-11-17T13:27:48.964Z"
   },
   {
    "duration": 4,
    "start_time": "2024-11-17T13:27:59.085Z"
   },
   {
    "duration": 106,
    "start_time": "2024-11-17T13:28:00.910Z"
   },
   {
    "duration": 4704,
    "start_time": "2024-11-17T13:29:15.678Z"
   },
   {
    "duration": 4784,
    "start_time": "2024-11-17T13:29:26.009Z"
   },
   {
    "duration": 3,
    "start_time": "2024-11-17T13:29:30.795Z"
   },
   {
    "duration": 28,
    "start_time": "2024-11-17T13:29:30.799Z"
   },
   {
    "duration": 18,
    "start_time": "2024-11-17T13:29:30.829Z"
   },
   {
    "duration": 19,
    "start_time": "2024-11-17T13:29:30.848Z"
   },
   {
    "duration": 933,
    "start_time": "2024-11-17T13:29:30.868Z"
   },
   {
    "duration": 593,
    "start_time": "2024-11-17T13:29:31.803Z"
   },
   {
    "duration": 124,
    "start_time": "2024-11-17T13:29:32.399Z"
   },
   {
    "duration": 12,
    "start_time": "2024-11-17T13:29:32.525Z"
   },
   {
    "duration": 26,
    "start_time": "2024-11-17T13:29:32.539Z"
   },
   {
    "duration": 106,
    "start_time": "2024-11-17T13:29:32.566Z"
   },
   {
    "duration": 26,
    "start_time": "2024-11-17T13:29:32.674Z"
   },
   {
    "duration": 4733,
    "start_time": "2024-11-17T13:30:49.570Z"
   },
   {
    "duration": 2,
    "start_time": "2024-11-17T13:30:54.305Z"
   },
   {
    "duration": 7,
    "start_time": "2024-11-17T13:30:54.309Z"
   },
   {
    "duration": 5,
    "start_time": "2024-11-17T13:30:54.317Z"
   },
   {
    "duration": 5,
    "start_time": "2024-11-17T13:30:54.323Z"
   },
   {
    "duration": 909,
    "start_time": "2024-11-17T13:30:54.329Z"
   },
   {
    "duration": 720,
    "start_time": "2024-11-17T13:30:55.240Z"
   },
   {
    "duration": 124,
    "start_time": "2024-11-17T13:30:55.962Z"
   },
   {
    "duration": 8,
    "start_time": "2024-11-17T13:30:56.087Z"
   },
   {
    "duration": 42,
    "start_time": "2024-11-17T13:30:56.098Z"
   },
   {
    "duration": 132,
    "start_time": "2024-11-17T13:30:56.142Z"
   },
   {
    "duration": 27,
    "start_time": "2024-11-17T13:30:56.275Z"
   },
   {
    "duration": 24849,
    "start_time": "2024-11-17T13:30:56.304Z"
   },
   {
    "duration": 13,
    "start_time": "2024-11-17T13:31:21.155Z"
   },
   {
    "duration": 11,
    "start_time": "2024-11-17T13:31:21.170Z"
   },
   {
    "duration": 4,
    "start_time": "2024-11-17T13:31:21.183Z"
   },
   {
    "duration": 5,
    "start_time": "2024-11-17T13:31:21.189Z"
   },
   {
    "duration": 79,
    "start_time": "2024-11-17T13:31:21.195Z"
   },
   {
    "duration": 0,
    "start_time": "2024-11-17T13:31:21.276Z"
   },
   {
    "duration": 4585,
    "start_time": "2024-11-17T13:31:52.334Z"
   },
   {
    "duration": 3,
    "start_time": "2024-11-17T13:31:56.921Z"
   },
   {
    "duration": 5,
    "start_time": "2024-11-17T13:31:56.925Z"
   },
   {
    "duration": 7,
    "start_time": "2024-11-17T13:31:56.932Z"
   },
   {
    "duration": 9,
    "start_time": "2024-11-17T13:31:56.941Z"
   },
   {
    "duration": 944,
    "start_time": "2024-11-17T13:31:56.952Z"
   },
   {
    "duration": 584,
    "start_time": "2024-11-17T13:31:57.898Z"
   },
   {
    "duration": 105,
    "start_time": "2024-11-17T13:31:58.483Z"
   },
   {
    "duration": 6,
    "start_time": "2024-11-17T13:31:58.590Z"
   },
   {
    "duration": 13,
    "start_time": "2024-11-17T13:31:58.599Z"
   },
   {
    "duration": 104,
    "start_time": "2024-11-17T13:31:58.613Z"
   },
   {
    "duration": 27,
    "start_time": "2024-11-17T13:31:58.718Z"
   },
   {
    "duration": 24856,
    "start_time": "2024-11-17T13:31:58.746Z"
   },
   {
    "duration": 5,
    "start_time": "2024-11-17T13:32:23.604Z"
   },
   {
    "duration": 26,
    "start_time": "2024-11-17T13:32:23.610Z"
   },
   {
    "duration": 4,
    "start_time": "2024-11-17T13:32:23.637Z"
   },
   {
    "duration": 10,
    "start_time": "2024-11-17T13:32:23.643Z"
   },
   {
    "duration": 4795,
    "start_time": "2024-11-17T13:32:23.655Z"
   },
   {
    "duration": 196,
    "start_time": "2024-11-17T13:32:28.452Z"
   },
   {
    "duration": 65,
    "start_time": "2024-11-17T13:35:12.610Z"
   },
   {
    "duration": 5,
    "start_time": "2024-11-17T13:37:56.148Z"
   },
   {
    "duration": 206,
    "start_time": "2024-11-17T13:38:01.171Z"
   },
   {
    "duration": 6,
    "start_time": "2024-11-17T13:38:04.004Z"
   },
   {
    "duration": 5,
    "start_time": "2024-11-17T13:38:08.428Z"
   },
   {
    "duration": 4,
    "start_time": "2024-11-17T13:38:16.900Z"
   },
   {
    "duration": 4,
    "start_time": "2024-11-17T13:38:30.557Z"
   },
   {
    "duration": 4606,
    "start_time": "2024-11-17T13:38:52.795Z"
   },
   {
    "duration": 3,
    "start_time": "2024-11-17T13:38:57.403Z"
   },
   {
    "duration": 17,
    "start_time": "2024-11-17T13:38:57.409Z"
   },
   {
    "duration": 4,
    "start_time": "2024-11-17T13:38:57.428Z"
   },
   {
    "duration": 5,
    "start_time": "2024-11-17T13:38:57.433Z"
   },
   {
    "duration": 935,
    "start_time": "2024-11-17T13:38:57.440Z"
   },
   {
    "duration": 603,
    "start_time": "2024-11-17T13:38:58.377Z"
   },
   {
    "duration": 107,
    "start_time": "2024-11-17T13:38:58.981Z"
   },
   {
    "duration": 11,
    "start_time": "2024-11-17T13:38:59.090Z"
   },
   {
    "duration": 17,
    "start_time": "2024-11-17T13:38:59.103Z"
   },
   {
    "duration": 106,
    "start_time": "2024-11-17T13:38:59.121Z"
   },
   {
    "duration": 36,
    "start_time": "2024-11-17T13:38:59.230Z"
   },
   {
    "duration": 640916,
    "start_time": "2024-11-17T13:38:59.269Z"
   },
   {
    "duration": 19,
    "start_time": "2024-11-17T13:49:40.187Z"
   },
   {
    "duration": 4,
    "start_time": "2024-11-17T13:49:40.208Z"
   },
   {
    "duration": 4,
    "start_time": "2024-11-17T13:49:40.214Z"
   },
   {
    "duration": 5,
    "start_time": "2024-11-17T13:49:40.220Z"
   },
   {
    "duration": 121176,
    "start_time": "2024-11-17T13:49:40.226Z"
   },
   {
    "duration": 5078,
    "start_time": "2024-11-17T13:51:41.404Z"
   }
  ],
  "kernelspec": {
   "display_name": "Python 3 (ipykernel)",
   "language": "python",
   "name": "python3"
  },
  "language_info": {
   "codemirror_mode": {
    "name": "ipython",
    "version": 3
   },
   "file_extension": ".py",
   "mimetype": "text/x-python",
   "name": "python",
   "nbconvert_exporter": "python",
   "pygments_lexer": "ipython3",
   "version": "3.9.19"
  },
  "toc": {
   "base_numbering": 1,
   "nav_menu": {},
   "number_sections": true,
   "sideBar": true,
   "skip_h1_title": true,
   "title_cell": "Содержание",
   "title_sidebar": "Contents",
   "toc_cell": true,
   "toc_position": {
    "height": "calc(100% - 180px)",
    "left": "10px",
    "top": "150px",
    "width": "302.391px"
   },
   "toc_section_display": true,
   "toc_window_display": true
  }
 },
 "nbformat": 4,
 "nbformat_minor": 4
}
