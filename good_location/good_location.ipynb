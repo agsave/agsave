{
 "cells": [
  {
   "cell_type": "markdown",
   "metadata": {},
   "source": [
    "# Выбор локации для скважины"
   ]
  },
  {
   "cell_type": "markdown",
   "metadata": {},
   "source": [
    "Допустим, вы работаете в добывающей компании «ГлавРосГосНефть». Нужно решить, где бурить новую скважину.\n",
    "\n",
    "Вам предоставлены пробы нефти в трёх регионах: в каждом 10 000 месторождений, где измерили качество нефти и объём её запасов. Постройте модель машинного обучения, которая поможет определить регион, где добыча принесёт наибольшую прибыль. Проанализируйте возможную прибыль и риски техникой *Bootstrap.*\n",
    "\n",
    "Шаги для выбора локации:\n",
    "\n",
    "- В избранном регионе ищут месторождения, для каждого определяют значения признаков;\n",
    "- Строят модель и оценивают объём запасов;\n",
    "- Выбирают месторождения с самым высокими оценками значений. Количество месторождений зависит от бюджета компании и стоимости разработки одной скважины;\n",
    "- Прибыль равна суммарной прибыли отобранных месторождений."
   ]
  },
  {
   "cell_type": "markdown",
   "metadata": {},
   "source": [
    "## Введение"
   ]
  },
  {
   "cell_type": "markdown",
   "metadata": {},
   "source": [
    "### Описание проекта"
   ]
  },
  {
   "cell_type": "markdown",
   "metadata": {},
   "source": [
    "Предоставлены пробы нефти в трёх регионах: в каждом 10 000 месторождений, где измерили качество нефти и объём её запасов. Необходимо помочь добывающей компании «ГлавРосГосНефть» определиться где бурить новую скважину."
   ]
  },
  {
   "cell_type": "markdown",
   "metadata": {},
   "source": [
    "### Цель проекта"
   ]
  },
  {
   "cell_type": "markdown",
   "metadata": {},
   "source": [
    "Построить модель машинного обучения, которая поможет определить регион, где добыча принесёт наибольшую прибыль. Проанализиовать возможную прибыль и риски техникой Bootstrap."
   ]
  },
  {
   "cell_type": "markdown",
   "metadata": {},
   "source": [
    "### Описание исследования"
   ]
  },
  {
   "cell_type": "markdown",
   "metadata": {},
   "source": [
    "- В избранном регионе собирают характеристики для скважин: качество нефти и объём её запасов;\n",
    "- Строят модель для предсказания объёма запасов в новых скважинах;\n",
    "- Выбирают скважины с самыми высокими оценками значений;\n",
    "- Определяют регион с максимальной суммарной прибылью отобранных скважин."
   ]
  },
  {
   "cell_type": "markdown",
   "metadata": {},
   "source": [
    "### Задачи исследования"
   ]
  },
  {
   "cell_type": "markdown",
   "metadata": {},
   "source": [
    "- Обучить и проверьте модель для каждого региона;\n",
    "- Подготовить данные к расчёту прибыли;\n",
    "- Написать функцию для расчёта прибыли по выбранным скважинам и предсказаниям модели;\n",
    "- Посчитайте риски и прибыль для каждого региона.\n",
    "\n",
    "Условия задачи:\n",
    "- Для обучения модели подходит только линейная регрессия (остальные — недостаточно предсказуемые).\n",
    "- При разведке региона исследуют 500 точек, из которых с помощью машинного обучения выбирают 200 лучших для разработки.\n",
    "- Бюджет на разработку скважин в регионе — 10 млрд рублей.\n",
    "- При нынешних ценах один баррель сырья приносит 450 рублей дохода. Доход с каждой единицы продукта составляет 450 тыс. рублей, поскольку объём указан в тысячах баррелей.\n",
    "- После оценки рисков нужно оставить лишь те регионы, в которых вероятность убытков меньше 2.5%. Среди них выбирают регион с наибольшей средней прибылью."
   ]
  },
  {
   "cell_type": "markdown",
   "metadata": {},
   "source": [
    "### Исходные данные"
   ]
  },
  {
   "cell_type": "markdown",
   "metadata": {},
   "source": [
    "Данные геологоразведки трёх регионов: \n",
    "\n",
    "- id — уникальный идентификатор скважины;\n",
    "- f0, f1, f2 — три признака точек (неважно, что они означают, но сами признаки значимы);\n",
    "- product — объём запасов в скважине (тыс. баррелей)."
   ]
  },
  {
   "cell_type": "markdown",
   "metadata": {},
   "source": [
    "###  Используемые библиотеки"
   ]
  },
  {
   "cell_type": "code",
   "execution_count": 1,
   "metadata": {},
   "outputs": [],
   "source": [
    "import os\n",
    "import pandas as pd\n",
    "import numpy as np\n",
    "from IPython.core.display import HTML\n",
    "\n",
    "from sklearn.model_selection import train_test_split\n",
    "\n",
    "from sklearn.linear_model import LinearRegression\n",
    "\n",
    "from sklearn.metrics import mean_squared_error"
   ]
  },
  {
   "cell_type": "markdown",
   "metadata": {},
   "source": [
    "###  Используемые константы"
   ]
  },
  {
   "cell_type": "code",
   "execution_count": 2,
   "metadata": {},
   "outputs": [],
   "source": [
    "TEST_SIZE = 0.25\n",
    "RANDOM_STATE = 42\n",
    "state = np.random.RandomState(12345)\n",
    "\n",
    "point = 500 # кол-во точен при разведки региона\n",
    "\n",
    "BEST_POINT = 200 #  кол-во выбранных лучши точек, которые выбирают с помощью машинного обучения\n",
    "\n",
    "BUDGET = 10000000000 # бюджет на разработку скважин в регионе\n",
    "\n",
    "INCOME_UNIT = 450000 # доход с каждой единицы продукта.\n",
    "\n",
    "threshold = 0.025 # порог безубыточности\n",
    "\n",
    "BOOTSTRAP_COINT = 1000 # Bootstrap с 1000 выборок"
   ]
  },
  {
   "cell_type": "markdown",
   "metadata": {},
   "source": [
    "### Свои функции использумые в проекте"
   ]
  },
  {
   "cell_type": "markdown",
   "metadata": {},
   "source": [
    "**Загрузка данных**"
   ]
  },
  {
   "cell_type": "code",
   "execution_count": 3,
   "metadata": {},
   "outputs": [],
   "source": [
    "def load_df(file, index='id'):\n",
    "    pth1 = f'/datasets/{file}'\n",
    "    pth2 = f'{file}'\n",
    "\n",
    "    if os.path.exists(pth1):\n",
    "        df = pd.read_csv(pth1, index_col=index, na_values=np.nan)\n",
    "    elif os.path.exists(pth2):\n",
    "        df = pd.read_csv(pth2, index_col=index, na_values=np.nan)\n",
    "    else:\n",
    "        print('Что-то пошло не так')\n",
    "    \n",
    "    return df"
   ]
  },
  {
   "cell_type": "markdown",
   "metadata": {},
   "source": [
    "**Функция вывода данных и их описания**"
   ]
  },
  {
   "cell_type": "code",
   "execution_count": 4,
   "metadata": {},
   "outputs": [],
   "source": [
    "def get_data_info(df):\n",
    "    display(df.head())\n",
    "    display(HTML('<br>'))\n",
    "    display(HTML('<font color=\"gray\"><b>Информации о датафрейме</b></font>'))\n",
    "    df.info()\n",
    "    display(HTML('<br>'))\n",
    "    display(HTML('<font color=\"gray\"><b>Описание данных</b></font>'))\n",
    "    display(df.describe().T)\n",
    "    display(HTML('<br>'))\n",
    "    display(HTML('<font color=\"gray\"><b>Количество пропусков</b></font>'))\n",
    "    display(df.isna().sum())\n",
    "    display(HTML('<br>'))\n",
    "    display(HTML('<font color=\"gray\"><b>Количество дубликатов</b></font>'))\n",
    "    display(df.duplicated().sum())\n",
    "    display(HTML('<br>'))"
   ]
  },
  {
   "cell_type": "markdown",
   "metadata": {},
   "source": [
    "**Разделение данных**"
   ]
  },
  {
   "cell_type": "code",
   "execution_count": 5,
   "metadata": {},
   "outputs": [],
   "source": [
    "def df_split(df, target):\n",
    "    X_train, X_test, y_train, y_test = train_test_split(\n",
    "        df.drop([target], axis=1),\n",
    "        df[target],\n",
    "        test_size = TEST_SIZE, \n",
    "        random_state = RANDOM_STATE)\n",
    "    \n",
    "    return X_train, X_test, y_train, y_test"
   ]
  },
  {
   "cell_type": "markdown",
   "metadata": {},
   "source": [
    "**Обучение модели**"
   ]
  },
  {
   "cell_type": "code",
   "execution_count": 6,
   "metadata": {},
   "outputs": [],
   "source": [
    "def lg_model(X_train, y_train, X_test):\n",
    "    model = LinearRegression()\n",
    "    model.fit(X_train, y_train)\n",
    "    predict = model.predict(X_test)\n",
    "    \n",
    "    return predict"
   ]
  },
  {
   "cell_type": "markdown",
   "metadata": {},
   "source": [
    "**Функция для расчёта прибыли**"
   ]
  },
  {
   "cell_type": "code",
   "execution_count": 7,
   "metadata": {},
   "outputs": [],
   "source": [
    "def revenue(target, probabilities, count=BEST_POINT, income_unit=INCOME_UNIT, budget=BUDGET):\n",
    "    probs_sorted = probabilities.sort_values(ascending=False) # cортируем по убыванию предсказания\n",
    "    selected = target[probs_sorted.index][:count]  # выбираем топ точки по сырью на основе предсказаний\n",
    "    return round(selected.sum() * income_unit - budget, 2) # рассчитываем и возвращаем прибыль"
   ]
  },
  {
   "cell_type": "markdown",
   "metadata": {},
   "source": [
    "**Расчет рисков и прибыли**"
   ]
  },
  {
   "cell_type": "code",
   "execution_count": 8,
   "metadata": {},
   "outputs": [],
   "source": [
    "def bootstrap(target, probabilities, bootstrap_coint=BOOTSTRAP_COINT):\n",
    "    \n",
    "    values = []\n",
    "    \n",
    "    for i in range(bootstrap_coint):\n",
    "        target_subsample = target.sample(n=point, replace=True, random_state=state) # получаем сэмпл из таргета из 500 точек\n",
    "        # по индексам сэмпла таргета получаем сэмпл из предсказанных значений\n",
    "        probs_subsample = probabilities[target_subsample.index]\n",
    "\n",
    "        profit = revenue(target_subsample, probs_subsample) # рассчитываем прибыль\n",
    "        values.append(profit) # и сохраняем значение в список\n",
    "\n",
    "    values = pd.Series(values)\n",
    "    lower = round(values.quantile(threshold), 2)\n",
    "    upper = round(values.quantile(1 - threshold), 2)\n",
    "\n",
    "    mean = round(values.mean(), 2)\n",
    "\n",
    "    risk = round((values < 0).mean() * 100, 2)\n",
    "\n",
    "    display(f'Средняя прибыль: {\"{0:,}\".format(mean).replace(\",\", \" \")}')\n",
    "    display(f'95%-й доверительный интервал от {\"{0:,}\".format(lower).replace(\",\", \" \")}'\n",
    "           f' до {\"{0:,}\".format(upper).replace(\",\", \" \")}')\n",
    "    display(f'Риск убытков {risk }%')\n",
    "    "
   ]
  },
  {
   "cell_type": "markdown",
   "metadata": {},
   "source": [
    "## Загрузка и подготовка данных"
   ]
  },
  {
   "cell_type": "markdown",
   "metadata": {},
   "source": [
    "### Загрузка данных"
   ]
  },
  {
   "cell_type": "code",
   "execution_count": 9,
   "metadata": {},
   "outputs": [],
   "source": [
    "# Тренировочная выборка:\n",
    "geo_data_0 = load_df('geo_data_0.csv')\n",
    "\n",
    "# Входные признаки тестовой выборки:\n",
    "geo_data_1 = load_df('geo_data_1.csv')\n",
    "\n",
    "# Целевой признак тестовой выборки:\n",
    "geo_data_2 = load_df('geo_data_2.csv')"
   ]
  },
  {
   "cell_type": "markdown",
   "metadata": {},
   "source": [
    "### Общая информация о датафреймах"
   ]
  },
  {
   "cell_type": "code",
   "execution_count": 10,
   "metadata": {},
   "outputs": [],
   "source": [
    "dict_df = {'geo_data_0': geo_data_0, \n",
    "           'geo_data_1': geo_data_1, \n",
    "           'geo_data_2': geo_data_2}"
   ]
  },
  {
   "cell_type": "code",
   "execution_count": 11,
   "metadata": {},
   "outputs": [
    {
     "data": {
      "text/html": [
       "<font color=\"navy\"><b>Вывод информации о данных geo_data_0</b></font>"
      ],
      "text/plain": [
       "<IPython.core.display.HTML object>"
      ]
     },
     "metadata": {},
     "output_type": "display_data"
    },
    {
     "data": {
      "text/html": [
       "<div>\n",
       "<style scoped>\n",
       "    .dataframe tbody tr th:only-of-type {\n",
       "        vertical-align: middle;\n",
       "    }\n",
       "\n",
       "    .dataframe tbody tr th {\n",
       "        vertical-align: top;\n",
       "    }\n",
       "\n",
       "    .dataframe thead th {\n",
       "        text-align: right;\n",
       "    }\n",
       "</style>\n",
       "<table border=\"1\" class=\"dataframe\">\n",
       "  <thead>\n",
       "    <tr style=\"text-align: right;\">\n",
       "      <th></th>\n",
       "      <th>f0</th>\n",
       "      <th>f1</th>\n",
       "      <th>f2</th>\n",
       "      <th>product</th>\n",
       "    </tr>\n",
       "    <tr>\n",
       "      <th>id</th>\n",
       "      <th></th>\n",
       "      <th></th>\n",
       "      <th></th>\n",
       "      <th></th>\n",
       "    </tr>\n",
       "  </thead>\n",
       "  <tbody>\n",
       "    <tr>\n",
       "      <th>txEyH</th>\n",
       "      <td>0.705745</td>\n",
       "      <td>-0.497823</td>\n",
       "      <td>1.221170</td>\n",
       "      <td>105.280062</td>\n",
       "    </tr>\n",
       "    <tr>\n",
       "      <th>2acmU</th>\n",
       "      <td>1.334711</td>\n",
       "      <td>-0.340164</td>\n",
       "      <td>4.365080</td>\n",
       "      <td>73.037750</td>\n",
       "    </tr>\n",
       "    <tr>\n",
       "      <th>409Wp</th>\n",
       "      <td>1.022732</td>\n",
       "      <td>0.151990</td>\n",
       "      <td>1.419926</td>\n",
       "      <td>85.265647</td>\n",
       "    </tr>\n",
       "    <tr>\n",
       "      <th>iJLyR</th>\n",
       "      <td>-0.032172</td>\n",
       "      <td>0.139033</td>\n",
       "      <td>2.978566</td>\n",
       "      <td>168.620776</td>\n",
       "    </tr>\n",
       "    <tr>\n",
       "      <th>Xdl7t</th>\n",
       "      <td>1.988431</td>\n",
       "      <td>0.155413</td>\n",
       "      <td>4.751769</td>\n",
       "      <td>154.036647</td>\n",
       "    </tr>\n",
       "  </tbody>\n",
       "</table>\n",
       "</div>"
      ],
      "text/plain": [
       "             f0        f1        f2     product\n",
       "id                                             \n",
       "txEyH  0.705745 -0.497823  1.221170  105.280062\n",
       "2acmU  1.334711 -0.340164  4.365080   73.037750\n",
       "409Wp  1.022732  0.151990  1.419926   85.265647\n",
       "iJLyR -0.032172  0.139033  2.978566  168.620776\n",
       "Xdl7t  1.988431  0.155413  4.751769  154.036647"
      ]
     },
     "metadata": {},
     "output_type": "display_data"
    },
    {
     "data": {
      "text/html": [
       "<br>"
      ],
      "text/plain": [
       "<IPython.core.display.HTML object>"
      ]
     },
     "metadata": {},
     "output_type": "display_data"
    },
    {
     "data": {
      "text/html": [
       "<font color=\"gray\"><b>Информации о датафрейме</b></font>"
      ],
      "text/plain": [
       "<IPython.core.display.HTML object>"
      ]
     },
     "metadata": {},
     "output_type": "display_data"
    },
    {
     "name": "stdout",
     "output_type": "stream",
     "text": [
      "<class 'pandas.core.frame.DataFrame'>\n",
      "Index: 100000 entries, txEyH to 1CWhH\n",
      "Data columns (total 4 columns):\n",
      " #   Column   Non-Null Count   Dtype  \n",
      "---  ------   --------------   -----  \n",
      " 0   f0       100000 non-null  float64\n",
      " 1   f1       100000 non-null  float64\n",
      " 2   f2       100000 non-null  float64\n",
      " 3   product  100000 non-null  float64\n",
      "dtypes: float64(4)\n",
      "memory usage: 3.8+ MB\n"
     ]
    },
    {
     "data": {
      "text/html": [
       "<br>"
      ],
      "text/plain": [
       "<IPython.core.display.HTML object>"
      ]
     },
     "metadata": {},
     "output_type": "display_data"
    },
    {
     "data": {
      "text/html": [
       "<font color=\"gray\"><b>Описание данных</b></font>"
      ],
      "text/plain": [
       "<IPython.core.display.HTML object>"
      ]
     },
     "metadata": {},
     "output_type": "display_data"
    },
    {
     "data": {
      "text/html": [
       "<div>\n",
       "<style scoped>\n",
       "    .dataframe tbody tr th:only-of-type {\n",
       "        vertical-align: middle;\n",
       "    }\n",
       "\n",
       "    .dataframe tbody tr th {\n",
       "        vertical-align: top;\n",
       "    }\n",
       "\n",
       "    .dataframe thead th {\n",
       "        text-align: right;\n",
       "    }\n",
       "</style>\n",
       "<table border=\"1\" class=\"dataframe\">\n",
       "  <thead>\n",
       "    <tr style=\"text-align: right;\">\n",
       "      <th></th>\n",
       "      <th>count</th>\n",
       "      <th>mean</th>\n",
       "      <th>std</th>\n",
       "      <th>min</th>\n",
       "      <th>25%</th>\n",
       "      <th>50%</th>\n",
       "      <th>75%</th>\n",
       "      <th>max</th>\n",
       "    </tr>\n",
       "  </thead>\n",
       "  <tbody>\n",
       "    <tr>\n",
       "      <th>f0</th>\n",
       "      <td>100000.0</td>\n",
       "      <td>0.500419</td>\n",
       "      <td>0.871832</td>\n",
       "      <td>-1.408605</td>\n",
       "      <td>-0.072580</td>\n",
       "      <td>0.502360</td>\n",
       "      <td>1.073581</td>\n",
       "      <td>2.362331</td>\n",
       "    </tr>\n",
       "    <tr>\n",
       "      <th>f1</th>\n",
       "      <td>100000.0</td>\n",
       "      <td>0.250143</td>\n",
       "      <td>0.504433</td>\n",
       "      <td>-0.848218</td>\n",
       "      <td>-0.200881</td>\n",
       "      <td>0.250252</td>\n",
       "      <td>0.700646</td>\n",
       "      <td>1.343769</td>\n",
       "    </tr>\n",
       "    <tr>\n",
       "      <th>f2</th>\n",
       "      <td>100000.0</td>\n",
       "      <td>2.502647</td>\n",
       "      <td>3.248248</td>\n",
       "      <td>-12.088328</td>\n",
       "      <td>0.287748</td>\n",
       "      <td>2.515969</td>\n",
       "      <td>4.715088</td>\n",
       "      <td>16.003790</td>\n",
       "    </tr>\n",
       "    <tr>\n",
       "      <th>product</th>\n",
       "      <td>100000.0</td>\n",
       "      <td>92.500000</td>\n",
       "      <td>44.288691</td>\n",
       "      <td>0.000000</td>\n",
       "      <td>56.497507</td>\n",
       "      <td>91.849972</td>\n",
       "      <td>128.564089</td>\n",
       "      <td>185.364347</td>\n",
       "    </tr>\n",
       "  </tbody>\n",
       "</table>\n",
       "</div>"
      ],
      "text/plain": [
       "            count       mean        std        min        25%        50%  \\\n",
       "f0       100000.0   0.500419   0.871832  -1.408605  -0.072580   0.502360   \n",
       "f1       100000.0   0.250143   0.504433  -0.848218  -0.200881   0.250252   \n",
       "f2       100000.0   2.502647   3.248248 -12.088328   0.287748   2.515969   \n",
       "product  100000.0  92.500000  44.288691   0.000000  56.497507  91.849972   \n",
       "\n",
       "                75%         max  \n",
       "f0         1.073581    2.362331  \n",
       "f1         0.700646    1.343769  \n",
       "f2         4.715088   16.003790  \n",
       "product  128.564089  185.364347  "
      ]
     },
     "metadata": {},
     "output_type": "display_data"
    },
    {
     "data": {
      "text/html": [
       "<br>"
      ],
      "text/plain": [
       "<IPython.core.display.HTML object>"
      ]
     },
     "metadata": {},
     "output_type": "display_data"
    },
    {
     "data": {
      "text/html": [
       "<font color=\"gray\"><b>Количество пропусков</b></font>"
      ],
      "text/plain": [
       "<IPython.core.display.HTML object>"
      ]
     },
     "metadata": {},
     "output_type": "display_data"
    },
    {
     "data": {
      "text/plain": [
       "f0         0\n",
       "f1         0\n",
       "f2         0\n",
       "product    0\n",
       "dtype: int64"
      ]
     },
     "metadata": {},
     "output_type": "display_data"
    },
    {
     "data": {
      "text/html": [
       "<br>"
      ],
      "text/plain": [
       "<IPython.core.display.HTML object>"
      ]
     },
     "metadata": {},
     "output_type": "display_data"
    },
    {
     "data": {
      "text/html": [
       "<font color=\"gray\"><b>Количество дубликатов</b></font>"
      ],
      "text/plain": [
       "<IPython.core.display.HTML object>"
      ]
     },
     "metadata": {},
     "output_type": "display_data"
    },
    {
     "data": {
      "text/plain": [
       "0"
      ]
     },
     "metadata": {},
     "output_type": "display_data"
    },
    {
     "data": {
      "text/html": [
       "<br>"
      ],
      "text/plain": [
       "<IPython.core.display.HTML object>"
      ]
     },
     "metadata": {},
     "output_type": "display_data"
    },
    {
     "data": {
      "text/html": [
       "<font color=\"navy\"><b>Вывод информации о данных geo_data_1</b></font>"
      ],
      "text/plain": [
       "<IPython.core.display.HTML object>"
      ]
     },
     "metadata": {},
     "output_type": "display_data"
    },
    {
     "data": {
      "text/html": [
       "<div>\n",
       "<style scoped>\n",
       "    .dataframe tbody tr th:only-of-type {\n",
       "        vertical-align: middle;\n",
       "    }\n",
       "\n",
       "    .dataframe tbody tr th {\n",
       "        vertical-align: top;\n",
       "    }\n",
       "\n",
       "    .dataframe thead th {\n",
       "        text-align: right;\n",
       "    }\n",
       "</style>\n",
       "<table border=\"1\" class=\"dataframe\">\n",
       "  <thead>\n",
       "    <tr style=\"text-align: right;\">\n",
       "      <th></th>\n",
       "      <th>f0</th>\n",
       "      <th>f1</th>\n",
       "      <th>f2</th>\n",
       "      <th>product</th>\n",
       "    </tr>\n",
       "    <tr>\n",
       "      <th>id</th>\n",
       "      <th></th>\n",
       "      <th></th>\n",
       "      <th></th>\n",
       "      <th></th>\n",
       "    </tr>\n",
       "  </thead>\n",
       "  <tbody>\n",
       "    <tr>\n",
       "      <th>kBEdx</th>\n",
       "      <td>-15.001348</td>\n",
       "      <td>-8.276000</td>\n",
       "      <td>-0.005876</td>\n",
       "      <td>3.179103</td>\n",
       "    </tr>\n",
       "    <tr>\n",
       "      <th>62mP7</th>\n",
       "      <td>14.272088</td>\n",
       "      <td>-3.475083</td>\n",
       "      <td>0.999183</td>\n",
       "      <td>26.953261</td>\n",
       "    </tr>\n",
       "    <tr>\n",
       "      <th>vyE1P</th>\n",
       "      <td>6.263187</td>\n",
       "      <td>-5.948386</td>\n",
       "      <td>5.001160</td>\n",
       "      <td>134.766305</td>\n",
       "    </tr>\n",
       "    <tr>\n",
       "      <th>KcrkZ</th>\n",
       "      <td>-13.081196</td>\n",
       "      <td>-11.506057</td>\n",
       "      <td>4.999415</td>\n",
       "      <td>137.945408</td>\n",
       "    </tr>\n",
       "    <tr>\n",
       "      <th>AHL4O</th>\n",
       "      <td>12.702195</td>\n",
       "      <td>-8.147433</td>\n",
       "      <td>5.004363</td>\n",
       "      <td>134.766305</td>\n",
       "    </tr>\n",
       "  </tbody>\n",
       "</table>\n",
       "</div>"
      ],
      "text/plain": [
       "              f0         f1        f2     product\n",
       "id                                               \n",
       "kBEdx -15.001348  -8.276000 -0.005876    3.179103\n",
       "62mP7  14.272088  -3.475083  0.999183   26.953261\n",
       "vyE1P   6.263187  -5.948386  5.001160  134.766305\n",
       "KcrkZ -13.081196 -11.506057  4.999415  137.945408\n",
       "AHL4O  12.702195  -8.147433  5.004363  134.766305"
      ]
     },
     "metadata": {},
     "output_type": "display_data"
    },
    {
     "data": {
      "text/html": [
       "<br>"
      ],
      "text/plain": [
       "<IPython.core.display.HTML object>"
      ]
     },
     "metadata": {},
     "output_type": "display_data"
    },
    {
     "data": {
      "text/html": [
       "<font color=\"gray\"><b>Информации о датафрейме</b></font>"
      ],
      "text/plain": [
       "<IPython.core.display.HTML object>"
      ]
     },
     "metadata": {},
     "output_type": "display_data"
    },
    {
     "name": "stdout",
     "output_type": "stream",
     "text": [
      "<class 'pandas.core.frame.DataFrame'>\n",
      "Index: 100000 entries, kBEdx to relB0\n",
      "Data columns (total 4 columns):\n",
      " #   Column   Non-Null Count   Dtype  \n",
      "---  ------   --------------   -----  \n",
      " 0   f0       100000 non-null  float64\n",
      " 1   f1       100000 non-null  float64\n",
      " 2   f2       100000 non-null  float64\n",
      " 3   product  100000 non-null  float64\n",
      "dtypes: float64(4)\n",
      "memory usage: 3.8+ MB\n"
     ]
    },
    {
     "data": {
      "text/html": [
       "<br>"
      ],
      "text/plain": [
       "<IPython.core.display.HTML object>"
      ]
     },
     "metadata": {},
     "output_type": "display_data"
    },
    {
     "data": {
      "text/html": [
       "<font color=\"gray\"><b>Описание данных</b></font>"
      ],
      "text/plain": [
       "<IPython.core.display.HTML object>"
      ]
     },
     "metadata": {},
     "output_type": "display_data"
    },
    {
     "data": {
      "text/html": [
       "<div>\n",
       "<style scoped>\n",
       "    .dataframe tbody tr th:only-of-type {\n",
       "        vertical-align: middle;\n",
       "    }\n",
       "\n",
       "    .dataframe tbody tr th {\n",
       "        vertical-align: top;\n",
       "    }\n",
       "\n",
       "    .dataframe thead th {\n",
       "        text-align: right;\n",
       "    }\n",
       "</style>\n",
       "<table border=\"1\" class=\"dataframe\">\n",
       "  <thead>\n",
       "    <tr style=\"text-align: right;\">\n",
       "      <th></th>\n",
       "      <th>count</th>\n",
       "      <th>mean</th>\n",
       "      <th>std</th>\n",
       "      <th>min</th>\n",
       "      <th>25%</th>\n",
       "      <th>50%</th>\n",
       "      <th>75%</th>\n",
       "      <th>max</th>\n",
       "    </tr>\n",
       "  </thead>\n",
       "  <tbody>\n",
       "    <tr>\n",
       "      <th>f0</th>\n",
       "      <td>100000.0</td>\n",
       "      <td>1.141296</td>\n",
       "      <td>8.965932</td>\n",
       "      <td>-31.609576</td>\n",
       "      <td>-6.298551</td>\n",
       "      <td>1.153055</td>\n",
       "      <td>8.621015</td>\n",
       "      <td>29.421755</td>\n",
       "    </tr>\n",
       "    <tr>\n",
       "      <th>f1</th>\n",
       "      <td>100000.0</td>\n",
       "      <td>-4.796579</td>\n",
       "      <td>5.119872</td>\n",
       "      <td>-26.358598</td>\n",
       "      <td>-8.267985</td>\n",
       "      <td>-4.813172</td>\n",
       "      <td>-1.332816</td>\n",
       "      <td>18.734063</td>\n",
       "    </tr>\n",
       "    <tr>\n",
       "      <th>f2</th>\n",
       "      <td>100000.0</td>\n",
       "      <td>2.494541</td>\n",
       "      <td>1.703572</td>\n",
       "      <td>-0.018144</td>\n",
       "      <td>1.000021</td>\n",
       "      <td>2.011479</td>\n",
       "      <td>3.999904</td>\n",
       "      <td>5.019721</td>\n",
       "    </tr>\n",
       "    <tr>\n",
       "      <th>product</th>\n",
       "      <td>100000.0</td>\n",
       "      <td>68.825000</td>\n",
       "      <td>45.944423</td>\n",
       "      <td>0.000000</td>\n",
       "      <td>26.953261</td>\n",
       "      <td>57.085625</td>\n",
       "      <td>107.813044</td>\n",
       "      <td>137.945408</td>\n",
       "    </tr>\n",
       "  </tbody>\n",
       "</table>\n",
       "</div>"
      ],
      "text/plain": [
       "            count       mean        std        min        25%        50%  \\\n",
       "f0       100000.0   1.141296   8.965932 -31.609576  -6.298551   1.153055   \n",
       "f1       100000.0  -4.796579   5.119872 -26.358598  -8.267985  -4.813172   \n",
       "f2       100000.0   2.494541   1.703572  -0.018144   1.000021   2.011479   \n",
       "product  100000.0  68.825000  45.944423   0.000000  26.953261  57.085625   \n",
       "\n",
       "                75%         max  \n",
       "f0         8.621015   29.421755  \n",
       "f1        -1.332816   18.734063  \n",
       "f2         3.999904    5.019721  \n",
       "product  107.813044  137.945408  "
      ]
     },
     "metadata": {},
     "output_type": "display_data"
    },
    {
     "data": {
      "text/html": [
       "<br>"
      ],
      "text/plain": [
       "<IPython.core.display.HTML object>"
      ]
     },
     "metadata": {},
     "output_type": "display_data"
    },
    {
     "data": {
      "text/html": [
       "<font color=\"gray\"><b>Количество пропусков</b></font>"
      ],
      "text/plain": [
       "<IPython.core.display.HTML object>"
      ]
     },
     "metadata": {},
     "output_type": "display_data"
    },
    {
     "data": {
      "text/plain": [
       "f0         0\n",
       "f1         0\n",
       "f2         0\n",
       "product    0\n",
       "dtype: int64"
      ]
     },
     "metadata": {},
     "output_type": "display_data"
    },
    {
     "data": {
      "text/html": [
       "<br>"
      ],
      "text/plain": [
       "<IPython.core.display.HTML object>"
      ]
     },
     "metadata": {},
     "output_type": "display_data"
    },
    {
     "data": {
      "text/html": [
       "<font color=\"gray\"><b>Количество дубликатов</b></font>"
      ],
      "text/plain": [
       "<IPython.core.display.HTML object>"
      ]
     },
     "metadata": {},
     "output_type": "display_data"
    },
    {
     "data": {
      "text/plain": [
       "0"
      ]
     },
     "metadata": {},
     "output_type": "display_data"
    },
    {
     "data": {
      "text/html": [
       "<br>"
      ],
      "text/plain": [
       "<IPython.core.display.HTML object>"
      ]
     },
     "metadata": {},
     "output_type": "display_data"
    },
    {
     "data": {
      "text/html": [
       "<font color=\"navy\"><b>Вывод информации о данных geo_data_2</b></font>"
      ],
      "text/plain": [
       "<IPython.core.display.HTML object>"
      ]
     },
     "metadata": {},
     "output_type": "display_data"
    },
    {
     "data": {
      "text/html": [
       "<div>\n",
       "<style scoped>\n",
       "    .dataframe tbody tr th:only-of-type {\n",
       "        vertical-align: middle;\n",
       "    }\n",
       "\n",
       "    .dataframe tbody tr th {\n",
       "        vertical-align: top;\n",
       "    }\n",
       "\n",
       "    .dataframe thead th {\n",
       "        text-align: right;\n",
       "    }\n",
       "</style>\n",
       "<table border=\"1\" class=\"dataframe\">\n",
       "  <thead>\n",
       "    <tr style=\"text-align: right;\">\n",
       "      <th></th>\n",
       "      <th>f0</th>\n",
       "      <th>f1</th>\n",
       "      <th>f2</th>\n",
       "      <th>product</th>\n",
       "    </tr>\n",
       "    <tr>\n",
       "      <th>id</th>\n",
       "      <th></th>\n",
       "      <th></th>\n",
       "      <th></th>\n",
       "      <th></th>\n",
       "    </tr>\n",
       "  </thead>\n",
       "  <tbody>\n",
       "    <tr>\n",
       "      <th>fwXo0</th>\n",
       "      <td>-1.146987</td>\n",
       "      <td>0.963328</td>\n",
       "      <td>-0.828965</td>\n",
       "      <td>27.758673</td>\n",
       "    </tr>\n",
       "    <tr>\n",
       "      <th>WJtFt</th>\n",
       "      <td>0.262778</td>\n",
       "      <td>0.269839</td>\n",
       "      <td>-2.530187</td>\n",
       "      <td>56.069697</td>\n",
       "    </tr>\n",
       "    <tr>\n",
       "      <th>ovLUW</th>\n",
       "      <td>0.194587</td>\n",
       "      <td>0.289035</td>\n",
       "      <td>-5.586433</td>\n",
       "      <td>62.871910</td>\n",
       "    </tr>\n",
       "    <tr>\n",
       "      <th>q6cA6</th>\n",
       "      <td>2.236060</td>\n",
       "      <td>-0.553760</td>\n",
       "      <td>0.930038</td>\n",
       "      <td>114.572842</td>\n",
       "    </tr>\n",
       "    <tr>\n",
       "      <th>WPMUX</th>\n",
       "      <td>-0.515993</td>\n",
       "      <td>1.716266</td>\n",
       "      <td>5.899011</td>\n",
       "      <td>149.600746</td>\n",
       "    </tr>\n",
       "  </tbody>\n",
       "</table>\n",
       "</div>"
      ],
      "text/plain": [
       "             f0        f1        f2     product\n",
       "id                                             \n",
       "fwXo0 -1.146987  0.963328 -0.828965   27.758673\n",
       "WJtFt  0.262778  0.269839 -2.530187   56.069697\n",
       "ovLUW  0.194587  0.289035 -5.586433   62.871910\n",
       "q6cA6  2.236060 -0.553760  0.930038  114.572842\n",
       "WPMUX -0.515993  1.716266  5.899011  149.600746"
      ]
     },
     "metadata": {},
     "output_type": "display_data"
    },
    {
     "data": {
      "text/html": [
       "<br>"
      ],
      "text/plain": [
       "<IPython.core.display.HTML object>"
      ]
     },
     "metadata": {},
     "output_type": "display_data"
    },
    {
     "data": {
      "text/html": [
       "<font color=\"gray\"><b>Информации о датафрейме</b></font>"
      ],
      "text/plain": [
       "<IPython.core.display.HTML object>"
      ]
     },
     "metadata": {},
     "output_type": "display_data"
    },
    {
     "name": "stdout",
     "output_type": "stream",
     "text": [
      "<class 'pandas.core.frame.DataFrame'>\n",
      "Index: 100000 entries, fwXo0 to V9kWn\n",
      "Data columns (total 4 columns):\n",
      " #   Column   Non-Null Count   Dtype  \n",
      "---  ------   --------------   -----  \n",
      " 0   f0       100000 non-null  float64\n",
      " 1   f1       100000 non-null  float64\n",
      " 2   f2       100000 non-null  float64\n",
      " 3   product  100000 non-null  float64\n",
      "dtypes: float64(4)\n",
      "memory usage: 3.8+ MB\n"
     ]
    },
    {
     "data": {
      "text/html": [
       "<br>"
      ],
      "text/plain": [
       "<IPython.core.display.HTML object>"
      ]
     },
     "metadata": {},
     "output_type": "display_data"
    },
    {
     "data": {
      "text/html": [
       "<font color=\"gray\"><b>Описание данных</b></font>"
      ],
      "text/plain": [
       "<IPython.core.display.HTML object>"
      ]
     },
     "metadata": {},
     "output_type": "display_data"
    },
    {
     "data": {
      "text/html": [
       "<div>\n",
       "<style scoped>\n",
       "    .dataframe tbody tr th:only-of-type {\n",
       "        vertical-align: middle;\n",
       "    }\n",
       "\n",
       "    .dataframe tbody tr th {\n",
       "        vertical-align: top;\n",
       "    }\n",
       "\n",
       "    .dataframe thead th {\n",
       "        text-align: right;\n",
       "    }\n",
       "</style>\n",
       "<table border=\"1\" class=\"dataframe\">\n",
       "  <thead>\n",
       "    <tr style=\"text-align: right;\">\n",
       "      <th></th>\n",
       "      <th>count</th>\n",
       "      <th>mean</th>\n",
       "      <th>std</th>\n",
       "      <th>min</th>\n",
       "      <th>25%</th>\n",
       "      <th>50%</th>\n",
       "      <th>75%</th>\n",
       "      <th>max</th>\n",
       "    </tr>\n",
       "  </thead>\n",
       "  <tbody>\n",
       "    <tr>\n",
       "      <th>f0</th>\n",
       "      <td>100000.0</td>\n",
       "      <td>0.002023</td>\n",
       "      <td>1.732045</td>\n",
       "      <td>-8.760004</td>\n",
       "      <td>-1.162288</td>\n",
       "      <td>0.009424</td>\n",
       "      <td>1.158535</td>\n",
       "      <td>7.238262</td>\n",
       "    </tr>\n",
       "    <tr>\n",
       "      <th>f1</th>\n",
       "      <td>100000.0</td>\n",
       "      <td>-0.002081</td>\n",
       "      <td>1.730417</td>\n",
       "      <td>-7.084020</td>\n",
       "      <td>-1.174820</td>\n",
       "      <td>-0.009482</td>\n",
       "      <td>1.163678</td>\n",
       "      <td>7.844801</td>\n",
       "    </tr>\n",
       "    <tr>\n",
       "      <th>f2</th>\n",
       "      <td>100000.0</td>\n",
       "      <td>2.495128</td>\n",
       "      <td>3.473445</td>\n",
       "      <td>-11.970335</td>\n",
       "      <td>0.130359</td>\n",
       "      <td>2.484236</td>\n",
       "      <td>4.858794</td>\n",
       "      <td>16.739402</td>\n",
       "    </tr>\n",
       "    <tr>\n",
       "      <th>product</th>\n",
       "      <td>100000.0</td>\n",
       "      <td>95.000000</td>\n",
       "      <td>44.749921</td>\n",
       "      <td>0.000000</td>\n",
       "      <td>59.450441</td>\n",
       "      <td>94.925613</td>\n",
       "      <td>130.595027</td>\n",
       "      <td>190.029838</td>\n",
       "    </tr>\n",
       "  </tbody>\n",
       "</table>\n",
       "</div>"
      ],
      "text/plain": [
       "            count       mean        std        min        25%        50%  \\\n",
       "f0       100000.0   0.002023   1.732045  -8.760004  -1.162288   0.009424   \n",
       "f1       100000.0  -0.002081   1.730417  -7.084020  -1.174820  -0.009482   \n",
       "f2       100000.0   2.495128   3.473445 -11.970335   0.130359   2.484236   \n",
       "product  100000.0  95.000000  44.749921   0.000000  59.450441  94.925613   \n",
       "\n",
       "                75%         max  \n",
       "f0         1.158535    7.238262  \n",
       "f1         1.163678    7.844801  \n",
       "f2         4.858794   16.739402  \n",
       "product  130.595027  190.029838  "
      ]
     },
     "metadata": {},
     "output_type": "display_data"
    },
    {
     "data": {
      "text/html": [
       "<br>"
      ],
      "text/plain": [
       "<IPython.core.display.HTML object>"
      ]
     },
     "metadata": {},
     "output_type": "display_data"
    },
    {
     "data": {
      "text/html": [
       "<font color=\"gray\"><b>Количество пропусков</b></font>"
      ],
      "text/plain": [
       "<IPython.core.display.HTML object>"
      ]
     },
     "metadata": {},
     "output_type": "display_data"
    },
    {
     "data": {
      "text/plain": [
       "f0         0\n",
       "f1         0\n",
       "f2         0\n",
       "product    0\n",
       "dtype: int64"
      ]
     },
     "metadata": {},
     "output_type": "display_data"
    },
    {
     "data": {
      "text/html": [
       "<br>"
      ],
      "text/plain": [
       "<IPython.core.display.HTML object>"
      ]
     },
     "metadata": {},
     "output_type": "display_data"
    },
    {
     "data": {
      "text/html": [
       "<font color=\"gray\"><b>Количество дубликатов</b></font>"
      ],
      "text/plain": [
       "<IPython.core.display.HTML object>"
      ]
     },
     "metadata": {},
     "output_type": "display_data"
    },
    {
     "data": {
      "text/plain": [
       "0"
      ]
     },
     "metadata": {},
     "output_type": "display_data"
    },
    {
     "data": {
      "text/html": [
       "<br>"
      ],
      "text/plain": [
       "<IPython.core.display.HTML object>"
      ]
     },
     "metadata": {},
     "output_type": "display_data"
    }
   ],
   "source": [
    "for k, v in dict_df.items():\n",
    "    display(HTML(f'<font color=\"navy\"><b>Вывод информации о данных {k}</b></font>'))\n",
    "    get_data_info(v)"
   ]
  },
  {
   "cell_type": "markdown",
   "metadata": {},
   "source": [
    "### Вывод"
   ]
  },
  {
   "cell_type": "markdown",
   "metadata": {},
   "source": [
    "Выводы по загруженным данным:\n",
    "\n",
    "- `id` - перевел в индекс, так как при обучении нам этот признак не понадобится.\n",
    "- Что означают признаки `f0`, `f1`, `f2` заказчиком скрыты.\n",
    "    \n",
    "Датафрейм `geo_data_0`:\n",
    "- Типы данных соответствуют содержимому;\n",
    "- Общее описание данных не вызывает вопросов;\n",
    "- Cодержит 100000 строк;\n",
    "- Пропуски отсутствуют;\n",
    "- Дубликаты осутствуют.\n",
    "\n",
    "Датафрейм `geo_data_1`:\n",
    "- Типы данных соответствуют содержимому;\n",
    "- Общее описание данных не вызывает вопросов;\n",
    "- Cодержит 100000 строк;\n",
    "- Пропуски отсутствуют;\n",
    "- Дубликаты осутствуют.\n",
    "\n",
    "Датафрейм `geo_data_2`:\n",
    "- Типы данных соответствуют содержимому;\n",
    "- Присутствет значительная разность среднего значения и медианы по `f0` и `f1`;\n",
    "- Cодержит 100000 строк;\n",
    "- Пропуски отсутствуют;\n",
    "- Дубликаты осутствуют.\n",
    "\n",
    "\n"
   ]
  },
  {
   "cell_type": "markdown",
   "metadata": {},
   "source": [
    "## Обучение и проверка модели"
   ]
  },
  {
   "cell_type": "markdown",
   "metadata": {},
   "source": [
    "### Разделение данных\n",
    "\n",
    "на обучающую и валидационную выборки в соотношении 75:25."
   ]
  },
  {
   "cell_type": "code",
   "execution_count": 12,
   "metadata": {},
   "outputs": [],
   "source": [
    "X_train_0, X_test_0, y_train_0, y_test_0 = df_split(geo_data_0, 'product')"
   ]
  },
  {
   "cell_type": "code",
   "execution_count": 13,
   "metadata": {},
   "outputs": [],
   "source": [
    "X_train_1, X_test_1, y_train_1, y_test_1 = df_split(geo_data_1, 'product')"
   ]
  },
  {
   "cell_type": "code",
   "execution_count": 14,
   "metadata": {},
   "outputs": [],
   "source": [
    "X_train_2, X_test_2, y_train_2, y_test_2 = df_split(geo_data_2, 'product')"
   ]
  },
  {
   "cell_type": "markdown",
   "metadata": {},
   "source": [
    "### Обучение модели и предсказания на валидационной выборке"
   ]
  },
  {
   "cell_type": "code",
   "execution_count": 15,
   "metadata": {},
   "outputs": [],
   "source": [
    "predict_0 = lg_model(X_train_0, y_train_0, X_test_0)"
   ]
  },
  {
   "cell_type": "code",
   "execution_count": 16,
   "metadata": {},
   "outputs": [],
   "source": [
    "predict_1 = lg_model(X_train_1, y_train_1, X_test_1)"
   ]
  },
  {
   "cell_type": "code",
   "execution_count": 17,
   "metadata": {},
   "outputs": [],
   "source": [
    "predict_2 = lg_model(X_train_2, y_train_2, X_test_2)"
   ]
  },
  {
   "cell_type": "markdown",
   "metadata": {},
   "source": [
    "### Cредний запас предсказанного сырья и RMSE модели"
   ]
  },
  {
   "cell_type": "markdown",
   "metadata": {},
   "source": [
    "**Регион 1**"
   ]
  },
  {
   "cell_type": "code",
   "execution_count": 18,
   "metadata": {},
   "outputs": [
    {
     "data": {
      "text/plain": [
       "'Cредний запас предсказанного сырья - 92.39879990657768'"
      ]
     },
     "metadata": {},
     "output_type": "display_data"
    },
    {
     "data": {
      "text/plain": [
       "'RMSE - 37.75660035026169'"
      ]
     },
     "metadata": {},
     "output_type": "display_data"
    }
   ],
   "source": [
    "display(f'Cредний запас предсказанного сырья - {predict_0.mean()}')\n",
    "display(f'RMSE - {mean_squared_error(y_test_0, predict_0)**0.5}')"
   ]
  },
  {
   "cell_type": "markdown",
   "metadata": {},
   "source": [
    "**Регион 2**"
   ]
  },
  {
   "cell_type": "code",
   "execution_count": 19,
   "metadata": {},
   "outputs": [
    {
     "data": {
      "text/plain": [
       "'Cредний запас предсказанного сырья - 68.71287803913762'"
      ]
     },
     "metadata": {},
     "output_type": "display_data"
    },
    {
     "data": {
      "text/plain": [
       "'RMSE - 0.8902801001028859'"
      ]
     },
     "metadata": {},
     "output_type": "display_data"
    }
   ],
   "source": [
    "display(f'Cредний запас предсказанного сырья - {predict_1.mean()}')\n",
    "display(f'RMSE - {mean_squared_error(y_test_1, predict_1)**0.5}')"
   ]
  },
  {
   "cell_type": "markdown",
   "metadata": {},
   "source": [
    "**Регион 3**"
   ]
  },
  {
   "cell_type": "code",
   "execution_count": 20,
   "metadata": {},
   "outputs": [
    {
     "data": {
      "text/plain": [
       "'Cредний запас предсказанного сырья - 94.77102387765939'"
      ]
     },
     "metadata": {},
     "output_type": "display_data"
    },
    {
     "data": {
      "text/plain": [
       "'RMSE - 40.145872311342174'"
      ]
     },
     "metadata": {},
     "output_type": "display_data"
    }
   ],
   "source": [
    "display(f'Cредний запас предсказанного сырья - {predict_2.mean()}')\n",
    "display(f'RMSE - {mean_squared_error(y_test_2, predict_2)**0.5}')"
   ]
  },
  {
   "cell_type": "markdown",
   "metadata": {},
   "source": [
    "**Полученным предсказаниям присвоим индексы (id скважины)**"
   ]
  },
  {
   "cell_type": "code",
   "execution_count": 21,
   "metadata": {},
   "outputs": [],
   "source": [
    "predict_0 = pd.Series(predict_0, index=y_test_0.index)\n",
    "predict_1 = pd.Series(predict_1, index=y_test_1.index)\n",
    "predict_2 = pd.Series(predict_2, index=y_test_2.index)"
   ]
  },
  {
   "cell_type": "markdown",
   "metadata": {},
   "source": [
    "### Вывод"
   ]
  },
  {
   "cell_type": "markdown",
   "metadata": {},
   "source": [
    "Среднеквадратичная ошибка (RMSE) модели регионов 1 и 3 достаточно высоская, 37.76 и 40.15, соответственно. Это говорит о том, что средний запас предсказанного сырья может быть недостаточно точным, по сравнению с моделью региона 2, у которой RMSE значительно ниже и составляет 0,89."
   ]
  },
  {
   "cell_type": "markdown",
   "metadata": {},
   "source": [
    "## Подготовка к расчёту прибыли"
   ]
  },
  {
   "cell_type": "markdown",
   "metadata": {},
   "source": [
    "### Достаточный объём сырья для безубыточной разработки"
   ]
  },
  {
   "cell_type": "markdown",
   "metadata": {},
   "source": [
    "Чтобы расчитать достаточный объем для безубыточной разработки требуется общий бюджет разделить на количество точек умноженное на доход с еденицы продукта."
   ]
  },
  {
   "cell_type": "code",
   "execution_count": 22,
   "metadata": {},
   "outputs": [
    {
     "data": {
      "text/plain": [
       "111.11111111111111"
      ]
     },
     "execution_count": 22,
     "metadata": {},
     "output_type": "execute_result"
    }
   ],
   "source": [
    "sufficient_volume = BUDGET / (BEST_POINT * INCOME_UNIT)\n",
    "sufficient_volume"
   ]
  },
  {
   "cell_type": "markdown",
   "metadata": {},
   "source": [
    "### Cравнение полученного объём сырья со средним запасом в каждом регионе"
   ]
  },
  {
   "cell_type": "code",
   "execution_count": 23,
   "metadata": {},
   "outputs": [
    {
     "data": {
      "text/plain": [
       "-18.6111111111111"
      ]
     },
     "execution_count": 23,
     "metadata": {},
     "output_type": "execute_result"
    }
   ],
   "source": [
    "geo_data_0['product'].mean() - sufficient_volume"
   ]
  },
  {
   "cell_type": "code",
   "execution_count": 24,
   "metadata": {},
   "outputs": [
    {
     "data": {
      "text/plain": [
       "-42.2861111111111"
      ]
     },
     "execution_count": 24,
     "metadata": {},
     "output_type": "execute_result"
    }
   ],
   "source": [
    "geo_data_1['product'].mean() - sufficient_volume"
   ]
  },
  {
   "cell_type": "code",
   "execution_count": 25,
   "metadata": {},
   "outputs": [
    {
     "data": {
      "text/plain": [
       "-16.11111111111107"
      ]
     },
     "execution_count": 25,
     "metadata": {},
     "output_type": "execute_result"
    }
   ],
   "source": [
    "geo_data_2['product'].mean() - sufficient_volume"
   ]
  },
  {
   "cell_type": "markdown",
   "metadata": {},
   "source": [
    "### Вывод"
   ]
  },
  {
   "cell_type": "markdown",
   "metadata": {},
   "source": [
    "Достаточный объем для безубыточной разработки составляет 111.11 ед. продукта.\n",
    "Что на 18,61 больше среднего значения региона 1, на 42.29 среднего значения региона 2 и 16.11 региона 3."
   ]
  },
  {
   "cell_type": "markdown",
   "metadata": {},
   "source": [
    "## Расчёт прибыли и рисков "
   ]
  },
  {
   "cell_type": "markdown",
   "metadata": {},
   "source": [
    "### Расчёт прибыли"
   ]
  },
  {
   "cell_type": "code",
   "execution_count": 26,
   "metadata": {},
   "outputs": [
    {
     "data": {
      "text/plain": [
       "3359141114.46"
      ]
     },
     "execution_count": 26,
     "metadata": {},
     "output_type": "execute_result"
    }
   ],
   "source": [
    "revenue(y_test_0, predict_0)"
   ]
  },
  {
   "cell_type": "code",
   "execution_count": 27,
   "metadata": {},
   "outputs": [
    {
     "data": {
      "text/plain": [
       "2415086696.68"
      ]
     },
     "execution_count": 27,
     "metadata": {},
     "output_type": "execute_result"
    }
   ],
   "source": [
    "revenue(y_test_1, predict_1)"
   ]
  },
  {
   "cell_type": "code",
   "execution_count": 28,
   "metadata": {},
   "outputs": [
    {
     "data": {
      "text/plain": [
       "2598571759.37"
      ]
     },
     "execution_count": 28,
     "metadata": {},
     "output_type": "execute_result"
    }
   ],
   "source": [
    "revenue(y_test_2, predict_2)"
   ]
  },
  {
   "cell_type": "markdown",
   "metadata": {},
   "source": [
    "#### Вывод"
   ]
  },
  {
   "cell_type": "markdown",
   "metadata": {},
   "source": [
    "Все регионы получись безубыточными:\n",
    "- Прибыль региона 1 составляет 3,4 млрд руб.\n",
    "- Прибыль региона 2 составляет 2,4 млрд руб.\n",
    "- Прибыль региона 3 составляет 2,6 млрд руб."
   ]
  },
  {
   "cell_type": "markdown",
   "metadata": {},
   "source": [
    "### Расчет рисков и прибыли техникой Bootstrap"
   ]
  },
  {
   "cell_type": "code",
   "execution_count": 29,
   "metadata": {},
   "outputs": [
    {
     "data": {
      "text/plain": [
       "'Средняя прибыль: 435 933 772.14'"
      ]
     },
     "metadata": {},
     "output_type": "display_data"
    },
    {
     "data": {
      "text/plain": [
       "'95%-й доверительный интервал от -116 231 612.78 до 966 504 180.71'"
      ]
     },
     "metadata": {},
     "output_type": "display_data"
    },
    {
     "data": {
      "text/plain": [
       "'Риск убытков 6.1%'"
      ]
     },
     "metadata": {},
     "output_type": "display_data"
    }
   ],
   "source": [
    "bootstrap(y_test_0, predict_0)"
   ]
  },
  {
   "cell_type": "code",
   "execution_count": 30,
   "metadata": {},
   "outputs": [
    {
     "data": {
      "text/plain": [
       "'Средняя прибыль: 498 569 016.92'"
      ]
     },
     "metadata": {},
     "output_type": "display_data"
    },
    {
     "data": {
      "text/plain": [
       "'95%-й доверительный интервал от 75 315 573.09 до 911 503 695.02'"
      ]
     },
     "metadata": {},
     "output_type": "display_data"
    },
    {
     "data": {
      "text/plain": [
       "'Риск убытков 1.0%'"
      ]
     },
     "metadata": {},
     "output_type": "display_data"
    }
   ],
   "source": [
    "bootstrap(y_test_1, predict_1)"
   ]
  },
  {
   "cell_type": "code",
   "execution_count": 31,
   "metadata": {},
   "outputs": [
    {
     "data": {
      "text/plain": [
       "'Средняя прибыль: 412 672 898.99'"
      ]
     },
     "metadata": {},
     "output_type": "display_data"
    },
    {
     "data": {
      "text/plain": [
       "'95%-й доверительный интервал от -158 939 515.77 до 978 191 201.7'"
      ]
     },
     "metadata": {},
     "output_type": "display_data"
    },
    {
     "data": {
      "text/plain": [
       "'Риск убытков 7.0%'"
      ]
     },
     "metadata": {},
     "output_type": "display_data"
    }
   ],
   "source": [
    "bootstrap(y_test_2, predict_2)"
   ]
  },
  {
   "cell_type": "markdown",
   "metadata": {},
   "source": [
    "### Вывод"
   ]
  },
  {
   "cell_type": "markdown",
   "metadata": {},
   "source": [
    "Полученные величины по регионам:\n",
    "\n",
    "**Регион 1**\n",
    "\n",
    "- Средняя прибыль: 435 933 772.14;\n",
    "- 95%-й доверительный интервал от -116 231 612.78 до 966 504 180.71;\n",
    "- Риск убытков 6.1%.\n",
    "\n",
    "**Регион 2**\n",
    "\n",
    "- Средняя прибыль: 498 569 016.92;\n",
    "- 95%-й доверительный интервал от 75 315 573.09 до 911 503 695.02;\n",
    "- Риск убытков 1.0%.\n",
    "\n",
    "**Регион 3**\n",
    "\n",
    "- Средняя прибыль: 412 672 898.99;\n",
    "- 95%-й доверительный интервал от -158 939 515.77 до 978 191 201.7;\n",
    "- Риск убытков 7.0%."
   ]
  },
  {
   "cell_type": "markdown",
   "metadata": {},
   "source": [
    "Основываясь на полученных данных предположу, что лучше выбрать Регион 2 для разработки скважин, так как риск безубыточной разботки составляет 99%"
   ]
  },
  {
   "cell_type": "markdown",
   "metadata": {},
   "source": [
    "## Чек-лист готовности проекта"
   ]
  },
  {
   "cell_type": "markdown",
   "metadata": {},
   "source": [
    "Поставьте 'x' в выполненных пунктах. Далее нажмите Shift+Enter."
   ]
  },
  {
   "cell_type": "markdown",
   "metadata": {},
   "source": [
    "- [x]  Jupyter Notebook открыт\n",
    "- [x]  Весь код выполняется без ошибок\n",
    "- [x]  Ячейки с кодом расположены в порядке исполнения\n",
    "- [x]  Выполнен шаг 1: данные подготовлены\n",
    "- [x]  Выполнен шаг 2: модели обучены и проверены\n",
    "    - [x]  Данные корректно разбиты на обучающую и валидационную выборки\n",
    "    - [x]  Модели обучены, предсказания сделаны\n",
    "    - [x]  Предсказания и правильные ответы на валидационной выборке сохранены\n",
    "    - [x]  На экране напечатаны результаты\n",
    "    - [x]  Сделаны выводы\n",
    "- [x]  Выполнен шаг 3: проведена подготовка к расчёту прибыли\n",
    "    - [x]  Для всех ключевых значений созданы константы Python\n",
    "    - [x]  Посчитано минимальное среднее количество продукта в месторождениях региона, достаточное для разработки\n",
    "    - [x]  По предыдущему пункту сделаны выводы\n",
    "    - [x]  Написана функция расчёта прибыли\n",
    "- [x]  Выполнен шаг 4: посчитаны риски и прибыль\n",
    "    - [x]  Проведена процедура *Bootstrap*\n",
    "    - [x]  Все параметры бутстрепа соответствуют условию\n",
    "    - [x]  Найдены все нужные величины\n",
    "    - [x]  Предложен регион для разработки месторождения\n",
    "    - [x]  Выбор региона обоснован"
   ]
  }
 ],
 "metadata": {
  "ExecuteTimeLog": [
   {
    "duration": 10,
    "start_time": "2024-09-19T18:21:21.345Z"
   },
   {
    "duration": 5,
    "start_time": "2024-09-19T18:25:46.621Z"
   },
   {
    "duration": 420,
    "start_time": "2024-09-19T18:26:02.196Z"
   },
   {
    "duration": 4,
    "start_time": "2024-09-19T18:26:05.677Z"
   },
   {
    "duration": 98,
    "start_time": "2024-09-19T18:26:08.298Z"
   },
   {
    "duration": 2,
    "start_time": "2024-09-19T18:26:27.334Z"
   },
   {
    "duration": 1074,
    "start_time": "2024-09-19T18:26:29.614Z"
   },
   {
    "duration": 3,
    "start_time": "2024-09-19T18:27:24.302Z"
   },
   {
    "duration": 4,
    "start_time": "2024-09-19T18:29:58.352Z"
   },
   {
    "duration": 3,
    "start_time": "2024-09-19T18:31:39.914Z"
   },
   {
    "duration": 1263,
    "start_time": "2024-09-19T18:32:00.235Z"
   },
   {
    "duration": 2,
    "start_time": "2024-09-19T19:07:15.392Z"
   },
   {
    "duration": 3,
    "start_time": "2024-09-19T19:08:03.058Z"
   },
   {
    "duration": 3,
    "start_time": "2024-09-19T19:16:43.742Z"
   },
   {
    "duration": 4,
    "start_time": "2024-09-19T19:17:01.340Z"
   },
   {
    "duration": 11,
    "start_time": "2024-09-19T19:19:14.783Z"
   },
   {
    "duration": 760,
    "start_time": "2024-09-19T19:21:21.066Z"
   },
   {
    "duration": 76,
    "start_time": "2024-09-19T19:21:26.544Z"
   },
   {
    "duration": 3,
    "start_time": "2024-09-19T19:23:09.369Z"
   },
   {
    "duration": 49,
    "start_time": "2024-09-19T19:23:15.020Z"
   },
   {
    "duration": 12,
    "start_time": "2024-09-19T19:23:20.602Z"
   },
   {
    "duration": 8,
    "start_time": "2024-09-19T19:23:29.427Z"
   },
   {
    "duration": 16,
    "start_time": "2024-09-19T19:23:48.746Z"
   },
   {
    "duration": 13,
    "start_time": "2024-09-19T19:23:59.009Z"
   },
   {
    "duration": 44,
    "start_time": "2024-09-19T19:24:55.948Z"
   },
   {
    "duration": 33,
    "start_time": "2024-09-19T19:24:57.523Z"
   },
   {
    "duration": 1102,
    "start_time": "2024-09-19T19:26:07.306Z"
   },
   {
    "duration": 6,
    "start_time": "2024-09-19T19:26:08.409Z"
   },
   {
    "duration": 27,
    "start_time": "2024-09-19T19:26:08.416Z"
   },
   {
    "duration": 37,
    "start_time": "2024-09-19T19:26:08.444Z"
   },
   {
    "duration": 12,
    "start_time": "2024-09-19T19:26:08.483Z"
   },
   {
    "duration": 512,
    "start_time": "2024-09-19T19:26:08.496Z"
   },
   {
    "duration": 3,
    "start_time": "2024-09-19T19:26:09.010Z"
   },
   {
    "duration": 1212,
    "start_time": "2024-09-19T19:26:09.020Z"
   },
   {
    "duration": 36,
    "start_time": "2024-09-19T19:26:10.233Z"
   },
   {
    "duration": 61,
    "start_time": "2024-09-19T19:26:10.271Z"
   },
   {
    "duration": 42,
    "start_time": "2024-09-19T19:26:10.334Z"
   },
   {
    "duration": 106,
    "start_time": "2024-09-19T19:43:11.814Z"
   },
   {
    "duration": 22,
    "start_time": "2024-09-19T19:45:16.394Z"
   },
   {
    "duration": 3,
    "start_time": "2024-09-19T19:45:18.792Z"
   },
   {
    "duration": 3,
    "start_time": "2024-09-19T19:45:22.088Z"
   },
   {
    "duration": 15,
    "start_time": "2024-09-19T19:45:28.848Z"
   },
   {
    "duration": 4,
    "start_time": "2024-09-19T19:45:33.160Z"
   },
   {
    "duration": 1055,
    "start_time": "2024-09-20T07:38:03.840Z"
   },
   {
    "duration": 4,
    "start_time": "2024-09-20T07:38:04.897Z"
   },
   {
    "duration": 29,
    "start_time": "2024-09-20T07:38:04.903Z"
   },
   {
    "duration": 5,
    "start_time": "2024-09-20T07:38:04.934Z"
   },
   {
    "duration": 25,
    "start_time": "2024-09-20T07:38:04.941Z"
   },
   {
    "duration": 1886,
    "start_time": "2024-09-20T07:38:04.968Z"
   },
   {
    "duration": 2,
    "start_time": "2024-09-20T07:38:06.856Z"
   },
   {
    "duration": 1094,
    "start_time": "2024-09-20T07:38:06.860Z"
   },
   {
    "duration": 36,
    "start_time": "2024-09-20T07:38:07.956Z"
   },
   {
    "duration": 39,
    "start_time": "2024-09-20T07:38:07.995Z"
   },
   {
    "duration": 40,
    "start_time": "2024-09-20T07:38:08.036Z"
   },
   {
    "duration": 51,
    "start_time": "2024-09-20T07:38:08.078Z"
   },
   {
    "duration": 4,
    "start_time": "2024-09-20T07:38:34.074Z"
   },
   {
    "duration": 3,
    "start_time": "2024-09-20T07:47:48.927Z"
   },
   {
    "duration": 3,
    "start_time": "2024-09-20T07:49:15.736Z"
   },
   {
    "duration": 12,
    "start_time": "2024-09-20T07:49:44.835Z"
   },
   {
    "duration": 12,
    "start_time": "2024-09-20T07:49:51.214Z"
   },
   {
    "duration": 13,
    "start_time": "2024-09-20T07:49:57.270Z"
   },
   {
    "duration": 16,
    "start_time": "2024-09-20T07:50:02.274Z"
   },
   {
    "duration": 3,
    "start_time": "2024-09-20T07:51:06.916Z"
   },
   {
    "duration": 11,
    "start_time": "2024-09-20T07:51:32.600Z"
   },
   {
    "duration": 12,
    "start_time": "2024-09-20T07:51:45.231Z"
   },
   {
    "duration": 3,
    "start_time": "2024-09-20T07:52:54.912Z"
   },
   {
    "duration": 1069,
    "start_time": "2024-09-20T07:53:13.008Z"
   },
   {
    "duration": 4,
    "start_time": "2024-09-20T07:53:14.079Z"
   },
   {
    "duration": 11,
    "start_time": "2024-09-20T07:53:14.084Z"
   },
   {
    "duration": 9,
    "start_time": "2024-09-20T07:53:14.096Z"
   },
   {
    "duration": 4,
    "start_time": "2024-09-20T07:53:14.106Z"
   },
   {
    "duration": 4,
    "start_time": "2024-09-20T07:53:14.111Z"
   },
   {
    "duration": 452,
    "start_time": "2024-09-20T07:53:14.117Z"
   },
   {
    "duration": 2,
    "start_time": "2024-09-20T07:53:14.570Z"
   },
   {
    "duration": 1107,
    "start_time": "2024-09-20T07:53:14.573Z"
   },
   {
    "duration": 32,
    "start_time": "2024-09-20T07:53:15.682Z"
   },
   {
    "duration": 33,
    "start_time": "2024-09-20T07:53:15.715Z"
   },
   {
    "duration": 38,
    "start_time": "2024-09-20T07:53:15.750Z"
   },
   {
    "duration": 40,
    "start_time": "2024-09-20T07:53:15.790Z"
   },
   {
    "duration": 100,
    "start_time": "2024-09-20T07:53:15.832Z"
   },
   {
    "duration": 192,
    "start_time": "2024-09-20T07:53:15.934Z"
   },
   {
    "duration": 47,
    "start_time": "2024-09-20T08:00:12.627Z"
   },
   {
    "duration": 4,
    "start_time": "2024-09-20T08:00:14.956Z"
   },
   {
    "duration": 4,
    "start_time": "2024-09-20T08:00:34.897Z"
   },
   {
    "duration": 52,
    "start_time": "2024-09-20T08:02:10.888Z"
   },
   {
    "duration": 10,
    "start_time": "2024-09-20T08:02:16.947Z"
   },
   {
    "duration": 4,
    "start_time": "2024-09-20T08:02:27.632Z"
   },
   {
    "duration": 4,
    "start_time": "2024-09-20T08:02:40.584Z"
   },
   {
    "duration": 5,
    "start_time": "2024-09-20T08:03:01.310Z"
   },
   {
    "duration": 6,
    "start_time": "2024-09-20T08:03:13.901Z"
   },
   {
    "duration": 9,
    "start_time": "2024-09-20T08:04:36.269Z"
   },
   {
    "duration": 10,
    "start_time": "2024-09-20T08:05:07.294Z"
   },
   {
    "duration": 1084,
    "start_time": "2024-09-20T08:05:27.231Z"
   },
   {
    "duration": 4,
    "start_time": "2024-09-20T08:05:28.317Z"
   },
   {
    "duration": 17,
    "start_time": "2024-09-20T08:05:28.322Z"
   },
   {
    "duration": 4,
    "start_time": "2024-09-20T08:05:28.341Z"
   },
   {
    "duration": 6,
    "start_time": "2024-09-20T08:05:28.347Z"
   },
   {
    "duration": 3,
    "start_time": "2024-09-20T08:05:28.354Z"
   },
   {
    "duration": 491,
    "start_time": "2024-09-20T08:05:28.359Z"
   },
   {
    "duration": 3,
    "start_time": "2024-09-20T08:05:28.852Z"
   },
   {
    "duration": 1165,
    "start_time": "2024-09-20T08:05:28.856Z"
   },
   {
    "duration": 39,
    "start_time": "2024-09-20T08:05:30.023Z"
   },
   {
    "duration": 44,
    "start_time": "2024-09-20T08:05:30.064Z"
   },
   {
    "duration": 48,
    "start_time": "2024-09-20T08:05:30.110Z"
   },
   {
    "duration": 69,
    "start_time": "2024-09-20T08:05:30.160Z"
   },
   {
    "duration": 126,
    "start_time": "2024-09-20T08:05:30.234Z"
   },
   {
    "duration": 187,
    "start_time": "2024-09-20T08:05:30.362Z"
   },
   {
    "duration": 177,
    "start_time": "2024-09-20T08:05:30.551Z"
   },
   {
    "duration": 26,
    "start_time": "2024-09-20T08:05:30.729Z"
   },
   {
    "duration": 10,
    "start_time": "2024-09-20T08:05:30.757Z"
   },
   {
    "duration": 1086,
    "start_time": "2024-09-20T18:07:53.571Z"
   },
   {
    "duration": 4,
    "start_time": "2024-09-20T18:07:54.659Z"
   },
   {
    "duration": 5,
    "start_time": "2024-09-20T18:07:54.665Z"
   },
   {
    "duration": 3,
    "start_time": "2024-09-20T18:07:54.671Z"
   },
   {
    "duration": 8,
    "start_time": "2024-09-20T18:07:54.676Z"
   },
   {
    "duration": 20,
    "start_time": "2024-09-20T18:07:54.685Z"
   },
   {
    "duration": 1684,
    "start_time": "2024-09-20T18:07:54.707Z"
   },
   {
    "duration": 2,
    "start_time": "2024-09-20T18:07:56.393Z"
   },
   {
    "duration": 1024,
    "start_time": "2024-09-20T18:07:56.396Z"
   },
   {
    "duration": 36,
    "start_time": "2024-09-20T18:07:57.422Z"
   },
   {
    "duration": 37,
    "start_time": "2024-09-20T18:07:57.460Z"
   },
   {
    "duration": 66,
    "start_time": "2024-09-20T18:07:57.498Z"
   },
   {
    "duration": 32,
    "start_time": "2024-09-20T18:07:57.565Z"
   },
   {
    "duration": 85,
    "start_time": "2024-09-20T18:07:57.599Z"
   },
   {
    "duration": 103,
    "start_time": "2024-09-20T18:07:57.776Z"
   },
   {
    "duration": 94,
    "start_time": "2024-09-20T18:07:57.883Z"
   },
   {
    "duration": 98,
    "start_time": "2024-09-20T18:07:57.979Z"
   },
   {
    "duration": 9,
    "start_time": "2024-09-20T18:07:58.078Z"
   },
   {
    "duration": 2,
    "start_time": "2024-09-20T18:18:31.122Z"
   },
   {
    "duration": 3,
    "start_time": "2024-09-20T18:26:32.654Z"
   },
   {
    "duration": 4,
    "start_time": "2024-09-20T18:34:29.811Z"
   },
   {
    "duration": 4,
    "start_time": "2024-09-20T18:34:49.237Z"
   },
   {
    "duration": 4,
    "start_time": "2024-09-20T18:34:53.547Z"
   },
   {
    "duration": 3,
    "start_time": "2024-09-20T18:35:34.318Z"
   },
   {
    "duration": 4,
    "start_time": "2024-09-20T18:35:36.181Z"
   },
   {
    "duration": 3,
    "start_time": "2024-09-20T18:36:31.886Z"
   },
   {
    "duration": 4,
    "start_time": "2024-09-20T18:38:18.958Z"
   },
   {
    "duration": 4,
    "start_time": "2024-09-20T18:38:24.335Z"
   },
   {
    "duration": 4,
    "start_time": "2024-09-20T18:40:10.935Z"
   },
   {
    "duration": 2,
    "start_time": "2024-09-20T18:40:53.601Z"
   },
   {
    "duration": 3,
    "start_time": "2024-09-20T18:40:57.962Z"
   },
   {
    "duration": 5,
    "start_time": "2024-09-20T18:43:28.914Z"
   },
   {
    "duration": 4,
    "start_time": "2024-09-20T18:44:46.084Z"
   },
   {
    "duration": 4,
    "start_time": "2024-09-20T18:44:57.275Z"
   },
   {
    "duration": 4,
    "start_time": "2024-09-20T18:45:05.572Z"
   },
   {
    "duration": 3,
    "start_time": "2024-09-20T19:14:27.125Z"
   },
   {
    "duration": 1180,
    "start_time": "2024-09-21T04:58:04.635Z"
   },
   {
    "duration": 5,
    "start_time": "2024-09-21T04:58:05.817Z"
   },
   {
    "duration": 20,
    "start_time": "2024-09-21T04:58:05.824Z"
   },
   {
    "duration": 39,
    "start_time": "2024-09-21T04:58:05.846Z"
   },
   {
    "duration": 50,
    "start_time": "2024-09-21T04:58:05.887Z"
   },
   {
    "duration": 18,
    "start_time": "2024-09-21T04:58:05.938Z"
   },
   {
    "duration": 1042,
    "start_time": "2024-09-21T04:58:05.957Z"
   },
   {
    "duration": 3,
    "start_time": "2024-09-21T04:58:07.001Z"
   },
   {
    "duration": 1261,
    "start_time": "2024-09-21T04:58:07.005Z"
   },
   {
    "duration": 39,
    "start_time": "2024-09-21T04:58:08.268Z"
   },
   {
    "duration": 41,
    "start_time": "2024-09-21T04:58:08.309Z"
   },
   {
    "duration": 42,
    "start_time": "2024-09-21T04:58:08.352Z"
   },
   {
    "duration": 28,
    "start_time": "2024-09-21T04:58:08.395Z"
   },
   {
    "duration": 102,
    "start_time": "2024-09-21T04:58:08.427Z"
   },
   {
    "duration": 101,
    "start_time": "2024-09-21T04:58:08.621Z"
   },
   {
    "duration": 105,
    "start_time": "2024-09-21T04:58:08.725Z"
   },
   {
    "duration": 11,
    "start_time": "2024-09-21T04:58:08.921Z"
   },
   {
    "duration": 10,
    "start_time": "2024-09-21T04:58:08.933Z"
   },
   {
    "duration": 3,
    "start_time": "2024-09-21T04:58:08.945Z"
   },
   {
    "duration": 9,
    "start_time": "2024-09-21T04:58:08.949Z"
   },
   {
    "duration": 8,
    "start_time": "2024-09-21T04:58:08.959Z"
   },
   {
    "duration": 7,
    "start_time": "2024-09-21T04:58:08.968Z"
   },
   {
    "duration": 8,
    "start_time": "2024-09-21T04:58:08.977Z"
   },
   {
    "duration": 5,
    "start_time": "2024-09-21T05:12:57.950Z"
   },
   {
    "duration": 8,
    "start_time": "2024-09-21T05:15:46.814Z"
   },
   {
    "duration": 11,
    "start_time": "2024-09-21T05:15:54.078Z"
   },
   {
    "duration": 16,
    "start_time": "2024-09-21T05:16:20.999Z"
   },
   {
    "duration": 9,
    "start_time": "2024-09-21T05:16:41.582Z"
   },
   {
    "duration": 8,
    "start_time": "2024-09-21T05:16:49.367Z"
   },
   {
    "duration": 1162,
    "start_time": "2024-09-21T05:16:54.006Z"
   },
   {
    "duration": 6,
    "start_time": "2024-09-21T05:16:55.170Z"
   },
   {
    "duration": 28,
    "start_time": "2024-09-21T05:16:55.178Z"
   },
   {
    "duration": 6,
    "start_time": "2024-09-21T05:16:55.207Z"
   },
   {
    "duration": 4,
    "start_time": "2024-09-21T05:16:55.215Z"
   },
   {
    "duration": 7,
    "start_time": "2024-09-21T05:16:55.221Z"
   },
   {
    "duration": 556,
    "start_time": "2024-09-21T05:16:55.229Z"
   },
   {
    "duration": 3,
    "start_time": "2024-09-21T05:16:55.786Z"
   },
   {
    "duration": 1336,
    "start_time": "2024-09-21T05:16:55.790Z"
   },
   {
    "duration": 37,
    "start_time": "2024-09-21T05:16:57.128Z"
   },
   {
    "duration": 43,
    "start_time": "2024-09-21T05:16:57.167Z"
   },
   {
    "duration": 41,
    "start_time": "2024-09-21T05:16:57.221Z"
   },
   {
    "duration": 59,
    "start_time": "2024-09-21T05:16:57.264Z"
   },
   {
    "duration": 12,
    "start_time": "2024-09-21T05:16:57.420Z"
   },
   {
    "duration": 187,
    "start_time": "2024-09-21T05:16:57.435Z"
   },
   {
    "duration": 101,
    "start_time": "2024-09-21T05:16:57.624Z"
   },
   {
    "duration": 100,
    "start_time": "2024-09-21T05:16:57.728Z"
   },
   {
    "duration": 12,
    "start_time": "2024-09-21T05:16:57.829Z"
   },
   {
    "duration": 3,
    "start_time": "2024-09-21T05:16:57.843Z"
   },
   {
    "duration": 5,
    "start_time": "2024-09-21T05:16:57.848Z"
   },
   {
    "duration": 6,
    "start_time": "2024-09-21T05:16:57.855Z"
   },
   {
    "duration": 4,
    "start_time": "2024-09-21T05:16:57.863Z"
   },
   {
    "duration": 31,
    "start_time": "2024-09-21T05:16:57.869Z"
   },
   {
    "duration": 23,
    "start_time": "2024-09-21T05:16:57.901Z"
   },
   {
    "duration": 68,
    "start_time": "2024-09-21T05:16:57.925Z"
   },
   {
    "duration": 6,
    "start_time": "2024-09-21T05:17:12.678Z"
   },
   {
    "duration": 5,
    "start_time": "2024-09-21T05:17:22.935Z"
   },
   {
    "duration": 9,
    "start_time": "2024-09-21T05:18:08.719Z"
   },
   {
    "duration": 5,
    "start_time": "2024-09-21T05:18:11.064Z"
   },
   {
    "duration": 1155,
    "start_time": "2024-09-21T05:18:17.793Z"
   },
   {
    "duration": 4,
    "start_time": "2024-09-21T05:18:18.949Z"
   },
   {
    "duration": 24,
    "start_time": "2024-09-21T05:18:18.955Z"
   },
   {
    "duration": 11,
    "start_time": "2024-09-21T05:18:18.981Z"
   },
   {
    "duration": 17,
    "start_time": "2024-09-21T05:18:18.993Z"
   },
   {
    "duration": 6,
    "start_time": "2024-09-21T05:18:19.012Z"
   },
   {
    "duration": 493,
    "start_time": "2024-09-21T05:18:19.019Z"
   },
   {
    "duration": 2,
    "start_time": "2024-09-21T05:18:19.514Z"
   },
   {
    "duration": 1318,
    "start_time": "2024-09-21T05:18:19.518Z"
   },
   {
    "duration": 38,
    "start_time": "2024-09-21T05:18:20.839Z"
   },
   {
    "duration": 43,
    "start_time": "2024-09-21T05:18:20.879Z"
   },
   {
    "duration": 45,
    "start_time": "2024-09-21T05:18:20.924Z"
   },
   {
    "duration": 54,
    "start_time": "2024-09-21T05:18:20.970Z"
   },
   {
    "duration": 103,
    "start_time": "2024-09-21T05:18:21.026Z"
   },
   {
    "duration": 90,
    "start_time": "2024-09-21T05:18:21.132Z"
   },
   {
    "duration": 198,
    "start_time": "2024-09-21T05:18:21.225Z"
   },
   {
    "duration": 11,
    "start_time": "2024-09-21T05:18:21.425Z"
   },
   {
    "duration": 20,
    "start_time": "2024-09-21T05:18:21.438Z"
   },
   {
    "duration": 12,
    "start_time": "2024-09-21T05:18:21.460Z"
   },
   {
    "duration": 52,
    "start_time": "2024-09-21T05:18:21.473Z"
   },
   {
    "duration": 9,
    "start_time": "2024-09-21T05:18:21.526Z"
   },
   {
    "duration": 7,
    "start_time": "2024-09-21T05:18:21.537Z"
   },
   {
    "duration": 32,
    "start_time": "2024-09-21T05:18:21.546Z"
   },
   {
    "duration": 75,
    "start_time": "2024-09-21T05:18:21.580Z"
   },
   {
    "duration": 0,
    "start_time": "2024-09-21T05:18:21.657Z"
   },
   {
    "duration": 0,
    "start_time": "2024-09-21T05:18:21.658Z"
   },
   {
    "duration": 0,
    "start_time": "2024-09-21T05:18:21.660Z"
   },
   {
    "duration": 1140,
    "start_time": "2024-09-21T05:18:34.646Z"
   },
   {
    "duration": 5,
    "start_time": "2024-09-21T05:18:35.789Z"
   },
   {
    "duration": 47,
    "start_time": "2024-09-21T05:18:35.795Z"
   },
   {
    "duration": 23,
    "start_time": "2024-09-21T05:18:35.845Z"
   },
   {
    "duration": 52,
    "start_time": "2024-09-21T05:18:35.870Z"
   },
   {
    "duration": 55,
    "start_time": "2024-09-21T05:18:35.923Z"
   },
   {
    "duration": 536,
    "start_time": "2024-09-21T05:18:35.981Z"
   },
   {
    "duration": 3,
    "start_time": "2024-09-21T05:18:36.518Z"
   },
   {
    "duration": 1293,
    "start_time": "2024-09-21T05:18:36.523Z"
   },
   {
    "duration": 36,
    "start_time": "2024-09-21T05:18:37.818Z"
   },
   {
    "duration": 37,
    "start_time": "2024-09-21T05:18:37.856Z"
   },
   {
    "duration": 54,
    "start_time": "2024-09-21T05:18:37.895Z"
   },
   {
    "duration": 17,
    "start_time": "2024-09-21T05:18:37.950Z"
   },
   {
    "duration": 100,
    "start_time": "2024-09-21T05:18:38.027Z"
   },
   {
    "duration": 192,
    "start_time": "2024-09-21T05:18:38.129Z"
   },
   {
    "duration": 198,
    "start_time": "2024-09-21T05:18:38.325Z"
   },
   {
    "duration": 28,
    "start_time": "2024-09-21T05:18:38.525Z"
   },
   {
    "duration": 13,
    "start_time": "2024-09-21T05:18:38.555Z"
   },
   {
    "duration": 12,
    "start_time": "2024-09-21T05:18:38.570Z"
   },
   {
    "duration": 32,
    "start_time": "2024-09-21T05:18:38.584Z"
   },
   {
    "duration": 7,
    "start_time": "2024-09-21T05:18:38.617Z"
   },
   {
    "duration": 23,
    "start_time": "2024-09-21T05:18:38.626Z"
   },
   {
    "duration": 6,
    "start_time": "2024-09-21T05:18:38.650Z"
   },
   {
    "duration": 7,
    "start_time": "2024-09-21T05:18:38.658Z"
   },
   {
    "duration": 12,
    "start_time": "2024-09-21T05:18:38.666Z"
   },
   {
    "duration": 44,
    "start_time": "2024-09-21T05:18:38.680Z"
   },
   {
    "duration": 4,
    "start_time": "2024-09-21T06:24:08.677Z"
   },
   {
    "duration": 5,
    "start_time": "2024-09-21T06:24:13.221Z"
   },
   {
    "duration": 69,
    "start_time": "2024-09-21T06:24:48.607Z"
   },
   {
    "duration": 71,
    "start_time": "2024-09-21T06:25:04.607Z"
   },
   {
    "duration": 2,
    "start_time": "2024-09-21T06:26:40.840Z"
   },
   {
    "duration": 5,
    "start_time": "2024-09-21T06:26:45.083Z"
   },
   {
    "duration": 3,
    "start_time": "2024-09-21T06:31:22.842Z"
   },
   {
    "duration": 3,
    "start_time": "2024-09-21T06:31:35.474Z"
   },
   {
    "duration": 3,
    "start_time": "2024-09-21T06:32:00.644Z"
   },
   {
    "duration": 109,
    "start_time": "2024-09-21T06:37:02.191Z"
   },
   {
    "duration": 3,
    "start_time": "2024-09-21T06:37:14.279Z"
   },
   {
    "duration": 7,
    "start_time": "2024-09-21T06:37:18.581Z"
   },
   {
    "duration": 5,
    "start_time": "2024-09-21T06:38:31.367Z"
   },
   {
    "duration": 4,
    "start_time": "2024-09-21T06:41:23.306Z"
   },
   {
    "duration": 4,
    "start_time": "2024-09-21T06:42:46.449Z"
   },
   {
    "duration": 3,
    "start_time": "2024-09-21T06:44:13.538Z"
   },
   {
    "duration": 4,
    "start_time": "2024-09-21T06:44:28.417Z"
   },
   {
    "duration": 3,
    "start_time": "2024-09-21T06:44:58.604Z"
   },
   {
    "duration": 4,
    "start_time": "2024-09-21T06:45:08.131Z"
   },
   {
    "duration": 20,
    "start_time": "2024-09-21T06:45:13.267Z"
   },
   {
    "duration": 4,
    "start_time": "2024-09-21T06:45:39.964Z"
   },
   {
    "duration": 21,
    "start_time": "2024-09-21T06:45:41.595Z"
   },
   {
    "duration": 3,
    "start_time": "2024-09-21T06:46:21.143Z"
   },
   {
    "duration": 1148,
    "start_time": "2024-09-21T06:48:03.145Z"
   },
   {
    "duration": 4,
    "start_time": "2024-09-21T06:48:04.295Z"
   },
   {
    "duration": 11,
    "start_time": "2024-09-21T06:48:04.301Z"
   },
   {
    "duration": 26,
    "start_time": "2024-09-21T06:48:04.314Z"
   },
   {
    "duration": 4,
    "start_time": "2024-09-21T06:48:04.342Z"
   },
   {
    "duration": 12,
    "start_time": "2024-09-21T06:48:04.347Z"
   },
   {
    "duration": 503,
    "start_time": "2024-09-21T06:48:04.361Z"
   },
   {
    "duration": 2,
    "start_time": "2024-09-21T06:48:04.865Z"
   },
   {
    "duration": 1455,
    "start_time": "2024-09-21T06:48:04.869Z"
   },
   {
    "duration": 35,
    "start_time": "2024-09-21T06:48:06.326Z"
   },
   {
    "duration": 65,
    "start_time": "2024-09-21T06:48:06.362Z"
   },
   {
    "duration": 49,
    "start_time": "2024-09-21T06:48:06.430Z"
   },
   {
    "duration": 41,
    "start_time": "2024-09-21T06:48:06.480Z"
   },
   {
    "duration": 113,
    "start_time": "2024-09-21T06:48:06.525Z"
   },
   {
    "duration": 108,
    "start_time": "2024-09-21T06:48:06.722Z"
   },
   {
    "duration": 91,
    "start_time": "2024-09-21T06:48:06.833Z"
   },
   {
    "duration": 103,
    "start_time": "2024-09-21T06:48:06.926Z"
   },
   {
    "duration": 10,
    "start_time": "2024-09-21T06:48:07.030Z"
   },
   {
    "duration": 3,
    "start_time": "2024-09-21T06:48:07.042Z"
   },
   {
    "duration": 122,
    "start_time": "2024-09-21T06:48:07.046Z"
   },
   {
    "duration": 0,
    "start_time": "2024-09-21T06:48:07.171Z"
   },
   {
    "duration": 0,
    "start_time": "2024-09-21T06:48:07.172Z"
   },
   {
    "duration": 0,
    "start_time": "2024-09-21T06:48:07.174Z"
   },
   {
    "duration": 0,
    "start_time": "2024-09-21T06:48:07.175Z"
   },
   {
    "duration": 0,
    "start_time": "2024-09-21T06:48:07.177Z"
   },
   {
    "duration": 4,
    "start_time": "2024-09-21T06:48:39.254Z"
   },
   {
    "duration": 5,
    "start_time": "2024-09-21T06:48:46.988Z"
   },
   {
    "duration": 1133,
    "start_time": "2024-09-21T06:48:52.577Z"
   },
   {
    "duration": 4,
    "start_time": "2024-09-21T06:48:53.713Z"
   },
   {
    "duration": 6,
    "start_time": "2024-09-21T06:48:53.719Z"
   },
   {
    "duration": 7,
    "start_time": "2024-09-21T06:48:53.727Z"
   },
   {
    "duration": 15,
    "start_time": "2024-09-21T06:48:53.735Z"
   },
   {
    "duration": 4,
    "start_time": "2024-09-21T06:48:53.759Z"
   },
   {
    "duration": 487,
    "start_time": "2024-09-21T06:48:53.765Z"
   },
   {
    "duration": 2,
    "start_time": "2024-09-21T06:48:54.254Z"
   },
   {
    "duration": 1334,
    "start_time": "2024-09-21T06:48:54.258Z"
   },
   {
    "duration": 36,
    "start_time": "2024-09-21T06:48:55.595Z"
   },
   {
    "duration": 39,
    "start_time": "2024-09-21T06:48:55.633Z"
   },
   {
    "duration": 54,
    "start_time": "2024-09-21T06:48:55.674Z"
   },
   {
    "duration": 18,
    "start_time": "2024-09-21T06:48:55.729Z"
   },
   {
    "duration": 106,
    "start_time": "2024-09-21T06:48:55.821Z"
   },
   {
    "duration": 206,
    "start_time": "2024-09-21T06:48:55.929Z"
   },
   {
    "duration": 184,
    "start_time": "2024-09-21T06:48:56.138Z"
   },
   {
    "duration": 13,
    "start_time": "2024-09-21T06:48:56.323Z"
   },
   {
    "duration": 12,
    "start_time": "2024-09-21T06:48:56.338Z"
   },
   {
    "duration": 4,
    "start_time": "2024-09-21T06:48:56.352Z"
   },
   {
    "duration": 7,
    "start_time": "2024-09-21T06:48:56.357Z"
   },
   {
    "duration": 5,
    "start_time": "2024-09-21T06:48:56.365Z"
   },
   {
    "duration": 50,
    "start_time": "2024-09-21T06:48:56.371Z"
   },
   {
    "duration": 4,
    "start_time": "2024-09-21T06:48:56.423Z"
   },
   {
    "duration": 8,
    "start_time": "2024-09-21T06:48:56.428Z"
   },
   {
    "duration": 41,
    "start_time": "2024-09-21T06:48:56.438Z"
   },
   {
    "duration": 23,
    "start_time": "2024-09-21T06:54:10.750Z"
   },
   {
    "duration": 23,
    "start_time": "2024-09-21T06:54:24.310Z"
   },
   {
    "duration": 3,
    "start_time": "2024-09-21T07:10:43.666Z"
   },
   {
    "duration": 70,
    "start_time": "2024-09-21T07:11:58.756Z"
   },
   {
    "duration": 80,
    "start_time": "2024-09-21T07:12:02.796Z"
   },
   {
    "duration": 4,
    "start_time": "2024-09-21T07:15:29.663Z"
   },
   {
    "duration": 3,
    "start_time": "2024-09-21T07:15:53.469Z"
   },
   {
    "duration": 4,
    "start_time": "2024-09-21T07:20:48.583Z"
   },
   {
    "duration": 100,
    "start_time": "2024-09-21T07:24:30.059Z"
   },
   {
    "duration": 13,
    "start_time": "2024-09-21T08:07:50.913Z"
   },
   {
    "duration": 4,
    "start_time": "2024-09-21T08:08:09.206Z"
   },
   {
    "duration": 6,
    "start_time": "2024-09-21T08:08:13.342Z"
   },
   {
    "duration": 8,
    "start_time": "2024-09-21T08:08:28.294Z"
   },
   {
    "duration": 3,
    "start_time": "2024-09-21T08:16:27.826Z"
   },
   {
    "duration": 6,
    "start_time": "2024-09-21T08:16:31.834Z"
   },
   {
    "duration": 3,
    "start_time": "2024-09-21T08:17:10.244Z"
   },
   {
    "duration": 70,
    "start_time": "2024-09-21T08:17:19.622Z"
   },
   {
    "duration": 4,
    "start_time": "2024-09-21T08:17:21.876Z"
   },
   {
    "duration": 1242,
    "start_time": "2024-09-21T08:17:51.021Z"
   },
   {
    "duration": 4,
    "start_time": "2024-09-21T08:17:52.264Z"
   },
   {
    "duration": 66,
    "start_time": "2024-09-21T08:17:52.270Z"
   },
   {
    "duration": 5,
    "start_time": "2024-09-21T08:17:52.337Z"
   },
   {
    "duration": 11,
    "start_time": "2024-09-21T08:17:52.344Z"
   },
   {
    "duration": 31,
    "start_time": "2024-09-21T08:17:52.356Z"
   },
   {
    "duration": 496,
    "start_time": "2024-09-21T08:17:52.389Z"
   },
   {
    "duration": 3,
    "start_time": "2024-09-21T08:17:52.887Z"
   },
   {
    "duration": 1281,
    "start_time": "2024-09-21T08:17:52.891Z"
   },
   {
    "duration": 35,
    "start_time": "2024-09-21T08:17:54.174Z"
   },
   {
    "duration": 41,
    "start_time": "2024-09-21T08:17:54.210Z"
   },
   {
    "duration": 45,
    "start_time": "2024-09-21T08:17:54.253Z"
   },
   {
    "duration": 50,
    "start_time": "2024-09-21T08:17:54.299Z"
   },
   {
    "duration": 169,
    "start_time": "2024-09-21T08:17:54.354Z"
   },
   {
    "duration": 102,
    "start_time": "2024-09-21T08:17:54.525Z"
   },
   {
    "duration": 101,
    "start_time": "2024-09-21T08:17:54.629Z"
   },
   {
    "duration": 10,
    "start_time": "2024-09-21T08:17:54.821Z"
   },
   {
    "duration": 76,
    "start_time": "2024-09-21T08:17:54.832Z"
   },
   {
    "duration": 3,
    "start_time": "2024-09-21T08:17:54.910Z"
   },
   {
    "duration": 3,
    "start_time": "2024-09-21T08:17:54.915Z"
   },
   {
    "duration": 7,
    "start_time": "2024-09-21T08:17:54.920Z"
   },
   {
    "duration": 5,
    "start_time": "2024-09-21T08:17:54.929Z"
   },
   {
    "duration": 4,
    "start_time": "2024-09-21T08:17:54.935Z"
   },
   {
    "duration": 4,
    "start_time": "2024-09-21T08:17:54.941Z"
   },
   {
    "duration": 3,
    "start_time": "2024-09-21T08:17:54.947Z"
   },
   {
    "duration": 23,
    "start_time": "2024-09-21T08:17:54.952Z"
   },
   {
    "duration": 56,
    "start_time": "2024-09-21T08:17:54.976Z"
   },
   {
    "duration": 22,
    "start_time": "2024-09-21T08:17:55.034Z"
   },
   {
    "duration": 2,
    "start_time": "2024-09-21T08:17:55.058Z"
   },
   {
    "duration": 19,
    "start_time": "2024-09-21T08:17:55.062Z"
   },
   {
    "duration": 12,
    "start_time": "2024-09-21T08:17:55.083Z"
   },
   {
    "duration": 7,
    "start_time": "2024-09-21T08:17:55.097Z"
   },
   {
    "duration": 20,
    "start_time": "2024-09-21T08:17:55.106Z"
   },
   {
    "duration": 2005,
    "start_time": "2024-09-21T08:17:55.128Z"
   },
   {
    "duration": 1169,
    "start_time": "2024-09-21T08:20:17.434Z"
   },
   {
    "duration": 4,
    "start_time": "2024-09-21T08:20:18.605Z"
   },
   {
    "duration": 12,
    "start_time": "2024-09-21T08:20:18.610Z"
   },
   {
    "duration": 5,
    "start_time": "2024-09-21T08:20:18.624Z"
   },
   {
    "duration": 11,
    "start_time": "2024-09-21T08:20:18.631Z"
   },
   {
    "duration": 4,
    "start_time": "2024-09-21T08:20:18.644Z"
   },
   {
    "duration": 477,
    "start_time": "2024-09-21T08:20:18.649Z"
   },
   {
    "duration": 2,
    "start_time": "2024-09-21T08:20:19.128Z"
   },
   {
    "duration": 1465,
    "start_time": "2024-09-21T08:20:19.131Z"
   },
   {
    "duration": 36,
    "start_time": "2024-09-21T08:20:20.599Z"
   },
   {
    "duration": 77,
    "start_time": "2024-09-21T08:20:20.637Z"
   },
   {
    "duration": 64,
    "start_time": "2024-09-21T08:20:20.716Z"
   },
   {
    "duration": 41,
    "start_time": "2024-09-21T08:20:20.782Z"
   },
   {
    "duration": 196,
    "start_time": "2024-09-21T08:20:20.825Z"
   },
   {
    "duration": 107,
    "start_time": "2024-09-21T08:20:21.023Z"
   },
   {
    "duration": 191,
    "start_time": "2024-09-21T08:20:21.132Z"
   },
   {
    "duration": 13,
    "start_time": "2024-09-21T08:20:21.325Z"
   },
   {
    "duration": 15,
    "start_time": "2024-09-21T08:20:21.340Z"
   },
   {
    "duration": 50,
    "start_time": "2024-09-21T08:20:21.356Z"
   },
   {
    "duration": 10,
    "start_time": "2024-09-21T08:20:21.408Z"
   },
   {
    "duration": 10,
    "start_time": "2024-09-21T08:20:21.420Z"
   },
   {
    "duration": 7,
    "start_time": "2024-09-21T08:20:21.432Z"
   },
   {
    "duration": 5,
    "start_time": "2024-09-21T08:20:21.441Z"
   },
   {
    "duration": 7,
    "start_time": "2024-09-21T08:20:21.448Z"
   },
   {
    "duration": 4,
    "start_time": "2024-09-21T08:20:21.457Z"
   },
   {
    "duration": 75,
    "start_time": "2024-09-21T08:20:21.463Z"
   },
   {
    "duration": 21,
    "start_time": "2024-09-21T08:20:21.540Z"
   },
   {
    "duration": 22,
    "start_time": "2024-09-21T08:20:21.565Z"
   },
   {
    "duration": 18,
    "start_time": "2024-09-21T08:20:21.589Z"
   },
   {
    "duration": 22,
    "start_time": "2024-09-21T08:20:21.608Z"
   },
   {
    "duration": 103,
    "start_time": "2024-09-21T08:20:21.632Z"
   },
   {
    "duration": 0,
    "start_time": "2024-09-21T08:20:21.736Z"
   },
   {
    "duration": 1108,
    "start_time": "2024-09-21T08:20:38.306Z"
   },
   {
    "duration": 4,
    "start_time": "2024-09-21T08:20:39.416Z"
   },
   {
    "duration": 34,
    "start_time": "2024-09-21T08:20:39.422Z"
   },
   {
    "duration": 15,
    "start_time": "2024-09-21T08:20:39.457Z"
   },
   {
    "duration": 3,
    "start_time": "2024-09-21T08:20:39.474Z"
   },
   {
    "duration": 24,
    "start_time": "2024-09-21T08:20:39.478Z"
   },
   {
    "duration": 532,
    "start_time": "2024-09-21T08:20:39.504Z"
   },
   {
    "duration": 2,
    "start_time": "2024-09-21T08:20:40.038Z"
   },
   {
    "duration": 1417,
    "start_time": "2024-09-21T08:20:40.042Z"
   },
   {
    "duration": 39,
    "start_time": "2024-09-21T08:20:41.461Z"
   },
   {
    "duration": 45,
    "start_time": "2024-09-21T08:20:41.502Z"
   },
   {
    "duration": 45,
    "start_time": "2024-09-21T08:20:41.548Z"
   },
   {
    "duration": 32,
    "start_time": "2024-09-21T08:20:41.595Z"
   },
   {
    "duration": 188,
    "start_time": "2024-09-21T08:20:41.632Z"
   },
   {
    "duration": 101,
    "start_time": "2024-09-21T08:20:41.824Z"
   },
   {
    "duration": 202,
    "start_time": "2024-09-21T08:20:41.927Z"
   },
   {
    "duration": 30,
    "start_time": "2024-09-21T08:20:42.130Z"
   },
   {
    "duration": 11,
    "start_time": "2024-09-21T08:20:42.161Z"
   },
   {
    "duration": 12,
    "start_time": "2024-09-21T08:20:42.174Z"
   },
   {
    "duration": 22,
    "start_time": "2024-09-21T08:20:42.187Z"
   },
   {
    "duration": 8,
    "start_time": "2024-09-21T08:20:42.211Z"
   },
   {
    "duration": 32,
    "start_time": "2024-09-21T08:20:42.221Z"
   },
   {
    "duration": 76,
    "start_time": "2024-09-21T08:20:42.255Z"
   },
   {
    "duration": 15,
    "start_time": "2024-09-21T08:20:42.332Z"
   },
   {
    "duration": 8,
    "start_time": "2024-09-21T08:20:42.349Z"
   },
   {
    "duration": 50,
    "start_time": "2024-09-21T08:20:42.358Z"
   },
   {
    "duration": 30,
    "start_time": "2024-09-21T08:20:42.410Z"
   },
   {
    "duration": 22,
    "start_time": "2024-09-21T08:20:42.442Z"
   },
   {
    "duration": 14,
    "start_time": "2024-09-21T08:20:42.466Z"
   },
   {
    "duration": 16,
    "start_time": "2024-09-21T08:20:42.481Z"
   },
   {
    "duration": 1962,
    "start_time": "2024-09-21T08:20:42.498Z"
   },
   {
    "duration": 1885,
    "start_time": "2024-09-21T08:21:45.646Z"
   },
   {
    "duration": 1843,
    "start_time": "2024-09-21T08:21:49.453Z"
   },
   {
    "duration": 1860,
    "start_time": "2024-09-21T08:22:11.086Z"
   },
   {
    "duration": 1924,
    "start_time": "2024-09-21T08:28:46.322Z"
   },
   {
    "duration": 1857,
    "start_time": "2024-09-21T08:33:03.173Z"
   },
   {
    "duration": 1907,
    "start_time": "2024-09-21T08:33:56.254Z"
   },
   {
    "duration": 1884,
    "start_time": "2024-09-21T08:35:11.894Z"
   },
   {
    "duration": 1821,
    "start_time": "2024-09-21T08:35:28.223Z"
   },
   {
    "duration": 1913,
    "start_time": "2024-09-21T08:36:41.087Z"
   },
   {
    "duration": 1906,
    "start_time": "2024-09-21T08:37:10.536Z"
   },
   {
    "duration": 1902,
    "start_time": "2024-09-21T08:37:27.687Z"
   },
   {
    "duration": 1889,
    "start_time": "2024-09-21T08:37:56.832Z"
   },
   {
    "duration": 1903,
    "start_time": "2024-09-21T08:38:08.680Z"
   },
   {
    "duration": 1914,
    "start_time": "2024-09-21T08:39:30.122Z"
   },
   {
    "duration": 108,
    "start_time": "2024-09-21T08:47:00.174Z"
   },
   {
    "duration": 14,
    "start_time": "2024-09-21T08:47:17.302Z"
   },
   {
    "duration": 1931,
    "start_time": "2024-09-21T08:48:01.048Z"
   },
   {
    "duration": 1913,
    "start_time": "2024-09-21T08:49:46.735Z"
   },
   {
    "duration": 1927,
    "start_time": "2024-09-21T08:50:20.823Z"
   },
   {
    "duration": 1910,
    "start_time": "2024-09-21T08:50:33.599Z"
   },
   {
    "duration": 81,
    "start_time": "2024-09-21T08:51:10.536Z"
   },
   {
    "duration": 6,
    "start_time": "2024-09-21T08:51:58.791Z"
   },
   {
    "duration": 71,
    "start_time": "2024-09-21T08:52:25.505Z"
   },
   {
    "duration": 1859,
    "start_time": "2024-09-21T08:52:28.240Z"
   },
   {
    "duration": 193,
    "start_time": "2024-09-21T08:54:03.160Z"
   },
   {
    "duration": 1892,
    "start_time": "2024-09-21T08:54:10.579Z"
   },
   {
    "duration": 1865,
    "start_time": "2024-09-21T08:54:55.937Z"
   },
   {
    "duration": 1952,
    "start_time": "2024-09-21T08:55:16.699Z"
   },
   {
    "duration": 1897,
    "start_time": "2024-09-21T08:55:30.035Z"
   },
   {
    "duration": 1149,
    "start_time": "2024-09-21T10:49:22.184Z"
   },
   {
    "duration": 4,
    "start_time": "2024-09-21T10:49:23.335Z"
   },
   {
    "duration": 15,
    "start_time": "2024-09-21T10:49:23.340Z"
   },
   {
    "duration": 10,
    "start_time": "2024-09-21T10:49:23.357Z"
   },
   {
    "duration": 15,
    "start_time": "2024-09-21T10:49:23.369Z"
   },
   {
    "duration": 9,
    "start_time": "2024-09-21T10:49:23.386Z"
   },
   {
    "duration": 1866,
    "start_time": "2024-09-21T10:49:23.397Z"
   },
   {
    "duration": 3,
    "start_time": "2024-09-21T10:49:25.264Z"
   },
   {
    "duration": 1075,
    "start_time": "2024-09-21T10:49:25.268Z"
   },
   {
    "duration": 37,
    "start_time": "2024-09-21T10:49:26.345Z"
   },
   {
    "duration": 36,
    "start_time": "2024-09-21T10:49:26.384Z"
   },
   {
    "duration": 44,
    "start_time": "2024-09-21T10:49:26.422Z"
   },
   {
    "duration": 52,
    "start_time": "2024-09-21T10:49:26.467Z"
   },
   {
    "duration": 101,
    "start_time": "2024-09-21T10:49:26.522Z"
   },
   {
    "duration": 191,
    "start_time": "2024-09-21T10:49:26.626Z"
   },
   {
    "duration": 108,
    "start_time": "2024-09-21T10:49:26.819Z"
   },
   {
    "duration": 93,
    "start_time": "2024-09-21T10:49:26.930Z"
   },
   {
    "duration": 14,
    "start_time": "2024-09-21T10:49:27.025Z"
   },
   {
    "duration": 10,
    "start_time": "2024-09-21T10:49:27.040Z"
   },
   {
    "duration": 4,
    "start_time": "2024-09-21T10:49:27.052Z"
   },
   {
    "duration": 9,
    "start_time": "2024-09-21T10:49:27.058Z"
   },
   {
    "duration": 15,
    "start_time": "2024-09-21T10:49:27.068Z"
   },
   {
    "duration": 27,
    "start_time": "2024-09-21T10:49:27.085Z"
   },
   {
    "duration": 6,
    "start_time": "2024-09-21T10:49:27.113Z"
   },
   {
    "duration": 10,
    "start_time": "2024-09-21T10:49:27.120Z"
   },
   {
    "duration": 41,
    "start_time": "2024-09-21T10:49:27.132Z"
   },
   {
    "duration": 20,
    "start_time": "2024-09-21T10:49:27.175Z"
   },
   {
    "duration": 21,
    "start_time": "2024-09-21T10:49:27.198Z"
   },
   {
    "duration": 3,
    "start_time": "2024-09-21T10:49:27.220Z"
   },
   {
    "duration": 13,
    "start_time": "2024-09-21T10:49:27.225Z"
   },
   {
    "duration": 1841,
    "start_time": "2024-09-21T10:49:27.240Z"
   },
   {
    "duration": 6,
    "start_time": "2024-09-21T10:50:41.813Z"
   },
   {
    "duration": 6,
    "start_time": "2024-09-21T10:51:06.530Z"
   },
   {
    "duration": 100,
    "start_time": "2024-09-21T10:51:27.075Z"
   },
   {
    "duration": 5,
    "start_time": "2024-09-21T10:52:06.453Z"
   },
   {
    "duration": 1797,
    "start_time": "2024-09-21T10:52:09.172Z"
   },
   {
    "duration": 1085,
    "start_time": "2024-09-21T10:52:31.929Z"
   },
   {
    "duration": 3,
    "start_time": "2024-09-21T10:52:33.016Z"
   },
   {
    "duration": 26,
    "start_time": "2024-09-21T10:52:33.021Z"
   },
   {
    "duration": 86,
    "start_time": "2024-09-21T10:52:33.049Z"
   },
   {
    "duration": 23,
    "start_time": "2024-09-21T10:52:33.137Z"
   },
   {
    "duration": 29,
    "start_time": "2024-09-21T10:52:33.162Z"
   },
   {
    "duration": 509,
    "start_time": "2024-09-21T10:52:33.192Z"
   },
   {
    "duration": 3,
    "start_time": "2024-09-21T10:52:33.703Z"
   },
   {
    "duration": 1139,
    "start_time": "2024-09-21T10:52:33.708Z"
   },
   {
    "duration": 39,
    "start_time": "2024-09-21T10:52:34.849Z"
   },
   {
    "duration": 60,
    "start_time": "2024-09-21T10:52:34.890Z"
   },
   {
    "duration": 45,
    "start_time": "2024-09-21T10:52:34.951Z"
   },
   {
    "duration": 26,
    "start_time": "2024-09-21T10:52:34.997Z"
   },
   {
    "duration": 193,
    "start_time": "2024-09-21T10:52:35.028Z"
   },
   {
    "duration": 195,
    "start_time": "2024-09-21T10:52:35.223Z"
   },
   {
    "duration": 101,
    "start_time": "2024-09-21T10:52:35.421Z"
   },
   {
    "duration": 178,
    "start_time": "2024-09-21T10:52:35.524Z"
   },
   {
    "duration": 53,
    "start_time": "2024-09-21T10:52:35.703Z"
   },
   {
    "duration": 21,
    "start_time": "2024-09-21T10:52:35.758Z"
   },
   {
    "duration": 27,
    "start_time": "2024-09-21T10:52:35.781Z"
   },
   {
    "duration": 32,
    "start_time": "2024-09-21T10:52:35.810Z"
   },
   {
    "duration": 27,
    "start_time": "2024-09-21T10:52:35.844Z"
   },
   {
    "duration": 39,
    "start_time": "2024-09-21T10:52:35.873Z"
   },
   {
    "duration": 30,
    "start_time": "2024-09-21T10:52:35.914Z"
   },
   {
    "duration": 16,
    "start_time": "2024-09-21T10:52:35.945Z"
   },
   {
    "duration": 47,
    "start_time": "2024-09-21T10:52:35.962Z"
   },
   {
    "duration": 22,
    "start_time": "2024-09-21T10:52:36.010Z"
   },
   {
    "duration": 21,
    "start_time": "2024-09-21T10:52:36.033Z"
   },
   {
    "duration": 19,
    "start_time": "2024-09-21T10:52:36.055Z"
   },
   {
    "duration": 17,
    "start_time": "2024-09-21T10:52:36.076Z"
   },
   {
    "duration": 1849,
    "start_time": "2024-09-21T10:52:36.094Z"
   },
   {
    "duration": 1798,
    "start_time": "2024-09-21T10:52:37.944Z"
   },
   {
    "duration": 1110,
    "start_time": "2024-09-21T10:52:56.088Z"
   },
   {
    "duration": 6,
    "start_time": "2024-09-21T10:52:57.200Z"
   },
   {
    "duration": 5,
    "start_time": "2024-09-21T10:52:57.207Z"
   },
   {
    "duration": 5,
    "start_time": "2024-09-21T10:52:57.213Z"
   },
   {
    "duration": 16,
    "start_time": "2024-09-21T10:52:57.220Z"
   },
   {
    "duration": 5,
    "start_time": "2024-09-21T10:52:57.237Z"
   },
   {
    "duration": 491,
    "start_time": "2024-09-21T10:52:57.243Z"
   },
   {
    "duration": 3,
    "start_time": "2024-09-21T10:52:57.735Z"
   },
   {
    "duration": 1095,
    "start_time": "2024-09-21T10:52:57.740Z"
   },
   {
    "duration": 39,
    "start_time": "2024-09-21T10:52:58.837Z"
   },
   {
    "duration": 43,
    "start_time": "2024-09-21T10:52:58.878Z"
   },
   {
    "duration": 40,
    "start_time": "2024-09-21T10:52:58.923Z"
   },
   {
    "duration": 56,
    "start_time": "2024-09-21T10:52:58.965Z"
   },
   {
    "duration": 98,
    "start_time": "2024-09-21T10:52:59.025Z"
   },
   {
    "duration": 97,
    "start_time": "2024-09-21T10:52:59.125Z"
   },
   {
    "duration": 192,
    "start_time": "2024-09-21T10:52:59.224Z"
   },
   {
    "duration": 11,
    "start_time": "2024-09-21T10:52:59.418Z"
   },
   {
    "duration": 14,
    "start_time": "2024-09-21T10:52:59.431Z"
   },
   {
    "duration": 4,
    "start_time": "2024-09-21T10:52:59.447Z"
   },
   {
    "duration": 20,
    "start_time": "2024-09-21T10:52:59.452Z"
   },
   {
    "duration": 8,
    "start_time": "2024-09-21T10:52:59.474Z"
   },
   {
    "duration": 15,
    "start_time": "2024-09-21T10:52:59.484Z"
   },
   {
    "duration": 15,
    "start_time": "2024-09-21T10:52:59.501Z"
   },
   {
    "duration": 5,
    "start_time": "2024-09-21T10:52:59.518Z"
   },
   {
    "duration": 6,
    "start_time": "2024-09-21T10:52:59.525Z"
   },
   {
    "duration": 32,
    "start_time": "2024-09-21T10:52:59.533Z"
   },
   {
    "duration": 24,
    "start_time": "2024-09-21T10:52:59.567Z"
   },
   {
    "duration": 39,
    "start_time": "2024-09-21T10:52:59.593Z"
   },
   {
    "duration": 3,
    "start_time": "2024-09-21T10:52:59.634Z"
   },
   {
    "duration": 41,
    "start_time": "2024-09-21T10:52:59.638Z"
   },
   {
    "duration": 1902,
    "start_time": "2024-09-21T10:52:59.681Z"
   },
   {
    "duration": 5,
    "start_time": "2024-09-21T10:53:39.948Z"
   },
   {
    "duration": 1794,
    "start_time": "2024-09-21T10:53:42.292Z"
   },
   {
    "duration": 4,
    "start_time": "2024-09-21T10:54:26.500Z"
   },
   {
    "duration": 6,
    "start_time": "2024-09-21T10:54:50.316Z"
   },
   {
    "duration": 3,
    "start_time": "2024-09-21T10:57:14.373Z"
   },
   {
    "duration": 4,
    "start_time": "2024-09-21T10:57:44.517Z"
   },
   {
    "duration": 4,
    "start_time": "2024-09-21T10:58:18.686Z"
   },
   {
    "duration": 4,
    "start_time": "2024-09-21T10:58:54.855Z"
   },
   {
    "duration": 1087,
    "start_time": "2024-09-21T10:59:48.528Z"
   },
   {
    "duration": 4,
    "start_time": "2024-09-21T10:59:49.618Z"
   },
   {
    "duration": 26,
    "start_time": "2024-09-21T10:59:49.623Z"
   },
   {
    "duration": 67,
    "start_time": "2024-09-21T10:59:49.651Z"
   },
   {
    "duration": 38,
    "start_time": "2024-09-21T10:59:49.719Z"
   },
   {
    "duration": 17,
    "start_time": "2024-09-21T10:59:49.759Z"
   },
   {
    "duration": 18,
    "start_time": "2024-09-21T10:59:49.778Z"
   },
   {
    "duration": 504,
    "start_time": "2024-09-21T10:59:49.798Z"
   },
   {
    "duration": 2,
    "start_time": "2024-09-21T10:59:50.304Z"
   },
   {
    "duration": 1090,
    "start_time": "2024-09-21T10:59:50.308Z"
   },
   {
    "duration": 37,
    "start_time": "2024-09-21T10:59:51.399Z"
   },
   {
    "duration": 41,
    "start_time": "2024-09-21T10:59:51.438Z"
   },
   {
    "duration": 57,
    "start_time": "2024-09-21T10:59:51.481Z"
   },
   {
    "duration": 76,
    "start_time": "2024-09-21T10:59:51.540Z"
   },
   {
    "duration": 107,
    "start_time": "2024-09-21T10:59:51.618Z"
   },
   {
    "duration": 200,
    "start_time": "2024-09-21T10:59:51.728Z"
   },
   {
    "duration": 87,
    "start_time": "2024-09-21T10:59:51.930Z"
   },
   {
    "duration": 99,
    "start_time": "2024-09-21T10:59:52.019Z"
   },
   {
    "duration": 11,
    "start_time": "2024-09-21T10:59:52.119Z"
   },
   {
    "duration": 3,
    "start_time": "2024-09-21T10:59:52.132Z"
   },
   {
    "duration": 11,
    "start_time": "2024-09-21T10:59:52.136Z"
   },
   {
    "duration": 21,
    "start_time": "2024-09-21T10:59:52.149Z"
   },
   {
    "duration": 22,
    "start_time": "2024-09-21T10:59:52.172Z"
   },
   {
    "duration": 34,
    "start_time": "2024-09-21T10:59:52.195Z"
   },
   {
    "duration": 60,
    "start_time": "2024-09-21T10:59:52.230Z"
   },
   {
    "duration": 101,
    "start_time": "2024-09-21T10:59:52.292Z"
   },
   {
    "duration": 36,
    "start_time": "2024-09-21T10:59:52.395Z"
   },
   {
    "duration": 1932,
    "start_time": "2024-09-21T10:59:52.434Z"
   },
   {
    "duration": 104,
    "start_time": "2024-09-21T10:59:54.367Z"
   },
   {
    "duration": 5,
    "start_time": "2024-09-21T11:00:47.496Z"
   },
   {
    "duration": 6,
    "start_time": "2024-09-21T11:01:51.144Z"
   },
   {
    "duration": 1814,
    "start_time": "2024-09-21T11:02:28.353Z"
   },
   {
    "duration": 1805,
    "start_time": "2024-09-21T11:02:40.913Z"
   },
   {
    "duration": 1824,
    "start_time": "2024-09-21T11:02:44.784Z"
   },
   {
    "duration": 1789,
    "start_time": "2024-09-21T11:02:52.376Z"
   },
   {
    "duration": 1848,
    "start_time": "2024-09-21T11:04:05.936Z"
   },
   {
    "duration": 1856,
    "start_time": "2024-09-21T11:04:08.066Z"
   },
   {
    "duration": 1842,
    "start_time": "2024-09-21T11:04:09.924Z"
   },
   {
    "duration": 49,
    "start_time": "2024-09-21T11:15:53.775Z"
   },
   {
    "duration": 5,
    "start_time": "2024-09-21T11:16:53.200Z"
   },
   {
    "duration": 1831,
    "start_time": "2024-09-21T11:16:58.334Z"
   },
   {
    "duration": 5,
    "start_time": "2024-09-21T11:17:11.625Z"
   },
   {
    "duration": 1814,
    "start_time": "2024-09-21T11:17:15.912Z"
   },
   {
    "duration": 1806,
    "start_time": "2024-09-21T11:17:18.480Z"
   },
   {
    "duration": 1828,
    "start_time": "2024-09-21T11:17:22.096Z"
   },
   {
    "duration": 59,
    "start_time": "2024-09-21T11:20:24.666Z"
   },
   {
    "duration": 5,
    "start_time": "2024-09-21T11:20:46.964Z"
   },
   {
    "duration": 1817,
    "start_time": "2024-09-21T11:20:51.858Z"
   },
   {
    "duration": 5,
    "start_time": "2024-09-21T11:21:12.130Z"
   },
   {
    "duration": 1784,
    "start_time": "2024-09-21T11:21:15.962Z"
   },
   {
    "duration": 5,
    "start_time": "2024-09-21T11:23:37.837Z"
   },
   {
    "duration": 1836,
    "start_time": "2024-09-21T11:23:46.335Z"
   },
   {
    "duration": 6,
    "start_time": "2024-09-21T11:24:18.117Z"
   },
   {
    "duration": 1757,
    "start_time": "2024-09-21T11:24:23.029Z"
   },
   {
    "duration": 5,
    "start_time": "2024-09-21T11:25:06.398Z"
   },
   {
    "duration": 1768,
    "start_time": "2024-09-21T11:25:09.699Z"
   },
   {
    "duration": 5,
    "start_time": "2024-09-21T11:25:23.269Z"
   },
   {
    "duration": 1816,
    "start_time": "2024-09-21T11:25:26.893Z"
   },
   {
    "duration": 5,
    "start_time": "2024-09-21T11:26:11.022Z"
   },
   {
    "duration": 1792,
    "start_time": "2024-09-21T11:26:15.294Z"
   },
   {
    "duration": 53,
    "start_time": "2024-09-21T11:29:07.616Z"
   },
   {
    "duration": 50,
    "start_time": "2024-09-21T11:29:23.874Z"
   },
   {
    "duration": 56,
    "start_time": "2024-09-21T11:29:36.112Z"
   },
   {
    "duration": 50,
    "start_time": "2024-09-21T11:29:42.736Z"
   },
   {
    "duration": 47,
    "start_time": "2024-09-21T11:29:54.360Z"
   },
   {
    "duration": 47,
    "start_time": "2024-09-21T11:30:22.935Z"
   },
   {
    "duration": 55,
    "start_time": "2024-09-21T11:31:25.243Z"
   },
   {
    "duration": 5,
    "start_time": "2024-09-21T11:31:30.962Z"
   },
   {
    "duration": 5,
    "start_time": "2024-09-21T11:31:59.764Z"
   },
   {
    "duration": 5,
    "start_time": "2024-09-21T11:32:40.761Z"
   },
   {
    "duration": 1798,
    "start_time": "2024-09-21T11:32:45.442Z"
   },
   {
    "duration": 1786,
    "start_time": "2024-09-21T11:32:57.497Z"
   },
   {
    "duration": 1784,
    "start_time": "2024-09-21T11:32:59.633Z"
   },
   {
    "duration": 1780,
    "start_time": "2024-09-21T11:33:07.329Z"
   },
   {
    "duration": 5,
    "start_time": "2024-09-21T11:33:21.403Z"
   },
   {
    "duration": 1776,
    "start_time": "2024-09-21T11:33:26.732Z"
   },
   {
    "duration": 1803,
    "start_time": "2024-09-21T11:33:28.681Z"
   },
   {
    "duration": 1854,
    "start_time": "2024-09-21T11:33:31.210Z"
   },
   {
    "duration": 1034,
    "start_time": "2024-09-21T11:35:09.561Z"
   },
   {
    "duration": 4,
    "start_time": "2024-09-21T11:35:10.597Z"
   },
   {
    "duration": 5,
    "start_time": "2024-09-21T11:35:10.603Z"
   },
   {
    "duration": 6,
    "start_time": "2024-09-21T11:35:10.609Z"
   },
   {
    "duration": 8,
    "start_time": "2024-09-21T11:35:10.617Z"
   },
   {
    "duration": 4,
    "start_time": "2024-09-21T11:35:10.626Z"
   },
   {
    "duration": 5,
    "start_time": "2024-09-21T11:35:10.631Z"
   },
   {
    "duration": 7,
    "start_time": "2024-09-21T11:35:10.638Z"
   },
   {
    "duration": 477,
    "start_time": "2024-09-21T11:35:10.646Z"
   },
   {
    "duration": 2,
    "start_time": "2024-09-21T11:35:11.125Z"
   },
   {
    "duration": 1172,
    "start_time": "2024-09-21T11:35:11.129Z"
   },
   {
    "duration": 46,
    "start_time": "2024-09-21T11:35:12.303Z"
   },
   {
    "duration": 42,
    "start_time": "2024-09-21T11:35:12.350Z"
   },
   {
    "duration": 56,
    "start_time": "2024-09-21T11:35:12.396Z"
   },
   {
    "duration": 65,
    "start_time": "2024-09-21T11:35:12.454Z"
   },
   {
    "duration": 102,
    "start_time": "2024-09-21T11:35:12.522Z"
   },
   {
    "duration": 95,
    "start_time": "2024-09-21T11:35:12.626Z"
   },
   {
    "duration": 102,
    "start_time": "2024-09-21T11:35:12.814Z"
   },
   {
    "duration": 22,
    "start_time": "2024-09-21T11:35:12.918Z"
   },
   {
    "duration": 17,
    "start_time": "2024-09-21T11:35:12.942Z"
   },
   {
    "duration": 10,
    "start_time": "2024-09-21T11:35:12.960Z"
   },
   {
    "duration": 23,
    "start_time": "2024-09-21T11:35:12.972Z"
   },
   {
    "duration": 21,
    "start_time": "2024-09-21T11:35:12.996Z"
   },
   {
    "duration": 27,
    "start_time": "2024-09-21T11:35:13.019Z"
   },
   {
    "duration": 18,
    "start_time": "2024-09-21T11:35:13.048Z"
   },
   {
    "duration": 39,
    "start_time": "2024-09-21T11:35:13.067Z"
   },
   {
    "duration": 26,
    "start_time": "2024-09-21T11:35:13.108Z"
   },
   {
    "duration": 22,
    "start_time": "2024-09-21T11:35:13.136Z"
   },
   {
    "duration": 1815,
    "start_time": "2024-09-21T11:35:13.159Z"
   },
   {
    "duration": 1842,
    "start_time": "2024-09-21T11:35:14.975Z"
   },
   {
    "duration": 1815,
    "start_time": "2024-09-21T11:35:16.819Z"
   },
   {
    "duration": 1048,
    "start_time": "2024-09-21T12:07:00.447Z"
   },
   {
    "duration": 4,
    "start_time": "2024-09-21T12:07:01.497Z"
   },
   {
    "duration": 18,
    "start_time": "2024-09-21T12:07:01.503Z"
   },
   {
    "duration": 28,
    "start_time": "2024-09-21T12:07:01.523Z"
   },
   {
    "duration": 21,
    "start_time": "2024-09-21T12:07:01.553Z"
   },
   {
    "duration": 14,
    "start_time": "2024-09-21T12:07:01.575Z"
   },
   {
    "duration": 6,
    "start_time": "2024-09-21T12:07:01.591Z"
   },
   {
    "duration": 6,
    "start_time": "2024-09-21T12:07:01.598Z"
   },
   {
    "duration": 530,
    "start_time": "2024-09-21T12:07:01.606Z"
   },
   {
    "duration": 3,
    "start_time": "2024-09-21T12:07:02.138Z"
   },
   {
    "duration": 1141,
    "start_time": "2024-09-21T12:07:02.142Z"
   },
   {
    "duration": 37,
    "start_time": "2024-09-21T12:07:03.285Z"
   },
   {
    "duration": 46,
    "start_time": "2024-09-21T12:07:03.324Z"
   },
   {
    "duration": 56,
    "start_time": "2024-09-21T12:07:03.372Z"
   },
   {
    "duration": 86,
    "start_time": "2024-09-21T12:07:03.430Z"
   },
   {
    "duration": 101,
    "start_time": "2024-09-21T12:07:03.518Z"
   },
   {
    "duration": 203,
    "start_time": "2024-09-21T12:07:03.622Z"
   },
   {
    "duration": 188,
    "start_time": "2024-09-21T12:07:03.828Z"
   },
   {
    "duration": 33,
    "start_time": "2024-09-21T12:07:04.018Z"
   },
   {
    "duration": 21,
    "start_time": "2024-09-21T12:07:04.053Z"
   },
   {
    "duration": 21,
    "start_time": "2024-09-21T12:07:04.076Z"
   },
   {
    "duration": 26,
    "start_time": "2024-09-21T12:07:04.099Z"
   },
   {
    "duration": 32,
    "start_time": "2024-09-21T12:07:04.126Z"
   },
   {
    "duration": 26,
    "start_time": "2024-09-21T12:07:04.159Z"
   },
   {
    "duration": 18,
    "start_time": "2024-09-21T12:07:04.187Z"
   },
   {
    "duration": 40,
    "start_time": "2024-09-21T12:07:04.207Z"
   },
   {
    "duration": 29,
    "start_time": "2024-09-21T12:07:04.248Z"
   },
   {
    "duration": 22,
    "start_time": "2024-09-21T12:07:04.280Z"
   },
   {
    "duration": 1882,
    "start_time": "2024-09-21T12:07:04.304Z"
   },
   {
    "duration": 1954,
    "start_time": "2024-09-21T12:07:06.187Z"
   },
   {
    "duration": 1794,
    "start_time": "2024-09-21T12:07:08.143Z"
   },
   {
    "duration": 1055,
    "start_time": "2024-09-21T12:16:14.262Z"
   },
   {
    "duration": 4,
    "start_time": "2024-09-21T12:16:15.319Z"
   },
   {
    "duration": 83,
    "start_time": "2024-09-21T12:16:15.325Z"
   },
   {
    "duration": 51,
    "start_time": "2024-09-21T12:16:15.410Z"
   },
   {
    "duration": 16,
    "start_time": "2024-09-21T12:16:15.464Z"
   },
   {
    "duration": 30,
    "start_time": "2024-09-21T12:16:15.482Z"
   },
   {
    "duration": 43,
    "start_time": "2024-09-21T12:16:15.513Z"
   },
   {
    "duration": 32,
    "start_time": "2024-09-21T12:16:15.558Z"
   },
   {
    "duration": 514,
    "start_time": "2024-09-21T12:16:15.592Z"
   },
   {
    "duration": 2,
    "start_time": "2024-09-21T12:16:16.107Z"
   },
   {
    "duration": 1095,
    "start_time": "2024-09-21T12:16:16.110Z"
   },
   {
    "duration": 57,
    "start_time": "2024-09-21T12:16:17.207Z"
   },
   {
    "duration": 78,
    "start_time": "2024-09-21T12:16:17.266Z"
   },
   {
    "duration": 41,
    "start_time": "2024-09-21T12:16:17.348Z"
   },
   {
    "duration": 33,
    "start_time": "2024-09-21T12:16:17.391Z"
   },
   {
    "duration": 191,
    "start_time": "2024-09-21T12:16:17.426Z"
   },
   {
    "duration": 97,
    "start_time": "2024-09-21T12:16:17.619Z"
   },
   {
    "duration": 192,
    "start_time": "2024-09-21T12:16:17.724Z"
   },
   {
    "duration": 108,
    "start_time": "2024-09-21T12:16:17.917Z"
   },
   {
    "duration": 15,
    "start_time": "2024-09-21T12:16:18.026Z"
   },
   {
    "duration": 19,
    "start_time": "2024-09-21T12:16:18.042Z"
   },
   {
    "duration": 19,
    "start_time": "2024-09-21T12:16:18.062Z"
   },
   {
    "duration": 29,
    "start_time": "2024-09-21T12:16:18.082Z"
   },
   {
    "duration": 24,
    "start_time": "2024-09-21T12:16:18.112Z"
   },
   {
    "duration": 24,
    "start_time": "2024-09-21T12:16:18.138Z"
   },
   {
    "duration": 45,
    "start_time": "2024-09-21T12:16:18.164Z"
   },
   {
    "duration": 21,
    "start_time": "2024-09-21T12:16:18.210Z"
   },
   {
    "duration": 39,
    "start_time": "2024-09-21T12:16:18.233Z"
   },
   {
    "duration": 1885,
    "start_time": "2024-09-21T12:16:18.273Z"
   },
   {
    "duration": 1885,
    "start_time": "2024-09-21T12:16:20.160Z"
   },
   {
    "duration": 1838,
    "start_time": "2024-09-21T12:16:22.047Z"
   },
   {
    "duration": 58,
    "start_time": "2024-09-22T10:26:06.781Z"
   },
   {
    "duration": 1097,
    "start_time": "2024-09-22T10:26:22.887Z"
   },
   {
    "duration": 4,
    "start_time": "2024-09-22T10:26:23.986Z"
   },
   {
    "duration": 6,
    "start_time": "2024-09-22T10:26:23.992Z"
   },
   {
    "duration": 4,
    "start_time": "2024-09-22T10:26:24.000Z"
   },
   {
    "duration": 5,
    "start_time": "2024-09-22T10:26:24.006Z"
   },
   {
    "duration": 3,
    "start_time": "2024-09-22T10:26:24.012Z"
   },
   {
    "duration": 5,
    "start_time": "2024-09-22T10:26:24.017Z"
   },
   {
    "duration": 6,
    "start_time": "2024-09-22T10:26:24.024Z"
   },
   {
    "duration": 1754,
    "start_time": "2024-09-22T10:26:24.031Z"
   },
   {
    "duration": 3,
    "start_time": "2024-09-22T10:26:25.787Z"
   },
   {
    "duration": 1218,
    "start_time": "2024-09-22T10:26:25.791Z"
   },
   {
    "duration": 39,
    "start_time": "2024-09-22T10:26:27.011Z"
   },
   {
    "duration": 43,
    "start_time": "2024-09-22T10:26:27.052Z"
   },
   {
    "duration": 44,
    "start_time": "2024-09-22T10:26:27.097Z"
   },
   {
    "duration": 33,
    "start_time": "2024-09-22T10:26:27.143Z"
   },
   {
    "duration": 105,
    "start_time": "2024-09-22T10:26:27.178Z"
   },
   {
    "duration": 191,
    "start_time": "2024-09-22T10:26:27.285Z"
   },
   {
    "duration": 99,
    "start_time": "2024-09-22T10:26:27.479Z"
   },
   {
    "duration": 10,
    "start_time": "2024-09-22T10:26:27.580Z"
   },
   {
    "duration": 9,
    "start_time": "2024-09-22T10:26:27.592Z"
   },
   {
    "duration": 4,
    "start_time": "2024-09-22T10:26:27.603Z"
   },
   {
    "duration": 7,
    "start_time": "2024-09-22T10:26:27.609Z"
   },
   {
    "duration": 5,
    "start_time": "2024-09-22T10:26:27.618Z"
   },
   {
    "duration": 4,
    "start_time": "2024-09-22T10:26:27.625Z"
   },
   {
    "duration": 48,
    "start_time": "2024-09-22T10:26:27.631Z"
   },
   {
    "duration": 22,
    "start_time": "2024-09-22T10:26:27.680Z"
   },
   {
    "duration": 21,
    "start_time": "2024-09-22T10:26:27.704Z"
   },
   {
    "duration": 22,
    "start_time": "2024-09-22T10:26:27.727Z"
   },
   {
    "duration": 1968,
    "start_time": "2024-09-22T10:26:27.776Z"
   },
   {
    "duration": 1945,
    "start_time": "2024-09-22T10:26:29.747Z"
   },
   {
    "duration": 1891,
    "start_time": "2024-09-22T10:26:31.693Z"
   },
   {
    "duration": 5,
    "start_time": "2024-09-22T10:27:13.911Z"
   },
   {
    "duration": 1189,
    "start_time": "2024-09-22T10:27:21.530Z"
   },
   {
    "duration": 4,
    "start_time": "2024-09-22T10:27:22.721Z"
   },
   {
    "duration": 8,
    "start_time": "2024-09-22T10:27:22.726Z"
   },
   {
    "duration": 5,
    "start_time": "2024-09-22T10:27:22.736Z"
   },
   {
    "duration": 8,
    "start_time": "2024-09-22T10:27:22.743Z"
   },
   {
    "duration": 4,
    "start_time": "2024-09-22T10:27:22.752Z"
   },
   {
    "duration": 21,
    "start_time": "2024-09-22T10:27:22.757Z"
   },
   {
    "duration": 7,
    "start_time": "2024-09-22T10:27:22.779Z"
   },
   {
    "duration": 565,
    "start_time": "2024-09-22T10:27:22.787Z"
   },
   {
    "duration": 2,
    "start_time": "2024-09-22T10:27:23.355Z"
   },
   {
    "duration": 1038,
    "start_time": "2024-09-22T10:27:23.359Z"
   },
   {
    "duration": 40,
    "start_time": "2024-09-22T10:27:24.398Z"
   },
   {
    "duration": 45,
    "start_time": "2024-09-22T10:27:24.439Z"
   },
   {
    "duration": 41,
    "start_time": "2024-09-22T10:27:24.485Z"
   },
   {
    "duration": 48,
    "start_time": "2024-09-22T10:27:24.528Z"
   },
   {
    "duration": 103,
    "start_time": "2024-09-22T10:27:24.578Z"
   },
   {
    "duration": 100,
    "start_time": "2024-09-22T10:27:24.683Z"
   },
   {
    "duration": 192,
    "start_time": "2024-09-22T10:27:24.785Z"
   },
   {
    "duration": 10,
    "start_time": "2024-09-22T10:27:24.979Z"
   },
   {
    "duration": 9,
    "start_time": "2024-09-22T10:27:24.990Z"
   },
   {
    "duration": 4,
    "start_time": "2024-09-22T10:27:25.001Z"
   },
   {
    "duration": 5,
    "start_time": "2024-09-22T10:27:25.006Z"
   },
   {
    "duration": 5,
    "start_time": "2024-09-22T10:27:25.012Z"
   },
   {
    "duration": 7,
    "start_time": "2024-09-22T10:27:25.019Z"
   },
   {
    "duration": 50,
    "start_time": "2024-09-22T10:27:25.027Z"
   },
   {
    "duration": 27,
    "start_time": "2024-09-22T10:27:25.079Z"
   },
   {
    "duration": 24,
    "start_time": "2024-09-22T10:27:25.107Z"
   },
   {
    "duration": 43,
    "start_time": "2024-09-22T10:27:25.134Z"
   },
   {
    "duration": 1951,
    "start_time": "2024-09-22T10:27:25.179Z"
   },
   {
    "duration": 1908,
    "start_time": "2024-09-22T10:27:27.132Z"
   },
   {
    "duration": 2338,
    "start_time": "2024-09-22T10:27:29.041Z"
   },
   {
    "duration": 1067,
    "start_time": "2024-09-22T10:28:15.507Z"
   },
   {
    "duration": 4,
    "start_time": "2024-09-22T10:28:16.576Z"
   },
   {
    "duration": 6,
    "start_time": "2024-09-22T10:28:16.582Z"
   },
   {
    "duration": 12,
    "start_time": "2024-09-22T10:28:16.590Z"
   },
   {
    "duration": 4,
    "start_time": "2024-09-22T10:28:16.604Z"
   },
   {
    "duration": 4,
    "start_time": "2024-09-22T10:28:16.609Z"
   },
   {
    "duration": 5,
    "start_time": "2024-09-22T10:28:16.615Z"
   },
   {
    "duration": 7,
    "start_time": "2024-09-22T10:28:16.621Z"
   },
   {
    "duration": 506,
    "start_time": "2024-09-22T10:28:16.630Z"
   },
   {
    "duration": 3,
    "start_time": "2024-09-22T10:28:17.138Z"
   },
   {
    "duration": 1109,
    "start_time": "2024-09-22T10:28:17.143Z"
   },
   {
    "duration": 37,
    "start_time": "2024-09-22T10:28:18.254Z"
   },
   {
    "duration": 40,
    "start_time": "2024-09-22T10:28:18.292Z"
   },
   {
    "duration": 54,
    "start_time": "2024-09-22T10:28:18.335Z"
   },
   {
    "duration": 86,
    "start_time": "2024-09-22T10:28:18.391Z"
   },
   {
    "duration": 103,
    "start_time": "2024-09-22T10:28:18.480Z"
   },
   {
    "duration": 92,
    "start_time": "2024-09-22T10:28:18.585Z"
   },
   {
    "duration": 99,
    "start_time": "2024-09-22T10:28:18.679Z"
   },
   {
    "duration": 102,
    "start_time": "2024-09-22T10:28:18.780Z"
   },
   {
    "duration": 27,
    "start_time": "2024-09-22T10:28:18.883Z"
   },
   {
    "duration": 4,
    "start_time": "2024-09-22T10:28:18.911Z"
   },
   {
    "duration": 4,
    "start_time": "2024-09-22T10:28:18.916Z"
   },
   {
    "duration": 5,
    "start_time": "2024-09-22T10:28:18.921Z"
   },
   {
    "duration": 5,
    "start_time": "2024-09-22T10:28:18.927Z"
   },
   {
    "duration": 5,
    "start_time": "2024-09-22T10:28:18.933Z"
   },
   {
    "duration": 51,
    "start_time": "2024-09-22T10:28:18.939Z"
   },
   {
    "duration": 22,
    "start_time": "2024-09-22T10:28:18.992Z"
   },
   {
    "duration": 23,
    "start_time": "2024-09-22T10:28:19.015Z"
   },
   {
    "duration": 1899,
    "start_time": "2024-09-22T10:28:19.039Z"
   },
   {
    "duration": 1867,
    "start_time": "2024-09-22T10:28:20.939Z"
   },
   {
    "duration": 1821,
    "start_time": "2024-09-22T10:28:22.808Z"
   },
   {
    "duration": 1115,
    "start_time": "2024-09-22T10:44:19.888Z"
   },
   {
    "duration": 4,
    "start_time": "2024-09-22T10:44:21.005Z"
   },
   {
    "duration": 8,
    "start_time": "2024-09-22T10:44:21.010Z"
   },
   {
    "duration": 5,
    "start_time": "2024-09-22T10:44:21.020Z"
   },
   {
    "duration": 4,
    "start_time": "2024-09-22T10:44:21.026Z"
   },
   {
    "duration": 5,
    "start_time": "2024-09-22T10:44:21.032Z"
   },
   {
    "duration": 5,
    "start_time": "2024-09-22T10:44:21.038Z"
   },
   {
    "duration": 6,
    "start_time": "2024-09-22T10:44:21.044Z"
   },
   {
    "duration": 513,
    "start_time": "2024-09-22T10:44:21.051Z"
   },
   {
    "duration": 2,
    "start_time": "2024-09-22T10:44:21.567Z"
   },
   {
    "duration": 1060,
    "start_time": "2024-09-22T10:44:21.575Z"
   },
   {
    "duration": 39,
    "start_time": "2024-09-22T10:44:22.637Z"
   },
   {
    "duration": 40,
    "start_time": "2024-09-22T10:44:22.678Z"
   },
   {
    "duration": 63,
    "start_time": "2024-09-22T10:44:22.720Z"
   },
   {
    "duration": 21,
    "start_time": "2024-09-22T10:44:22.785Z"
   },
   {
    "duration": 79,
    "start_time": "2024-09-22T10:44:22.808Z"
   },
   {
    "duration": 103,
    "start_time": "2024-09-22T10:44:22.977Z"
   },
   {
    "duration": 97,
    "start_time": "2024-09-22T10:44:23.083Z"
   },
   {
    "duration": 94,
    "start_time": "2024-09-22T10:44:23.183Z"
   },
   {
    "duration": 9,
    "start_time": "2024-09-22T10:44:23.279Z"
   },
   {
    "duration": 8,
    "start_time": "2024-09-22T10:44:23.289Z"
   },
   {
    "duration": 4,
    "start_time": "2024-09-22T10:44:23.298Z"
   },
   {
    "duration": 5,
    "start_time": "2024-09-22T10:44:23.304Z"
   },
   {
    "duration": 11,
    "start_time": "2024-09-22T10:44:23.311Z"
   },
   {
    "duration": 4,
    "start_time": "2024-09-22T10:44:23.324Z"
   },
   {
    "duration": 66,
    "start_time": "2024-09-22T10:44:23.329Z"
   },
   {
    "duration": 22,
    "start_time": "2024-09-22T10:44:23.397Z"
   },
   {
    "duration": 23,
    "start_time": "2024-09-22T10:44:23.423Z"
   },
   {
    "duration": 1911,
    "start_time": "2024-09-22T10:44:23.448Z"
   },
   {
    "duration": 1881,
    "start_time": "2024-09-22T10:44:25.361Z"
   },
   {
    "duration": 1905,
    "start_time": "2024-09-22T10:44:27.243Z"
   },
   {
    "duration": 888,
    "start_time": "2025-01-24T09:54:29.839Z"
   },
   {
    "duration": 4,
    "start_time": "2025-01-24T09:54:30.729Z"
   },
   {
    "duration": 27,
    "start_time": "2025-01-24T09:54:30.734Z"
   },
   {
    "duration": 4,
    "start_time": "2025-01-24T09:54:30.762Z"
   },
   {
    "duration": 4,
    "start_time": "2025-01-24T09:54:30.768Z"
   },
   {
    "duration": 12,
    "start_time": "2025-01-24T09:54:30.774Z"
   },
   {
    "duration": 8,
    "start_time": "2025-01-24T09:54:30.787Z"
   },
   {
    "duration": 10,
    "start_time": "2025-01-24T09:54:30.796Z"
   },
   {
    "duration": 422,
    "start_time": "2025-01-24T09:54:30.808Z"
   },
   {
    "duration": 3,
    "start_time": "2025-01-24T09:54:31.231Z"
   },
   {
    "duration": 1384,
    "start_time": "2025-01-24T09:54:31.235Z"
   },
   {
    "duration": 27,
    "start_time": "2025-01-24T09:54:32.621Z"
   },
   {
    "duration": 46,
    "start_time": "2025-01-24T09:54:32.649Z"
   },
   {
    "duration": 52,
    "start_time": "2025-01-24T09:54:32.699Z"
   },
   {
    "duration": 18,
    "start_time": "2025-01-24T09:54:32.752Z"
   },
   {
    "duration": 84,
    "start_time": "2025-01-24T09:54:32.771Z"
   },
   {
    "duration": 99,
    "start_time": "2025-01-24T09:54:32.947Z"
   },
   {
    "duration": 100,
    "start_time": "2025-01-24T09:54:33.048Z"
   },
   {
    "duration": 10,
    "start_time": "2025-01-24T09:54:33.150Z"
   },
   {
    "duration": 9,
    "start_time": "2025-01-24T09:54:33.246Z"
   },
   {
    "duration": 7,
    "start_time": "2025-01-24T09:54:33.256Z"
   },
   {
    "duration": 3,
    "start_time": "2025-01-24T09:54:33.265Z"
   },
   {
    "duration": 7,
    "start_time": "2025-01-24T09:54:33.270Z"
   },
   {
    "duration": 9,
    "start_time": "2025-01-24T09:54:33.278Z"
   },
   {
    "duration": 7,
    "start_time": "2025-01-24T09:54:33.288Z"
   },
   {
    "duration": 21,
    "start_time": "2025-01-24T09:54:33.296Z"
   },
   {
    "duration": 41,
    "start_time": "2025-01-24T09:54:33.318Z"
   },
   {
    "duration": 18,
    "start_time": "2025-01-24T09:54:33.361Z"
   },
   {
    "duration": 1448,
    "start_time": "2025-01-24T09:54:33.380Z"
   },
   {
    "duration": 1435,
    "start_time": "2025-01-24T09:54:34.829Z"
   },
   {
    "duration": 1442,
    "start_time": "2025-01-24T09:54:36.265Z"
   }
  ],
  "kernelspec": {
   "display_name": "Python 3 (ipykernel)",
   "language": "python",
   "name": "python3"
  },
  "language_info": {
   "codemirror_mode": {
    "name": "ipython",
    "version": 3
   },
   "file_extension": ".py",
   "mimetype": "text/x-python",
   "name": "python",
   "nbconvert_exporter": "python",
   "pygments_lexer": "ipython3",
   "version": "3.9.19"
  },
  "toc": {
   "base_numbering": 1,
   "nav_menu": {},
   "number_sections": true,
   "sideBar": true,
   "skip_h1_title": true,
   "title_cell": "Table of Contents",
   "title_sidebar": "Contents",
   "toc_cell": false,
   "toc_position": {
    "height": "calc(100% - 180px)",
    "left": "10px",
    "top": "150px",
    "width": "374.391px"
   },
   "toc_section_display": true,
   "toc_window_display": true
  }
 },
 "nbformat": 4,
 "nbformat_minor": 4
}
